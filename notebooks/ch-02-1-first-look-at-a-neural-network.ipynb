{
 "cells": [
  {
   "cell_type": "code",
   "execution_count": 1,
   "id": "e535a40b-a002-46cb-b656-a92ad4ddbad2",
   "metadata": {},
   "outputs": [],
   "source": [
    "# suppress tensorflow logging, usually not useful unless you are having problems with tensorflow or accessing gpu\n",
    "import os\n",
    "#os.environ['TF_CPP_MIN_LOG_LEVEL'] = '3' \n",
    "\n",
    "# globally useful libraries / namespaces for this notebook\n",
    "import numpy as np\n",
    "import matplotlib.pyplot as plt\n",
    "\n",
    "# notebook wide settings for plotting visualizations\n",
    "plt.rcParams['figure.figsize'] = (10, 8) # set default figure size, 10in by 8in"
   ]
  },
  {
   "cell_type": "markdown",
   "id": "6f5b2548-990e-4146-93e5-5ef3d2e77760",
   "metadata": {
    "tags": []
   },
   "source": [
    "# Chapter 2: The Mathematical Building Blocks of Neural Networks\n",
    "\n",
    "Supporting materials for:\n",
    "\n",
    "Chollet (2021). *Deep Learning with Python*. 2nd ed. Manning Publications Co.\n",
    "[Amazon](https://www.amazon.com/Learning-Python-Second-Fran%C3%A7ois-Chollet/dp/1617296864/ref=sr_1_1?crid=32NFM2SBCJVQQ)\n",
    "\n",
    "Understanding deep learning requires familiarity with many simple mathematical\n",
    "concepts: tensors, tensor operations, differentiation, gradient descent, and so on.\n",
    "Out goal in this notebook/chapter is to build up your intiution about these mathematical\n",
    "concepts without getting over technical.\n",
    "\n",
    "One note about the term tensors.  **Tensor** is a mathematical term that simply can be used to refer\n",
    "to a matrix of values, no matter how many dimensions.  Thus a 1-dimensional vector or a 2-dimensional\n",
    "matrix are both *Tensors*, as well as 3-dimensional or higher matrices.  Vectorized programming\n",
    "could also be referred to as tensor programming, but the term vectorized programming was coined\n",
    "before the term tensor was in common use.  Another difference is that the term Tensor programming\n",
    "and Tensor libraries have come to mean the types of vectorized or tensor operations we usually think of, but\n",
    "it also includes libraries that can automatically differentiate such tensors with respect to\n",
    "a loss function.  We will get to these concepts in a bit more detail below.\n",
    "\n"
   ]
  },
  {
   "cell_type": "markdown",
   "id": "49f34d6a-67f6-436c-8c79-f70e0546d9d9",
   "metadata": {},
   "source": [
    "## Note: Installing Keras/TensorFlow\n",
    "\n",
    "For this textbook we are using the `TensorFlow` library and mostly accessing the `Keras`\n",
    "neural network and deep learning API through the `TensorFlow`.  You will need to have\n",
    "a recent version of `Tensorflow/Keras` installed on your machine and available to your\n",
    "iPython kernel to run this notebook.  At the time of creation of this notebook, \n",
    "`TensorFlow/Keras` is no longer supported directly by the `Conda` package manager.  You\n",
    "should be doing a `pip install` command of `TensorFlow` to correctly get the \n",
    "most recent `TensorFlow` libraries with the `Keras` API available:\n",
    "\n",
    "```\n",
    "$ python3 -m pip install 'tensorflow'\n",
    "```\n",
    "\n",
    "If you have a suitable Nvidia GPU processor available on your your machine, you can get the `cuda` libraries\n",
    "setup and installed for `TensorFlow` by doing:\n",
    "\n",
    "```\n",
    "python3 -m pip install 'tensorflow[and-cuda]'\n",
    "```\n",
    "\n",
    "See the official [Install TensorFlow 2](https://www.tensorflow.org/install) for more detailed information about correctly\n",
    "getting `TensorFlow/Keras` installed on your system. [Install TensorFlow with pip](https://www.tensorflow.org/install/pip) \n",
    "has information on installing cuda/Nvidia.\n"
   ]
  },
  {
   "cell_type": "markdown",
   "id": "d721427b-2041-41b4-a30a-4118333e28ee",
   "metadata": {},
   "source": [
    "# 2.1 A first look at a neural network\n",
    "\n",
    "The problem we will look at initially is building a neural network to classify handwritten digits.  \n",
    "The MNIST dataset (a classic in ML) contains grayscale images of handwritten digits\n",
    "that are 28 x 28 pixels in size, and each image is labeled with their correct category 0-9.\n",
    "\n",
    "The MNIST dataset contains 60,000 images meant to be used for training, and another 10,000\n",
    "images we can use for testing.  The following command loads the MNIST dataset.  This dataset has\n",
    "been referred to as the *fruit fly* model of vision machine learning, and is often used as a\n",
    "benchmark for doing neural network and deep learning examples.\n",
    "\n",
    "The dataset is still relatively big, despite being used for learning, so it actually downloads the\n",
    "data for you.  The result of loading the data is a set of `NumPy` n-dimensional arrays (Tensors)\n",
    "holding the images and the labeles of the data."
   ]
  },
  {
   "cell_type": "code",
   "execution_count": 2,
   "id": "bc9b3eef-e0b7-4558-ada4-77c13a2bb219",
   "metadata": {},
   "outputs": [
    {
     "name": "stderr",
     "output_type": "stream",
     "text": [
      "2025-05-22 18:51:08.808861: E external/local_xla/xla/stream_executor/cuda/cuda_fft.cc:467] Unable to register cuFFT factory: Attempting to register factory for plugin cuFFT when one has already been registered\n",
      "WARNING: All log messages before absl::InitializeLog() is called are written to STDERR\n",
      "E0000 00:00:1747939868.828341   20310 cuda_dnn.cc:8579] Unable to register cuDNN factory: Attempting to register factory for plugin cuDNN when one has already been registered\n",
      "E0000 00:00:1747939868.833946   20310 cuda_blas.cc:1407] Unable to register cuBLAS factory: Attempting to register factory for plugin cuBLAS when one has already been registered\n",
      "W0000 00:00:1747939868.847875   20310 computation_placer.cc:177] computation placer already registered. Please check linkage and avoid linking the same target more than once.\n",
      "W0000 00:00:1747939868.847900   20310 computation_placer.cc:177] computation placer already registered. Please check linkage and avoid linking the same target more than once.\n",
      "W0000 00:00:1747939868.847903   20310 computation_placer.cc:177] computation placer already registered. Please check linkage and avoid linking the same target more than once.\n",
      "W0000 00:00:1747939868.847905   20310 computation_placer.cc:177] computation placer already registered. Please check linkage and avoid linking the same target more than once.\n",
      "2025-05-22 18:51:08.852996: I tensorflow/core/platform/cpu_feature_guard.cc:210] This TensorFlow binary is optimized to use available CPU instructions in performance-critical operations.\n",
      "To enable the following instructions: AVX2 FMA, in other operations, rebuild TensorFlow with the appropriate compiler flags.\n"
     ]
    }
   ],
   "source": [
    "# note: we will usually put all imports at top of notebook, unless\n",
    "# we are specifically learning about how to use a library\n",
    "from tensorflow.keras.datasets import mnist\n",
    "(train_images, train_labels), (test_images, test_labels) = mnist.load_data()"
   ]
  },
  {
   "cell_type": "markdown",
   "id": "8346ebcc-d400-4851-a357-795eca8a6b1f",
   "metadata": {},
   "source": [
    "The images are encoded as `NumPy` arrays, and the labels are an array of digits, ranging\n",
    "from 0 to 9.  Here is the training data:"
   ]
  },
  {
   "cell_type": "code",
   "execution_count": 3,
   "id": "0dcbdb36-8844-4449-9aae-de9ca0d9887d",
   "metadata": {},
   "outputs": [
    {
     "data": {
      "text/plain": [
       "numpy.ndarray"
      ]
     },
     "execution_count": 3,
     "metadata": {},
     "output_type": "execute_result"
    }
   ],
   "source": [
    "type(train_images)"
   ]
  },
  {
   "cell_type": "code",
   "execution_count": 4,
   "id": "8cb5f16d-85e9-4b3e-ac45-1bed750113e5",
   "metadata": {},
   "outputs": [
    {
     "data": {
      "text/plain": [
       "(60000, 28, 28)"
      ]
     },
     "execution_count": 4,
     "metadata": {},
     "output_type": "execute_result"
    }
   ],
   "source": [
    "train_images.shape"
   ]
  },
  {
   "cell_type": "code",
   "execution_count": 5,
   "id": "8e011fb1-47c3-4c93-af46-b804a2bfaf3c",
   "metadata": {},
   "outputs": [
    {
     "data": {
      "text/plain": [
       "dtype('uint8')"
      ]
     },
     "execution_count": 5,
     "metadata": {},
     "output_type": "execute_result"
    }
   ],
   "source": [
    "train_images.dtype"
   ]
  },
  {
   "cell_type": "code",
   "execution_count": 6,
   "id": "fa0b5b7e-196a-46c0-a15f-c042c95cab33",
   "metadata": {},
   "outputs": [
    {
     "data": {
      "text/plain": [
       "numpy.ndarray"
      ]
     },
     "execution_count": 6,
     "metadata": {},
     "output_type": "execute_result"
    }
   ],
   "source": [
    "type(train_labels)"
   ]
  },
  {
   "cell_type": "code",
   "execution_count": 7,
   "id": "9a9fa3a6-1e32-4de0-af74-92dbcf45a916",
   "metadata": {},
   "outputs": [
    {
     "data": {
      "text/plain": [
       "(60000,)"
      ]
     },
     "execution_count": 7,
     "metadata": {},
     "output_type": "execute_result"
    }
   ],
   "source": [
    "train_labels.shape"
   ]
  },
  {
   "cell_type": "code",
   "execution_count": 8,
   "id": "0104507b-fddf-4e7a-b73f-c415eeedbcd3",
   "metadata": {},
   "outputs": [
    {
     "data": {
      "text/plain": [
       "dtype('uint8')"
      ]
     },
     "execution_count": 8,
     "metadata": {},
     "output_type": "execute_result"
    }
   ],
   "source": [
    "train_labels.dtype"
   ]
  },
  {
   "cell_type": "code",
   "execution_count": 9,
   "id": "8b3e66bb-a4ac-48de-8014-988456b4f9ee",
   "metadata": {},
   "outputs": [
    {
     "data": {
      "text/plain": [
       "array([5, 0, 4, 1, 9, 2, 1, 3, 1, 4], dtype=uint8)"
      ]
     },
     "execution_count": 9,
     "metadata": {},
     "output_type": "execute_result"
    }
   ],
   "source": [
    "train_labels[:10]"
   ]
  },
  {
   "cell_type": "markdown",
   "id": "e7394f4b-768e-4a2c-9174-8f07894f3793",
   "metadata": {},
   "source": [
    "The test data is similar but there are only 10,000 different images in the testing dataset.\n",
    "\n",
    "The images are 28x28 shapes arrays of `uint8` greyscale pixels.  For example, the data for \n",
    "the first training image looks like:"
   ]
  },
  {
   "cell_type": "code",
   "execution_count": 10,
   "id": "7b72277d-a3ed-418c-a1bb-d9be1f492fdc",
   "metadata": {},
   "outputs": [
    {
     "data": {
      "text/plain": [
       "array([[  0,   0,   0,   0,   0,   0,   0,   0,   0,   0,   0,   0,   0,\n",
       "          0,   0,   0,   0,   0,   0,   0,   0,   0,   0,   0,   0,   0,\n",
       "          0,   0],\n",
       "       [  0,   0,   0,   0,   0,   0,   0,   0,   0,   0,   0,   0,   0,\n",
       "          0,   0,   0,   0,   0,   0,   0,   0,   0,   0,   0,   0,   0,\n",
       "          0,   0],\n",
       "       [  0,   0,   0,   0,   0,   0,   0,   0,   0,   0,   0,   0,   0,\n",
       "          0,   0,   0,   0,   0,   0,   0,   0,   0,   0,   0,   0,   0,\n",
       "          0,   0],\n",
       "       [  0,   0,   0,   0,   0,   0,   0,   0,   0,   0,   0,   0,   0,\n",
       "          0,   0,   0,   0,   0,   0,   0,   0,   0,   0,   0,   0,   0,\n",
       "          0,   0],\n",
       "       [  0,   0,   0,   0,   0,   0,   0,   0,   0,   0,   0,   0,   0,\n",
       "          0,   0,   0,   0,   0,   0,   0,   0,   0,   0,   0,   0,   0,\n",
       "          0,   0],\n",
       "       [  0,   0,   0,   0,   0,   0,   0,   0,   0,   0,   0,   0,   3,\n",
       "         18,  18,  18, 126, 136, 175,  26, 166, 255, 247, 127,   0,   0,\n",
       "          0,   0],\n",
       "       [  0,   0,   0,   0,   0,   0,   0,   0,  30,  36,  94, 154, 170,\n",
       "        253, 253, 253, 253, 253, 225, 172, 253, 242, 195,  64,   0,   0,\n",
       "          0,   0],\n",
       "       [  0,   0,   0,   0,   0,   0,   0,  49, 238, 253, 253, 253, 253,\n",
       "        253, 253, 253, 253, 251,  93,  82,  82,  56,  39,   0,   0,   0,\n",
       "          0,   0],\n",
       "       [  0,   0,   0,   0,   0,   0,   0,  18, 219, 253, 253, 253, 253,\n",
       "        253, 198, 182, 247, 241,   0,   0,   0,   0,   0,   0,   0,   0,\n",
       "          0,   0],\n",
       "       [  0,   0,   0,   0,   0,   0,   0,   0,  80, 156, 107, 253, 253,\n",
       "        205,  11,   0,  43, 154,   0,   0,   0,   0,   0,   0,   0,   0,\n",
       "          0,   0],\n",
       "       [  0,   0,   0,   0,   0,   0,   0,   0,   0,  14,   1, 154, 253,\n",
       "         90,   0,   0,   0,   0,   0,   0,   0,   0,   0,   0,   0,   0,\n",
       "          0,   0],\n",
       "       [  0,   0,   0,   0,   0,   0,   0,   0,   0,   0,   0, 139, 253,\n",
       "        190,   2,   0,   0,   0,   0,   0,   0,   0,   0,   0,   0,   0,\n",
       "          0,   0],\n",
       "       [  0,   0,   0,   0,   0,   0,   0,   0,   0,   0,   0,  11, 190,\n",
       "        253,  70,   0,   0,   0,   0,   0,   0,   0,   0,   0,   0,   0,\n",
       "          0,   0],\n",
       "       [  0,   0,   0,   0,   0,   0,   0,   0,   0,   0,   0,   0,  35,\n",
       "        241, 225, 160, 108,   1,   0,   0,   0,   0,   0,   0,   0,   0,\n",
       "          0,   0],\n",
       "       [  0,   0,   0,   0,   0,   0,   0,   0,   0,   0,   0,   0,   0,\n",
       "         81, 240, 253, 253, 119,  25,   0,   0,   0,   0,   0,   0,   0,\n",
       "          0,   0],\n",
       "       [  0,   0,   0,   0,   0,   0,   0,   0,   0,   0,   0,   0,   0,\n",
       "          0,  45, 186, 253, 253, 150,  27,   0,   0,   0,   0,   0,   0,\n",
       "          0,   0],\n",
       "       [  0,   0,   0,   0,   0,   0,   0,   0,   0,   0,   0,   0,   0,\n",
       "          0,   0,  16,  93, 252, 253, 187,   0,   0,   0,   0,   0,   0,\n",
       "          0,   0],\n",
       "       [  0,   0,   0,   0,   0,   0,   0,   0,   0,   0,   0,   0,   0,\n",
       "          0,   0,   0,   0, 249, 253, 249,  64,   0,   0,   0,   0,   0,\n",
       "          0,   0],\n",
       "       [  0,   0,   0,   0,   0,   0,   0,   0,   0,   0,   0,   0,   0,\n",
       "          0,  46, 130, 183, 253, 253, 207,   2,   0,   0,   0,   0,   0,\n",
       "          0,   0],\n",
       "       [  0,   0,   0,   0,   0,   0,   0,   0,   0,   0,   0,   0,  39,\n",
       "        148, 229, 253, 253, 253, 250, 182,   0,   0,   0,   0,   0,   0,\n",
       "          0,   0],\n",
       "       [  0,   0,   0,   0,   0,   0,   0,   0,   0,   0,  24, 114, 221,\n",
       "        253, 253, 253, 253, 201,  78,   0,   0,   0,   0,   0,   0,   0,\n",
       "          0,   0],\n",
       "       [  0,   0,   0,   0,   0,   0,   0,   0,  23,  66, 213, 253, 253,\n",
       "        253, 253, 198,  81,   2,   0,   0,   0,   0,   0,   0,   0,   0,\n",
       "          0,   0],\n",
       "       [  0,   0,   0,   0,   0,   0,  18, 171, 219, 253, 253, 253, 253,\n",
       "        195,  80,   9,   0,   0,   0,   0,   0,   0,   0,   0,   0,   0,\n",
       "          0,   0],\n",
       "       [  0,   0,   0,   0,  55, 172, 226, 253, 253, 253, 253, 244, 133,\n",
       "         11,   0,   0,   0,   0,   0,   0,   0,   0,   0,   0,   0,   0,\n",
       "          0,   0],\n",
       "       [  0,   0,   0,   0, 136, 253, 253, 253, 212, 135, 132,  16,   0,\n",
       "          0,   0,   0,   0,   0,   0,   0,   0,   0,   0,   0,   0,   0,\n",
       "          0,   0],\n",
       "       [  0,   0,   0,   0,   0,   0,   0,   0,   0,   0,   0,   0,   0,\n",
       "          0,   0,   0,   0,   0,   0,   0,   0,   0,   0,   0,   0,   0,\n",
       "          0,   0],\n",
       "       [  0,   0,   0,   0,   0,   0,   0,   0,   0,   0,   0,   0,   0,\n",
       "          0,   0,   0,   0,   0,   0,   0,   0,   0,   0,   0,   0,   0,\n",
       "          0,   0],\n",
       "       [  0,   0,   0,   0,   0,   0,   0,   0,   0,   0,   0,   0,   0,\n",
       "          0,   0,   0,   0,   0,   0,   0,   0,   0,   0,   0,   0,   0,\n",
       "          0,   0]], dtype=uint8)"
      ]
     },
     "execution_count": 10,
     "metadata": {},
     "output_type": "execute_result"
    }
   ],
   "source": [
    "train_images[0,:,:]"
   ]
  },
  {
   "cell_type": "markdown",
   "id": "5f3a6ce0-d917-4c4c-b274-fa208177ab2d",
   "metadata": {},
   "source": [
    "But this is hard to visualize.  When can actually render the hand drawn digits to see what\n",
    "they look like as follows (You should try looking at some other images than image 0 we show here):"
   ]
  },
  {
   "cell_type": "code",
   "execution_count": 11,
   "id": "119f5561-cd79-4bd4-8d2b-de1b8f4f8413",
   "metadata": {},
   "outputs": [
    {
     "name": "stdout",
     "output_type": "stream",
     "text": [
      "Label for image:  3\n"
     ]
    },
    {
     "data": {
      "image/png": "[encoded data removed]",
      "text/plain": [
       "<Figure size 1000x800 with 1 Axes>"
      ]
     },
     "metadata": {},
     "output_type": "display_data"
    }
   ],
   "source": [
    "# make a slice of the 28x28 pixel values of training image 0\n",
    "img_no = 1234\n",
    "img = train_images[img_no,:,:]\n",
    "\n",
    "# display the imge using matplotlib\n",
    "plt.imshow(img, cmap='gray');\n",
    "\n",
    "# confirm that the label for this image matches\n",
    "print('Label for image: ', train_labels[img_no])"
   ]
  },
  {
   "cell_type": "markdown",
   "id": "ab87d6d8-7e6c-4891-99ad-170c7eb86445",
   "metadata": {},
   "source": [
    "The workflow to create an image classifier using `TensorFlow/Keras` neural networks is\n",
    "\n",
    "1. First we'll create and compile a neural network architecture using the `Keras` library.\n",
    "2. We will need to do a little bit of data cleaning of the images to make them suitable for training with.\n",
    "3. Then we will feed the neural network the training data, `train_images` and\n",
    "   `train_labels`.  The network will learn to associate image inputs with the label as its output.\n",
    "4. Finally once the network is trained, we can ask the network to produce predictions for\n",
    "   the `test_images`, and we can evaluate its performance."
   ]
  },
  {
   "cell_type": "markdown",
   "id": "e1d95298-dc52-436e-b91d-bc094c4009ff",
   "metadata": {},
   "source": [
    "## The network architecture\n",
    "\n",
    "The core building block of a neural network is the *layer*.  The following network architecutre is very simple.\n",
    "Don't worry about the details yet, we will learn about what all of this means as we go along in the course.\n",
    "\n",
    "A networks consists of a sequence of layers.  We will add 2 `Dense` layers to the network we are going to train.  A `Dense` layer\n",
    "is a fully connected layer, all inputs to the layer are fully connected to each output of the layer.\n",
    "\n",
    "We will talk about the activation functions in more detail later.\n",
    "Notice that the first layer uses an 'relu' activation\n",
    "function, while the second layer uses a 'softmax' activation function.\n",
    "A 10-way *softmax* layer means that this layer will return an array of 10 probability\n",
    "scores (summing to 1).  Each score will represent the probability that the current\n",
    "image belongs to one of the 10 output labels.\n"
   ]
  },
  {
   "cell_type": "code",
   "execution_count": 12,
   "id": "14b7091d-3e66-4b3f-a270-09a4d60e8281",
   "metadata": {},
   "outputs": [],
   "source": [
    "from tensorflow import keras\n",
    "from tensorflow.keras import layers\n",
    "\n",
    "# create a full model with a dense layer and activation layer\n",
    "model = keras.Sequential([\n",
    "    layers.Dense(512, activation=\"relu\"),\n",
    "    layers.Dense(10, activation=\"softmax\")\n",
    "])"
   ]
  },
  {
   "cell_type": "markdown",
   "id": "79065c63-3750-4b22-8c1e-f62925cee47d",
   "metadata": {},
   "source": [
    "To make the model ready for training, we need to specify three more things as part of the\n",
    "*compilation* step to finalize the network architecture:\n",
    "\n",
    "1. A *loss function* - How the network will measure its performance\n",
    "2. An *optimizer* - The mechanism through wich the network updates itself\n",
    "3. *Metrics to monitor* during training and testing."
   ]
  },
  {
   "cell_type": "code",
   "execution_count": 13,
   "id": "742c456e-5755-49eb-8c07-a201e6b8406c",
   "metadata": {},
   "outputs": [
    {
     "name": "stderr",
     "output_type": "stream",
     "text": [
      "2025-05-22 18:51:14.261206: E external/local_xla/xla/stream_executor/cuda/cuda_platform.cc:51] failed call to cuInit: INTERNAL: CUDA error: Failed call to cuInit: UNKNOWN ERROR (303)\n"
     ]
    }
   ],
   "source": [
    "model.compile(optimizer='rmsprop',\n",
    "              loss='categorical_crossentropy',\n",
    "              metrics=['accuracy'])"
   ]
  },
  {
   "cell_type": "markdown",
   "id": "d40f88ac-541f-44c5-a8b4-9d2b50f8c63a",
   "metadata": {},
   "source": [
    "Again don't be too worried yet about the details here, we will discuss all of these concepts in our\n",
    "class.  In this first example, our model will use `categorical_crossentropy` as the loss function,\n",
    "and the simple `rmsprop` optimizer to perform gradient descent on the network weights.  The library will\n",
    "track and report on the accuracy of the model as it trains."
   ]
  },
  {
   "cell_type": "markdown",
   "id": "c3353418-ffa0-44d9-9f5b-859a564252ee",
   "metadata": {},
   "source": [
    "## Preparing the image data\n",
    "\n",
    "Before training, we need to do a little bit of preprocessing and data cleaning.  This is not unusual, you will\n",
    "often need to perform some data preparation on your data before it can be used successfully by a machine\n",
    "learning algorithm.\n",
    "\n",
    "We will reshape all of the image data, into a flat set of 28x28 = 784 inputs, which is what the input layer to\n",
    "this network expects.  \n",
    "\n",
    "Also before training we will scale all of the input to values in the `[0, 1]`.  If you noticed above, all\n",
    "of the image pixel values are currently in the range `[0, 255]`.  Previously our training images\n",
    "were stored in an array of shape `(60000, 28, 28)` of type `uint8`.  We will transform it into\n",
    "a `float32` array of shape `(60000, 28 * 28)` with all pixel values between 0 and 1."
   ]
  },
  {
   "cell_type": "code",
   "execution_count": 14,
   "id": "96e19f2c-0227-43b8-b493-76ca09349dea",
   "metadata": {},
   "outputs": [
    {
     "name": "stdout",
     "output_type": "stream",
     "text": [
      "(60000, 784)\n",
      "float32\n"
     ]
    }
   ],
   "source": [
    "# flatten the 2-d images to 1-d of 784 inputs\n",
    "train_images = train_images.reshape((60000, 28 * 28))\n",
    "\n",
    "# transform the greyscale integer values to floats for input\n",
    "train_images = train_images.astype('float32') / 255.0\n",
    "\n",
    "# show results\n",
    "print( train_images.shape )\n",
    "print( train_images.dtype )\n",
    "\n",
    "# transform the test images as well in the same way while we are at it\n",
    "test_images = test_images.reshape((10000, 28 * 28))\n",
    "test_images = test_images.astype('float32') / 255.0"
   ]
  },
  {
   "cell_type": "markdown",
   "id": "fde7619f-7d59-405f-bcb4-84873741b369",
   "metadata": {},
   "source": [
    "**NOTE**: The following is not shown in my 2nd edition of the textbook.  However, the\n",
    "training labels must have the same shape as the output layer for a `Keras` network.  Currently\n",
    "the labels are simply values from `[0 - 9]` but instead we need an array of 10\n",
    "columns with a `1` for the image category, and `0` for all others.  We can use the \n",
    "`to_categorical()` method to perform this transformation."
   ]
  },
  {
   "cell_type": "code",
   "execution_count": 15,
   "id": "e52e7c4c-58c6-4c04-ac81-f7891b7ce2d5",
   "metadata": {},
   "outputs": [
    {
     "name": "stdout",
     "output_type": "stream",
     "text": [
      "(60000,)\n",
      "5\n"
     ]
    }
   ],
   "source": [
    "# notice before the shape of the labels and their values\n",
    "print(train_labels.shape)\n",
    "print(train_labels[0])"
   ]
  },
  {
   "cell_type": "code",
   "execution_count": 16,
   "id": "ae4b0094-8063-4a95-8371-640e6bf24628",
   "metadata": {},
   "outputs": [],
   "source": [
    "from tensorflow.keras.utils import to_categorical\n",
    "\n",
    "# use 1-hot encoding to make into categorical labels\n",
    "train_labels = to_categorical(train_labels)\n",
    "test_labels = to_categorical(test_labels)"
   ]
  },
  {
   "cell_type": "code",
   "execution_count": 17,
   "id": "435adb66-0a50-4254-9177-8a443e0ad7de",
   "metadata": {},
   "outputs": [
    {
     "name": "stdout",
     "output_type": "stream",
     "text": [
      "(60000, 10)\n",
      "[0. 0. 0. 0. 0. 1. 0. 0. 0. 0.]\n"
     ]
    }
   ],
   "source": [
    "# now the labels have 10 columns, with a 1 set for the image category\n",
    "print(train_labels.shape)\n",
    "print(train_labels[0])"
   ]
  },
  {
   "cell_type": "markdown",
   "id": "f4fd448b-bd7e-43a4-a24b-879cb0622d3b",
   "metadata": {},
   "source": [
    "## Training the model\n",
    "\n",
    "We're now ready to train the model, which in the `Keras` API is done by calling the model's `fit()`\n",
    "method.  We *fit* the model to its training data.  "
   ]
  },
  {
   "cell_type": "code",
   "execution_count": 18,
   "id": "e784c59e-b21c-4d63-a4b3-1e028e33e8cd",
   "metadata": {},
   "outputs": [
    {
     "name": "stdout",
     "output_type": "stream",
     "text": [
      "Epoch 1/5\n",
      "\u001b[1m469/469\u001b[0m \u001b[32m━━━━━━━━━━━━━━━━━━━━\u001b[0m\u001b[37m\u001b[0m \u001b[1m2s\u001b[0m 3ms/step - accuracy: 0.8747 - loss: 0.4322\n",
      "Epoch 2/5\n",
      "\u001b[1m469/469\u001b[0m \u001b[32m━━━━━━━━━━━━━━━━━━━━\u001b[0m\u001b[37m\u001b[0m \u001b[1m4s\u001b[0m 8ms/step - accuracy: 0.9659 - loss: 0.1168\n",
      "Epoch 3/5\n",
      "\u001b[1m469/469\u001b[0m \u001b[32m━━━━━━━━━━━━━━━━━━━━\u001b[0m\u001b[37m\u001b[0m \u001b[1m4s\u001b[0m 9ms/step - accuracy: 0.9780 - loss: 0.0724\n",
      "Epoch 4/5\n",
      "\u001b[1m469/469\u001b[0m \u001b[32m━━━━━━━━━━━━━━━━━━━━\u001b[0m\u001b[37m\u001b[0m \u001b[1m5s\u001b[0m 8ms/step - accuracy: 0.9854 - loss: 0.0503\n",
      "Epoch 5/5\n",
      "\u001b[1m469/469\u001b[0m \u001b[32m━━━━━━━━━━━━━━━━━━━━\u001b[0m\u001b[37m\u001b[0m \u001b[1m4s\u001b[0m 8ms/step - accuracy: 0.9897 - loss: 0.0366\n"
     ]
    }
   ],
   "source": [
    "model.fit(train_images, train_labels, epochs=5, batch_size=128);"
   ]
  },
  {
   "cell_type": "markdown",
   "id": "745e92a6-107d-43d3-884f-dc04ec4073f8",
   "metadata": {},
   "source": [
    "Notice that the measure of the loss and the accuracy are reported by the training here.\n",
    "We will discuss how a loss (or fitness) function works in more detail, it is being\n",
    "used to actually change the weights to improve the performance of the model.  So you should\n",
    "see the loss decrease over the 5 epochs of training since we are minimizing the loss\n",
    "here.\n",
    "\n",
    "Likewise notice that the acuracy is reported since we asked that metric to be monitored\n",
    "when we compiled the network architecture.  You should typically see that we get\n",
    "over 98% accuracy on the training data after 5 epochs of training.\n",
    "over 98% accuracy on the training data after only 5 epochs of training.\n",
    "\n",
    "But the true test is how well the trained network does on data it has not seen before.  We\n",
    "can evaluate the performance on the test data like this:"
   ]
  },
  {
   "cell_type": "markdown",
   "id": "6323b859-c26a-4a8f-8556-c33772d6de18",
   "metadata": {},
   "source": [
    "## Using the model to make predictions\n",
    "\n",
    "Now that we have trained a model, we can use it to make predictions on images that it has never seen before. \n",
    "For example, lets take the first test images and ask the model to make predictions of what\n",
    "digit category is in those images."
   ]
  },
  {
   "cell_type": "code",
   "execution_count": 19,
   "id": "b54aba35-e2e1-4876-a2ce-72350d8cb79d",
   "metadata": {},
   "outputs": [
    {
     "name": "stdout",
     "output_type": "stream",
     "text": [
      "\u001b[1m1/1\u001b[0m \u001b[32m━━━━━━━━━━━━━━━━━━━━\u001b[0m\u001b[37m\u001b[0m \u001b[1m0s\u001b[0m 56ms/step\n"
     ]
    },
    {
     "data": {
      "text/plain": [
       "array([1.0132537e-08, 1.6266772e-09, 4.1710368e-06, 5.6054610e-05,\n",
       "       4.5472580e-12, 4.6540372e-08, 3.5877470e-13, 9.9993932e-01,\n",
       "       2.1280117e-08, 4.3399370e-07], dtype=float32)"
      ]
     },
     "execution_count": 19,
     "metadata": {},
     "output_type": "execute_result"
    }
   ],
   "source": [
    "# the astute student might notice we pull out two digits here, but we are only going to look at the index 0 image prediction\n",
    "test_digit = test_images[0:1]\n",
    "predictions = model.predict(test_digit)\n",
    "predictions[0]"
   ]
  },
  {
   "cell_type": "markdown",
   "id": "82bec94d-73de-4d5b-806c-01d38a5a344f",
   "metadata": {},
   "source": [
    "Don't let the scientific notation of the output confuse you.  If it is easier, we can ask `NumPy`\n",
    "to display the values using fixed notation."
   ]
  },
  {
   "cell_type": "code",
   "execution_count": 20,
   "id": "39cf24d8-901d-4ea3-9f56-2fcc3e42bdd9",
   "metadata": {},
   "outputs": [
    {
     "data": {
      "text/plain": [
       "array([0.00000001, 0.        , 0.00000417, 0.00005605, 0.        ,\n",
       "       0.00000005, 0.        , 0.9999393 , 0.00000002, 0.00000043],\n",
       "      dtype=float32)"
      ]
     },
     "execution_count": 20,
     "metadata": {},
     "output_type": "execute_result"
    }
   ],
   "source": [
    "# suppress scientific notation and show 8 digits of precision\n",
    "np.set_printoptions(suppress=True, precision=8)\n",
    "predictions[0]"
   ]
  },
  {
   "cell_type": "markdown",
   "id": "7bb6d583-5e6e-412a-af69-f9548738f89f",
   "metadata": {},
   "source": [
    "Most of the values were close to 0, except the value at position 7 of the array.  This means the\n",
    "fitted model is giving a 99% probability that the input image category is 7.  We can confirm this."
   ]
  },
  {
   "cell_type": "code",
   "execution_count": 21,
   "id": "76f050f8-cf8f-4ad5-8a25-c96ebc40c762",
   "metadata": {},
   "outputs": [
    {
     "name": "stdout",
     "output_type": "stream",
     "text": [
      "Label for image:  [0. 0. 0. 0. 0. 0. 0. 1. 0. 0.]\n",
      "Use argmax to determine maximum index, which is the category: 7\n"
     ]
    },
    {
     "data": {
      "image/png": "[encoded data removed]",
      "text/plain": [
       "<Figure size 1000x800 with 1 Axes>"
      ]
     },
     "metadata": {},
     "output_type": "display_data"
    }
   ],
   "source": [
    "img_no = 0\n",
    "img = test_digit[img_no,:].reshape(28,28)\n",
    "\n",
    "# display the imge using matplotlib\n",
    "plt.imshow(img, cmap='gray');\n",
    "\n",
    "# confirm that the label for this image matches\n",
    "print('Label for image: ', test_labels[img_no])\n",
    "print('Use argmax to determine maximum index, which is the category:', predictions[0].argmax())"
   ]
  },
  {
   "cell_type": "markdown",
   "id": "4ff152ca-fbe6-49f3-ba0a-7da403f2598e",
   "metadata": {},
   "source": [
    "We saw that the accuracy when training the model was over 99% accurate.  But how well a model\n",
    "does on the data it is trained with is not always a good indication of how the model will do\n",
    "wit data it has never seen before.  Let's check the accuracy of the fitted model on the \n",
    "entire test set."
   ]
  },
  {
   "cell_type": "code",
   "execution_count": 22,
   "id": "562c9b30-592b-45d2-bc88-4cf0bafe883e",
   "metadata": {},
   "outputs": [
    {
     "name": "stdout",
     "output_type": "stream",
     "text": [
      "\u001b[1m313/313\u001b[0m \u001b[32m━━━━━━━━━━━━━━━━━━━━\u001b[0m\u001b[37m\u001b[0m \u001b[1m2s\u001b[0m 5ms/step - accuracy: 0.9777 - loss: 0.0738\n",
      "test_loss:  0.06346900761127472\n",
      "test_acc:   0.9800999760627747\n"
     ]
    }
   ],
   "source": [
    "test_loss, test_acc = model.evaluate(test_images, test_labels)\n",
    "print('test_loss: ', test_loss)\n",
    "print('test_acc:  ', test_acc)"
   ]
  },
  {
   "cell_type": "markdown",
   "id": "57d65f3c-14ca-4722-8a8a-d91ba7139f89",
   "metadata": {},
   "source": [
    "You should usually see that the accuracy falls down to 97.8% here.  This may not seem to significant, but\n",
    "it is quite a bit lower than the 98.9% accuracy that the model gets on the data while training.  \n",
    "\n",
    "This gap between training and test accuracy is an example of *overfitting*.  Machine learning models tend to\n",
    "perform worse on new data than on the data they are trained with because they overlean and model some of\n",
    "the noise present in the data."
   ]
  }
 ],
 "metadata": {
  "kernelspec": {
   "display_name": "Python 3 (ipykernel)",
   "language": "python",
   "name": "python3"
  },
  "language_info": {
   "codemirror_mode": {
    "name": "ipython",
    "version": 3
   },
   "file_extension": ".py",
   "mimetype": "text/x-python",
   "name": "python",
   "nbconvert_exporter": "python",
   "pygments_lexer": "ipython3",
   "version": "3.12.7"
  }
 },
 "nbformat": 4,
 "nbformat_minor": 5
}
