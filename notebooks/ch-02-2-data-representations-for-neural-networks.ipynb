{
 "cells": [
  {
   "cell_type": "code",
   "execution_count": 1,
   "id": "e535a40b-a002-46cb-b656-a92ad4ddbad2",
   "metadata": {},
   "outputs": [],
   "source": [
    "# suppress tensorflow logging, usually not useful unless you are having problems with tensorflow or accessing gpu\n",
    "import os\n",
    "#os.environ['TF_CPP_MIN_LOG_LEVEL'] = '3' \n",
    "\n",
    "# globally useful libraries / namespaces for this notebook\n",
    "import numpy as np\n",
    "import matplotlib.pyplot as plt\n",
    "\n",
    "# notebook wide settings for plotting visualizations\n",
    "plt.rcParams['figure.figsize'] = (10, 8) # set default figure size, 10in by 8in"
   ]
  },
  {
   "cell_type": "markdown",
   "id": "6f5b2548-990e-4146-93e5-5ef3d2e77760",
   "metadata": {
    "tags": []
   },
   "source": [
    "# Chapter 2: The Mathematical Building Blocks of Neural Networks\n",
    "\n",
    "Supporting materials for:\n",
    "\n",
    "Chollet (2021). *Deep Learning with Python*. 2nd ed. Manning Publications Co.\n",
    "[Amazon](https://www.amazon.com/Learning-Python-Second-Fran%C3%A7ois-Chollet/dp/1617296864/ref=sr_1_1?crid=32NFM2SBCJVQQ)\n",
    "\n",
    "Understanding deep learning requires familiarity with many simple mathematical\n",
    "concepts: tensors, tensor operations, differentiation, gradient descent, and so on.\n",
    "Out goal in this notebook/chapter is to build up your intiution about these mathematical\n",
    "concepts without getting over technical.\n",
    "\n",
    "One note about the term tensors.  **Tensor** is a mathematical term that simply can be used to refer\n",
    "to a matrix of values, no matter how many dimensions.  Thus a 1-dimensional vector or a 2-dimensional\n",
    "matrix are both *Tensors*, as well as 3-dimensional or higher matrices.  Vectorized programming\n",
    "could also be referred to as tensor programming, but the term vectorized programming was coined\n",
    "before the term tensor was in common use.  Another difference is that the term Tensor programming\n",
    "and Tensor libraries have come to mean the types of vectorized or tensor operations we usually think of, but\n",
    "it also includes libraries that can automatically differentiate such tensors with respect to\n",
    "a loss function.  We will get to these concepts in a bit more detail below.\n",
    "\n"
   ]
  },
  {
   "cell_type": "markdown",
   "id": "49f34d6a-67f6-436c-8c79-f70e0546d9d9",
   "metadata": {},
   "source": [
    "## Note: Installing Keras/TensorFlow\n",
    "\n",
    "For this textbook we are using the `TensorFlow` library and mostly accessing the `Keras`\n",
    "neural network and deep learning API through the `TensorFlow`.  You will need to have\n",
    "a recent version of `Tensorflow/Keras` installed on your machine and available to your\n",
    "iPython kernel to run this notebook.  At the time of creation of this notebook, \n",
    "`TensorFlow/Keras` is no longer supported directly by the `Conda` package manager.  You\n",
    "should be doing a `pip install` command of `TensorFlow` to correctly get the \n",
    "most recent `TensorFlow` libraries with the `Keras` API available:\n",
    "\n",
    "```\n",
    "$ python3 -m pip install 'tensorflow'\n",
    "```\n",
    "\n",
    "If you have a suitable Nvidia GPU processor available on your your machine, you can get the `cuda` libraries\n",
    "setup and installed for `TensorFlow` by doing:\n",
    "\n",
    "```\n",
    "python3 -m pip install 'tensorflow[and-cuda]'\n",
    "```\n",
    "\n",
    "See the official [Install TensorFlow 2](https://www.tensorflow.org/install) for more detailed information about correctly\n",
    "getting `TensorFlow/Keras` installed on your system. [Install TensorFlow with pip](https://www.tensorflow.org/install/pip) \n",
    "has information on installing cuda/Nvidia.\n"
   ]
  },
  {
   "cell_type": "markdown",
   "id": "90dfd779-a5b1-4003-94e9-138a5ee5ce8f",
   "metadata": {},
   "source": [
    "# 2.2 Data Representations for Neural Networks\n",
    "\n",
    "In general, all current machine-learning systems and libraries use tensors as their basic data structure.\n",
    "As we mentioned a Numpy `ndarray` which holds an arbitrary n-dimensional array, is also known as a *tensor*.\n",
    "\n",
    "At its core a tensor is a container for data, all numerical and all of the same type.  So it is a container\n",
    "for numbers.\n",
    "\n",
    "## 2.2.1 Scalars (0D tensors)\n",
    "\n",
    "A tensor that contains only 1 number is called a *scalar*.  You can display the number of axes of a Numpy\n",
    "tensor via the `ndim` attribute.  A scalar tensor has 0 axes (`ndim == 0`).  The number of axes of a\n",
    "tensor is also called its rank."
   ]
  },
  {
   "cell_type": "code",
   "execution_count": 2,
   "id": "57fe2605-794e-462c-a8e8-dd6692001368",
   "metadata": {},
   "outputs": [
    {
     "name": "stdout",
     "output_type": "stream",
     "text": [
      "12\n",
      "0\n"
     ]
    }
   ],
   "source": [
    "x = np.array(12)\n",
    "print(x)\n",
    "print(x.ndim)"
   ]
  },
  {
   "cell_type": "markdown",
   "id": "ec674e05-32d6-4403-af00-7a93e87065a3",
   "metadata": {},
   "source": [
    "## 2.2.2 Vectors (1D tensors)\n",
    "\n",
    "A tensor with 1 axis is also called a *vector*.  The rank or number of dimensions is different from the\n",
    "number of entries.  Unfortunately, and confusingly, in mathematics the following matrix can be referred\n",
    "to as a 4-dimensional vector.  *Dimensionality* can denote eiather the number of entries along a specific\n",
    "axis, or the number of axes in a tensor, which can be confusing.  We will try and be careful in this course\n",
    "to differentiate this, but you will see this usage both ways in different places."
   ]
  },
  {
   "cell_type": "code",
   "execution_count": 3,
   "id": "cde79b79-d1f1-4f3f-a3f1-32a069837345",
   "metadata": {},
   "outputs": [
    {
     "name": "stdout",
     "output_type": "stream",
     "text": [
      "[12  3  6 14]\n",
      "1\n",
      "(4,)\n"
     ]
    }
   ],
   "source": [
    "# this is a vector with 1 axis, also called a tensor of rank 1, or a 1D tensor\n",
    "# but in some contexts it may confusingly also be refered to it as a 4-dimensional vector\n",
    "x = np.array([12, 3, 6, 14])\n",
    "print(x)\n",
    "print(x.ndim)\n",
    "print(x.shape)"
   ]
  },
  {
   "cell_type": "markdown",
   "id": "9e35a9dc-66c1-481b-ac9c-f58921034d43",
   "metadata": {},
   "source": [
    "## 2.2.3 Matrices (2D tensors)\n",
    "\n",
    "Tensors of 2 axes are very common and very useful.  These are commonly referred to as a 2-dimensional\n",
    "*matrix*.  A matrix has two axes (often thought of as rows and columns).  In our previous machine\n",
    "learning course, we always have each training and test input as a row, and the features of the\n",
    "inputs are the columns of the matrix.  In our first network above, after we flattened the training\n",
    "images into a 2-d matrix, we had 60000 rows of training images, where each image consisted of 784\n",
    "input pixel features."
   ]
  },
  {
   "cell_type": "code",
   "execution_count": 4,
   "id": "c0f175c0-cc5a-42d4-affe-8d97b769db96",
   "metadata": {},
   "outputs": [
    {
     "name": "stdout",
     "output_type": "stream",
     "text": [
      "[[ 5 78  2 34  0]\n",
      " [ 6 79  3 35  1]\n",
      " [ 7 80  4 36  2]]\n",
      "2\n",
      "(3, 5)\n"
     ]
    }
   ],
   "source": [
    "# this is a 3 rows by 5 columns 2-d matrix, or 2D tensor\n",
    "x = np.array([[5, 78, 2, 34, 0],\n",
    "              [6, 79, 3, 35, 1],\n",
    "              [7, 80, 4, 36, 2]])\n",
    "print(x)\n",
    "print(x.ndim)\n",
    "print(x.shape)"
   ]
  },
  {
   "cell_type": "markdown",
   "id": "4c0c35c2-9546-4276-804b-0dd42ae6a4cd",
   "metadata": {},
   "source": [
    "## 2.2.4 Rank-3 and Higher-Rank Tensors\n",
    "If you pack such matrices in a new array, you obtain a 3d tensor, which you can visually interpret\n",
    "as a cube of numbers."
   ]
  },
  {
   "cell_type": "code",
   "execution_count": 5,
   "id": "ccb1c7bc-d72a-437c-bb7f-a9d46fdb8c96",
   "metadata": {},
   "outputs": [
    {
     "name": "stdout",
     "output_type": "stream",
     "text": [
      "[[[ 5 78  2 34  0]\n",
      "  [ 6 79  3 35  1]\n",
      "  [ 7 80  4 36  2]]\n",
      "\n",
      " [[ 5 78  2 34  0]\n",
      "  [ 6 79  3 35  1]\n",
      "  [ 7 80  4 36  2]]\n",
      "\n",
      " [[ 5 78  2 34  0]\n",
      "  [ 6 79  3 35  1]\n",
      "  [ 7 80  4 36  2]]]\n",
      "3\n",
      "(3, 3, 5)\n"
     ]
    }
   ],
   "source": [
    "# a 3D tensor, we have 3 2-D matrices, each 2-D matrix is the previous 3x5 shaped matrix\n",
    "x = np.array([\n",
    "              [[5, 78, 2, 34, 0],\n",
    "               [6, 79, 3, 35, 1],\n",
    "               [7, 80, 4, 36, 2]],\n",
    "              [[5, 78, 2, 34, 0],\n",
    "               [6, 79, 3, 35, 1],\n",
    "               [7, 80, 4, 36, 2]],\n",
    "              [[5, 78, 2, 34, 0],\n",
    "               [6, 79, 3, 35, 1],\n",
    "               [7, 80, 4, 36, 2]]\n",
    "             ])\n",
    "print(x)\n",
    "print(x.ndim)\n",
    "print(x.shape)"
   ]
  },
  {
   "cell_type": "markdown",
   "id": "ce2cf780-2dbc-4b28-a6bc-3ab67ff2968d",
   "metadata": {},
   "source": [
    "By packing 3D tensors in an array, you create a 4D tensor, and so on."
   ]
  },
  {
   "cell_type": "markdown",
   "id": "fba38e12-ce00-4eab-ac6c-59b9530fcc4c",
   "metadata": {},
   "source": [
    "## 2.2.5 Key atrributes\n",
    "\n",
    "A tensor is defined by 3 key attributes:\n",
    "\n",
    "1. *Number of axes (rank)*\n",
    "2. *Shape* - A tuple of integers, one for each of the axes of the tensor rank.\n",
    "3. *Data type*.\n",
    "\n",
    "For example, we already did this before, but to make this concrete, for the MNIST dataset\n",
    "the `train_images` is a 3D or rank 3 tensor (before we flattened it).  Its shape is\n",
    "`(60000, 28, 28)` which translates to 60000 training images, each with 28 rows and 28\n",
    "columns of pixels.  And again before we transformed it, its data type was `unit8` which\n",
    "is an unsigned 8 bit integer."
   ]
  },
  {
   "cell_type": "code",
   "execution_count": 6,
   "id": "d5611417-700a-42a0-ace2-ce58e8b251b9",
   "metadata": {},
   "outputs": [
    {
     "name": "stderr",
     "output_type": "stream",
     "text": [
      "2025-05-22 20:38:06.367167: E external/local_xla/xla/stream_executor/cuda/cuda_fft.cc:467] Unable to register cuFFT factory: Attempting to register factory for plugin cuFFT when one has already been registered\n",
      "WARNING: All log messages before absl::InitializeLog() is called are written to STDERR\n",
      "E0000 00:00:1747946286.388028   38350 cuda_dnn.cc:8579] Unable to register cuDNN factory: Attempting to register factory for plugin cuDNN when one has already been registered\n",
      "E0000 00:00:1747946286.394454   38350 cuda_blas.cc:1407] Unable to register cuBLAS factory: Attempting to register factory for plugin cuBLAS when one has already been registered\n",
      "W0000 00:00:1747946286.408758   38350 computation_placer.cc:177] computation placer already registered. Please check linkage and avoid linking the same target more than once.\n",
      "W0000 00:00:1747946286.408798   38350 computation_placer.cc:177] computation placer already registered. Please check linkage and avoid linking the same target more than once.\n",
      "W0000 00:00:1747946286.408801   38350 computation_placer.cc:177] computation placer already registered. Please check linkage and avoid linking the same target more than once.\n",
      "W0000 00:00:1747946286.408815   38350 computation_placer.cc:177] computation placer already registered. Please check linkage and avoid linking the same target more than once.\n",
      "2025-05-22 20:38:06.414963: I tensorflow/core/platform/cpu_feature_guard.cc:210] This TensorFlow binary is optimized to use available CPU instructions in performance-critical operations.\n",
      "To enable the following instructions: AVX2 FMA, in other operations, rebuild TensorFlow with the appropriate compiler flags.\n"
     ]
    },
    {
     "name": "stdout",
     "output_type": "stream",
     "text": [
      "3\n",
      "(60000, 28, 28)\n",
      "uint8\n"
     ]
    }
   ],
   "source": [
    "# reload to get back the data before we transformed\n",
    "from tensorflow.keras.datasets import mnist\n",
    "(train_images, train_labels), (test_images, test_labels) = mnist.load_data()\n",
    "\n",
    "# 1. number of axes or rank of the training images tensor\n",
    "print( train_images.ndim )\n",
    "\n",
    "# 2. shape of the training images, e.g. number of values for each of the 3 dimensions\n",
    "print( train_images.shape )\n",
    "\n",
    "# 3. the data type, before transforming the data is originally 8 bit unsigned integers\n",
    "print( train_images.dtype )"
   ]
  },
  {
   "cell_type": "code",
   "execution_count": 7,
   "id": "2439a95d-5ec6-4311-b296-fed44c2a4f84",
   "metadata": {},
   "outputs": [
    {
     "name": "stdout",
     "output_type": "stream",
     "text": [
      "img_no: 4  label: 9\n"
     ]
    },
    {
     "data": {
      "image/png": "[encoded data removed]",
      "text/plain": [
       "<Figure size 1000x800 with 1 Axes>"
      ]
     },
     "metadata": {},
     "output_type": "display_data"
    }
   ],
   "source": [
    "# as we did above, we can manipulate Numpy arrays using slicing.  For example, if we want\n",
    "# to display the 4th image we can do the following\n",
    "img_no = 4\n",
    "print('img_no: %d  label: %d' % (img_no, train_labels[img_no]))\n",
    "\n",
    "img = train_images[img_no]\n",
    "plt.imshow(img, cmap=plt.cm.binary);"
   ]
  },
  {
   "cell_type": "markdown",
   "id": "6b9d1642-ba1e-41a1-916f-569387191a81",
   "metadata": {},
   "source": [
    "## 2.2.6 Manipulating Tensors in Numpy\n",
    "\n",
    "In the previous cells notice that we didn't specify the slice for all 3 dimensions.  It is assumed that if you don't\n",
    "specify slices on a dimension, you want all values for that dimension.  Thus in the previous example, we got\n",
    "the $28 \\times 28$ pixels for training image number 4.\n",
    "\n",
    "If we want to select a batch of images, we can use the same idea/trick in Python.  For example, to get\n",
    "images 10 through 100 (up to but not including image 100) we slice like this"
   ]
  },
  {
   "cell_type": "code",
   "execution_count": 8,
   "id": "195a5d7f-8bdd-4426-bce1-5a1804725734",
   "metadata": {},
   "outputs": [
    {
     "name": "stdout",
     "output_type": "stream",
     "text": [
      "(90, 28, 28)\n",
      "(90, 28, 28)\n",
      "(90, 28, 28)\n"
     ]
    }
   ],
   "source": [
    "my_slice = train_images[10:100]\n",
    "print( my_slice.shape )\n",
    "\n",
    "# equivalent to what we did before\n",
    "my_slice = train_images[10:100, :, :]\n",
    "print( my_slice.shape )\n",
    "\n",
    "\n",
    "# also equivalent to being explicit for each dimension\n",
    "my_slice = train_images[10:100, 0:28, 0:28]\n",
    "print( my_slice.shape )\n"
   ]
  },
  {
   "cell_type": "markdown",
   "id": "d17e856c-d700-4088-bb66-f111bb31b581",
   "metadata": {},
   "source": [
    "This type of array slicing in Python is very powerful.  Make sure you are comfortable with it and how to\n",
    "use it and how it work.  For example, as shown in the book, if we want the pixels in the bottom right of\n",
    "the images, we can do something like:"
   ]
  },
  {
   "cell_type": "code",
   "execution_count": 9,
   "id": "e38d66c8-1f24-449d-8d4b-829d522e2e6b",
   "metadata": {},
   "outputs": [
    {
     "name": "stdout",
     "output_type": "stream",
     "text": [
      "(14, 14)\n"
     ]
    },
    {
     "data": {
      "image/png": "[encoded data removed]",
      "text/plain": [
       "<Figure size 1000x800 with 1 Axes>"
      ]
     },
     "metadata": {},
     "output_type": "display_data"
    }
   ],
   "source": [
    "# different from text example, get only bottom right of image 4\n",
    "img = train_images[4, 14:, 14:]\n",
    "print( img.shape )\n",
    "plt.imshow(img, cmap=plt.cm.binary);"
   ]
  },
  {
   "cell_type": "code",
   "execution_count": 10,
   "id": "f03f5173-78a4-4df8-8d6f-8e90d693dc25",
   "metadata": {},
   "outputs": [
    {
     "name": "stdout",
     "output_type": "stream",
     "text": [
      "(14, 14)\n"
     ]
    },
    {
     "data": {
      "image/png": "[encoded data removed]",
      "text/plain": [
       "<Figure size 1000x800 with 1 Axes>"
      ]
     },
     "metadata": {},
     "output_type": "display_data"
    }
   ],
   "source": [
    "# same idea, but extract the middle 14x14 pixels of the image\n",
    "img = train_images[4, 7:-7, 7:-7]\n",
    "print( img.shape )\n",
    "plt.imshow(img, cmap=plt.cm.binary);"
   ]
  },
  {
   "cell_type": "markdown",
   "id": "c825a2fe-c3a0-4e7a-8e14-66adaec15cac",
   "metadata": {},
   "source": [
    "## 2.2.7 The Notion of Data Batches\n",
    "\n",
    "By convention, the first axis (axis 0) in all data tensors for machine learning will usally be the\n",
    "*samples axis* (sometimes called the *samples dimension*).  When doing batch training, we might also\n",
    "refer to this axis as the *batch dimension*.\n",
    "\n",
    "For batch learning, we train a model or network in batches.  Thus, like we did above, if we want to\n",
    "get a batch of the first 128 images we can do the following.  "
   ]
  },
  {
   "cell_type": "code",
   "execution_count": 11,
   "id": "b8d0cd5b-4301-41c5-9473-33676ad3caae",
   "metadata": {},
   "outputs": [
    {
     "name": "stdout",
     "output_type": "stream",
     "text": [
      "(128, 28, 28)\n"
     ]
    }
   ],
   "source": [
    "batch = train_images[:128]\n",
    "print( batch.shape )"
   ]
  },
  {
   "cell_type": "markdown",
   "id": "766a9299-d03c-404c-948b-7a4a19455102",
   "metadata": {},
   "source": [
    "Likewise we can get the next batch.  And we can get any arbitrary nth batch."
   ]
  },
  {
   "cell_type": "code",
   "execution_count": 12,
   "id": "64d7519e-2a4b-4f9b-a174-42f9063add0c",
   "metadata": {},
   "outputs": [
    {
     "name": "stdout",
     "output_type": "stream",
     "text": [
      "(128, 28, 28)\n",
      "(128, 28, 28)\n",
      "640 768\n"
     ]
    }
   ],
   "source": [
    "# 2nd batch\n",
    "batch = train_images[128:256]\n",
    "print( batch.shape )\n",
    "\n",
    "# nth batch\n",
    "n = 5\n",
    "batch = train_images[128 * n : 128 * (n + 1)]\n",
    "print( batch.shape )\n",
    "print( 128 * n, 128 * (n + 1) )"
   ]
  },
  {
   "cell_type": "markdown",
   "id": "9b18df03-2b67-434c-9a2b-3930b307ddbe",
   "metadata": {},
   "source": [
    "## 2.2.8 Real-World Examples of Data Tensors\n",
    "\n",
    "We will see examples of different types of data tensors in this class.  The data you'll manipulate will almost always fall\n",
    "into one of the following categories:\n",
    "\n",
    "- *vector data* - Rank-2 tensors of shape `(samples, features)`, where each sample is a vector of numerical attributes (\"features\")\n",
    "- *timeseries data* or *sequence data* - Rank-3 tensors of shape `(samples, timesteps, features)`, where each sample is a\n",
    "  sequence (of length `timesteps`) of feature vectors.\n",
    "- *images* - Rank-4 tensors of shape `(samples, height, width, channels)`, where each sample is a 2D grid of pixels, and each pixel\n",
    "  is represented by a vector of values (\"channels\")\n",
    "- *video* - Rank-5 tensors of shape `(samples, frames, height, widht, channels)`, where each sample is a sequence (of length `frames`)\n",
    "  of images\n",
    "\n",
    "In the following discussions, we will try and use some of the example datasets from the [Keras 3 API Datasets](https://keras.io/api/datasets/)."
   ]
  },
  {
   "cell_type": "markdown",
   "id": "6a969ccd-e3fd-4ff1-bd5d-8f295d94f283",
   "metadata": {},
   "source": [
    "## 2.2.9 Vector Data\n",
    "\n",
    "The most common case.  Each single sample can be encoded as a vector of measured features, thus a batch\n",
    "of data will be encoded as a rank-2 tensor, where the first axis is the *samples axis* and the second\n",
    "axis is the *features axis*.\n",
    "\n",
    "For example, the [California Housing](https://keras.io/api/datasets/california_housing/) dataset has\n",
    "20,640 samples where each sample has 8 different features of housing data for a county or\n",
    "political entity in California. "
   ]
  },
  {
   "cell_type": "code",
   "execution_count": 13,
   "id": "54c05b2d-dfa2-4973-b145-e6f56e58cfaf",
   "metadata": {},
   "outputs": [
    {
     "name": "stdout",
     "output_type": "stream",
     "text": [
      "(16512, 8)\n",
      "(4128, 8)\n"
     ]
    }
   ],
   "source": [
    "from tensorflow.keras.datasets import california_housing\n",
    "(x_train, y_train), (x_test, y_test) = california_housing.load_data()\n",
    "\n",
    "print(x_train.shape)\n",
    "print(x_test.shape)"
   ]
  },
  {
   "cell_type": "markdown",
   "id": "1ea6a4c2-0176-4e4d-9a63-aef6060ebcf1",
   "metadata": {},
   "source": [
    "So you should notice that the train and tests data each of 8 features in the second dimension.  The 20,640\n",
    "samples are split by default using an 80/20 percent train/test split, thus the total samples\n",
    "available is 16512 + 4128 = 20640.  The samples collected for sample 0 for the training data are:"
   ]
  },
  {
   "cell_type": "code",
   "execution_count": 14,
   "id": "dfb278ee-e329-495e-83ff-746b77ca2d69",
   "metadata": {},
   "outputs": [
    {
     "data": {
      "text/plain": [
       "array([-118.27  ,   34.09  ,   52.    , 2327.    ,  555.    , 1048.    ,\n",
       "        491.    ,    3.7847], dtype=float32)"
      ]
     },
     "execution_count": 14,
     "metadata": {},
     "output_type": "execute_result"
    }
   ],
   "source": [
    "x_train[0]"
   ]
  },
  {
   "cell_type": "markdown",
   "id": "b9548faf-4ad4-442d-87b6-6fdd5aca416c",
   "metadata": {},
   "source": [
    "## 2.2.10 Timeseries Data or Sequence Data\n",
    "\n",
    "Whenever time matters in the data it makes sense to store as a rank-3 tensor of shape `(samples, timesteps, features)`\n",
    "with an explicit time axis. For example a dataset of stock prices or tweets might need to be structured\n",
    "as time series data.  For example, if the california housing dataset had collected samples each year from\n",
    "1910 through 1990, we could represent this as a time series, where the `timesteps` would then correspond to the\n",
    "year collected, e.g. timestep 0 could be for year 1910, timestep 1 for 1911, etc.\n",
    "\n",
    "**TODO**: There isn't a timeseries dataset in the small tf/keras datasets, so maybe find another source here."
   ]
  },
  {
   "cell_type": "markdown",
   "id": "36c568b2-f10d-4cf5-83da-5d1eb8d12258",
   "metadata": {},
   "source": [
    "## 2.2.11 Image Data\n",
    "\n",
    "Images typically have 3 dimensions: height, width and color depth.  The MNIST digits we used before are image data, but they\n",
    "are greyscale images with only 1 color channel, thus they don't quite fit pattern of a Rank-4 tensor of shape\n",
    "`(samples, height, width, channels)`.\n",
    "\n",
    "For example, the `cifar10` dataset is a dataset of 50,0000 sample training images and 10,000 test imagesof shape 32x32 pixels.\n",
    "These are color images with 3 color channels, RGB (red, green and blue pixel intensities)."
   ]
  },
  {
   "cell_type": "code",
   "execution_count": 15,
   "id": "6101d52f-b56a-4e09-af5a-c892d7a7d251",
   "metadata": {},
   "outputs": [
    {
     "name": "stdout",
     "output_type": "stream",
     "text": [
      "(50000, 32, 32, 3)\n",
      "(10000, 32, 32, 3)\n"
     ]
    }
   ],
   "source": [
    "from tensorflow.keras.datasets import cifar10\n",
    "(x_train, y_train), (x_test, y_test) = cifar10.load_data()\n",
    "\n",
    "print(x_train.shape)\n",
    "print(x_test.shape)"
   ]
  },
  {
   "cell_type": "markdown",
   "id": "690091ff-52b8-46c1-b117-f119f052754a",
   "metadata": {},
   "source": [
    "So if we want to display one of these sampled color images, we can extract and display in a similar way\n",
    "as we did with the MNIST greyscale images."
   ]
  },
  {
   "cell_type": "code",
   "execution_count": 16,
   "id": "1addc40e-b21e-47ae-a86b-2d4ec54677f8",
   "metadata": {},
   "outputs": [
    {
     "data": {
      "image/png": "[encoded data removed]",
      "text/plain": [
       "<Figure size 1000x800 with 1 Axes>"
      ]
     },
     "metadata": {},
     "output_type": "display_data"
    }
   ],
   "source": [
    "# as we did above, we can manipulate Numpy arrays using slicing.  For example, if we want\n",
    "# to display the 4th image we can do the following\n",
    "img_no = 4\n",
    "\n",
    "img = x_train[img_no]\n",
    "plt.imshow(img);"
   ]
  },
  {
   "cell_type": "markdown",
   "id": "d74e61bb-945f-44ee-9dfa-257b7f057413",
   "metadata": {},
   "source": [
    "## 2.2.12 Video Data"
   ]
  },
  {
   "cell_type": "markdown",
   "id": "e1c9b9a5-f337-4f04-957a-cc99d3f16734",
   "metadata": {},
   "source": [
    "Video data needs a rank-5 tensor because in the form we usually use for deep learning training, it is basically\n",
    "represented as a timeseries of color images.  So if you followed the previous discussions about timeseries data\n",
    "and color image data, you can see we need to add in a `timestamp` or `framenum` dimension, e.g. as\n",
    "we mentioned before the rank-5 tensor has a shape of `(samples, frames, height, width, channels)`.\n",
    "\n",
    "For instance, a 60-second, 144x256 YouTube video clip sampled at 30 frames per second would need 1800 frames.\n",
    "A batch of four such sampled video clips would be stored in a tensor of shape \n",
    "`(4, 1800, 144, 256, 3)`.  Thats a total of 796,262,400 values.  If we use a full `float32` for each pixel\n",
    "RGB value, the tensor would need 3 GB to hold these 4 video samples.  Videos you encounter in real life\n",
    "are much lighter, because they aren't stored in `float32`, and they're typically compressed by a large\n",
    "factor (such as in the MPEG format)."
   ]
  }
 ],
 "metadata": {
  "kernelspec": {
   "display_name": "Python 3 (ipykernel)",
   "language": "python",
   "name": "python3"
  },
  "language_info": {
   "codemirror_mode": {
    "name": "ipython",
    "version": 3
   },
   "file_extension": ".py",
   "mimetype": "text/x-python",
   "name": "python",
   "nbconvert_exporter": "python",
   "pygments_lexer": "ipython3",
   "version": "3.12.7"
  }
 },
 "nbformat": 4,
 "nbformat_minor": 5
}
