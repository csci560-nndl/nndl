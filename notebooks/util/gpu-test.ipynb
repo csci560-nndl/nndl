{
 "cells": [
  {
   "cell_type": "code",
   "execution_count": null,
   "id": "f63472c6-4d1e-46da-a643-03b13328ccb8",
   "metadata": {},
   "outputs": [],
   "source": [
    "# suppress tensorflow logging, usually not useful unless you are having problems with tensorflow or accessing gput\n",
    "# it seems necessary to have this environment variable set before tensorflow is imported, or else it doesn't take effect\n",
    "import os\n",
    "os.environ['TF_CPP_MIN_LOG_LEVEL'] = '3' \n",
    "\n",
    "import numpy as np\n",
    "import pandas as pd\n",
    "import matplotlib.pyplot as plt\n",
    "import tensorflow as tf"
   ]
  },
  {
   "cell_type": "markdown",
   "id": "22c1a8e7-423a-40b4-834f-f849115a98cd",
   "metadata": {},
   "source": [
    "# Check GPU Status / Availability\n",
    "\n",
    "On linux systems you can and should use the `nvidia-smi` tool to check that the gpu is visible, is active and has drivers installed.  You can run the command from a terminal like the following cell.\n",
    "\n",
    "I also find the following commands useful to monitor the gpu performance from the command line\n",
    "\n",
    "```\n",
    "# use watch so basic nvidia-smi redraws at top of screen each second\n",
    "$ watch -n 1 nvidia-smi\n",
    "\n",
    "# nvtop is basiclly like top for nvidia gpu\n",
    "$ sudo apt install nvtop\n",
    "$ nvtop\n",
    "\n",
    "# nvitop is similar, gives about same information, but some may prefer this one\n",
    "$ sudo apt install nvitop\n",
    "$ nvitop\n",
    "```"
   ]
  },
  {
   "cell_type": "code",
   "execution_count": null,
   "id": "74f912d3-c6c4-404f-923b-de156fbf4d3b",
   "metadata": {},
   "outputs": [],
   "source": [
    "!nvidia-smi"
   ]
  },
  {
   "cell_type": "markdown",
   "id": "f5c7e783-5fe7-4c8f-a300-a11566951db3",
   "metadata": {},
   "source": [
    "# GPU to TF/Keras Availability\n",
    "\n",
    "We can check that tensorflow recognizes the presence of a GPU device as follows."
   ]
  },
  {
   "cell_type": "code",
   "execution_count": null,
   "id": "e2752170-d816-4872-bded-3e816190882a",
   "metadata": {},
   "outputs": [],
   "source": [
    "print('Available Devices : ', tf.config.list_physical_devices())\n",
    "print('Num GPUs Available: ', len(tf.config.list_physical_devices('GPU')))"
   ]
  },
  {
   "cell_type": "markdown",
   "id": "df44235d-186d-4cad-aada-5e25bb9e7057",
   "metadata": {},
   "source": [
    "# Test Training Performance with only CPU\n",
    "\n",
    "We can compare performance with and without the gpu.  First we will train a model using only the cpu and record time it takes to train model.  We just train a simple dens NN on mnist data to test \n",
    "performance on fitting a model."
   ]
  },
  {
   "cell_type": "code",
   "execution_count": null,
   "id": "928d7ec7-1d8a-4908-9028-1c5298a7a607",
   "metadata": {},
   "outputs": [],
   "source": [
    "mnist = tf.keras.datasets.mnist\n",
    "\n",
    "(x_train, y_train), (x_test, y_test) = mnist.load_data()\n",
    "x_train, x_test = x_train / 255.0, x_test / 255.0\n",
    "\n",
    "\n",
    "loss_fn = tf.keras.losses.SparseCategoricalCrossentropy(from_logits=True)\n",
    "\n",
    "with tf.device('/CPU:0'):\n",
    "    model_cpu_base = tf.keras.models.Sequential([\n",
    "      tf.keras.layers.Flatten(input_shape=(28, 28)),\n",
    "      tf.keras.layers.Dense(1024, activation='relu'),\n",
    "      tf.keras.layers.Dropout(0.2),\n",
    "      tf.keras.layers.Dense(10)\n",
    "    ])\n"
   ]
  },
  {
   "cell_type": "code",
   "execution_count": null,
   "id": "3ba6b540-be52-4507-9daa-32f9fb1acb04",
   "metadata": {},
   "outputs": [],
   "source": [
    "def fit_cpu():\n",
    "    with tf.device('/CPU:0'):\n",
    "        model_cpu = tf.keras.models.clone_model(model_cpu_base)\n",
    "        model_cpu.compile(optimizer='adam',\n",
    "                      loss=loss_fn,\n",
    "                      metrics=['accuracy'])\n",
    "        model_cpu.fit(x_train, y_train, epochs=5)\n",
    "        print('=' * 70)\n",
    "        \n",
    "%timeit fit_cpu()"
   ]
  },
  {
   "cell_type": "markdown",
   "id": "21646448-0830-4a22-8c8f-d0481340cc76",
   "metadata": {},
   "source": [
    "# Test Training Performance with GPU\n",
    "\n",
    "Now do same model and fit it on the gpu device."
   ]
  },
  {
   "cell_type": "code",
   "execution_count": null,
   "id": "12d0dccb-3c10-41fa-8903-2c01cdaab1ec",
   "metadata": {},
   "outputs": [],
   "source": [
    "# recreate a random starting model and compile it\n",
    "with tf.device('/GPU:0'):\n",
    "    model_gpu_base = tf.keras.models.Sequential([\n",
    "      tf.keras.layers.Flatten(input_shape=(28, 28)),\n",
    "      tf.keras.layers.Dense(1024, activation='relu'),\n",
    "      tf.keras.layers.Dropout(0.2),\n",
    "      tf.keras.layers.Dense(10)\n",
    "    ])\n"
   ]
  },
  {
   "cell_type": "code",
   "execution_count": null,
   "id": "5406f40a-6bf1-4ab7-9477-6b0b7c8ea7c5",
   "metadata": {},
   "outputs": [],
   "source": [
    "def fit_gpu():\n",
    "    with tf.device('/GPU:0'):\n",
    "        model_gpu = tf.keras.models.clone_model(model_gpu_base)\n",
    "        model_gpu.compile(optimizer='adam',\n",
    "                      loss=loss_fn,\n",
    "                      metrics=['accuracy'])\n",
    "        model_gpu.fit(x_train, y_train, epochs=5)\n",
    "        print('=' * 70)\n",
    "\n",
    "%timeit fit_gpu()"
   ]
  },
  {
   "cell_type": "code",
   "execution_count": null,
   "id": "dd16c07a-027e-4119-9d7a-959ddf914a77",
   "metadata": {},
   "outputs": [],
   "source": []
  }
 ],
 "metadata": {
  "kernelspec": {
   "display_name": "Python 3 (ipykernel)",
   "language": "python",
   "name": "python3"
  },
  "language_info": {
   "codemirror_mode": {
    "name": "ipython",
    "version": 3
   },
   "file_extension": ".py",
   "mimetype": "text/x-python",
   "name": "python",
   "nbconvert_exporter": "python",
   "pygments_lexer": "ipython3",
   "version": "3.12.7"
  }
 },
 "nbformat": 4,
 "nbformat_minor": 5
}
