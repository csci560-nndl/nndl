{
 "cells": [
  {
   "cell_type": "code",
   "execution_count": 1,
   "metadata": {},
   "outputs": [],
   "source": [
    "import numpy as np\n",
    "import matplotlib.pyplot as plt\n",
    "%matplotlib inline"
   ]
  },
  {
   "cell_type": "code",
   "execution_count": 2,
   "metadata": {},
   "outputs": [],
   "source": [
    "plt.rcParams['figure.figsize'] = (10, 8) # set default figure size, 10in by 8in"
   ]
  },
  {
   "cell_type": "markdown",
   "metadata": {
    "jp-MarkdownHeadingCollapsed": true,
    "tags": []
   },
   "source": [
    "# Chapter 2: The Mathematical Building Blocks of Neural Networks\n",
    "\n",
    "Supporting materials for:\n",
    "\n",
    "Chollet (2021). *Deep Learning with Python*. 2nd ed. Manning Publications Co.\n",
    "[Amazon](https://www.amazon.com/Learning-Python-Second-Fran%C3%A7ois-Chollet/dp/1617296864/ref=sr_1_1?crid=32NFM2SBCJVQQ)\n",
    "\n",
    "Understanding deep learning requires familiarity with many simple mathematical\n",
    "concepts: tensors, tensor operations, differentiation, gradient descent, and so on.\n",
    "Out goal in this notebook/chapter is to build up your intiution about these mathematical\n",
    "concepts without getting over technical.\n",
    "\n",
    "One note about the term tensors.  **Tensor** is a mathematical term that simply can be used to refer\n",
    "to a matrix of values, no matter how many dimensions.  Thus a 1-dimensional vector or a 2-dimensional\n",
    "matrix are both *Tensors*, as well as 3-dimensional or higher matrices.  Vectorized programming\n",
    "could also be referred to as tensor programming, but the term vectorized programming was coined\n",
    "before the term tensor was in common use.  Another difference is that the term Tensor programming\n",
    "and Tensor libraries have come to mean the types of vectorized or tensor operations we usually think of, but\n",
    "it also includes libraries that can automatically differentiate such tensors with respect to\n",
    "a loss function.  We will get to these concepts in a bit more detail below.\n",
    "\n"
   ]
  },
  {
   "cell_type": "markdown",
   "metadata": {
    "tags": []
   },
   "source": [
    "# 2.1 A First Look at a Neural Network\n",
    "\n",
    "You will need to have Keras and its dependencies installed before you can run the next example cell.  If you\n",
    "are using the Anaconda Python distribution as recommended, from a command line you can simply do\n",
    "\n",
    "```\n",
    "$ conda install keras\n",
    "```\n",
    "\n",
    "to install the `keras` library, `tensorflow` and all other needed dependencies.  You can also use the Anaconda\n",
    "package management system of Anaconda to install the Keras library and required dependencies as well.\n",
    "\n",
    "The following command loads the MNIST dataset.  This dataset has been referred to as the *fruit fly* model\n",
    "of vision machine learning, and is often used as a benchmark for doing neural network and deep learning\n",
    "examples.\n",
    "\n",
    "The dataset is still relatively big, despite being used for learning, so it actually downloads the\n",
    "data for you.  The result of loading the data is a set of `NumPy` n-dimensional arrays (Tensors)\n",
    "holding the images and the labeles of the data."
   ]
  },
  {
   "cell_type": "code",
   "execution_count": 3,
   "metadata": {},
   "outputs": [
    {
     "name": "stderr",
     "output_type": "stream",
     "text": [
      "2023-07-11 14:39:30.630339: I tensorflow/stream_executor/platform/default/dso_loader.cc:49] Successfully opened dynamic library libcudart.so.10.1\n"
     ]
    }
   ],
   "source": [
    "from tensorflow.keras.datasets import mnist"
   ]
  },
  {
   "cell_type": "code",
   "execution_count": 4,
   "metadata": {},
   "outputs": [],
   "source": [
    "(train_images, train_labels), (test_images, test_labels) = mnist.load_data()"
   ]
  },
  {
   "cell_type": "markdown",
   "metadata": {},
   "source": [
    "`train_images` and `train_labels` hold the *training set*, the data the model will learn from.  The model\n",
    "should be tested on the other *test set* data, `test_images` and `test_labels`.\n",
    "\n",
    "The images and labels are encoded as Numpy arrays.  Lets look at them."
   ]
  },
  {
   "cell_type": "code",
   "execution_count": 5,
   "metadata": {},
   "outputs": [
    {
     "name": "stdout",
     "output_type": "stream",
     "text": [
      "Training images information:\n",
      "<class 'numpy.ndarray'>\n",
      "(60000, 28, 28)\n",
      "uint8\n",
      "\n",
      "Training labels information:\n",
      "<class 'numpy.ndarray'>\n",
      "(60000,)\n",
      "uint8\n",
      "[5 0 4 ... 5 6 8]\n"
     ]
    }
   ],
   "source": [
    "print ('Training images information:')\n",
    "print( type(train_images) )\n",
    "print( train_images.shape )\n",
    "print( train_images.dtype )\n",
    "\n",
    "print('')\n",
    "print('Training labels information:')\n",
    "print( type(train_labels) )\n",
    "print( train_labels.shape )\n",
    "print( train_labels.dtype )\n",
    "print( train_labels )"
   ]
  },
  {
   "cell_type": "markdown",
   "metadata": {},
   "source": [
    "Notice that this is a Numpy `ndarray` object, which is used to hold arbitrary n-dimensional arrays (e.g. Tensors).\n",
    "There are 60000 images in the training data.  Each image is of shape $28 \\times 28$, and is an 8 bit integer \n",
    "giving a grey scale value from 0 to 255 for each of the pixels of the image.\n",
    "\n",
    "The labels are simple integer values, from 0-9 giving the label or class for each of the images.\n",
    "\n",
    "The test data is similar, but it consists of 10000 different images that can be used for testing.\n",
    "\n",
    "Our textbook doesn't show this, but we can visualize the images if we want.  For example, the 0th training\n",
    "image is labeled as a 5.  We can interpret the values in the $28 x 28$ array as greyscale pixel values\n",
    "like this:"
   ]
  },
  {
   "cell_type": "code",
   "execution_count": 6,
   "metadata": {},
   "outputs": [
    {
     "data": {
      "image/png": "[encoded data removed]",
      "text/plain": [
       "<Figure size 1000x800 with 1 Axes>"
      ]
     },
     "metadata": {},
     "output_type": "display_data"
    }
   ],
   "source": [
    "# make a slice of the 28x28 pixel values of training image 0\n",
    "img = train_images[0,:,:]\n",
    "\n",
    "# display the imge using matplotlib\n",
    "plt.imshow(img, cmap='gray');"
   ]
  },
  {
   "cell_type": "markdown",
   "metadata": {},
   "source": [
    "As you can probably infer from this, the MNIST data set is a set of handwritten digits.  All digits have\n",
    "been converted to greyscale representations and scaled to be $28 \\times 28$ pixels in size.  "
   ]
  },
  {
   "cell_type": "markdown",
   "metadata": {},
   "source": [
    "Lets build the example network and train it as shown in our textbook."
   ]
  },
  {
   "cell_type": "code",
   "execution_count": 7,
   "metadata": {},
   "outputs": [
    {
     "name": "stderr",
     "output_type": "stream",
     "text": [
      "2023-07-11 14:39:32.236169: I tensorflow/compiler/jit/xla_cpu_device.cc:41] Not creating XLA devices, tf_xla_enable_xla_devices not set\n",
      "2023-07-11 14:39:32.237263: I tensorflow/stream_executor/platform/default/dso_loader.cc:49] Successfully opened dynamic library libcuda.so.1\n",
      "2023-07-11 14:39:32.282740: I tensorflow/stream_executor/cuda/cuda_gpu_executor.cc:941] successful NUMA node read from SysFS had negative value (-1), but there must be at least one NUMA node, so returning NUMA node zero\n",
      "2023-07-11 14:39:32.282993: I tensorflow/core/common_runtime/gpu/gpu_device.cc:1720] Found device 0 with properties: \n",
      "pciBusID: 0000:01:00.0 name: Quadro M2200 computeCapability: 5.2\n",
      "coreClock: 1.036GHz coreCount: 8 deviceMemorySize: 3.95GiB deviceMemoryBandwidth: 82.08GiB/s\n",
      "2023-07-11 14:39:32.283012: I tensorflow/stream_executor/platform/default/dso_loader.cc:49] Successfully opened dynamic library libcudart.so.10.1\n",
      "2023-07-11 14:39:32.284497: I tensorflow/stream_executor/platform/default/dso_loader.cc:49] Successfully opened dynamic library libcublas.so.10\n",
      "2023-07-11 14:39:32.284527: I tensorflow/stream_executor/platform/default/dso_loader.cc:49] Successfully opened dynamic library libcublasLt.so.10\n",
      "2023-07-11 14:39:32.285706: I tensorflow/stream_executor/platform/default/dso_loader.cc:49] Successfully opened dynamic library libcufft.so.10\n",
      "2023-07-11 14:39:32.286065: I tensorflow/stream_executor/platform/default/dso_loader.cc:49] Successfully opened dynamic library libcurand.so.10\n",
      "2023-07-11 14:39:32.287482: I tensorflow/stream_executor/platform/default/dso_loader.cc:49] Successfully opened dynamic library libcusolver.so.10\n",
      "2023-07-11 14:39:32.288117: I tensorflow/stream_executor/platform/default/dso_loader.cc:49] Successfully opened dynamic library libcusparse.so.10\n",
      "2023-07-11 14:39:32.291769: I tensorflow/stream_executor/platform/default/dso_loader.cc:49] Successfully opened dynamic library libcudnn.so.7\n",
      "2023-07-11 14:39:32.291892: I tensorflow/stream_executor/cuda/cuda_gpu_executor.cc:941] successful NUMA node read from SysFS had negative value (-1), but there must be at least one NUMA node, so returning NUMA node zero\n",
      "2023-07-11 14:39:32.292207: I tensorflow/stream_executor/cuda/cuda_gpu_executor.cc:941] successful NUMA node read from SysFS had negative value (-1), but there must be at least one NUMA node, so returning NUMA node zero\n",
      "2023-07-11 14:39:32.292441: I tensorflow/core/common_runtime/gpu/gpu_device.cc:1862] Adding visible gpu devices: 0\n",
      "2023-07-11 14:39:32.292854: I tensorflow/core/platform/cpu_feature_guard.cc:142] This TensorFlow binary is optimized with oneAPI Deep Neural Network Library (oneDNN) to use the following CPU instructions in performance-critical operations:  SSE4.1 SSE4.2 AVX AVX2 FMA\n",
      "To enable them in other operations, rebuild TensorFlow with the appropriate compiler flags.\n",
      "2023-07-11 14:39:32.293480: I tensorflow/compiler/jit/xla_gpu_device.cc:99] Not creating XLA devices, tf_xla_enable_xla_devices not set\n",
      "2023-07-11 14:39:32.293627: I tensorflow/stream_executor/cuda/cuda_gpu_executor.cc:941] successful NUMA node read from SysFS had negative value (-1), but there must be at least one NUMA node, so returning NUMA node zero\n",
      "2023-07-11 14:39:32.293895: I tensorflow/core/common_runtime/gpu/gpu_device.cc:1720] Found device 0 with properties: \n",
      "pciBusID: 0000:01:00.0 name: Quadro M2200 computeCapability: 5.2\n",
      "coreClock: 1.036GHz coreCount: 8 deviceMemorySize: 3.95GiB deviceMemoryBandwidth: 82.08GiB/s\n",
      "2023-07-11 14:39:32.293928: I tensorflow/stream_executor/platform/default/dso_loader.cc:49] Successfully opened dynamic library libcudart.so.10.1\n",
      "2023-07-11 14:39:32.293952: I tensorflow/stream_executor/platform/default/dso_loader.cc:49] Successfully opened dynamic library libcublas.so.10\n",
      "2023-07-11 14:39:32.293985: I tensorflow/stream_executor/platform/default/dso_loader.cc:49] Successfully opened dynamic library libcublasLt.so.10\n",
      "2023-07-11 14:39:32.294001: I tensorflow/stream_executor/platform/default/dso_loader.cc:49] Successfully opened dynamic library libcufft.so.10\n",
      "2023-07-11 14:39:32.294017: I tensorflow/stream_executor/platform/default/dso_loader.cc:49] Successfully opened dynamic library libcurand.so.10\n",
      "2023-07-11 14:39:32.294032: I tensorflow/stream_executor/platform/default/dso_loader.cc:49] Successfully opened dynamic library libcusolver.so.10\n",
      "2023-07-11 14:39:32.294049: I tensorflow/stream_executor/platform/default/dso_loader.cc:49] Successfully opened dynamic library libcusparse.so.10\n",
      "2023-07-11 14:39:32.294065: I tensorflow/stream_executor/platform/default/dso_loader.cc:49] Successfully opened dynamic library libcudnn.so.7\n",
      "2023-07-11 14:39:32.294150: I tensorflow/stream_executor/cuda/cuda_gpu_executor.cc:941] successful NUMA node read from SysFS had negative value (-1), but there must be at least one NUMA node, so returning NUMA node zero\n",
      "2023-07-11 14:39:32.294436: I tensorflow/stream_executor/cuda/cuda_gpu_executor.cc:941] successful NUMA node read from SysFS had negative value (-1), but there must be at least one NUMA node, so returning NUMA node zero\n",
      "2023-07-11 14:39:32.294663: I tensorflow/core/common_runtime/gpu/gpu_device.cc:1862] Adding visible gpu devices: 0\n",
      "2023-07-11 14:39:32.294697: I tensorflow/stream_executor/platform/default/dso_loader.cc:49] Successfully opened dynamic library libcudart.so.10.1\n",
      "2023-07-11 14:39:32.731377: I tensorflow/core/common_runtime/gpu/gpu_device.cc:1261] Device interconnect StreamExecutor with strength 1 edge matrix:\n",
      "2023-07-11 14:39:32.731400: I tensorflow/core/common_runtime/gpu/gpu_device.cc:1267]      0 \n",
      "2023-07-11 14:39:32.731405: I tensorflow/core/common_runtime/gpu/gpu_device.cc:1280] 0:   N \n",
      "2023-07-11 14:39:32.731579: I tensorflow/stream_executor/cuda/cuda_gpu_executor.cc:941] successful NUMA node read from SysFS had negative value (-1), but there must be at least one NUMA node, so returning NUMA node zero\n",
      "2023-07-11 14:39:32.731852: I tensorflow/stream_executor/cuda/cuda_gpu_executor.cc:941] successful NUMA node read from SysFS had negative value (-1), but there must be at least one NUMA node, so returning NUMA node zero\n",
      "2023-07-11 14:39:32.732079: I tensorflow/stream_executor/cuda/cuda_gpu_executor.cc:941] successful NUMA node read from SysFS had negative value (-1), but there must be at least one NUMA node, so returning NUMA node zero\n",
      "2023-07-11 14:39:32.732347: I tensorflow/core/common_runtime/gpu/gpu_device.cc:1406] Created TensorFlow device (/job:localhost/replica:0/task:0/device:GPU:0 with 2812 MB memory) -> physical GPU (device: 0, name: Quadro M2200, pci bus id: 0000:01:00.0, compute capability: 5.2)\n"
     ]
    }
   ],
   "source": [
    "from tensorflow import keras\n",
    "from tensorflow.keras import layers\n",
    "\n",
    "# create a full model with a dense layer and activation layer\n",
    "model = keras.Sequential([\n",
    "    layers.Dense(512, activation=\"relu\"),\n",
    "    layers.Dense(10, activation=\"softmax\")\n",
    "])"
   ]
  },
  {
   "cell_type": "markdown",
   "metadata": {},
   "source": [
    "We described a bit some of the things in the previous example in the code comments.  A networks consists of\n",
    "a sequence of layers.  We added 2 `Dense` layers to the network we are going to train.  A `Dense` layer\n",
    "is a fully connected layer, all inputs to the layer are fully connected to each output of the layer.\n",
    "\n",
    "We will talk about the activation functions in more detail later.\n",
    "Notice that the first layer uses an 'relu' activation\n",
    "function, while the second layer uses a 'softmax' activation function.\n",
    "A 20-way *softmax* layer means that this layer will return an array of 10 probability\n",
    "scores (summing to 1).  Each score will represent the probability that the current\n",
    "image belongs to one of the 10 output labels.\n",
    "\n",
    "To make the network ready for training we need to pick 3 more things.\n",
    "\n",
    "1. A *loss function* - How the network will measure its performance\n",
    "2. An *optimizer* - The mechanism through wich the network updates itself\n",
    "3. *Metrics to monitor* during training and testing."
   ]
  },
  {
   "cell_type": "code",
   "execution_count": 8,
   "metadata": {},
   "outputs": [],
   "source": [
    "model.compile(optimizer='rmsprop',\n",
    "              loss='categorical_crossentropy',\n",
    "              metrics=['accuracy'])"
   ]
  },
  {
   "cell_type": "markdown",
   "metadata": {},
   "source": [
    "Before training we need to do a bit of preprocessing.  For example, the input_shape is actually flat,\n",
    "it doesn't expect a 2-dimensional input, but a 1-dimensional input of size $28 \\times 28 = 784$ inputs.\n",
    "Also the keras network will expect floating point values as inputs by default.\n",
    "\n",
    "We can easily perform both of these transformations using Numpy functions"
   ]
  },
  {
   "cell_type": "code",
   "execution_count": 9,
   "metadata": {},
   "outputs": [
    {
     "name": "stdout",
     "output_type": "stream",
     "text": [
      "(60000, 784)\n",
      "float32\n"
     ]
    }
   ],
   "source": [
    "# flatten the 2-d images to 1-d of 784 inputs\n",
    "train_images = train_images.reshape((60000, 28 * 28))\n",
    "\n",
    "# transform the greyscale integer values to floats for input\n",
    "train_images = train_images.astype('float32') / 255.0\n",
    "\n",
    "# show results\n",
    "print( train_images.shape )\n",
    "print( train_images.dtype )\n",
    "\n",
    "# transform the test images as well in the same way while we are at it\n",
    "test_images = test_images.reshape((10000, 28 * 28))\n",
    "test_images = test_images.astype('float32') / 255.0\n"
   ]
  },
  {
   "cell_type": "markdown",
   "metadata": {},
   "source": [
    "Preparing the labels.  The following was needed in 1st edition, but was not shown\n",
    "in second edition of book.  Not sure if keras version is supposed to recognize\n",
    "categorical labels like this and do the right thing in more recent versions?\n"
   ]
  },
  {
   "cell_type": "code",
   "execution_count": 10,
   "metadata": {},
   "outputs": [
    {
     "name": "stdout",
     "output_type": "stream",
     "text": [
      "(60000, 10)\n"
     ]
    }
   ],
   "source": [
    "from tensorflow.keras.utils import to_categorical\n",
    "\n",
    "train_labels = to_categorical(train_labels)\n",
    "test_labels = to_categorical(test_labels)\n",
    "\n",
    "print( train_labels.shape )"
   ]
  },
  {
   "cell_type": "markdown",
   "metadata": {},
   "source": [
    "And we are now reaty to train the network.  The `fit()` method will train the network, using the\n",
    "given training data, for the number of iterations specified.  The loss function and optimization\n",
    "methods that were specified previously are used for the training."
   ]
  },
  {
   "cell_type": "code",
   "execution_count": 11,
   "metadata": {},
   "outputs": [
    {
     "name": "stdout",
     "output_type": "stream",
     "text": [
      "Epoch 1/5\n"
     ]
    },
    {
     "name": "stderr",
     "output_type": "stream",
     "text": [
      "2023-07-11 14:39:32.989406: I tensorflow/compiler/mlir/mlir_graph_optimization_pass.cc:116] None of the MLIR optimization passes are enabled (registered 2)\n",
      "2023-07-11 14:39:32.989801: I tensorflow/core/platform/profile_utils/cpu_utils.cc:112] CPU Frequency: 3000000000 Hz\n"
     ]
    },
    {
     "name": "stdout",
     "output_type": "stream",
     "text": [
      " 22/469 [>.............................] - ETA: 1s - loss: 1.3537 - accuracy: 0.5643  "
     ]
    },
    {
     "name": "stderr",
     "output_type": "stream",
     "text": [
      "2023-07-11 14:39:33.289346: I tensorflow/stream_executor/platform/default/dso_loader.cc:49] Successfully opened dynamic library libcublas.so.10\n"
     ]
    },
    {
     "name": "stdout",
     "output_type": "stream",
     "text": [
      "469/469 [==============================] - 1s 2ms/step - loss: 0.4315 - accuracy: 0.8744\n",
      "Epoch 2/5\n",
      "469/469 [==============================] - 1s 2ms/step - loss: 0.1119 - accuracy: 0.9661\n",
      "Epoch 3/5\n",
      "469/469 [==============================] - 1s 2ms/step - loss: 0.0721 - accuracy: 0.9793\n",
      "Epoch 4/5\n",
      "469/469 [==============================] - 1s 2ms/step - loss: 0.0471 - accuracy: 0.9858\n",
      "Epoch 5/5\n",
      "469/469 [==============================] - 1s 2ms/step - loss: 0.0363 - accuracy: 0.9893\n"
     ]
    }
   ],
   "source": [
    "model.fit(train_images, train_labels, epochs=5, batch_size=128);"
   ]
  },
  {
   "cell_type": "markdown",
   "metadata": {},
   "source": [
    "Notice that the measure of the loss and the accuracy are trained.  Recall that the loss function\n",
    "is what is actually used to change the weights to improve the model.  You should\n",
    "see that loss decreases.  Weights in the layers are initialized to random values, as mentioned\n",
    "in our textbook, so your results can vary a bit.  But you should typically see that we get\n",
    "over 98% accuracy on the training data after only 5 epochs of training.\n",
    "\n",
    "But the true test is how well the trained network does on data it has not seen before.  We\n",
    "can evaluate the performance on the test data like this:"
   ]
  },
  {
   "cell_type": "markdown",
   "metadata": {},
   "source": [
    "Use the model to make some predictions."
   ]
  },
  {
   "cell_type": "code",
   "execution_count": 12,
   "metadata": {},
   "outputs": [
    {
     "data": {
      "text/plain": [
       "array([6.6588801e-09, 2.6760483e-10, 6.2180629e-07, 8.9596269e-06,\n",
       "       1.4793192e-12, 4.6562261e-09, 1.0094153e-14, 9.9999034e-01,\n",
       "       3.8255600e-08, 8.6683215e-08], dtype=float32)"
      ]
     },
     "execution_count": 12,
     "metadata": {},
     "output_type": "execute_result"
    }
   ],
   "source": [
    "test_digits = test_images[0:10]\n",
    "predictions = model.predict(test_digits)\n",
    "predictions[0]"
   ]
  },
  {
   "cell_type": "code",
   "execution_count": 13,
   "metadata": {},
   "outputs": [
    {
     "name": "stdout",
     "output_type": "stream",
     "text": [
      "[0. 0. 0. 0. 0. 0. 0. 1. 0. 0.]\n"
     ]
    }
   ],
   "source": [
    "print( test_labels[0] )"
   ]
  },
  {
   "cell_type": "code",
   "execution_count": 14,
   "metadata": {},
   "outputs": [
    {
     "data": {
      "text/plain": [
       "7"
      ]
     },
     "execution_count": 14,
     "metadata": {},
     "output_type": "execute_result"
    }
   ],
   "source": [
    "predictions[0].argmax()"
   ]
  },
  {
   "cell_type": "code",
   "execution_count": 15,
   "metadata": {},
   "outputs": [
    {
     "data": {
      "text/plain": [
       "0.99999034"
      ]
     },
     "execution_count": 15,
     "metadata": {},
     "output_type": "execute_result"
    }
   ],
   "source": [
    "predictions[0][7]"
   ]
  },
  {
   "cell_type": "markdown",
   "metadata": {},
   "source": [
    "Evaluate the model on new test data, compute accuracy."
   ]
  },
  {
   "cell_type": "code",
   "execution_count": 16,
   "metadata": {},
   "outputs": [
    {
     "name": "stdout",
     "output_type": "stream",
     "text": [
      "313/313 [==============================] - 1s 1ms/step - loss: 0.0670 - accuracy: 0.9809\n",
      "test_loss:  0.0669705718755722\n",
      "test_acc:   0.98089998960495\n"
     ]
    }
   ],
   "source": [
    "test_loss, test_acc = model.evaluate(test_images, test_labels)\n",
    "print('test_loss: ', test_loss)\n",
    "print('test_acc:  ', test_acc)"
   ]
  },
  {
   "cell_type": "markdown",
   "metadata": {},
   "source": [
    "Typically the test accuraccy will be a bit lower, but still pretty close to 98%."
   ]
  },
  {
   "cell_type": "markdown",
   "metadata": {},
   "source": [
    "# 2.2 Data Representations for Neural Networks\n",
    "\n",
    "In general, all current machine-learning systems and libraries use tensors as their basic data structure.\n",
    "As we mentioned a Numpy `ndarray` which holds an arbitrary n-dimensional array, is also known as a *tensor*.\n",
    "\n",
    "At its core a tensor is a container for data, all numerical and all of the same type.  So it is a container\n",
    "for numbers.\n",
    "\n",
    "## 2.2.1 Scalars (0D tensors)\n",
    "\n",
    "A tensor that contains only 1 number is called a *scalar*.  You can display the number of axes of a Numpy\n",
    "tensor via the `ndim` attribute.  A scalar tensor has 0 axes (`ndim == 0`).  The number of axes of a\n",
    "tensor is also called its rank."
   ]
  },
  {
   "cell_type": "code",
   "execution_count": 17,
   "metadata": {},
   "outputs": [
    {
     "name": "stdout",
     "output_type": "stream",
     "text": [
      "12\n",
      "0\n"
     ]
    }
   ],
   "source": [
    "x = np.array(12)\n",
    "print(x)\n",
    "print(x.ndim)"
   ]
  },
  {
   "cell_type": "markdown",
   "metadata": {},
   "source": [
    "## 2.2.2 Vectors (1D tensors)\n",
    "\n",
    "A tensor with 1 axis is also called a *vector*.  The rank or number of dimensions is different from the\n",
    "number of entries.  Unfortunately, and confusingly, in mathematics the following matrix can be referred\n",
    "to as a 4-dimensional vector.  *Dimensionality* can denote eiather the number of entries along a specific\n",
    "axis, or the number of axes in a tensor, which can be confusing.  We will try and be careful in this course\n",
    "to differentiate this, but you will see this usage both ways in different places."
   ]
  },
  {
   "cell_type": "code",
   "execution_count": 18,
   "metadata": {},
   "outputs": [
    {
     "name": "stdout",
     "output_type": "stream",
     "text": [
      "[12  3  6 14]\n",
      "1\n",
      "(4,)\n"
     ]
    }
   ],
   "source": [
    "# this is a vector with 1 axis, also called a tensor of rank 1, or a 1D tensor\n",
    "# but in some contexts it may confusingly also be refered to it as a 4-dimensional vector\n",
    "x = np.array([12, 3, 6, 14])\n",
    "print(x)\n",
    "print(x.ndim)\n",
    "print(x.shape)"
   ]
  },
  {
   "cell_type": "markdown",
   "metadata": {},
   "source": [
    "## 2.2.3 Matrices (2D tensors)\n",
    "\n",
    "Tensors of 2 axes are very common and very useful.  These are commonly referred to as a 2-dimensional\n",
    "*matrix*.  A matrix has two axes (often thought of as rows and columns).  In our previous machine\n",
    "learning course, we always have each training and test input as a row, and the features of the\n",
    "inputs are the columns of the matrix.  In our first network above, after we flattened the training\n",
    "images into a 2-d matrix, we had 60000 rows of training images, where each image consisted of 784\n",
    "input pixel features."
   ]
  },
  {
   "cell_type": "code",
   "execution_count": 19,
   "metadata": {},
   "outputs": [
    {
     "name": "stdout",
     "output_type": "stream",
     "text": [
      "[[ 5 78  2 34  0]\n",
      " [ 6 79  3 35  1]\n",
      " [ 7 80  4 36  2]]\n",
      "2\n",
      "(3, 5)\n"
     ]
    }
   ],
   "source": [
    "# this is a 3 rows by 5 columns 2-d matrix, or 2D tensor\n",
    "x = np.array([[5, 78, 2, 34, 0],\n",
    "              [6, 79, 3, 35, 1],\n",
    "              [7, 80, 4, 36, 2]])\n",
    "print(x)\n",
    "print(x.ndim)\n",
    "print(x.shape)"
   ]
  },
  {
   "cell_type": "markdown",
   "metadata": {},
   "source": [
    "## 2.2.4 Rank-3 and Higher-Rank Tensors\n",
    "If you pack such matrices in a new array, you obtain a 3d tensor, which you can visually interpret\n",
    "as a cube of numbers."
   ]
  },
  {
   "cell_type": "code",
   "execution_count": 20,
   "metadata": {},
   "outputs": [
    {
     "name": "stdout",
     "output_type": "stream",
     "text": [
      "[[[ 5 78  2 34  0]\n",
      "  [ 6 79  3 35  1]\n",
      "  [ 7 80  4 36  2]]\n",
      "\n",
      " [[ 5 78  2 34  0]\n",
      "  [ 6 79  3 35  1]\n",
      "  [ 7 80  4 36  2]]\n",
      "\n",
      " [[ 5 78  2 34  0]\n",
      "  [ 6 79  3 35  1]\n",
      "  [ 7 80  4 36  2]]]\n",
      "3\n",
      "(3, 3, 5)\n"
     ]
    }
   ],
   "source": [
    "# a 3D tensor, we have 3 2-D matrices, each 2-D matrix is the previous 3x5 shaped matrix\n",
    "x = np.array([\n",
    "              [[5, 78, 2, 34, 0],\n",
    "               [6, 79, 3, 35, 1],\n",
    "               [7, 80, 4, 36, 2]],\n",
    "              [[5, 78, 2, 34, 0],\n",
    "               [6, 79, 3, 35, 1],\n",
    "               [7, 80, 4, 36, 2]],\n",
    "              [[5, 78, 2, 34, 0],\n",
    "               [6, 79, 3, 35, 1],\n",
    "               [7, 80, 4, 36, 2]]\n",
    "             ])\n",
    "print(x)\n",
    "print(x.ndim)\n",
    "print(x.shape)"
   ]
  },
  {
   "cell_type": "markdown",
   "metadata": {},
   "source": [
    "By packing 3D tensors in an array, you create a 4D tensor, and so on."
   ]
  },
  {
   "cell_type": "markdown",
   "metadata": {},
   "source": [
    "## 2.2.5 Key atrributes\n",
    "\n",
    "A tensor is defined by 3 key attributes:\n",
    "\n",
    "1. *Number of axes (rank)*\n",
    "2. *Shape* - A tuple of integers, one for each of the axes of the tensor rank.\n",
    "3. *Data type*.\n",
    "\n",
    "For example, we already did this above, but to make this concrete, for the MNIST dataset\n",
    "the `train_images` is a 3D or rank 3 tensor (before we flattened it).  Its shape is\n",
    "`(60000, 28, 28)` which translates to 60000 training images, each with 28 rows and 28\n",
    "columns of pixels.  And again before we transformed it, its data type was `unit8` which\n",
    "is an unsigned 8 bit integer."
   ]
  },
  {
   "cell_type": "code",
   "execution_count": 21,
   "metadata": {},
   "outputs": [
    {
     "name": "stdout",
     "output_type": "stream",
     "text": [
      "3\n",
      "(60000, 28, 28)\n",
      "uint8\n"
     ]
    }
   ],
   "source": [
    "# reload to get back the data before we transformed\n",
    "(train_images, train_labels), (test_images, test_labels) = mnist.load_data()\n",
    "\n",
    "# 1. number of axes or rank of the training images tensor\n",
    "print( train_images.ndim )\n",
    "\n",
    "# 2. shape of the training images, e.g. number of values for each of the 3 dimensions\n",
    "print( train_images.shape )\n",
    "\n",
    "# 3. the data type, before transforming the data is originally 8 bit unsigned integers\n",
    "print( train_images.dtype )"
   ]
  },
  {
   "cell_type": "code",
   "execution_count": 22,
   "metadata": {},
   "outputs": [
    {
     "name": "stdout",
     "output_type": "stream",
     "text": [
      "img_no: 4  label: 9\n"
     ]
    },
    {
     "data": {
      "image/png": "[encoded data removed]",
      "text/plain": [
       "<Figure size 1000x800 with 1 Axes>"
      ]
     },
     "metadata": {},
     "output_type": "display_data"
    }
   ],
   "source": [
    "# as we did above, we can manipulate Numpy arrays using slicing.  For example, if we want\n",
    "# to display the 4th image we can do the following\n",
    "img_no = 4\n",
    "print('img_no: %d  label: %d' % (img_no, train_labels[img_no]))\n",
    "\n",
    "img = train_images[img_no]\n",
    "plt.imshow(img, cmap=plt.cm.binary);"
   ]
  },
  {
   "cell_type": "markdown",
   "metadata": {},
   "source": [
    "## 2.2.6 Manipulating Tensors in Numpy\n",
    "\n",
    "In the previous notice I didn't specify the slice for all 3 dimensions.  It is assumed that if you don't\n",
    "specify slices on a dimension, you want all values for that dimension.  Thus in previous example, we got\n",
    "the $28 \\times 28$ pixels for training image number 4.\n",
    "\n",
    "If we want to select a batch of images, we can use the same idea/trick in Python.  For example, to get\n",
    "images 10 through 100 (up to but not including image 100) we slice like this"
   ]
  },
  {
   "cell_type": "code",
   "execution_count": 23,
   "metadata": {},
   "outputs": [
    {
     "name": "stdout",
     "output_type": "stream",
     "text": [
      "(90, 28, 28)\n",
      "(90, 28, 28)\n",
      "(90, 28, 28)\n"
     ]
    }
   ],
   "source": [
    "my_slice = train_images[10:100]\n",
    "print( my_slice.shape )\n",
    "\n",
    "# equivalent to what we did before\n",
    "my_slice = train_images[10:100, :, :]\n",
    "print( my_slice.shape )\n",
    "\n",
    "\n",
    "# also equivalent to being explicit for each dimension\n",
    "my_slice = train_images[10:100, 0:28, 0:28]\n",
    "print( my_slice.shape )\n"
   ]
  },
  {
   "cell_type": "markdown",
   "metadata": {},
   "source": [
    "This type of array slicing in Python is very powerful.  Make sure you are comfortable with it and how to\n",
    "use it and how it work.  For example, as shown in the book, if we want the pixels in the bottom right of\n",
    "the images, we can do something like:"
   ]
  },
  {
   "cell_type": "code",
   "execution_count": 24,
   "metadata": {},
   "outputs": [
    {
     "name": "stdout",
     "output_type": "stream",
     "text": [
      "(14, 14)\n"
     ]
    },
    {
     "data": {
      "image/png": "[encoded data removed]",
      "text/plain": [
       "<Figure size 1000x800 with 1 Axes>"
      ]
     },
     "metadata": {},
     "output_type": "display_data"
    }
   ],
   "source": [
    "# different from text example, get only bottom right of image 4\n",
    "img = train_images[4, 14:, 14:]\n",
    "print( img.shape )\n",
    "plt.imshow(img, cmap=plt.cm.binary);"
   ]
  },
  {
   "cell_type": "code",
   "execution_count": 25,
   "metadata": {},
   "outputs": [
    {
     "name": "stdout",
     "output_type": "stream",
     "text": [
      "(14, 14)\n"
     ]
    },
    {
     "data": {
      "image/png": "[encoded data removed]",
      "text/plain": [
       "<Figure size 1000x800 with 1 Axes>"
      ]
     },
     "metadata": {},
     "output_type": "display_data"
    }
   ],
   "source": [
    "# same idea, but extract the middle 14x14 pixels of the image\n",
    "img = train_images[4, 7:-7, 7:-7]\n",
    "print( img.shape )\n",
    "plt.imshow(img, cmap=plt.cm.binary);"
   ]
  },
  {
   "cell_type": "markdown",
   "metadata": {},
   "source": [
    "## 2.2.7 The Notion of Data Batches\n",
    "\n",
    "By convention, the first axis (axis 0) in all data tensors for machine learning will usally be the\n",
    "*samples axis* (sometimes called the *samples dimension*).  When doing batch training, we might also\n",
    "refer to this axis as the *batch dimension*.\n",
    "\n",
    "For batch learning, we train a model or network in batches.  Thus, like we did above, if we want to\n",
    "get a batch of the first 128 images we can do the following.  "
   ]
  },
  {
   "cell_type": "code",
   "execution_count": 26,
   "metadata": {},
   "outputs": [
    {
     "name": "stdout",
     "output_type": "stream",
     "text": [
      "(128, 28, 28)\n"
     ]
    }
   ],
   "source": [
    "batch = train_images[:128]\n",
    "print( batch.shape )"
   ]
  },
  {
   "cell_type": "markdown",
   "metadata": {},
   "source": [
    "Likewise we can get the next batch.  And we can get any arbitrary nth batch."
   ]
  },
  {
   "cell_type": "code",
   "execution_count": 27,
   "metadata": {},
   "outputs": [
    {
     "name": "stdout",
     "output_type": "stream",
     "text": [
      "(128, 28, 28)\n",
      "(128, 28, 28)\n",
      "640 768\n"
     ]
    }
   ],
   "source": [
    "# 2nd batch\n",
    "batch = train_images[128:256]\n",
    "print( batch.shape )\n",
    "\n",
    "# nth batch\n",
    "n = 5\n",
    "batch = train_images[128 * n : 128 * (n + 1)]\n",
    "print( batch.shape )\n",
    "print( 128 * n, 128 * (n + 1) )"
   ]
  },
  {
   "cell_type": "markdown",
   "metadata": {},
   "source": [
    "## 2.2.8 Real-World Examples of Data Tensors\n",
    "\n",
    "## 2.2.9 Vector Data\n",
    "\n",
    "## 2.2.10 Timeseries Data or Sequence Data\n",
    "\n",
    "## 2.2.11 Image Data\n",
    "\n",
    "## 2.2.12 Video Data"
   ]
  },
  {
   "cell_type": "markdown",
   "metadata": {},
   "source": [
    "# 2.3 The Gears of Neural Networks: Tensor Operations\n",
    "\n",
    "All transformations learned by neural networks can be reduced to a handful of *tensor operations*.\n",
    "For example, add tensors, multiply tensors, and so on.\n",
    "\n",
    "The `Dense` or fully connected layer, for example, can be interpreted as a tensor operation that takes\n",
    "a 2D tensor input and returns another 2D tensor output, use the following tensor operations:\n",
    "\n",
    "```\n",
    "output = relu(dot(W, input) + b)\n",
    "```\n",
    "\n",
    "There are 3 tensor operations here.  The `dot()` function is the dot product, or a 2D matrix multiplication\n",
    "of `W` (the network weights) and the `input`.  Then there is an addition (+) between the result of the matrix multiplication\n",
    "and a vector named `b` (the network biases).  Finally a `relu()` operation is done, here `relu(x)` is `max(x, 0)`."
   ]
  },
  {
   "cell_type": "markdown",
   "metadata": {},
   "source": [
    "## 2.3.1 Element-wise Operations\n",
    "\n",
    "The `relu` operation and addition operation of the output above are examples of element-wise operations.  These are operations that are\n",
    "applied independently to each enatry in the tensors being considered.  These operations are highly amenable to massively parallel implementations,\n",
    "also known as *vectorized* implementations.  \n",
    "\n",
    "The dot product above represents a matrix multiplication operation.  But matrix multiplication, and other matrix/tensor operations are also\n",
    "highly amenable to parallel implementations.\n",
    "\n",
    "We can write naive implementations of the element-wise operations just discussed.  Naive here means that we are not parallelizing\n",
    "the computations.  But performing each element-wise operation 1 at a time (using loops to loop over the rank-2 2 dimensional\n",
    "matrix input), we searialize the computations:"
   ]
  },
  {
   "cell_type": "code",
   "execution_count": 28,
   "metadata": {},
   "outputs": [],
   "source": [
    "def naive_relu(x):\n",
    "    # x is a rank-2 tensor\n",
    "    assert len(x.shape) == 2\n",
    "    \n",
    "    # avoid overwriting the input tensor\n",
    "    x = x.copy()\n",
    "    \n",
    "    # explicit loop to compute relus element by element\n",
    "    for i in range(x.shape[0]):\n",
    "        for j in range(x.shape[1]):\n",
    "            x[i, j] = max(x[i, j], 0)\n",
    "    \n",
    "    return x"
   ]
  },
  {
   "cell_type": "code",
   "execution_count": 29,
   "metadata": {},
   "outputs": [],
   "source": [
    "def naive_add(x, y):\n",
    "    # x and y are rank-2 tensors\n",
    "    assert len(x.shape) == 2\n",
    "    assert x.shape == y.shape\n",
    "    \n",
    "    # avoid overwriting the input tensor\n",
    "    x = x.copy()\n",
    "    \n",
    "    # explicit loop to compute element wise addition\n",
    "    for i in range(x.shape[0]):\n",
    "        for j in range(x.shape[1]):\n",
    "            x[i, j] += y[i, j]\n",
    "            \n",
    "    return x\n"
   ]
  },
  {
   "cell_type": "code",
   "execution_count": 30,
   "metadata": {},
   "outputs": [
    {
     "name": "stdout",
     "output_type": "stream",
     "text": [
      "[[-1.24785894  2.66539673 -4.84894091 -3.91089412  1.77340016]\n",
      " [-1.17609184  0.29134057 -3.64518377 -6.47379893  3.87040759]\n",
      " [-1.71650051 -4.01052234 -2.86373514  1.73703661  3.45029492]\n",
      " [ 4.54032965 -0.67924147  2.1986075  -1.71488613 -0.44838839]\n",
      " [ 4.82771172 -2.04051532  0.6755516   2.85843159  0.12208577]]\n",
      "[[0.         2.66539673 0.         0.         1.77340016]\n",
      " [0.         0.29134057 0.         0.         3.87040759]\n",
      " [0.         0.         0.         1.73703661 3.45029492]\n",
      " [4.54032965 0.         2.1986075  0.         0.        ]\n",
      " [4.82771172 0.         0.6755516  2.85843159 0.12208577]]\n"
     ]
    }
   ],
   "source": [
    "# example of using naive relu function on some random data\n",
    "x = np.random.normal(0.0, 3.0, size=(5, 5))\n",
    "print(x)\n",
    "\n",
    "x = naive_relu(x)\n",
    "print(x)"
   ]
  },
  {
   "cell_type": "code",
   "execution_count": 31,
   "metadata": {},
   "outputs": [
    {
     "name": "stdout",
     "output_type": "stream",
     "text": [
      "[[-2  0 -3 -2 -4]\n",
      " [ 2  2  2 -2  0]\n",
      " [-1 -4  1  4  0]\n",
      " [-3  1  0  2 -2]\n",
      " [-3  3 -2 -2  4]]\n",
      "[[-1  2 -2  1 -2]\n",
      " [-5 -2 -5 -2  3]\n",
      " [ 1  0  4 -2  1]\n",
      " [ 0  3  4 -1 -2]\n",
      " [ 3  1  0  3  0]]\n",
      "[[-3  2 -5 -1 -6]\n",
      " [-3  0 -3 -4  3]\n",
      " [ 0 -4  5  2  1]\n",
      " [-3  4  4  1 -4]\n",
      " [ 0  4 -2  1  4]]\n"
     ]
    }
   ],
   "source": [
    "# example of using the naive add function on some random data\n",
    "x = np.random.randint(-5, 5, (5,5))\n",
    "y = np.random.randint(-5, 5, (5,5))\n",
    "print(x)\n",
    "print(y)\n",
    "\n",
    "z = naive_add(x, y)\n",
    "print(z)"
   ]
  },
  {
   "cell_type": "markdown",
   "metadata": {},
   "source": [
    "In practice, when dealing with tensors represented as NumPy arrays, these operations are available as \n",
    "well optimized built-in NumPy functions.  NumPy element-wise and matrix/tensor operations delegate the\n",
    "heavy lifiting to highly optimized libraries, such as the Basic Linear Algebra Subprograms (BLAS) \n",
    "implementation.  BLAS are low-level highly-parallel, efficient tensor-manipulation routines\n",
    "typically implemented in Fortran or C.\n",
    "\n",
    "So instead of writing explict serial loops, we can perform element wise operations using vectorized\n",
    "NumPy routines.  These will be much faster than naive serial implementations."
   ]
  },
  {
   "cell_type": "code",
   "execution_count": 32,
   "metadata": {},
   "outputs": [
    {
     "name": "stdout",
     "output_type": "stream",
     "text": [
      "[[ 6.80036386  1.49137536  1.46712701  2.42325245 -1.82940009]\n",
      " [ 3.0426122   1.7763977   1.77003071  1.59680629 -1.59801656]\n",
      " [-0.25486781 -0.09381337 -3.63544301  6.13495848  1.16052744]\n",
      " [ 2.51901911  4.05993534  3.41442633 -5.8228741   0.25302726]\n",
      " [-2.25248456 -0.02645038  0.21904138 -0.13903787  1.88218839]]\n",
      "[[-1.72740282  0.32192298 -4.36107342  0.63329652  0.72197449]\n",
      " [ 4.16395375  1.42050115 -1.59400956 -0.562486    2.4184777 ]\n",
      " [-2.34416924 -5.51084312  0.3920864   1.38471727 -1.92731529]\n",
      " [ 0.29423117  2.40910941  0.96835939 -6.9639319   1.05041946]\n",
      " [-2.81269387 -2.30464588  2.20363017  1.69870657 -1.71979182]]\n"
     ]
    }
   ],
   "source": [
    "# generate random data again to demonstrate NumPy vectorized operations\n",
    "x = np.random.normal(0.0, 3.0, size=(5,5))\n",
    "y = np.random.normal(0.0, 3.0, size=(5,5))\n",
    "\n",
    "print(x)\n",
    "print(y)"
   ]
  },
  {
   "cell_type": "code",
   "execution_count": 33,
   "metadata": {},
   "outputs": [
    {
     "name": "stdout",
     "output_type": "stream",
     "text": [
      "[[5.07296104 1.81329835 0.         3.05654898 0.        ]\n",
      " [7.20656594 3.19689884 0.17602115 1.03432029 0.82046114]\n",
      " [0.         0.         0.         7.51967575 0.        ]\n",
      " [2.81325029 6.46904475 4.38278572 0.         1.30344673]\n",
      " [0.         0.         2.42267155 1.5596687  0.16239657]]\n"
     ]
    }
   ],
   "source": [
    "# vectorized elementwise addition\n",
    "z = x + y\n",
    "\n",
    "# vectorized numpy function to find max which is relu function\n",
    "z = np.maximum(z, 0.0)\n",
    "\n",
    "print(z)"
   ]
  },
  {
   "cell_type": "markdown",
   "metadata": {},
   "source": [
    "Just to drive home the point about efficiency of implementation here, lets compare the time it takes to perform\n",
    "the same operations using NumPy vectorized operations first:"
   ]
  },
  {
   "cell_type": "code",
   "execution_count": 34,
   "metadata": {},
   "outputs": [],
   "source": [
    "import time\n",
    "\n",
    "x = np.random.random((20, 100))\n",
    "y = np.random.random((20, 100))"
   ]
  },
  {
   "cell_type": "code",
   "execution_count": 35,
   "metadata": {},
   "outputs": [
    {
     "name": "stdout",
     "output_type": "stream",
     "text": [
      "Took: 0.01 s\n"
     ]
    }
   ],
   "source": [
    "t0 = time.time()\n",
    "for _ in range(1000):\n",
    "    z = x + y\n",
    "    z = np.maximum(z, 0.)\n",
    "print(\"Took: {0:.2f} s\".format(time.time() - t0))"
   ]
  },
  {
   "cell_type": "markdown",
   "metadata": {},
   "source": [
    "Here we are timing performing a vectorized addition and relu, where we perform these operations 1000 times.\n",
    "The result will usually take only a tenth of a second or less (depending on the cpu of your system) using NumPy vectorized addition and\n",
    "`maximum` functions.\n",
    "\n",
    "Compare this to the time it takes to perform the same number of operations using the naive serialized\n",
    "addition and relu implementations:"
   ]
  },
  {
   "cell_type": "code",
   "execution_count": 36,
   "metadata": {},
   "outputs": [
    {
     "name": "stdout",
     "output_type": "stream",
     "text": [
      "Took: 2.01 s\n"
     ]
    }
   ],
   "source": [
    "t0 = time.time()\n",
    "for _ in range(1000):\n",
    "    z = naive_add(x, y)\n",
    "    z = naive_relu(z)\n",
    "print(\"Took: {0:.2f} s\".format(time.time() - t0))"
   ]
  },
  {
   "cell_type": "markdown",
   "metadata": {},
   "source": [
    "Typicaly this will take a whole 1.5 seconds or more to complete, which is a 2 orders of magnitude (> 100) difference in\n",
    "time needed to perform the same operations."
   ]
  },
  {
   "cell_type": "markdown",
   "metadata": {},
   "source": [
    "## 2.3.2 Broadcasting\n",
    "\n",
    "The previous example of the naive add was hard coded to support addition of rank-2 (2 dimensional) tensors with identical shapes.  But in the\n",
    "`Dense` layer introduced earlier, we added a rank-2 tensor with a vector.  What happens with addition when the shapes of the two tensors being\n",
    "added differ?\n",
    "\n",
    "When possible, if there is no ambiguity, the small tensor will be *broadcast* to match the shape of the larger tensor.  Broadcasting\n",
    "consists of two steps:\n",
    "\n",
    "1. Axes (called *broadcast axes*) are added to the smaller tensor to match the `ndim` of the larger tensor.\n",
    "2. The smaller tensor is repeated alongside these new axes to match the full shape of the larger tensor.\n",
    "\n",
    "For example, consider `X` with shape `(32, 10)` (32 rows and 10 columns matrix) and `y` with shape `(10,)` (a vector of 10 values):"
   ]
  },
  {
   "cell_type": "code",
   "execution_count": 37,
   "metadata": {},
   "outputs": [],
   "source": [
    "# X is a 2-d matrix of shape 32, 10.  the random function produces normal random numbers in the range from 0.0 to 1.0\n",
    "X = np.random.random( (32, 10) )\n",
    "\n",
    "# y is a random 1-d tensor, or in other words a vector, with shape (10,)\n",
    "y = np.random.random( (10,) )"
   ]
  },
  {
   "cell_type": "markdown",
   "metadata": {},
   "source": [
    "If we needed to perform broadcasting by hand, we might do the following.  First we expand the vector into \n",
    "a 2-d matrix with 1 row and 10 columns."
   ]
  },
  {
   "cell_type": "code",
   "execution_count": 38,
   "metadata": {},
   "outputs": [
    {
     "data": {
      "text/plain": [
       "(1, 10)"
      ]
     },
     "execution_count": 38,
     "metadata": {},
     "output_type": "execute_result"
    }
   ],
   "source": [
    "y = np.expand_dims(y, axis=0)\n",
    "y.shape"
   ]
  },
  {
   "cell_type": "markdown",
   "metadata": {},
   "source": [
    "Then to match the shape of `X` we can *broadcast* or in other words repeat the values of `y` so that we match the element-wise shape of `X`:"
   ]
  },
  {
   "cell_type": "code",
   "execution_count": 39,
   "metadata": {},
   "outputs": [
    {
     "data": {
      "text/plain": [
       "(32, 10)"
      ]
     },
     "execution_count": 39,
     "metadata": {},
     "output_type": "execute_result"
    }
   ],
   "source": [
    "Y = np.concatenate([y] * 32, axis=0)\n",
    "Y.shape"
   ]
  },
  {
   "cell_type": "code",
   "execution_count": 40,
   "metadata": {},
   "outputs": [
    {
     "data": {
      "text/plain": [
       "[array([[6.82728022e-04, 8.66693576e-01, 4.08184198e-01, 1.83011351e-01,\n",
       "         4.58320978e-01, 4.96705214e-01, 6.98217000e-02, 7.93408597e-01,\n",
       "         4.22841977e-01, 3.50263219e-01]]),\n",
       " array([[6.82728022e-04, 8.66693576e-01, 4.08184198e-01, 1.83011351e-01,\n",
       "         4.58320978e-01, 4.96705214e-01, 6.98217000e-02, 7.93408597e-01,\n",
       "         4.22841977e-01, 3.50263219e-01]]),\n",
       " array([[6.82728022e-04, 8.66693576e-01, 4.08184198e-01, 1.83011351e-01,\n",
       "         4.58320978e-01, 4.96705214e-01, 6.98217000e-02, 7.93408597e-01,\n",
       "         4.22841977e-01, 3.50263219e-01]]),\n",
       " array([[6.82728022e-04, 8.66693576e-01, 4.08184198e-01, 1.83011351e-01,\n",
       "         4.58320978e-01, 4.96705214e-01, 6.98217000e-02, 7.93408597e-01,\n",
       "         4.22841977e-01, 3.50263219e-01]]),\n",
       " array([[6.82728022e-04, 8.66693576e-01, 4.08184198e-01, 1.83011351e-01,\n",
       "         4.58320978e-01, 4.96705214e-01, 6.98217000e-02, 7.93408597e-01,\n",
       "         4.22841977e-01, 3.50263219e-01]]),\n",
       " array([[6.82728022e-04, 8.66693576e-01, 4.08184198e-01, 1.83011351e-01,\n",
       "         4.58320978e-01, 4.96705214e-01, 6.98217000e-02, 7.93408597e-01,\n",
       "         4.22841977e-01, 3.50263219e-01]]),\n",
       " array([[6.82728022e-04, 8.66693576e-01, 4.08184198e-01, 1.83011351e-01,\n",
       "         4.58320978e-01, 4.96705214e-01, 6.98217000e-02, 7.93408597e-01,\n",
       "         4.22841977e-01, 3.50263219e-01]]),\n",
       " array([[6.82728022e-04, 8.66693576e-01, 4.08184198e-01, 1.83011351e-01,\n",
       "         4.58320978e-01, 4.96705214e-01, 6.98217000e-02, 7.93408597e-01,\n",
       "         4.22841977e-01, 3.50263219e-01]]),\n",
       " array([[6.82728022e-04, 8.66693576e-01, 4.08184198e-01, 1.83011351e-01,\n",
       "         4.58320978e-01, 4.96705214e-01, 6.98217000e-02, 7.93408597e-01,\n",
       "         4.22841977e-01, 3.50263219e-01]]),\n",
       " array([[6.82728022e-04, 8.66693576e-01, 4.08184198e-01, 1.83011351e-01,\n",
       "         4.58320978e-01, 4.96705214e-01, 6.98217000e-02, 7.93408597e-01,\n",
       "         4.22841977e-01, 3.50263219e-01]]),\n",
       " array([[6.82728022e-04, 8.66693576e-01, 4.08184198e-01, 1.83011351e-01,\n",
       "         4.58320978e-01, 4.96705214e-01, 6.98217000e-02, 7.93408597e-01,\n",
       "         4.22841977e-01, 3.50263219e-01]]),\n",
       " array([[6.82728022e-04, 8.66693576e-01, 4.08184198e-01, 1.83011351e-01,\n",
       "         4.58320978e-01, 4.96705214e-01, 6.98217000e-02, 7.93408597e-01,\n",
       "         4.22841977e-01, 3.50263219e-01]]),\n",
       " array([[6.82728022e-04, 8.66693576e-01, 4.08184198e-01, 1.83011351e-01,\n",
       "         4.58320978e-01, 4.96705214e-01, 6.98217000e-02, 7.93408597e-01,\n",
       "         4.22841977e-01, 3.50263219e-01]]),\n",
       " array([[6.82728022e-04, 8.66693576e-01, 4.08184198e-01, 1.83011351e-01,\n",
       "         4.58320978e-01, 4.96705214e-01, 6.98217000e-02, 7.93408597e-01,\n",
       "         4.22841977e-01, 3.50263219e-01]]),\n",
       " array([[6.82728022e-04, 8.66693576e-01, 4.08184198e-01, 1.83011351e-01,\n",
       "         4.58320978e-01, 4.96705214e-01, 6.98217000e-02, 7.93408597e-01,\n",
       "         4.22841977e-01, 3.50263219e-01]]),\n",
       " array([[6.82728022e-04, 8.66693576e-01, 4.08184198e-01, 1.83011351e-01,\n",
       "         4.58320978e-01, 4.96705214e-01, 6.98217000e-02, 7.93408597e-01,\n",
       "         4.22841977e-01, 3.50263219e-01]]),\n",
       " array([[6.82728022e-04, 8.66693576e-01, 4.08184198e-01, 1.83011351e-01,\n",
       "         4.58320978e-01, 4.96705214e-01, 6.98217000e-02, 7.93408597e-01,\n",
       "         4.22841977e-01, 3.50263219e-01]]),\n",
       " array([[6.82728022e-04, 8.66693576e-01, 4.08184198e-01, 1.83011351e-01,\n",
       "         4.58320978e-01, 4.96705214e-01, 6.98217000e-02, 7.93408597e-01,\n",
       "         4.22841977e-01, 3.50263219e-01]]),\n",
       " array([[6.82728022e-04, 8.66693576e-01, 4.08184198e-01, 1.83011351e-01,\n",
       "         4.58320978e-01, 4.96705214e-01, 6.98217000e-02, 7.93408597e-01,\n",
       "         4.22841977e-01, 3.50263219e-01]]),\n",
       " array([[6.82728022e-04, 8.66693576e-01, 4.08184198e-01, 1.83011351e-01,\n",
       "         4.58320978e-01, 4.96705214e-01, 6.98217000e-02, 7.93408597e-01,\n",
       "         4.22841977e-01, 3.50263219e-01]]),\n",
       " array([[6.82728022e-04, 8.66693576e-01, 4.08184198e-01, 1.83011351e-01,\n",
       "         4.58320978e-01, 4.96705214e-01, 6.98217000e-02, 7.93408597e-01,\n",
       "         4.22841977e-01, 3.50263219e-01]]),\n",
       " array([[6.82728022e-04, 8.66693576e-01, 4.08184198e-01, 1.83011351e-01,\n",
       "         4.58320978e-01, 4.96705214e-01, 6.98217000e-02, 7.93408597e-01,\n",
       "         4.22841977e-01, 3.50263219e-01]]),\n",
       " array([[6.82728022e-04, 8.66693576e-01, 4.08184198e-01, 1.83011351e-01,\n",
       "         4.58320978e-01, 4.96705214e-01, 6.98217000e-02, 7.93408597e-01,\n",
       "         4.22841977e-01, 3.50263219e-01]]),\n",
       " array([[6.82728022e-04, 8.66693576e-01, 4.08184198e-01, 1.83011351e-01,\n",
       "         4.58320978e-01, 4.96705214e-01, 6.98217000e-02, 7.93408597e-01,\n",
       "         4.22841977e-01, 3.50263219e-01]]),\n",
       " array([[6.82728022e-04, 8.66693576e-01, 4.08184198e-01, 1.83011351e-01,\n",
       "         4.58320978e-01, 4.96705214e-01, 6.98217000e-02, 7.93408597e-01,\n",
       "         4.22841977e-01, 3.50263219e-01]]),\n",
       " array([[6.82728022e-04, 8.66693576e-01, 4.08184198e-01, 1.83011351e-01,\n",
       "         4.58320978e-01, 4.96705214e-01, 6.98217000e-02, 7.93408597e-01,\n",
       "         4.22841977e-01, 3.50263219e-01]]),\n",
       " array([[6.82728022e-04, 8.66693576e-01, 4.08184198e-01, 1.83011351e-01,\n",
       "         4.58320978e-01, 4.96705214e-01, 6.98217000e-02, 7.93408597e-01,\n",
       "         4.22841977e-01, 3.50263219e-01]]),\n",
       " array([[6.82728022e-04, 8.66693576e-01, 4.08184198e-01, 1.83011351e-01,\n",
       "         4.58320978e-01, 4.96705214e-01, 6.98217000e-02, 7.93408597e-01,\n",
       "         4.22841977e-01, 3.50263219e-01]]),\n",
       " array([[6.82728022e-04, 8.66693576e-01, 4.08184198e-01, 1.83011351e-01,\n",
       "         4.58320978e-01, 4.96705214e-01, 6.98217000e-02, 7.93408597e-01,\n",
       "         4.22841977e-01, 3.50263219e-01]]),\n",
       " array([[6.82728022e-04, 8.66693576e-01, 4.08184198e-01, 1.83011351e-01,\n",
       "         4.58320978e-01, 4.96705214e-01, 6.98217000e-02, 7.93408597e-01,\n",
       "         4.22841977e-01, 3.50263219e-01]]),\n",
       " array([[6.82728022e-04, 8.66693576e-01, 4.08184198e-01, 1.83011351e-01,\n",
       "         4.58320978e-01, 4.96705214e-01, 6.98217000e-02, 7.93408597e-01,\n",
       "         4.22841977e-01, 3.50263219e-01]]),\n",
       " array([[6.82728022e-04, 8.66693576e-01, 4.08184198e-01, 1.83011351e-01,\n",
       "         4.58320978e-01, 4.96705214e-01, 6.98217000e-02, 7.93408597e-01,\n",
       "         4.22841977e-01, 3.50263219e-01]])]"
      ]
     },
     "execution_count": 40,
     "metadata": {},
     "output_type": "execute_result"
    }
   ],
   "source": [
    "# if it is not clear, the following actually repeats the array 32 times\n",
    "[y] * 32\n",
    "\n",
    "# then the concatenate function combines them back into a single NumPy\n",
    "# array, which now has shape (32, 10)"
   ]
  },
  {
   "cell_type": "markdown",
   "metadata": {},
   "source": [
    "At this point since `X` and `Y` are the same shape, we can do element-wise operations, such as additon, multiplicaiton, etc.\n",
    "between the two as before.\n",
    "\n",
    "In actual implementation of broadcasting by NumPy, no new tensor is created as we did here, the repetition is done\n",
    "entirely virtually at the algorithmic level to get maximum performance of the operations.\n",
    "\n",
    "For example, again a naive serialized implementation of adding a matrix and a vector would look like the following.\n",
    "Notice there are some constraints on the broadcasting.  The number of elements in the `y` vector has to match the number of columns\n",
    "of the `X` matrix for the broadcasting to work here."
   ]
  },
  {
   "cell_type": "code",
   "execution_count": 41,
   "metadata": {},
   "outputs": [],
   "source": [
    "def naive_add_matrix_and_vector(X, y):\n",
    "    '''Perform element-wise addition of a matrix and a vector using broadcasting.\n",
    "    The X matrix is assumed to be a 2-dimensional matrix, and the y vector should have\n",
    "    the same number of elements as the columns of X for the broadcasting to work.\n",
    "    '''\n",
    "    # X matrix is assumed to be a rank-2 2-d tensor\n",
    "    assert len(X.shape) == 2\n",
    "    \n",
    "    # y vector is assumed to be a rank-1 vector\n",
    "    assert len(y.shape) == 1\n",
    "    \n",
    "    # broadcasting is only defined if number of elements of vector y matches columns of X\n",
    "    # matrix, so that we broadcast the vector onto each row of X\n",
    "    assert X.shape[1] == y.shape[0]\n",
    "    \n",
    "    # assumptions are met at this point, so we can successfully broadcast the additon\n",
    "    # make a copy of the X vector to avoid overwriting the input tensor\n",
    "    X = X.copy()\n",
    "    \n",
    "    # perform naive element-wise addition, broadcasting the vector y onto the rows of X\n",
    "    for row in range(X.shape[0]):\n",
    "        for col in range(X.shape[1]):\n",
    "            X[row, col] += y[col]\n",
    "            \n",
    "    return X"
   ]
  },
  {
   "cell_type": "code",
   "execution_count": 42,
   "metadata": {},
   "outputs": [
    {
     "name": "stdout",
     "output_type": "stream",
     "text": [
      "[[7.78621999e-01 6.20935505e-01 6.84099966e-01 7.28664082e-01\n",
      "  1.21384665e-01 8.76462229e-01 4.04950148e-01 4.24794063e-02\n",
      "  4.78570555e-01 6.81867410e-02]\n",
      " [9.60770289e-01 2.10916114e-01 6.27740838e-01 1.20356693e-01\n",
      "  9.77060893e-01 2.87750973e-01 1.16882081e-01 8.24328219e-01\n",
      "  7.20380158e-02 4.24191978e-01]\n",
      " [3.90944030e-01 2.50269820e-01 2.10752818e-01 1.99680497e-01\n",
      "  4.98838390e-01 4.36747380e-01 7.24403275e-01 5.06121461e-01\n",
      "  5.62053119e-01 6.15845382e-01]\n",
      " [7.81804083e-01 5.41176894e-01 7.05673989e-01 3.20489026e-01\n",
      "  1.89688589e-01 2.97910979e-01 8.95732607e-01 5.30403382e-01\n",
      "  6.10925597e-01 1.67255351e-01]\n",
      " [9.81978626e-01 1.32434532e-01 6.74359874e-01 2.39516183e-01\n",
      "  1.07787086e-01 6.58675629e-01 3.13188334e-02 3.17408554e-01\n",
      "  1.61677929e-01 6.67459356e-01]\n",
      " [6.74762847e-01 8.67294919e-01 2.44790229e-01 3.90625640e-01\n",
      "  4.56764276e-01 1.32831888e-01 8.65428311e-01 4.81895957e-01\n",
      "  5.77618947e-01 6.18238556e-01]\n",
      " [5.24354066e-02 2.53509758e-01 5.18208540e-01 1.19707040e-01\n",
      "  4.16757022e-02 8.86507398e-02 9.32897764e-01 3.76378007e-01\n",
      "  1.62438453e-01 6.70299119e-01]\n",
      " [5.12077604e-01 6.20172729e-01 5.82442363e-01 7.47335844e-01\n",
      "  1.60747066e-01 1.70705675e-01 6.55669435e-01 5.10709396e-01\n",
      "  6.73475177e-01 5.97003847e-01]\n",
      " [9.42265164e-01 9.42045238e-01 2.87378628e-01 6.34253249e-01\n",
      "  8.90169394e-01 3.69771595e-01 8.09206646e-01 1.22613002e-01\n",
      "  8.37325521e-01 3.27688295e-01]\n",
      " [7.77708674e-01 7.69783292e-01 2.57035020e-01 9.36619332e-02\n",
      "  4.91009633e-01 2.74138520e-01 8.37961669e-01 3.76439283e-02\n",
      "  3.69411418e-01 7.16370745e-01]\n",
      " [5.48913653e-01 3.70000869e-01 6.12262481e-01 4.24900364e-01\n",
      "  7.44158523e-01 2.12086155e-01 1.32649443e-01 8.43953108e-02\n",
      "  3.21109443e-01 8.71356192e-01]\n",
      " [2.91645610e-02 9.94927017e-01 3.45194121e-01 2.40580280e-01\n",
      "  2.18020787e-01 6.06574564e-01 3.62318224e-01 9.11133304e-04\n",
      "  1.59340992e-01 8.70152922e-01]\n",
      " [2.96738190e-01 6.61538261e-01 7.40003743e-01 7.75714374e-01\n",
      "  9.95117977e-01 8.46992044e-01 2.58076053e-01 4.96550610e-01\n",
      "  2.07765704e-01 5.64813383e-01]\n",
      " [1.71614179e-01 3.09519145e-01 5.99792460e-01 3.22009816e-01\n",
      "  9.08750720e-01 9.35513944e-01 8.55167805e-01 4.86173410e-01\n",
      "  6.92142500e-01 2.85479592e-01]\n",
      " [1.81510340e-01 9.79630963e-01 6.78114413e-01 3.80277151e-01\n",
      "  9.29797895e-01 5.13776748e-01 6.90816129e-01 1.15266133e-01\n",
      "  9.54486711e-01 8.43589927e-01]\n",
      " [9.64686032e-01 9.41547034e-01 9.89767118e-01 7.44656451e-01\n",
      "  3.34525426e-01 9.42661371e-01 8.73413919e-01 6.69747780e-01\n",
      "  6.12123477e-01 2.64735026e-01]\n",
      " [3.40718222e-01 7.53194021e-01 8.23609900e-01 1.79115024e-01\n",
      "  1.19674312e-01 9.05479354e-01 1.63762849e-02 1.88410974e-01\n",
      "  9.81122691e-01 2.21651874e-01]\n",
      " [4.07619064e-02 9.04971063e-01 7.65584039e-01 3.28377429e-01\n",
      "  2.21377653e-01 7.02848816e-01 5.47041298e-01 4.05324604e-01\n",
      "  9.56133148e-01 1.40299721e-01]\n",
      " [7.42110557e-01 1.64756723e-01 9.96104197e-02 1.57085319e-01\n",
      "  9.82547312e-01 8.98493363e-01 6.87278403e-01 7.73548320e-01\n",
      "  1.51034716e-01 7.09251650e-02]\n",
      " [5.84421312e-01 4.64737646e-01 9.45195070e-01 7.41560412e-01\n",
      "  3.74231971e-01 7.55597542e-01 2.22543238e-01 6.97006652e-01\n",
      "  3.39735706e-02 7.16919936e-02]\n",
      " [8.08807821e-01 5.96189309e-01 3.37964497e-01 6.52369874e-01\n",
      "  8.36187267e-01 7.10911895e-02 3.01495532e-01 2.21190900e-01\n",
      "  2.63634264e-01 6.74387409e-01]\n",
      " [8.96559529e-01 3.50209555e-02 9.82908813e-02 7.70112966e-01\n",
      "  5.17606410e-01 1.80076454e-01 9.08085857e-01 3.07353428e-01\n",
      "  9.39506649e-01 1.96948388e-01]\n",
      " [1.27476158e-01 1.87592339e-02 9.78942646e-01 3.62267219e-01\n",
      "  4.56272155e-01 2.16037831e-01 9.11015484e-01 2.42189910e-01\n",
      "  8.36326263e-01 9.34408557e-01]\n",
      " [9.23471869e-01 7.89879857e-01 1.73871278e-01 5.29138530e-01\n",
      "  6.12891208e-02 2.98792509e-01 8.28298188e-01 6.41272432e-01\n",
      "  2.31699162e-01 3.11670004e-01]\n",
      " [6.90836142e-01 9.28233772e-01 7.60516229e-01 6.76028738e-01\n",
      "  1.13274943e-02 5.75911909e-02 6.00873374e-01 5.14757293e-01\n",
      "  9.38629240e-01 2.53934039e-01]\n",
      " [1.63640497e-01 3.51644510e-01 1.74304580e-01 6.03915996e-01\n",
      "  7.27015337e-01 9.48990340e-01 7.40015482e-01 7.71117408e-01\n",
      "  6.24825403e-01 8.81822828e-01]\n",
      " [1.66210714e-01 9.50483231e-01 2.45977111e-01 8.46311912e-01\n",
      "  1.84251037e-01 8.86549870e-01 6.45009830e-01 6.97899688e-01\n",
      "  8.55007593e-01 2.62841843e-01]\n",
      " [1.28873931e-01 1.65200552e-01 2.38165385e-01 2.55388929e-01\n",
      "  7.11948547e-01 6.56034140e-01 8.67489370e-01 9.69178362e-01\n",
      "  6.40207000e-01 4.78391811e-01]\n",
      " [5.54936817e-01 9.45730505e-01 1.80554211e-01 4.83899930e-01\n",
      "  4.46870050e-01 5.86882715e-01 2.99981950e-01 2.82839701e-01\n",
      "  9.48226254e-01 5.40171765e-01]\n",
      " [8.27734195e-01 8.31917953e-01 5.31181045e-01 9.74234343e-01\n",
      "  4.80623119e-01 7.62917073e-01 8.66983173e-01 9.06013212e-01\n",
      "  6.85037878e-01 4.05553057e-01]\n",
      " [7.13249398e-01 6.59124403e-01 2.13196960e-02 7.90519286e-01\n",
      "  7.93292613e-01 9.24494984e-01 2.88052119e-01 3.08760933e-01\n",
      "  7.45383132e-01 4.53518751e-01]\n",
      " [8.47089760e-02 6.26729173e-01 8.44615922e-01 6.57629287e-01\n",
      "  7.39229114e-01 8.13825834e-01 2.69803286e-02 4.79527861e-01\n",
      "  8.80799142e-01 9.82322336e-01]]\n",
      "[0.34841087 0.33392678 0.39575265 0.71708935 0.14493244 0.29337285\n",
      " 0.14908323 0.65403567 0.83086781 0.79243118]\n"
     ]
    }
   ],
   "source": [
    "# an example of using our naive broadcasting addition on a vector of 10 values\n",
    "X = np.random.random( (32, 10) )\n",
    "y = np.random.random(10)\n",
    "\n",
    "print(X)\n",
    "print(y)"
   ]
  },
  {
   "cell_type": "code",
   "execution_count": 43,
   "metadata": {},
   "outputs": [
    {
     "name": "stdout",
     "output_type": "stream",
     "text": [
      "(32, 10)\n",
      "[[1.12703287 0.95486228 1.07985261 1.44575343 0.26631711 1.16983508\n",
      "  0.55403338 0.69651507 1.30943837 0.86061792]\n",
      " [1.30918116 0.54484289 1.02349348 0.83744604 1.12199333 0.58112383\n",
      "  0.26596531 1.47836388 0.90290583 1.21662315]\n",
      " [0.7393549  0.5841966  0.60650547 0.91676985 0.64377083 0.73012023\n",
      "  0.87348651 1.16015713 1.39292093 1.40827656]\n",
      " [1.13021496 0.87510367 1.10142664 1.03757838 0.33462103 0.59128383\n",
      "  1.04481584 1.18443905 1.44179341 0.95968653]\n",
      " [1.3303895  0.46636131 1.07011252 0.95660553 0.25271953 0.95204848\n",
      "  0.18040207 0.97144422 0.99254574 1.45989053]\n",
      " [1.02317372 1.2012217  0.64054288 1.10771499 0.60169672 0.42620474\n",
      "  1.01451154 1.13593162 1.40848676 1.41066973]\n",
      " [0.40084628 0.58743654 0.91396119 0.83679639 0.18660814 0.38202359\n",
      "  1.081981   1.03041367 0.99330627 1.46273029]\n",
      " [0.86048848 0.95409951 0.97819501 1.46442519 0.30567951 0.46407853\n",
      "  0.80475267 1.16474506 1.50434299 1.38943502]\n",
      " [1.29067604 1.27597202 0.68313128 1.3513426  1.03510184 0.66314445\n",
      "  0.95828988 0.77664867 1.66819334 1.12011947]\n",
      " [1.12611955 1.10371007 0.65278767 0.81075128 0.63594207 0.56751137\n",
      "  0.9870449  0.69167959 1.20027923 1.50880192]\n",
      " [0.89732453 0.70392765 1.00801513 1.14198971 0.88909096 0.50545901\n",
      "  0.28173268 0.73843098 1.15197726 1.66378737]\n",
      " [0.37757543 1.32885379 0.74094677 0.95766963 0.36295323 0.89994742\n",
      "  0.51140146 0.6549468  0.99020881 1.6625841 ]\n",
      " [0.64514906 0.99546504 1.13575639 1.49280372 1.14005042 1.1403649\n",
      "  0.40715929 1.15058628 1.03863352 1.35724456]\n",
      " [0.52002505 0.64344592 0.99554511 1.03909917 1.05368316 1.2288868\n",
      "  1.00425104 1.14020908 1.52301031 1.07791077]\n",
      " [0.52992121 1.31355774 1.07386706 1.0973665  1.07473034 0.8071496\n",
      "  0.83989936 0.7693018  1.78535453 1.6360211 ]\n",
      " [1.31309691 1.27547381 1.38551977 1.4617458  0.47945787 1.23603423\n",
      "  1.02249715 1.32378345 1.44299129 1.0571662 ]\n",
      " [0.6891291  1.0871208  1.21936255 0.89620437 0.26460675 1.19885221\n",
      "  0.16545952 0.84244664 1.81199051 1.01408305]\n",
      " [0.38917278 1.23889784 1.16133669 1.04546678 0.36631009 0.99622167\n",
      "  0.69612453 1.05936027 1.78700096 0.9327309 ]\n",
      " [1.09052143 0.4986835  0.49536307 0.87417467 1.12747975 1.19186622\n",
      "  0.83636164 1.42758399 0.98190253 0.86335634]\n",
      " [0.93283219 0.79866442 1.34094772 1.45864976 0.51916441 1.0489704\n",
      "  0.37162647 1.35104232 0.86484138 0.86412317]\n",
      " [1.15721869 0.93011609 0.73371714 1.36945922 0.98111971 0.36446404\n",
      "  0.45057876 0.87522657 1.09450208 1.46681859]\n",
      " [1.2449704  0.36894773 0.49404353 1.48720232 0.66253885 0.47344931\n",
      "  1.05716909 0.96138909 1.77037446 0.98937956]\n",
      " [0.47588703 0.35268601 1.37469529 1.07935657 0.6012046  0.50941069\n",
      "  1.06009872 0.89622558 1.66719408 1.72683973]\n",
      " [1.27188274 1.12380663 0.56962392 1.24622788 0.20622156 0.59216536\n",
      "  0.97738142 1.2953081  1.06256698 1.10410118]\n",
      " [1.03924701 1.26216055 1.15626888 1.39311809 0.15625994 0.35096405\n",
      "  0.74995661 1.16879296 1.76949705 1.04636522]\n",
      " [0.51205137 0.68557129 0.57005723 1.32100535 0.87194778 1.24236319\n",
      "  0.88909872 1.42515307 1.45569322 1.674254  ]\n",
      " [0.51462159 1.28441001 0.64172976 1.56340126 0.32918348 1.17992272\n",
      "  0.79409306 1.35193535 1.68587541 1.05527302]\n",
      " [0.4772848  0.49912733 0.63391803 0.97247828 0.85688099 0.94940699\n",
      "  1.0165726  1.62321403 1.47107481 1.27082299]\n",
      " [0.90334769 1.27965728 0.57630686 1.20098928 0.59180249 0.88025557\n",
      "  0.44906518 0.93687537 1.77909407 1.33260294]\n",
      " [1.17614507 1.16584473 0.92693369 1.69132369 0.62555556 1.05628993\n",
      "  1.01606641 1.56004888 1.51590569 1.19798423]\n",
      " [1.06166027 0.99305118 0.41707234 1.50760864 0.93822506 1.21786784\n",
      "  0.43713535 0.9627966  1.57625095 1.24594993]\n",
      " [0.43311985 0.96065595 1.24036857 1.37471864 0.88416156 1.10719869\n",
      "  0.17606356 1.13356353 1.71166696 1.77475351]]\n"
     ]
    }
   ],
   "source": [
    "Z = naive_add_matrix_and_vector(X, y)\n",
    "print(Z.shape)\n",
    "print(Z)"
   ]
  },
  {
   "cell_type": "markdown",
   "metadata": {},
   "source": [
    "Broadcasting will be done automatically by NumPy when using tensors whose shapes\n",
    "can be broadcast successfully.\n",
    "\n",
    "For example, adding a rank-4 tensor and a rank-2 tensor, the rank-2 tensor is broadcast appropriately to perform the\n",
    "operation."
   ]
  },
  {
   "cell_type": "code",
   "execution_count": 44,
   "metadata": {},
   "outputs": [
    {
     "name": "stdout",
     "output_type": "stream",
     "text": [
      "(64, 3, 32, 10)\n",
      "(32, 10)\n",
      "(64, 3, 32, 10)\n"
     ]
    }
   ],
   "source": [
    "# x is a random rank-4 tensor with shape (64, 3, 32, 10)\n",
    "x = np.random.random( (64, 3, 32, 10) )\n",
    "print(x.shape)\n",
    "\n",
    "# y is a rank-2 tensor of shape (32, 10)\n",
    "y = np.random.random( (32, 10) )\n",
    "print(y.shape)\n",
    "\n",
    "# element-wise maximum function broadcasts y.  result is still shape (64, 3, 32, 10) like x.\n",
    "# maximum is computed by broadcasting y\n",
    "z = np.maximum(x, y)\n",
    "print(z.shape)"
   ]
  },
  {
   "cell_type": "code",
   "execution_count": 45,
   "metadata": {},
   "outputs": [
    {
     "name": "stdout",
     "output_type": "stream",
     "text": [
      "ValueError occurs because operands can not be broadcast together with shapes (64, 3, 32, 10) and (2, 10)\n"
     ]
    }
   ],
   "source": [
    "# note that dimensions do need to match.  e.g. cannot broadcast even like the following, though you might think\n",
    "# it would make sense\n",
    "x = np.random.random( (64, 3, 32, 10) )\n",
    "y = np.random.random( (2, 10) )\n",
    "\n",
    "try:\n",
    "    z = np.maximum(x, y)\n",
    "    print(z.shape)\n",
    "except ValueError:\n",
    "    print('ValueError occurs because operands can not be broadcast together with shapes (64, 3, 32, 10) and (2, 10)')"
   ]
  },
  {
   "cell_type": "markdown",
   "metadata": {},
   "source": [
    "## 2.3.3 Tensor Product\n",
    "\n",
    "The *tensor product* or *dot product* is one of the most common an dmost useful tensor operations.\n",
    "\n",
    "The dot product is also known as the matrix multiplication operation.  This operation is defined over matrices.\n",
    "\n",
    "In NumPy, you can use the `np.dot()` function to perform the tensor product.  For example, a vector multiplcation\n",
    "can be done as:"
   ]
  },
  {
   "cell_type": "code",
   "execution_count": 46,
   "metadata": {},
   "outputs": [
    {
     "data": {
      "text/plain": [
       "7.658695254237152"
      ]
     },
     "execution_count": 46,
     "metadata": {},
     "output_type": "execute_result"
    }
   ],
   "source": [
    "# two vectors each with 32 elements\n",
    "x = np.random.random( (32,) )\n",
    "y = np.random.random( (32,) )\n",
    "\n",
    "# dot product, results in scalar value, because result is computed as if \n",
    "# multiplying a 1x32 column matrix times a 32x1 row matrix giving a 1x1 or scalar result\n",
    "# when performing tensor product of vectors this is known as the inner product\n",
    "z = np.dot(x, y)\n",
    "z"
   ]
  },
  {
   "cell_type": "markdown",
   "metadata": {},
   "source": [
    "Since NumPy versions for Python 3, the `@` operator has been defined by NumPy to perform a dot product"
   ]
  },
  {
   "cell_type": "code",
   "execution_count": 47,
   "metadata": {},
   "outputs": [
    {
     "data": {
      "text/plain": [
       "7.658695254237152"
      ]
     },
     "execution_count": 47,
     "metadata": {},
     "output_type": "execute_result"
    }
   ],
   "source": [
    "# operator @ performs dot product on NumPy arrays\n",
    "z = x @ y\n",
    "z"
   ]
  },
  {
   "cell_type": "markdown",
   "metadata": {},
   "source": [
    "A tensor product is a combination of multiplication and summation of groups of elements.  Conceptually for m rank-2 and higher tensor products you\n",
    "can think of it as a weighted sum, as we will see later.\n",
    "\n",
    "Mathematically for vectors, the dot product (called inner product when both tensors are vectors) is computed as follows:"
   ]
  },
  {
   "cell_type": "code",
   "execution_count": 48,
   "metadata": {},
   "outputs": [],
   "source": [
    "def naive_vector_dot(x, y):\n",
    "    # x and y are NumPy vectors\n",
    "    assert len(x.shape) == 1\n",
    "    assert len(y.shape) == 1\n",
    "    \n",
    "    # x and y vectors have to have equal number of elements\n",
    "    # for inner product to be defined\n",
    "    assert x.shape[0] == y.shape[0]\n",
    "    \n",
    "    # result of inner product is a scalar.  The inner product is the sum of the element\n",
    "    # wise multiplications\n",
    "    z = 0.0\n",
    "    \n",
    "    for i in range(x.shape[0]):\n",
    "        z += x[i] * y[i]\n",
    "        \n",
    "    return z"
   ]
  },
  {
   "cell_type": "code",
   "execution_count": 49,
   "metadata": {},
   "outputs": [
    {
     "data": {
      "text/plain": [
       "7.658695254237151"
      ]
     },
     "execution_count": 49,
     "metadata": {},
     "output_type": "execute_result"
    }
   ],
   "source": [
    "# demonstrate we get the same inner product result using our\n",
    "# naive serialized implementation of the inner product\n",
    "z = naive_vector_dot(x, y)\n",
    "z"
   ]
  },
  {
   "cell_type": "markdown",
   "metadata": {},
   "source": [
    "You can take the dot product between a matrix and a vector.  The number of elements of the vector `y` needs to match\n",
    "the columns (or last dimension) of the matrix `X`.  The result of matrix `@` vector product is a vector where\n",
    "the coefficients are the dot products between vector `y` and each row of `X`.\n",
    "\n",
    "An implementation of matrix `@` vector multplication can be done by hand as follows:"
   ]
  },
  {
   "cell_type": "code",
   "execution_count": 50,
   "metadata": {},
   "outputs": [],
   "source": [
    "def naive_matrix_vector_dot(X, y):\n",
    "    '''Perform matrix @ vector product.  X is constrained to be a\n",
    "    rank-2 2-d matrix, but it can be of higher rank for general matrix/vector\n",
    "    multiplication.  Here y is a vector whose number of elements matches the\n",
    "    number of columns of the 2-d matrix X.  The result is a new vector which is\n",
    "    the inner product of y with each row of X\n",
    "    '''\n",
    "    # X is a rank-2 matrix\n",
    "    assert len(X.shape) == 2\n",
    "    \n",
    "    # y is a vector\n",
    "    assert len(y.shape) == 1\n",
    "    \n",
    "    # number of columns of X must be same as number of elemnts of the y vector\n",
    "    assert X.shape[1] == y.shape[0]\n",
    "    \n",
    "    # perform the matrix @ vector multiplication.  Result is a vector with same\n",
    "    # number of elements as rows of X (typo in textbook)\n",
    "    z = np.zeros(X.shape[0])\n",
    "    \n",
    "    # perform the matrix vector product\n",
    "    for row in range(X.shape[0]):\n",
    "        for col in range(X.shape[1]):\n",
    "            z[row] += X[row, col] * y[col]\n",
    "            \n",
    "    return z\n",
    "            "
   ]
  },
  {
   "cell_type": "code",
   "execution_count": 51,
   "metadata": {},
   "outputs": [
    {
     "name": "stdout",
     "output_type": "stream",
     "text": [
      "(5,)\n",
      "[2.92414613 3.78518769 2.83297512 3.57871292 2.62458117]\n"
     ]
    }
   ],
   "source": [
    "# example of using our naive function\n",
    "X = np.random.random( (5, 10) )\n",
    "y = np.random.random( (10,) )\n",
    "\n",
    "z = naive_matrix_vector_dot(X, y)\n",
    "print(z.shape)\n",
    "print(z)"
   ]
  },
  {
   "cell_type": "code",
   "execution_count": 52,
   "metadata": {},
   "outputs": [
    {
     "name": "stdout",
     "output_type": "stream",
     "text": [
      "(5,)\n",
      "[2.92414613 3.78518769 2.83297512 3.57871292 2.62458117]\n"
     ]
    }
   ],
   "source": [
    "# demonstrate that our naive function is performing the same tensor product\n",
    "z = X @ y\n",
    "print(z.shape)\n",
    "print(z)"
   ]
  },
  {
   "cell_type": "markdown",
   "metadata": {},
   "source": [
    "We could have reused our first function for performing the inner product of 2 vectors.  The following is eqivalent and emphasizes\n",
    "that we are returning the inner product of y with each row of x."
   ]
  },
  {
   "cell_type": "code",
   "execution_count": 53,
   "metadata": {},
   "outputs": [],
   "source": [
    "def naive_matrix_vector_dot_2(X, y):\n",
    "    z = np.zeros(X.shape[0])\n",
    "    for row in range(X.shape[0]):\n",
    "        z[row] = naive_vector_dot(X[row, :], y)\n",
    "    return z"
   ]
  },
  {
   "cell_type": "code",
   "execution_count": 54,
   "metadata": {},
   "outputs": [
    {
     "name": "stdout",
     "output_type": "stream",
     "text": [
      "(5,)\n",
      "[2.92414613 3.78518769 2.83297512 3.57871292 2.62458117]\n"
     ]
    }
   ],
   "source": [
    "# demonstrate this second version is equivalent to previous and the NumPy tensor product\n",
    "z = naive_matrix_vector_dot_2(X, y)\n",
    "print(z.shape)\n",
    "print(z)"
   ]
  },
  {
   "cell_type": "markdown",
   "metadata": {},
   "source": [
    "The dot product generalizes to tensors with an arbitray number of axes.\n",
    "You can take the dot product of two rank-2 matrices `X` and `Y` if and only if\n",
    "the shape of `X.shape[1] == Y.shape[0]`, or in other words if the number of columns\n",
    "of `X` equals the number of rows of `Y`.  The result of the dot product is a\n",
    "new rank-2 matrix of shape `(X.shape[0], Y.shape[1])`.\n",
    "\n",
    "Or for example, if `X` is shape `(32, 10)` and `Y` is shape `(10, 22)` then\n",
    "the dot product of these two matrices is defined since the number of columns of\n",
    "`X` matches the number of rows in `Y`.  And the resulting size of the dot\n",
    "product will be a new matrix of shape `(32, 22)`.\n",
    "\n",
    "Here is a naive implementation of the tensor product operation for rank-2 matrices.\n",
    "Each resulting element of the tensor product is a sum of the products of a row of \n",
    "`X` with a column of `Y`."
   ]
  },
  {
   "cell_type": "code",
   "execution_count": 55,
   "metadata": {},
   "outputs": [],
   "source": [
    "def naive_matrix_dot(X, Y):\n",
    "    # X and Y are rank-2 NumPy matrices\n",
    "    assert len(X.shape) == 2\n",
    "    assert len(Y.shape) == 2\n",
    "    \n",
    "    # tensor product is defined if number of columns of X matches\n",
    "    # number of rows of Y\n",
    "    assert X.shape[1] == Y.shape[0]\n",
    "    \n",
    "    # result is the sum of the products of each row of X with each column of Y,\n",
    "    # or in other words the inner product of rows of X with coluns of Y\n",
    "    Z = np.zeros( (X.shape[0], Y.shape[1]) )\n",
    "    \n",
    "    # perform the tensor product, iterate over the rows of X\n",
    "    # and over the columns of Y\n",
    "    for row in range(X.shape[0]):\n",
    "        for col in range(Y.shape[1]):\n",
    "            # notice using NumPy slicing to slice out the row and column\n",
    "            row_X = X[row, :]\n",
    "            column_Y = Y[:, col]\n",
    "            \n",
    "            # reuse the inner product function from before, compute the scalar inner\n",
    "            # product of the current row/column\n",
    "            Z[row, col] = naive_vector_dot(row_X, column_Y)\n",
    "            \n",
    "    return Z\n",
    "    "
   ]
  },
  {
   "cell_type": "code",
   "execution_count": 56,
   "metadata": {},
   "outputs": [
    {
     "name": "stdout",
     "output_type": "stream",
     "text": [
      "(3, 2)\n",
      "[[4.22306868 3.9262423 ]\n",
      " [3.05493956 3.71171858]\n",
      " [3.83424283 2.73686301]]\n"
     ]
    }
   ],
   "source": [
    "# example of tensor product using our naive implementation\n",
    "# X is shape (3, 10) and Y is shape (10, 2)\n",
    "X = np.random.random( (3, 10) )\n",
    "Y = np.random.random( (10, 2) )\n",
    "\n",
    "# result is a (3, 2) shaped matrix\n",
    "Z = naive_matrix_dot(X, Y)\n",
    "print(Z.shape)\n",
    "print(Z)"
   ]
  },
  {
   "cell_type": "code",
   "execution_count": 57,
   "metadata": {},
   "outputs": [
    {
     "name": "stdout",
     "output_type": "stream",
     "text": [
      "(3, 2)\n",
      "[[4.22306868 3.9262423 ]\n",
      " [3.05493956 3.71171858]\n",
      " [3.83424283 2.73686301]]\n"
     ]
    }
   ],
   "source": [
    "# just to confirm, the NumPy tensor product should give the same result\n",
    "Z = X @ Y\n",
    "print(Z.shape)\n",
    "print(Z)"
   ]
  },
  {
   "cell_type": "markdown",
   "metadata": {},
   "source": [
    "More generally, you can take the dot product between higher-dimensional tensors.\n",
    "For example, the resulting shape of tensor product between tensors of shapes is:\n",
    "\n",
    "- `(a, b, c, d) @ (d,) -> (a, b, c)`\n",
    "- `(a, b, c, d) @ (d, e) -> (a, b, c, e)`"
   ]
  },
  {
   "cell_type": "code",
   "execution_count": 58,
   "metadata": {},
   "outputs": [
    {
     "name": "stdout",
     "output_type": "stream",
     "text": [
      "(5, 3, 8, 7)\n",
      "(7,)\n",
      "(5, 3, 8)\n"
     ]
    }
   ],
   "source": [
    "# example multiplication of a rank-4 tensor and a vector\n",
    "X = np.random.random( (5, 3, 8, 7) )\n",
    "y = np.random.random( (7,) )\n",
    "Z = X @ y\n",
    "print(X.shape)\n",
    "print(y.shape)\n",
    "print(Z.shape)"
   ]
  },
  {
   "cell_type": "code",
   "execution_count": 59,
   "metadata": {},
   "outputs": [
    {
     "name": "stdout",
     "output_type": "stream",
     "text": [
      "(5, 3, 8, 7)\n",
      "(7, 5)\n",
      "(5, 3, 8, 5)\n"
     ]
    }
   ],
   "source": [
    "# example multiplication of a rank-4 tensor and a rank-2 tensor\n",
    "X = np.random.random( (5, 3, 8, 7) )\n",
    "Y = np.random.random( (7, 5) )\n",
    "Z = X @ Y\n",
    "print(X.shape)\n",
    "print(Y.shape)\n",
    "print(Z.shape)"
   ]
  },
  {
   "cell_type": "markdown",
   "metadata": {},
   "source": [
    "## 2.3.4 Tensor Reshaping\n",
    "\n",
    "It is often necessary to reshape tensors.  In general you can always reshape a tensor into a new tensor, with different or same ranks, as long\n",
    "as the number of resulting elements remains the same in the reshaped tensor.\n",
    "\n",
    "For example, we did this in the previous dense neural network example for the MNIST data.  The MNIST images contain 28 rows by 28 columns\n",
    "of pixel inputs, but we feed in the inputs to the nerual networks as a flat `28 * 28 = 784` set of inputs.  So the input layer of the\n",
    "neural network we trained expected 784 inputs.  So previously we needed to reshape the training images, as follows:"
   ]
  },
  {
   "cell_type": "code",
   "execution_count": 60,
   "metadata": {},
   "outputs": [
    {
     "name": "stdout",
     "output_type": "stream",
     "text": [
      "(60000, 28, 28)\n"
     ]
    }
   ],
   "source": [
    "# refetch so we have the original unshaped data\n",
    "(train_images, train_labels), (test_images, test_labels) = mnist.load_data()\n",
    "\n",
    "# originally the training images is a set of 60000 samples, where each sample is a 28x28 matrix of image pixels.  Thus the input\n",
    "# tensor is a rank-3 tensor of shape (60000, 28, 20)\n",
    "print(train_images.shape)"
   ]
  },
  {
   "cell_type": "code",
   "execution_count": 61,
   "metadata": {},
   "outputs": [
    {
     "name": "stdout",
     "output_type": "stream",
     "text": [
      "(60000, 784)\n"
     ]
    }
   ],
   "source": [
    "# but our simple Dense neural network expects a simple vector of inputs, so we have to flatten the 2-d\n",
    "# image into a single dimension of size 784 in order to use these images as input for the network\n",
    "train_images = train_images.reshape( (60000, 28 * 28) )\n",
    "print(train_images.shape)"
   ]
  },
  {
   "cell_type": "markdown",
   "metadata": {},
   "source": [
    "Reshaping simply rearranges the rows and columns to match the target shape.  Notice we reduced the tensor from a rank-3 to a rank-2\n",
    "tensor in this example.  As long as the total number of elements remains the same, we can reshape a matrix to a new one of any rank\n",
    "and number of elements per rank as desired.  For example, the number of elements in these tensors befor and after reshaping \n",
    "was `60000 * 28 * 28`"
   ]
  },
  {
   "cell_type": "code",
   "execution_count": 62,
   "metadata": {},
   "outputs": [
    {
     "name": "stdout",
     "output_type": "stream",
     "text": [
      "47040000\n",
      "47040000\n"
     ]
    }
   ],
   "source": [
    "print(train_images.size)\n",
    "print(60000 * 28 * 28)"
   ]
  },
  {
   "cell_type": "markdown",
   "metadata": {},
   "source": [
    "Reshaping a tensor means rearranging its rows and columns to match a target shape.  Naturally the reshaped tensor has to have the same total\n",
    "number of elements as the initial tensor as we discussed.  Some more examples of reshaping a tensor with 6 elements from our textbook:"
   ]
  },
  {
   "cell_type": "code",
   "execution_count": 63,
   "metadata": {},
   "outputs": [
    {
     "name": "stdout",
     "output_type": "stream",
     "text": [
      "[0 1 2 3 4 5]\n",
      "(6,)\n"
     ]
    }
   ],
   "source": [
    "# vector of elements from 0 to 6\n",
    "x = np.arange(6)\n",
    "print(x)\n",
    "print(x.shape)"
   ]
  },
  {
   "cell_type": "code",
   "execution_count": 64,
   "metadata": {},
   "outputs": [
    {
     "name": "stdout",
     "output_type": "stream",
     "text": [
      "[[0 1]\n",
      " [2 3]\n",
      " [4 5]]\n",
      "(3, 2)\n"
     ]
    }
   ],
   "source": [
    "# reshape to (3,2) rank-2 as shown initially in textbook\n",
    "x = x.reshape( (3, 2) )\n",
    "print(x)\n",
    "print(x.shape)"
   ]
  },
  {
   "cell_type": "code",
   "execution_count": 65,
   "metadata": {},
   "outputs": [
    {
     "name": "stdout",
     "output_type": "stream",
     "text": [
      "[[0]\n",
      " [1]\n",
      " [2]\n",
      " [3]\n",
      " [4]\n",
      " [5]]\n",
      "(6, 1)\n"
     ]
    }
   ],
   "source": [
    "# turn into a column matrix, e.g. not a rank-1 vector, but a rank-2 matrix with 6 rows and 1 column\n",
    "x = x.reshape( (6, 1) )\n",
    "print(x)\n",
    "print(x.shape)"
   ]
  },
  {
   "cell_type": "code",
   "execution_count": 66,
   "metadata": {},
   "outputs": [
    {
     "name": "stdout",
     "output_type": "stream",
     "text": [
      "[[0 1 2]\n",
      " [3 4 5]]\n",
      "(2, 3)\n"
     ]
    }
   ],
   "source": [
    "# turn into (2, 3) shaped matrix\n",
    "x = x.reshape( (2, 3) )\n",
    "print(x)\n",
    "print(x.shape)"
   ]
  },
  {
   "cell_type": "markdown",
   "metadata": {},
   "source": [
    "A special case of reshaping is *transposition* of the rows and columns.  This does change the order\n",
    "of the elements.  Transposition means to exchange the rows and columns so that `x[i, :]` becomse\n",
    "`x[:, i]`"
   ]
  },
  {
   "cell_type": "code",
   "execution_count": 67,
   "metadata": {},
   "outputs": [
    {
     "data": {
      "text/plain": [
       "array([[0, 3],\n",
       "       [1, 4],\n",
       "       [2, 5]])"
      ]
     },
     "execution_count": 67,
     "metadata": {},
     "output_type": "execute_result"
    }
   ],
   "source": [
    "# notice that this result is now (3, 2) shaped, and the order of elements is different from original (3, 2) shaped array from the\n",
    "# transpose operation\n",
    "x.transpose()"
   ]
  },
  {
   "cell_type": "markdown",
   "metadata": {},
   "source": [
    "## 2.3.5 Geometric Interpretation of Tensor Operations\n",
    "\n",
    "Tensor operations have a geometric interpretation that can be useful in some cases to get a better understanding of what function the\n",
    "tensor operations is performing.\n",
    "\n",
    "For example, consider addition of a vector.  Use a vector `A` with 2 elements, which can be interpreted as a point in\n",
    "\n",
    "a 2 dimensional geometric space."
   ]
  },
  {
   "cell_type": "code",
   "execution_count": 68,
   "metadata": {},
   "outputs": [
    {
     "data": {
      "image/png": "[encoded data removed]",
      "text/plain": [
       "<Figure size 1000x800 with 1 Axes>"
      ]
     },
     "metadata": {},
     "output_type": "display_data"
    }
   ],
   "source": [
    "# the vector in 2D space\n",
    "A = np.array([0.5, 1])\n",
    "\n",
    "# set up figure properties\n",
    "ax = plt.axes()\n",
    "ax.set_aspect('equal')\n",
    "ax.set_xlim(0, 1)\n",
    "ax.set_ylim(0, 1.1)\n",
    "\n",
    "# visualize the vector as direction and magnitude from origin\n",
    "plt.plot(A[0], A[1], 'bs')\n",
    "plt.arrow(0, 0, A[0], A[1], head_width=0.02, head_length=0.04, length_includes_head=True, color='black')\n",
    "plt.text(A[0] + 0.05, A[1] - 0.01, '[0.5, 1]', size=20)\n",
    "\n",
    "plt.grid();\n"
   ]
  },
  {
   "cell_type": "markdown",
   "metadata": {},
   "source": [
    "Now consider a new point `B = [1, 0.25]`.  Vector addition\n",
    "can be conceptualized geometrically by\n",
    "chaining together the vector arrows.  The result of vector\n",
    "element-wise addition is a new vector of a particular direction\n",
    "and magnitude."
   ]
  },
  {
   "cell_type": "code",
   "execution_count": 69,
   "metadata": {},
   "outputs": [
    {
     "data": {
      "image/png": "[encoded data removed]",
      "text/plain": [
       "<Figure size 1000x800 with 1 Axes>"
      ]
     },
     "metadata": {},
     "output_type": "display_data"
    }
   ],
   "source": [
    "# the vector in 2D space\n",
    "A = np.array([0.5, 1])\n",
    "B = np.array([1.0, 0.25])\n",
    "\n",
    "# set up figure properties\n",
    "ax = plt.axes()\n",
    "ax.set_aspect('equal')\n",
    "ax.set_xlim(0, 1.9)\n",
    "ax.set_ylim(0, 1.5)\n",
    "\n",
    "# visualize the vector as direction and magnitude from origin\n",
    "plt.plot(A[0], A[1], 'bs')\n",
    "plt.arrow(0, 0, A[0], A[1], head_width=0.02, head_length=0.04, length_includes_head=True, color='black')\n",
    "plt.text(A[0] - 0.1, A[1] - 0.01, 'A', size=20)\n",
    "\n",
    "plt.plot(B[0], B[1], 'bs')\n",
    "plt.arrow(0, 0, B[0], B[1], head_width=0.02, head_length=0.04, length_includes_head=True, color='black')\n",
    "plt.text(B[0] + 0.03, B[1] - 0.01, 'B', size=20)\n",
    "\n",
    "# add vectors, I will call it C\n",
    "C = A + B\n",
    "plt.plot(C[0], C[1], 'bs')\n",
    "plt.arrow(A[0], A[1], B[0], B[1], head_width=0.02, head_length=0.04, length_includes_head=True, color='grey')\n",
    "plt.arrow(B[0], B[1], A[0], A[1], head_width=0.02, head_length=0.04, length_includes_head=True, color='grey')\n",
    "plt.text(C[0] + 0.03, C[1] - 0.01, 'A + B', size=20)\n",
    "\n",
    "\n",
    "plt.grid();"
   ]
  },
  {
   "cell_type": "markdown",
   "metadata": {},
   "source": [
    "Tensor addition thus represents the action of *translating an object* (moving the\n",
    "object without distorting it) by a certain amount in a certain directory.\n",
    "\n",
    "For example, if we want to translate a polygon shape, we can do the following."
   ]
  },
  {
   "cell_type": "code",
   "execution_count": 70,
   "metadata": {},
   "outputs": [
    {
     "name": "stdout",
     "output_type": "stream",
     "text": [
      "[[0.  0.4 0.7 0.2 0. ]\n",
      " [0.  0.1 0.6 0.5 0. ]]\n",
      "(2, 5)\n"
     ]
    },
    {
     "data": {
      "image/png": "[encoded data removed]",
      "text/plain": [
       "<Figure size 1000x800 with 1 Axes>"
      ]
     },
     "metadata": {},
     "output_type": "display_data"
    }
   ],
   "source": [
    "# a shape\n",
    "x = np.array([0.0, 0.4, 0.7, 0.2, 0.0])\n",
    "y = np.array([0.0, 0.1, 0.6, 0.5, 0.0])\n",
    "\n",
    "# represent shape as a 2 row matrix, where each column is\n",
    "# an x,y point of the shape to fill\n",
    "s = np.array([x, y])\n",
    "print(s)\n",
    "print(s.shape)\n",
    "\n",
    "# plot filled shape, row 0 are x positions and row 1\n",
    "# are y positions\n",
    "plt.fill(s[0], s[1]);\n",
    "plt.grid();"
   ]
  },
  {
   "cell_type": "code",
   "execution_count": 71,
   "metadata": {},
   "outputs": [
    {
     "name": "stdout",
     "output_type": "stream",
     "text": [
      "[[0.2 0.6 0.9 0.4 0.2]\n",
      " [0.3 0.4 0.9 0.8 0.3]]\n",
      "(2, 5)\n"
     ]
    },
    {
     "data": {
      "image/png": "[encoded data removed]",
      "text/plain": [
       "<Figure size 1000x800 with 1 Axes>"
      ]
     },
     "metadata": {},
     "output_type": "display_data"
    }
   ],
   "source": [
    "# perform object translation by adding horizontal and vertical factor to shape\n",
    "# needs to be a (2,1) column matrix for the broadcasting to work here\n",
    "translation_factors = np.array([0.2, 0.3]).reshape(2,1)\n",
    "\n",
    "# notice we use broadcasting to add translation factors to shape coordinates\n",
    "news = translation_factors + s\n",
    "print(news)\n",
    "print(news.shape)\n",
    "\n",
    "# visualize the translation\n",
    "# plot filled shape, row 0 are x positions and row 1\n",
    "# are y positions\n",
    "plt.fill(s[0], s[1], color='blue', alpha=0.5)\n",
    "plt.fill(news[0], news[1], color='red', alpha=0.75)\n",
    "plt.arrow(0, 0, translation_factors[0,0], translation_factors[1,0], head_width=0.02, head_length=0.04, length_includes_head=True, color='black')\n",
    "plt.grid();"
   ]
  },
  {
   "cell_type": "markdown",
   "metadata": {},
   "source": [
    "Rotation can be achieved by performing tensor product of matrix of `sin` and `cos` of desired rotation."
   ]
  },
  {
   "cell_type": "code",
   "execution_count": 72,
   "metadata": {},
   "outputs": [
    {
     "name": "stdout",
     "output_type": "stream",
     "text": [
      "[[ 0.          0.33128347  0.41710561 -0.00656581  0.        ]\n",
      " [ 0.          0.24546133  0.82220612  0.53847645  0.        ]]\n",
      "(2, 5)\n"
     ]
    },
    {
     "data": {
      "image/png": "[encoded data removed]",
      "text/plain": [
       "<Figure size 1000x800 with 1 Axes>"
      ]
     },
     "metadata": {},
     "output_type": "display_data"
    }
   ],
   "source": [
    "# rotate 22.5 degress or pi/8 radians\n",
    "theta = np.pi / 8.0 \n",
    "rotation_factors = np.array([\n",
    "    [np.cos(theta), -np.sin(theta)],\n",
    "    [np.sin(theta), np.cos(theta)]])\n",
    "\n",
    "# perform rotation\n",
    "news = rotation_factors @ s\n",
    "print(news)\n",
    "print(news.shape)\n",
    "\n",
    "# visualize the translation\n",
    "# plot filled shape, row 0 are x positions and row 1\n",
    "# are y positions\n",
    "plt.fill(s[0], s[1], color='blue', alpha=0.5)\n",
    "plt.fill(news[0], news[1], color='red', alpha=0.75)\n",
    "plt.grid();"
   ]
  },
  {
   "cell_type": "markdown",
   "metadata": {},
   "source": [
    "Scaling can be performed using a diagnol matrix defining the vertical and horizontal scaling factors.  \n",
    "A negative scaling incidentally will cause a flip along the indicated axis.\n",
    "\n",
    "So to make width 1.5 as big, and to make height 0.5 as big and flip along the\n",
    "y axis, do:"
   ]
  },
  {
   "cell_type": "code",
   "execution_count": 73,
   "metadata": {},
   "outputs": [
    {
     "name": "stdout",
     "output_type": "stream",
     "text": [
      "(2, 2)\n",
      "(2, 5)\n",
      "[[ 0.    0.6   1.05  0.3   0.  ]\n",
      " [ 0.   -0.05 -0.3  -0.25  0.  ]]\n",
      "(2, 5)\n"
     ]
    },
    {
     "data": {
      "image/png": "[encoded data removed]",
      "text/plain": [
       "<Figure size 1000x800 with 1 Axes>"
      ]
     },
     "metadata": {},
     "output_type": "display_data"
    }
   ],
   "source": [
    "# scale width to be 1.5 times as big, but make 1/2 height and flip\n",
    "# the y axis\n",
    "scaling_factors = np.array([\n",
    "    [1.5,  0.0],\n",
    "    [0.0, -0.5]])\n",
    "\n",
    "# perform rotation\n",
    "print(scaling_factors.shape)\n",
    "print(s.shape)\n",
    "news = scaling_factors @ s\n",
    "print(news)\n",
    "print(news.shape)\n",
    "\n",
    "# visualize the scaling operation\n",
    "# plot filled shape, row 0 are x positions and row 1\n",
    "# are y positions\n",
    "plt.fill(s[0], s[1], color='blue', alpha=0.5)\n",
    "plt.fill(news[0], news[1], color='red', alpha=0.75)\n",
    "plt.grid();"
   ]
  },
  {
   "cell_type": "markdown",
   "metadata": {},
   "source": [
    "*Scaling* and *rotation* are both linear transformations.  A dot product with an arbitray matrix implements\n",
    "a linear transform.\n",
    "\n",
    "**Affine transform** is a combination of a linear transform (using a dot product with some matrix, and\n",
    "a translation (achieved by vector addition).  This is the basic calculation used to calculate\n",
    "the output `y` of a layer from some input `x`, e.g. `y = W @ x + b`\n",
    "\n",
    "As an example, define `W` as the same scaling operation as above, then translate 0.5 horizontally and\n",
    "0.5 vertically."
   ]
  },
  {
   "cell_type": "code",
   "execution_count": 74,
   "metadata": {},
   "outputs": [
    {
     "name": "stdout",
     "output_type": "stream",
     "text": [
      "(2, 2)\n",
      "(2, 5)\n",
      "[[ 0.5   1.1   1.55  0.8   0.5 ]\n",
      " [ 0.2   0.15 -0.1  -0.05  0.2 ]]\n",
      "(2, 5)\n"
     ]
    },
    {
     "data": {
      "image/png": "[encoded data removed]",
      "text/plain": [
       "<Figure size 1000x800 with 1 Axes>"
      ]
     },
     "metadata": {},
     "output_type": "display_data"
    }
   ],
   "source": [
    "# Same scaling operation as before\n",
    "W = np.array([\n",
    "    [1.5,  0.0],\n",
    "    [0.0, -0.5]])\n",
    "\n",
    "# the bias here performs a translation, 0.5 vertical and 0.2 horizontal\n",
    "b = np.array([0.5, 0.2]).reshape(2,1)\n",
    "\n",
    "# perform rotation\n",
    "print(W.shape)\n",
    "print(s.shape)\n",
    "news = (W @ s) + b\n",
    "print(news)\n",
    "print(news.shape)\n",
    "\n",
    "# visualize the scaling operation\n",
    "# plot filled shape, column 0 are x positions and column 1\n",
    "# are y positions\n",
    "plt.fill(s[0], s[1], color='blue', alpha=0.5)\n",
    "plt.fill(news[0], news[1], color='red', alpha=0.75)\n",
    "plt.grid();"
   ]
  },
  {
   "cell_type": "markdown",
   "metadata": {},
   "source": [
    "Finally lets apply a `relu()` activation.  As discussed in the text, if all you apply are affine transforms\n",
    "repeatedly, you still end up with an affine transform.  So you could calculate an expression that\n",
    "applies all serial affine transformations as a single affine transformation.  \n",
    "\n",
    "In practical terms, this means a dense neural network that only performs affine transformations (linear\n",
    "transforms and translations) can be reduced to an equivalent single Dense layer.  In that case a\n",
    "neural network would be equivalent to a linear model in disguise.\n",
    "\n",
    "However, to allow for nonlinear transformations, neural networks usually apply a nonlinear\n",
    "activation function to the affine transformation of each layer.  Thanks to the activation\n",
    "function, a chain of Dense layers can be made to implement very complex non-linear\n",
    "geometric transformations.  \n",
    "\n",
    "It may not be obvious, but `relu()` applies a nonlinear activation function."
   ]
  },
  {
   "cell_type": "code",
   "execution_count": 75,
   "metadata": {},
   "outputs": [
    {
     "name": "stdout",
     "output_type": "stream",
     "text": [
      "[[0.5  1.1  1.55 0.8  0.5 ]\n",
      " [0.2  0.15 0.   0.   0.2 ]]\n",
      "(2, 5)\n"
     ]
    },
    {
     "data": {
      "image/png": "[encoded data removed]",
      "text/plain": [
       "<Figure size 1000x800 with 1 Axes>"
      ]
     },
     "metadata": {},
     "output_type": "display_data"
    }
   ],
   "source": [
    "# Same scaling operation as before\n",
    "W = np.array([\n",
    "    [1.5,  0.0],\n",
    "    [0.0, -0.5]])\n",
    "\n",
    "# the bias here performs a translation, 0.5 vertical and 0.2 horizontal\n",
    "b = np.array([0.5, 0.2]).reshape(2, 1)\n",
    "\n",
    "# perform weighted summation and addition of bias, then apply\n",
    "# a nonlinear relu.  Again the maximum of 0 essentially is the simple\n",
    "# relu function\n",
    "news = np.maximum((W @ s) + b, 0.0)\n",
    "print(news)\n",
    "print(news.shape)\n",
    "\n",
    "# visualize the scaling operation\n",
    "# plot filled shape, column 0 are x positions and column 1\n",
    "# are y positions\n",
    "plt.fill(s[0], s[1], color='blue', alpha=0.5)\n",
    "plt.fill(news[0], news[1], color='red', alpha=0.75)\n",
    "plt.grid();"
   ]
  },
  {
   "cell_type": "markdown",
   "metadata": {},
   "source": [
    "## 2.3.6 Geometric Interpretation of Deep Learning\n",
    "\n",
    "A neural network consists of a chain of tensor operations.  Translation, rotation and scaling are are linear transformations, which have\n",
    "relatively simple geometric interpretations.  In addition neural network apply nonlinear activation functions, which add in ability\n",
    "to model nonlinear functional relations between the input data and output label to be learned by the network.\n",
    "\n"
   ]
  },
  {
   "cell_type": "markdown",
   "metadata": {},
   "source": [
    "# 2.4 The Engine of Neural Networks: Gradient-based Optimization\n",
    "\n",
    "Each layer of a (dense / basic) neural network transforms the inputs to the layer into the layer outputs using the following expression / method:\n",
    "\n",
    "\\begin{equation}\n",
    "\\text{output} = \\text{relu}(\\text{dot}(\\text{input}, W) + b)\n",
    "\\end{equation}\n",
    "\n",
    "Here $W$ is a matrix of the layer weights (which summarize the linear transformations on the input values) and $b$ is a vector of bias terms (which as we saw\n",
    "performs a type of translation).  Other activation functions than `relu()` can be used, for example a standard nonlinear sigmoid function, among others.  But\n",
    "usually then after the weighted sum transformation of the inputs and addition of the bias, the results are put through a nonlinear output activation function\n",
    "to get the final output result for the layer.\n",
    "\n",
    "In this expression $W$ and $b$ are tensorts that are attributes of the layer.  They're called the *weights* or *trainable parameters* of the layer. These\n",
    "trainable parameters are modified by some training algorithm (e.g. gradient descent optimization) in order to learn a good mapping that correctly\n",
    "transforms inputs into outputs for the layer.\n",
    "\n",
    "Initially these weight matrices are filled with small random values (*random initializaiton*).  There is no reason to expect that the function will yield\n",
    "a correct result initially when $W$ and $b$ are random.  The resulting representations / transformations are meaningless.  Gradually these weights \n",
    "will be adjusted, based on a feedback signal, to produce better representations that transform the input to the desired output.  This gradual adjustment\n",
    "is called *training*, and is the learning that machine learning is all about.\n",
    "\n",
    "Training happens whith a *training loop* for some number of *epochs* of training.  The following is a high-level pseudocode of the steps in the training loop:\n",
    "\n",
    "1. Draw a batch of training samples, $x$, and corresponding targets $y_true$.\n",
    "2. Run the model on $x$ (a step called the *forward pass*) to obtain predictions, $y_pred$.\n",
    "3. Compute the *loss* of the model on the batch (using a *loss function* or also called *fitness function*), a measure of the mismatch between $y_pred$\n",
    "   and $y_true$\n",
    "4. Update all weights of the model in a way that slightly reduces the loss on this batch.\n",
    "\n",
    "And rinse and repeat until the loss is no longer being reduced sufficiently (called *convergence* of the training loop.\n",
    "\n",
    "Step 1 is as simple as slicing an array of the input tensor to get a batch for training (or more usually, selecting a random sample to perform the batch).  Steps \n",
    "2 and 3 can be done with tensor operations of the same type as we have just been looking at.\n",
    "\n",
    "Step 4 is the difficult part, how do we update a models weights so that it reduces the calculated loss on this batch of data, where the loss again is a measure of\n",
    "how close the prediction outputs are to the true outputs we desire the model to produce.\n",
    "\n",
    "**Gradient descent** is an iterative optimization technique that powers modern neural networks.  Here is the gist of it.  All of the linear transformations transform\n",
    "the inputs in a smooth or continuous way.  Mathematically this means that these functions are *differentiable*.  If you chain together such functions the resulting\n",
    "bigger function is still smooth and thus still differentiable.  In particular this also applies to the loss function that maps the coefficients (or weights)\n",
    "of the model to the loss of the model on a batch of data: a small change in the model's coefficients results in a small, predictable change in the loss value.\n",
    "This enables you to use a mathematical operator called the *gradient* to describe how the loss varies as you move the model's coefficients, and allows you to move\n",
    "them in a direction that decreases loss."
   ]
  },
  {
   "cell_type": "markdown",
   "metadata": {},
   "source": [
    "## 2.4.1 What's a Derivative\n",
    "\n",
    "The lecture notebook titled Calculus Review has some more details and review of the concept of derivatives and gradients.\n",
    "\n",
    "In short, the *derivitive* of function $f$ at some point $f(x)$ is equivalent to the (instantenous) slope of the function at that point.\n",
    "A positive derivative (or slope) means that a small increase in $x$ results in an increase of $f(x)$.  A negative derivative\n",
    "means a small increase in $x$ results in a decrease of $f(x)$.  This is important because the sign of the derivative, if it is the\n",
    "derivative of the loss function, tells you which direction you need to change the parameters $x$ in order to decrease the\n",
    "loss function.  The absolute value of the derivitive (the *magnitude* of the derivative) tells you how quickly this increase\n",
    "or decrease will happen.\n",
    "\n",
    "Being able to determine the derivative of functions is a very powerful tool when it comes to *optimization*, the task of finding\n",
    "values of $x$ that minimize the value of $f(x)$.  If the function you are optimizing is the loss function, by minimizing the loss\n",
    "function $f(x)$ you will find the parameter (or weight) values that will give the best outputs for the function inputs (e.g. the ones that\n",
    "will minimize the loss when transforming the inputs to the $y_pred$ outputs.\n",
    "\n",
    "If you are trying to update $x$ by a factor $epsilon_x$ in order to minimize $f(x)$, and you know the derivative of $f$, then your job is done:\n",
    "the derivative completely describes how $f(x)$ evolves as you change $x$.  If you want to reduce the value of $f(x)$, you just need to move\n",
    "$x$ a little in the opposite direction from the derivative.\n",
    "\n",
    "As a quick example, the derivative, or slope, of the function $x^2$ at $x = 2$ can be found in the limit as we compute the slope for\n",
    "smaller and smaller values of $\\Delta x$:"
   ]
  },
  {
   "cell_type": "code",
   "execution_count": 76,
   "metadata": {},
   "outputs": [
    {
     "name": "stdout",
     "output_type": "stream",
     "text": [
      "slope when x changes from 2 to 5:  7.0\n",
      "slope when x changes from 2 to 4:  6.0\n",
      "slope when x changes from 2 to 3:  5.0\n",
      "slope when x changes from 2 to 2.5:  4.099999999999998\n",
      "slope at x=2.000000 for deltax=1.0000000000000000 is:5.0000000000000000\n",
      "slope at x=2.000000 for deltax=0.1000000000000000 is:4.1000000000000014\n",
      "slope at x=2.000000 for deltax=0.0100000000000000 is:4.0099999999998914\n",
      "slope at x=2.000000 for deltax=0.0010000000000000 is:4.0009999999996992\n",
      "slope at x=2.000000 for deltax=0.0001000000000000 is:4.0001000000078335\n",
      "slope at x=2.000000 for deltax=0.0000100000000000 is:4.0000100000270322\n",
      "slope at x=2.000000 for deltax=0.0000010000000000 is:4.0000010006480116\n",
      "slope at x=2.000000 for deltax=0.0000001000000000 is:4.0000000911533098\n"
     ]
    },
    {
     "data": {
      "image/png": "[encoded data removed]",
      "text/plain": [
       "<Figure size 1000x1000 with 1 Axes>"
      ]
     },
     "metadata": {},
     "output_type": "display_data"
    }
   ],
   "source": [
    "def f(x):\n",
    "    return x**2\n",
    "\n",
    "plt.figure(figsize=(10,10))\n",
    "x = np.linspace(0, 5)\n",
    "plt.plot(x, f(x));\n",
    "\n",
    "\n",
    "# slope when x changes from 2 to 5 is\n",
    "deltay = f(5.0) - f(2.0)\n",
    "deltax = 5.0 - 2.0\n",
    "m = deltay / deltax\n",
    "print(\"slope when x changes from 2 to 5: \", m)\n",
    "plt.plot([2.0, 5.0], [f(2.0), f(5.0)], 'k--')\n",
    "\n",
    "# slope when x changes from 2 to 4 is\n",
    "deltay = f(4.0) - f(2.0)\n",
    "deltax = 4.0 - 2.0\n",
    "m = deltay / deltax\n",
    "print(\"slope when x changes from 2 to 4: \", m)\n",
    "plt.plot([2.0, 4.0], [f(2.0), f(4.0)], 'k--')\n",
    "\n",
    "# slope when x changes from 2 to 3 is\n",
    "deltay = f(3.0) - f(2.0)\n",
    "deltax = 3.0 - 2.0\n",
    "m = deltay / deltax\n",
    "print(\"slope when x changes from 2 to 3: \", m)\n",
    "plt.plot([2.0, 3.0], [f(2.0), f(3.0)], 'k--')\n",
    "\n",
    "# slope when x changes from 2 to 3 is\n",
    "deltay = f(2.1) - f(2.0)\n",
    "deltax = 2.1 - 2.0\n",
    "m = deltay / deltax\n",
    "print(\"slope when x changes from 2 to 2.5: \", m)\n",
    "plt.plot([2.0, 2.1], [f(2.0), f(2.1)], 'k--')\n",
    "\n",
    "# plot the tangent line, instantaneous slope is 4\n",
    "# instantaneous slope (derivative) is 4, so line is y = 4x + b that goes through point (2,4), so y = 4x -4\n",
    "# plot tangent at x=1.5 to x=3.5\n",
    "x1 = 1.0\n",
    "y1 = 4 * x1 - 4\n",
    "x2 = 3.5\n",
    "y2 = 4 * x2 - 4\n",
    "plt.plot([x1, x2], [y1, y2], 'r-')\n",
    "plt.plot(2, 4, 'ro');\n",
    "plt.grid();\n",
    "\n",
    "# example of slope as delta x decreases from 1 in powers of 10\n",
    "x = 2\n",
    "deltax = 10\n",
    "\n",
    "for i in range(8):\n",
    "    deltax = deltax / 10\n",
    "    deltay = f(x + deltax) - f(x)\n",
    "    m = deltay / deltax\n",
    "    print(\"slope at x=%f for deltax=%0.16f is:%0.16f\" % (x, deltax, m))"
   ]
  },
  {
   "cell_type": "markdown",
   "metadata": {},
   "source": [
    "This is the fundamental idea behind the definition of the derivative, as the slope of the function in the limit when $\\Delta x \\rightarrow 0$.\n",
    "\\begin{equation}\n",
    "m_{\\text{tan}} = \\lim\\limits_{\\Delta x \\to 0} \\frac{\\Delta y}{\\Delta x} = \\lim\\limits_{\\Delta x \\to 0} \\frac{f(x + \\Delta x) - f(x)}{\\Delta x} \n",
    "\\end{equation}\n"
   ]
  },
  {
   "cell_type": "markdown",
   "metadata": {},
   "source": [
    "## 2.4.2 Derivative of a Tensor Operation: The Gradient\n",
    "\n",
    "The derivative of a tensor operation (or tensor function) is called a *gradient*.  Gradients are just the generalization of the\n",
    "concept of derivatives to functions that take tensors as inputs.  \n",
    "\n",
    "For a scalar function the derivative represents the *local slope* of the curve of the function.  In the same way, the gradient of\n",
    "a tensor function represents the *curvature* of the multidimensional surfice described by the function.  It describes how the ouput of\n",
    "the functions varies when its input parameters vary.\n",
    "\n",
    "In machine learning (e.g. for a linear regression) consider:\n",
    "\n",
    "- An input vector, $x$ (a sample in a dataset)\n",
    "- A matrix, $W$ (the weights of a model, in our machine learning class we often refered to the weights as the theta or $\\theta$ parameters of the model).\n",
    "- A target, $y\\_true$ (what the model should learn to associate to $x$).\n",
    "- a loss function, `loss` (meant to measure the gap between the model's current predictions and $y_true$)\n",
    "\n",
    "We can use $W$ (and $b$) to compute the target candidate $y\\_pred$, and then compute the loss, or mismatch, between the \n",
    "target candidate $y\\_pred$ and the target $y\\_true$:\n",
    "\n",
    "```\n",
    "y_pred = W @ X + b\n",
    "loss_value = loss(y_pred, y_true)\n",
    "```\n",
    "\n",
    "Given fixed inputs $x$ and $y\\_true$ the preceeding can be interpreted as a function mapping values of $W$ to the loss values:\n",
    "\n",
    "```\n",
    "loss_value = f(W)\n",
    "```\n",
    "\n"
   ]
  },
  {
   "cell_type": "markdown",
   "metadata": {},
   "source": [
    "## 2.4.3 Stochastic Gradient Descent"
   ]
  },
  {
   "cell_type": "markdown",
   "metadata": {},
   "source": [
    "## 2.4.4 Chaining Derivatives: The Backpropagation Algorithm"
   ]
  },
  {
   "cell_type": "markdown",
   "metadata": {},
   "source": [
    "# 2.5 Looking Back at our First Example\n",
    "\n",
    "The first example at start of chapter in section 2.1 used the keras high level api of tensorflow to \n",
    "specify a fully connected network with a dense layer followed by the output activation layer.\n",
    "\n",
    "In this section to wrap things up, the author digs deeper into tensorflow and computation graphs, showing a bit\n",
    "of a hand-built implementation of the high level operations here using lower more basic level tensorflow\n",
    "concepts."
   ]
  },
  {
   "cell_type": "markdown",
   "metadata": {},
   "source": [
    "## 2.5.1 Reimplementing our First Example from Scratch\n",
    "\n",
    "A simple Dense class."
   ]
  },
  {
   "cell_type": "code",
   "execution_count": 77,
   "metadata": {},
   "outputs": [],
   "source": [
    "import tensorflow as tf\n",
    "\n",
    "class NaiveDense:\n",
    "    \"\"\"Simple example of how Dense layers in tf.keras can be implemented\n",
    "    using tensorflow variables to create tensorflow compute graphs.\n",
    "    \n",
    "    This is a class that we can use to insttantiate a layer with some\n",
    "    particular number of inputs and outputs, that maintains a weight\n",
    "    matrix W and bias vector b in order to implement forward passes\n",
    "    to calculate outputs given inputs, and to allow for calculation\n",
    "    of gradients so that weights W and biases b can be updated by\n",
    "    optimization to improve model performance iteratively.\n",
    "    \"\"\"\n",
    "    \n",
    "    def __init__(self, input_size, output_size, activation):\n",
    "        \"\"\"Class constructor, consruct initial weight matrix W and\n",
    "        bias matrix b with small random values and 0 values respectively.\n",
    "        \"\"\"\n",
    "        self.activation = activation\n",
    "        \n",
    "        # create a matrix W (model weights) of shape (input_size, output_size)\n",
    "        # initilized with random values\n",
    "        w_shape = (input_size, output_size)\n",
    "        w_initial_value = tf.random.uniform(w_shape, minval=0, maxval=1e-1)\n",
    "        self.W = tf.Variable(w_initial_value)\n",
    "        \n",
    "        # create a vector, b (bias vector) initialized with zeros\n",
    "        b_shape = (output_size,)\n",
    "        b_initial_value = tf.zeros(b_shape)\n",
    "        self.b = tf.Variable(b_initial_value)\n",
    "        \n",
    "        \n",
    "    def __call__(self, inputs):\n",
    "        \"\"\"Overload call operation on class to implement forward pass, calculating layer\n",
    "        outputs given some inputs to the layer.\n",
    "        \"\"\"\n",
    "        return self.activation(tf.matmul(inputs, self.W) + self.b)\n",
    "    \n",
    "    @property\n",
    "    def weights(self):\n",
    "        \"\"\"Convenience method for retrieving the layer's weights\n",
    "        \"\"\"\n",
    "        return [self.W, self.b]\n",
    "    "
   ]
  },
  {
   "cell_type": "markdown",
   "metadata": {},
   "source": [
    "A simple sequential class."
   ]
  },
  {
   "cell_type": "code",
   "execution_count": 78,
   "metadata": {},
   "outputs": [],
   "source": [
    "class NaiveSequential:\n",
    "    \"\"\"Exemple implementation of a Keras sequential model, which collects and composes a sequence of\n",
    "    layers, like the NaiveDense layer, together into a multi-layer model. \n",
    "    \"\"\"\n",
    "    \n",
    "    def __init__(self, layers):\n",
    "        \"\"\"Sequential model constructor, we are just given a list/tuple of layers which the model\n",
    "        manages and uses.\n",
    "        \"\"\"\n",
    "        self.layers = layers\n",
    "        \n",
    "    def __call__(self, inputs):\n",
    "        \"\"\"Overload call operation for Sequential model.  Basically perform a forward pass through\n",
    "        all layers, transforming inputs to a layer to outputs, which are then feed as inputs to next\n",
    "        layer in the sequential model, until final layer is reached.  Final outputs are\n",
    "        returned from calling this sequential model.\n",
    "        \"\"\"\n",
    "        x = inputs\n",
    "        for layer in self.layers:\n",
    "            # call forward pass on current layer using inputs from previous layer/loop\n",
    "            x = layer(x)\n",
    "            \n",
    "        # return outputs calculated from final layer\n",
    "        return x\n",
    "    \n",
    "    @property\n",
    "    def weights(self):\n",
    "        \"\"\"Convenience method for gathering weights of all layers as a list\n",
    "        \"\"\"\n",
    "        weights = []\n",
    "        for layer in self.layers:\n",
    "            weights += layer.weights\n",
    "        return weights\n"
   ]
  },
  {
   "cell_type": "markdown",
   "metadata": {},
   "source": [
    "Using the `NaiveDense` class and the `NaiveSequential` class, we can create a mock Keras model"
   ]
  },
  {
   "cell_type": "code",
   "execution_count": 79,
   "metadata": {},
   "outputs": [
    {
     "data": {
      "text/plain": [
       "[<tf.Variable 'Variable:0' shape=(784, 512) dtype=float32, numpy=\n",
       " array([[0.03283162, 0.04983228, 0.00289083, ..., 0.0714911 , 0.04027151,\n",
       "         0.09350808],\n",
       "        [0.06547701, 0.08942097, 0.0383893 , ..., 0.08447567, 0.00744203,\n",
       "         0.02198197],\n",
       "        [0.00225445, 0.00945262, 0.07389318, ..., 0.09351691, 0.06161004,\n",
       "         0.08220831],\n",
       "        ...,\n",
       "        [0.01565852, 0.05811935, 0.0139761 , ..., 0.0135565 , 0.01014519,\n",
       "         0.0561411 ],\n",
       "        [0.02450842, 0.06206058, 0.00266582, ..., 0.03524465, 0.05277698,\n",
       "         0.09396555],\n",
       "        [0.04608893, 0.04326682, 0.06262852, ..., 0.09042138, 0.02261951,\n",
       "         0.07896592]], dtype=float32)>,\n",
       " <tf.Variable 'Variable:0' shape=(512,) dtype=float32, numpy=\n",
       " array([0., 0., 0., 0., 0., 0., 0., 0., 0., 0., 0., 0., 0., 0., 0., 0., 0.,\n",
       "        0., 0., 0., 0., 0., 0., 0., 0., 0., 0., 0., 0., 0., 0., 0., 0., 0.,\n",
       "        0., 0., 0., 0., 0., 0., 0., 0., 0., 0., 0., 0., 0., 0., 0., 0., 0.,\n",
       "        0., 0., 0., 0., 0., 0., 0., 0., 0., 0., 0., 0., 0., 0., 0., 0., 0.,\n",
       "        0., 0., 0., 0., 0., 0., 0., 0., 0., 0., 0., 0., 0., 0., 0., 0., 0.,\n",
       "        0., 0., 0., 0., 0., 0., 0., 0., 0., 0., 0., 0., 0., 0., 0., 0., 0.,\n",
       "        0., 0., 0., 0., 0., 0., 0., 0., 0., 0., 0., 0., 0., 0., 0., 0., 0.,\n",
       "        0., 0., 0., 0., 0., 0., 0., 0., 0., 0., 0., 0., 0., 0., 0., 0., 0.,\n",
       "        0., 0., 0., 0., 0., 0., 0., 0., 0., 0., 0., 0., 0., 0., 0., 0., 0.,\n",
       "        0., 0., 0., 0., 0., 0., 0., 0., 0., 0., 0., 0., 0., 0., 0., 0., 0.,\n",
       "        0., 0., 0., 0., 0., 0., 0., 0., 0., 0., 0., 0., 0., 0., 0., 0., 0.,\n",
       "        0., 0., 0., 0., 0., 0., 0., 0., 0., 0., 0., 0., 0., 0., 0., 0., 0.,\n",
       "        0., 0., 0., 0., 0., 0., 0., 0., 0., 0., 0., 0., 0., 0., 0., 0., 0.,\n",
       "        0., 0., 0., 0., 0., 0., 0., 0., 0., 0., 0., 0., 0., 0., 0., 0., 0.,\n",
       "        0., 0., 0., 0., 0., 0., 0., 0., 0., 0., 0., 0., 0., 0., 0., 0., 0.,\n",
       "        0., 0., 0., 0., 0., 0., 0., 0., 0., 0., 0., 0., 0., 0., 0., 0., 0.,\n",
       "        0., 0., 0., 0., 0., 0., 0., 0., 0., 0., 0., 0., 0., 0., 0., 0., 0.,\n",
       "        0., 0., 0., 0., 0., 0., 0., 0., 0., 0., 0., 0., 0., 0., 0., 0., 0.,\n",
       "        0., 0., 0., 0., 0., 0., 0., 0., 0., 0., 0., 0., 0., 0., 0., 0., 0.,\n",
       "        0., 0., 0., 0., 0., 0., 0., 0., 0., 0., 0., 0., 0., 0., 0., 0., 0.,\n",
       "        0., 0., 0., 0., 0., 0., 0., 0., 0., 0., 0., 0., 0., 0., 0., 0., 0.,\n",
       "        0., 0., 0., 0., 0., 0., 0., 0., 0., 0., 0., 0., 0., 0., 0., 0., 0.,\n",
       "        0., 0., 0., 0., 0., 0., 0., 0., 0., 0., 0., 0., 0., 0., 0., 0., 0.,\n",
       "        0., 0., 0., 0., 0., 0., 0., 0., 0., 0., 0., 0., 0., 0., 0., 0., 0.,\n",
       "        0., 0., 0., 0., 0., 0., 0., 0., 0., 0., 0., 0., 0., 0., 0., 0., 0.,\n",
       "        0., 0., 0., 0., 0., 0., 0., 0., 0., 0., 0., 0., 0., 0., 0., 0., 0.,\n",
       "        0., 0., 0., 0., 0., 0., 0., 0., 0., 0., 0., 0., 0., 0., 0., 0., 0.,\n",
       "        0., 0., 0., 0., 0., 0., 0., 0., 0., 0., 0., 0., 0., 0., 0., 0., 0.,\n",
       "        0., 0., 0., 0., 0., 0., 0., 0., 0., 0., 0., 0., 0., 0., 0., 0., 0.,\n",
       "        0., 0., 0., 0., 0., 0., 0., 0., 0., 0., 0., 0., 0., 0., 0., 0., 0.,\n",
       "        0., 0.], dtype=float32)>,\n",
       " <tf.Variable 'Variable:0' shape=(512, 10) dtype=float32, numpy=\n",
       " array([[0.0001246 , 0.04796047, 0.08307365, ..., 0.00755365, 0.0726558 ,\n",
       "         0.07563072],\n",
       "        [0.00548979, 0.06926809, 0.09913298, ..., 0.05056318, 0.00324609,\n",
       "         0.03665629],\n",
       "        [0.07669736, 0.0445231 , 0.04433182, ..., 0.0237557 , 0.07727603,\n",
       "         0.04201004],\n",
       "        ...,\n",
       "        [0.0743556 , 0.01294403, 0.020401  , ..., 0.04372345, 0.02654675,\n",
       "         0.02404829],\n",
       "        [0.09360635, 0.04154508, 0.04367296, ..., 0.07792312, 0.0361796 ,\n",
       "         0.02033446],\n",
       "        [0.08596528, 0.05206114, 0.07519436, ..., 0.05197823, 0.08338513,\n",
       "         0.03191784]], dtype=float32)>,\n",
       " <tf.Variable 'Variable:0' shape=(10,) dtype=float32, numpy=array([0., 0., 0., 0., 0., 0., 0., 0., 0., 0.], dtype=float32)>]"
      ]
     },
     "execution_count": 79,
     "metadata": {},
     "output_type": "execute_result"
    }
   ],
   "source": [
    "model = NaiveSequential([\n",
    "    # hidden layer is shape (784 inputs, 512 hidden unit outputs), and uses relu activation function\n",
    "    NaiveDense(input_size=28 * 28, output_size=512, activation=tf.nn.relu),\n",
    "    \n",
    "    # output layer is shape (512 inputs, 10 outputs) and uses a softmax activation function\n",
    "    NaiveDense(input_size=512, output_size=10, activation=tf.nn.softmax)\n",
    "])\n",
    "\n",
    "assert len(model.weights) == 4\n",
    "model.weights"
   ]
  },
  {
   "cell_type": "markdown",
   "metadata": {},
   "source": [
    "Next we need a way to iterate over MNIST data in mini-batches.  In Python this is easy using slicing to slice up inputs into\n",
    "batch-sized chunks."
   ]
  },
  {
   "cell_type": "code",
   "execution_count": 80,
   "metadata": {},
   "outputs": [],
   "source": [
    "import math\n",
    "\n",
    "class BatchGenerator:\n",
    "    \"\"\"Convenience class that implements an iterator like interface to break up training inputs into\n",
    "    batch-sized samples for batch training\n",
    "    \"\"\"\n",
    "    \n",
    "    def __init__(self, images, labels, batch_size=128):\n",
    "        \"\"\"Constructor is given full training data (images) and labels.  Defaults to\n",
    "        batch sizes of 128 if not specified in construction of the generator.\n",
    "        \"\"\"\n",
    "        # number of image samples and number of image labels must match\n",
    "        assert len(images) == len(labels)\n",
    "        \n",
    "        # initial take first batch starting at index 0\n",
    "        self.index = 0\n",
    "        \n",
    "        self.images = images\n",
    "        self.labels = labels\n",
    "        self.batch_size = batch_size\n",
    "        \n",
    "        # calculate number of batches to complete a full training cycle, we round up so last batch might\n",
    "        # end up with fewer training samples that all of the preceding ones\n",
    "        self.num_batches = math.ceil(len(images) / batch_size)\n",
    "        \n",
    "    def next(self):\n",
    "        \"\"\"Generator/iterator, calculate and return next batch of input samples and output\n",
    "        labels for batch training.\n",
    "        \"\"\"\n",
    "        # slice out the next batch of inputs and outputs\n",
    "        images = self.images[self.index : self.index + self.batch_size]\n",
    "        labels = self.labels[self.index : self.index + self.batch_size]\n",
    "        \n",
    "        # update index for next batch iteration\n",
    "        self.index += self.batch_size\n",
    "        \n",
    "        return images, labels"
   ]
  },
  {
   "cell_type": "markdown",
   "metadata": {},
   "source": [
    "## 2.5.2 Running one Training Step\n",
    "\n",
    "The most difficult part is the \"training step\".  We need to update the weights after the model runs.  We need to perform the following\n",
    "steps to train a model:\n",
    "\n",
    "1. Compute the predictions (output) of the model for the images in the batch\n",
    "2. Compute the loss value for those predictions, given the actual labels.\n",
    "3. Compute the gradient of the loss with regard to the model's weights.\n",
    "4. Move the weights by a small amount (learning rate) in the direction opposite to the gradient.\n",
    "\n",
    "To compute the gradient, we will use the TensorFlow `GradientTape` object."
   ]
  },
  {
   "cell_type": "code",
   "execution_count": 81,
   "metadata": {},
   "outputs": [],
   "source": [
    "def one_training_step(model, images_batch, labels_batch):\n",
    "    \"\"\"Function to perform a single training step on a single batch for\n",
    "    our example NaiveModel.  We expect the current model, and\n",
    "    a batch of images and labels as inputs.  The model performs\n",
    "    the steps 1-4 described above.\n",
    "    \"\"\"\n",
    "    with tf.GradientTape() as tape:\n",
    "        # 1. forward pass, compute predictions of the model\n",
    "        predictions = model(images_batch)\n",
    "\n",
    "        # 2. compute loss, use crossentropy loss function, notice we get a loss for each batch\n",
    "        # sample, and we then just average the losses over all samples to compute the\n",
    "        # output layer loss\n",
    "        per_sample_losses = tf.keras.losses.sparse_categorical_crossentropy(labels_batch, predictions)\n",
    "        average_loss = tf.reduce_mean(per_sample_losses)\n",
    "        #print(f\"average loss {average_loss}\")\n",
    "        \n",
    "        # 3. Compute the gradient of the loss with regard to the weights.  The output gradients is a list\n",
    "        # where each entry corresponds to a weight from the model.weights list.\n",
    "        gradients = tape.gradient(average_loss, model.weights)\n",
    "\n",
    "        # 4. Update the weights using the gradient\n",
    "        # this is actually a call to another function that applies the weight updates\n",
    "        update_weights(gradients, model.weights)\n",
    "\n",
    "        return average_loss"
   ]
  },
  {
   "cell_type": "markdown",
   "metadata": {},
   "source": [
    "As you know, the purpose of the \"weight update\" step is to move the weights by \"a bit\" in a direction that will reduce\n",
    "loss on this batch (e.g. batch gradient descent).  The magnitude of the weight movement is determined by a\n",
    "`learning_rate` metaparameter, which is a parameter that is usually specified for the keras/optimizer.\n",
    "\n",
    "The simplest way to implement this is to subtract `gradient * learning_rate` from each weight."
   ]
  },
  {
   "cell_type": "code",
   "execution_count": 82,
   "metadata": {},
   "outputs": [],
   "source": [
    "# might have to be modified to get training to converge, usually this would be another parameter specified for\n",
    "# the model or optimizer\n",
    "learning_rate = 0.0001\n",
    "\n",
    "def update_weights(gradients, weights):\n",
    "    \"\"\"Perform weight update for gradient descent optimization using the calculated gradients of\n",
    "    the current weights.\n",
    "    \"\"\"\n",
    "    for g, w in zip(gradients, weights):\n",
    "        # assign_sub is the equivalent of -= for TensorFlow variables.\n",
    "        w.assign_sub(g * learning_rate)"
   ]
  },
  {
   "cell_type": "code",
   "execution_count": 83,
   "metadata": {},
   "outputs": [],
   "source": [
    "# in practice you wouldn't want to update weights by hand, but use an optimizer from tf/keras library, e.g.\n",
    "from tensorflow.keras import optimizers\n",
    "\n",
    "optimizer = optimizers.SGD(learning_rate=1e-3)\n",
    "\n",
    "def update_weights_alternative(gradients, weights):\n",
    "    optimizer.apply_gradients(zip(gradients, weights))"
   ]
  },
  {
   "cell_type": "markdown",
   "metadata": {},
   "source": [
    "Now that per-batch training step is ready, we can move on to implement an entire epoch of training."
   ]
  },
  {
   "cell_type": "markdown",
   "metadata": {},
   "source": [
    "## 2.5.3 The Full Training Loop\n",
    "\n",
    "An epoch of training consists of repeating the training step for each batch in the training data.  This is what 1 epoch of training\n",
    "is usually defined as.  We then will normally perform multiple epochs of training on the full batched training set until some stopping\n",
    "critera is reached (convergence of the loss function when it no longer changes by some threshold), or more simply just for some fixed\n",
    "number of epochs."
   ]
  },
  {
   "cell_type": "code",
   "execution_count": 84,
   "metadata": {},
   "outputs": [],
   "source": [
    "def fit(model, images, labels, epochs, batch_size=128):\n",
    "    \"\"\"Perform batch gradient descent.  Perform the indicated number of epochs of training. For each epoch, \n",
    "    train on all of the batches of the training data.\n",
    "    \"\"\"\n",
    "    # perform the indicated number of epochs of training\n",
    "    for epoch_counter in range(epochs):\n",
    "        print(f\"Epoch {epoch_counter}\")\n",
    "        \n",
    "        # Create a batch generator/iterator for this epoch of training\n",
    "        batch_generator = BatchGenerator(images, labels)\n",
    "        \n",
    "        # iterate over all batches of the training data to perform 1 epoch of training\n",
    "        for batch_counter in range(batch_generator.num_batches):\n",
    "            images_batch, labels_batch = batch_generator.next()\n",
    "            loss = one_training_step(model, images_batch, labels_batch)\n",
    "            # display batch progress by reporting loss\n",
    "            if batch_counter % 100 == 0:\n",
    "                print(f\"   loss at batch {batch_counter}: {loss:.2f}\")"
   ]
  },
  {
   "cell_type": "markdown",
   "metadata": {},
   "source": [
    "Lets test drive it."
   ]
  },
  {
   "cell_type": "code",
   "execution_count": 85,
   "metadata": {},
   "outputs": [],
   "source": [
    "from tensorflow.keras.datasets import mnist\n",
    "\n",
    "# reload the mnist data again\n",
    "(train_images, train_labels), (test_images, test_labels) = mnist.load_data()\n",
    "\n",
    "train_images = train_images.reshape((60000, 28 * 28))\n",
    "train_images = train_images.astype(\"float32\") / 255\n",
    "test_images = test_images.reshape((10000, 28 * 28))\n",
    "test_images = test_images.astype(\"float32\") / 255"
   ]
  },
  {
   "cell_type": "code",
   "execution_count": 86,
   "metadata": {},
   "outputs": [
    {
     "name": "stdout",
     "output_type": "stream",
     "text": [
      "Epoch 0\n",
      "   loss at batch 0: 5.79\n",
      "   loss at batch 100: 2.32\n",
      "   loss at batch 200: 2.32\n",
      "   loss at batch 300: 2.29\n",
      "   loss at batch 400: 2.30\n",
      "Epoch 1\n",
      "   loss at batch 0: 2.26\n",
      "   loss at batch 100: 2.27\n",
      "   loss at batch 200: 2.27\n",
      "   loss at batch 300: 2.25\n",
      "   loss at batch 400: 2.25\n",
      "Epoch 2\n",
      "   loss at batch 0: 2.22\n",
      "   loss at batch 100: 2.23\n",
      "   loss at batch 200: 2.22\n",
      "   loss at batch 300: 2.21\n",
      "   loss at batch 400: 2.21\n",
      "Epoch 3\n",
      "   loss at batch 0: 2.17\n",
      "   loss at batch 100: 2.20\n",
      "   loss at batch 200: 2.18\n",
      "   loss at batch 300: 2.16\n",
      "   loss at batch 400: 2.17\n",
      "Epoch 4\n",
      "   loss at batch 0: 2.13\n",
      "   loss at batch 100: 2.16\n",
      "   loss at batch 200: 2.14\n",
      "   loss at batch 300: 2.12\n",
      "   loss at batch 400: 2.13\n",
      "Epoch 5\n",
      "   loss at batch 0: 2.09\n",
      "   loss at batch 100: 2.12\n",
      "   loss at batch 200: 2.10\n",
      "   loss at batch 300: 2.08\n",
      "   loss at batch 400: 2.09\n",
      "Epoch 6\n",
      "   loss at batch 0: 2.05\n",
      "   loss at batch 100: 2.08\n",
      "   loss at batch 200: 2.06\n",
      "   loss at batch 300: 2.05\n",
      "   loss at batch 400: 2.06\n",
      "Epoch 7\n",
      "   loss at batch 0: 2.01\n",
      "   loss at batch 100: 2.05\n",
      "   loss at batch 200: 2.02\n",
      "   loss at batch 300: 2.01\n",
      "   loss at batch 400: 2.02\n",
      "Epoch 8\n",
      "   loss at batch 0: 1.97\n",
      "   loss at batch 100: 2.01\n",
      "   loss at batch 200: 1.98\n",
      "   loss at batch 300: 1.97\n",
      "   loss at batch 400: 1.98\n",
      "Epoch 9\n",
      "   loss at batch 0: 1.93\n",
      "   loss at batch 100: 1.98\n",
      "   loss at batch 200: 1.94\n",
      "   loss at batch 300: 1.93\n",
      "   loss at batch 400: 1.95\n",
      "Epoch 10\n",
      "   loss at batch 0: 1.90\n",
      "   loss at batch 100: 1.94\n",
      "   loss at batch 200: 1.90\n",
      "   loss at batch 300: 1.90\n",
      "   loss at batch 400: 1.92\n",
      "Epoch 11\n",
      "   loss at batch 0: 1.86\n",
      "   loss at batch 100: 1.91\n",
      "   loss at batch 200: 1.87\n",
      "   loss at batch 300: 1.86\n",
      "   loss at batch 400: 1.88\n",
      "Epoch 12\n",
      "   loss at batch 0: 1.82\n",
      "   loss at batch 100: 1.88\n",
      "   loss at batch 200: 1.83\n",
      "   loss at batch 300: 1.83\n",
      "   loss at batch 400: 1.85\n",
      "Epoch 13\n",
      "   loss at batch 0: 1.79\n",
      "   loss at batch 100: 1.85\n",
      "   loss at batch 200: 1.80\n",
      "   loss at batch 300: 1.80\n",
      "   loss at batch 400: 1.82\n",
      "Epoch 14\n",
      "   loss at batch 0: 1.76\n",
      "   loss at batch 100: 1.82\n",
      "   loss at batch 200: 1.76\n",
      "   loss at batch 300: 1.76\n",
      "   loss at batch 400: 1.79\n",
      "Epoch 15\n",
      "   loss at batch 0: 1.72\n",
      "   loss at batch 100: 1.78\n",
      "   loss at batch 200: 1.73\n",
      "   loss at batch 300: 1.73\n",
      "   loss at batch 400: 1.76\n",
      "Epoch 16\n",
      "   loss at batch 0: 1.69\n",
      "   loss at batch 100: 1.75\n",
      "   loss at batch 200: 1.70\n",
      "   loss at batch 300: 1.70\n",
      "   loss at batch 400: 1.73\n",
      "Epoch 17\n",
      "   loss at batch 0: 1.66\n",
      "   loss at batch 100: 1.72\n",
      "   loss at batch 200: 1.66\n",
      "   loss at batch 300: 1.67\n",
      "   loss at batch 400: 1.70\n",
      "Epoch 18\n",
      "   loss at batch 0: 1.63\n",
      "   loss at batch 100: 1.70\n",
      "   loss at batch 200: 1.63\n",
      "   loss at batch 300: 1.64\n",
      "   loss at batch 400: 1.67\n",
      "Epoch 19\n",
      "   loss at batch 0: 1.60\n",
      "   loss at batch 100: 1.67\n",
      "   loss at batch 200: 1.60\n",
      "   loss at batch 300: 1.61\n",
      "   loss at batch 400: 1.64\n",
      "Epoch 20\n",
      "   loss at batch 0: 1.57\n",
      "   loss at batch 100: 1.64\n",
      "   loss at batch 200: 1.57\n",
      "   loss at batch 300: 1.58\n",
      "   loss at batch 400: 1.62\n",
      "Epoch 21\n",
      "   loss at batch 0: 1.54\n",
      "   loss at batch 100: 1.61\n",
      "   loss at batch 200: 1.54\n",
      "   loss at batch 300: 1.55\n",
      "   loss at batch 400: 1.59\n",
      "Epoch 22\n",
      "   loss at batch 0: 1.51\n",
      "   loss at batch 100: 1.59\n",
      "   loss at batch 200: 1.51\n",
      "   loss at batch 300: 1.53\n",
      "   loss at batch 400: 1.56\n",
      "Epoch 23\n",
      "   loss at batch 0: 1.48\n",
      "   loss at batch 100: 1.56\n",
      "   loss at batch 200: 1.48\n",
      "   loss at batch 300: 1.50\n",
      "   loss at batch 400: 1.54\n",
      "Epoch 24\n",
      "   loss at batch 0: 1.46\n",
      "   loss at batch 100: 1.53\n",
      "   loss at batch 200: 1.45\n",
      "   loss at batch 300: 1.47\n",
      "   loss at batch 400: 1.51\n",
      "Epoch 25\n",
      "   loss at batch 0: 1.43\n",
      "   loss at batch 100: 1.51\n",
      "   loss at batch 200: 1.43\n",
      "   loss at batch 300: 1.45\n",
      "   loss at batch 400: 1.49\n",
      "Epoch 26\n",
      "   loss at batch 0: 1.40\n",
      "   loss at batch 100: 1.48\n",
      "   loss at batch 200: 1.40\n",
      "   loss at batch 300: 1.42\n",
      "   loss at batch 400: 1.47\n",
      "Epoch 27\n",
      "   loss at batch 0: 1.38\n",
      "   loss at batch 100: 1.46\n",
      "   loss at batch 200: 1.38\n",
      "   loss at batch 300: 1.40\n",
      "   loss at batch 400: 1.45\n",
      "Epoch 28\n",
      "   loss at batch 0: 1.35\n",
      "   loss at batch 100: 1.44\n",
      "   loss at batch 200: 1.35\n",
      "   loss at batch 300: 1.37\n",
      "   loss at batch 400: 1.42\n",
      "Epoch 29\n",
      "   loss at batch 0: 1.33\n",
      "   loss at batch 100: 1.41\n",
      "   loss at batch 200: 1.33\n",
      "   loss at batch 300: 1.35\n",
      "   loss at batch 400: 1.40\n",
      "Epoch 30\n",
      "   loss at batch 0: 1.31\n",
      "   loss at batch 100: 1.39\n",
      "   loss at batch 200: 1.30\n",
      "   loss at batch 300: 1.33\n",
      "   loss at batch 400: 1.38\n",
      "Epoch 31\n",
      "   loss at batch 0: 1.28\n",
      "   loss at batch 100: 1.37\n",
      "   loss at batch 200: 1.28\n",
      "   loss at batch 300: 1.31\n",
      "   loss at batch 400: 1.36\n",
      "Epoch 32\n",
      "   loss at batch 0: 1.26\n",
      "   loss at batch 100: 1.35\n",
      "   loss at batch 200: 1.26\n",
      "   loss at batch 300: 1.28\n",
      "   loss at batch 400: 1.34\n",
      "Epoch 33\n",
      "   loss at batch 0: 1.24\n",
      "   loss at batch 100: 1.33\n",
      "   loss at batch 200: 1.24\n",
      "   loss at batch 300: 1.26\n",
      "   loss at batch 400: 1.32\n",
      "Epoch 34\n",
      "   loss at batch 0: 1.22\n",
      "   loss at batch 100: 1.31\n",
      "   loss at batch 200: 1.21\n",
      "   loss at batch 300: 1.24\n",
      "   loss at batch 400: 1.30\n",
      "Epoch 35\n",
      "   loss at batch 0: 1.20\n",
      "   loss at batch 100: 1.29\n",
      "   loss at batch 200: 1.19\n",
      "   loss at batch 300: 1.22\n",
      "   loss at batch 400: 1.29\n",
      "Epoch 36\n",
      "   loss at batch 0: 1.18\n",
      "   loss at batch 100: 1.27\n",
      "   loss at batch 200: 1.17\n",
      "   loss at batch 300: 1.21\n",
      "   loss at batch 400: 1.27\n",
      "Epoch 37\n",
      "   loss at batch 0: 1.16\n",
      "   loss at batch 100: 1.25\n",
      "   loss at batch 200: 1.15\n",
      "   loss at batch 300: 1.19\n",
      "   loss at batch 400: 1.25\n",
      "Epoch 38\n",
      "   loss at batch 0: 1.15\n",
      "   loss at batch 100: 1.23\n",
      "   loss at batch 200: 1.13\n",
      "   loss at batch 300: 1.17\n",
      "   loss at batch 400: 1.23\n",
      "Epoch 39\n",
      "   loss at batch 0: 1.13\n",
      "   loss at batch 100: 1.21\n",
      "   loss at batch 200: 1.12\n",
      "   loss at batch 300: 1.15\n",
      "   loss at batch 400: 1.22\n",
      "Epoch 40\n",
      "   loss at batch 0: 1.11\n",
      "   loss at batch 100: 1.20\n",
      "   loss at batch 200: 1.10\n",
      "   loss at batch 300: 1.14\n",
      "   loss at batch 400: 1.20\n",
      "Epoch 41\n",
      "   loss at batch 0: 1.09\n",
      "   loss at batch 100: 1.18\n",
      "   loss at batch 200: 1.08\n",
      "   loss at batch 300: 1.12\n",
      "   loss at batch 400: 1.19\n",
      "Epoch 42\n",
      "   loss at batch 0: 1.08\n",
      "   loss at batch 100: 1.16\n",
      "   loss at batch 200: 1.06\n",
      "   loss at batch 300: 1.10\n",
      "   loss at batch 400: 1.17\n",
      "Epoch 43\n",
      "   loss at batch 0: 1.06\n",
      "   loss at batch 100: 1.15\n",
      "   loss at batch 200: 1.05\n",
      "   loss at batch 300: 1.09\n",
      "   loss at batch 400: 1.16\n",
      "Epoch 44\n",
      "   loss at batch 0: 1.05\n",
      "   loss at batch 100: 1.13\n",
      "   loss at batch 200: 1.03\n",
      "   loss at batch 300: 1.07\n",
      "   loss at batch 400: 1.14\n",
      "Epoch 45\n",
      "   loss at batch 0: 1.03\n",
      "   loss at batch 100: 1.12\n",
      "   loss at batch 200: 1.02\n",
      "   loss at batch 300: 1.06\n",
      "   loss at batch 400: 1.13\n",
      "Epoch 46\n",
      "   loss at batch 0: 1.02\n",
      "   loss at batch 100: 1.10\n",
      "   loss at batch 200: 1.00\n",
      "   loss at batch 300: 1.04\n",
      "   loss at batch 400: 1.12\n",
      "Epoch 47\n",
      "   loss at batch 0: 1.00\n",
      "   loss at batch 100: 1.09\n",
      "   loss at batch 200: 0.99\n",
      "   loss at batch 300: 1.03\n",
      "   loss at batch 400: 1.11\n",
      "Epoch 48\n",
      "   loss at batch 0: 0.99\n",
      "   loss at batch 100: 1.07\n",
      "   loss at batch 200: 0.97\n",
      "   loss at batch 300: 1.02\n",
      "   loss at batch 400: 1.09\n",
      "Epoch 49\n",
      "   loss at batch 0: 0.98\n",
      "   loss at batch 100: 1.06\n",
      "   loss at batch 200: 0.96\n",
      "   loss at batch 300: 1.00\n",
      "   loss at batch 400: 1.08\n"
     ]
    }
   ],
   "source": [
    "# fit the model with 10 epochs of batch training\n",
    "fit(model, train_images, train_labels, epochs=50, batch_size=128)"
   ]
  },
  {
   "cell_type": "markdown",
   "metadata": {},
   "source": [
    "## 2.5.4 Evaluating the Model"
   ]
  },
  {
   "cell_type": "markdown",
   "metadata": {},
   "source": [
    "We can evaluate the model by taking the `argmax` of its predictions over the test images and comparing to the expected labels."
   ]
  },
  {
   "cell_type": "code",
   "execution_count": 87,
   "metadata": {},
   "outputs": [
    {
     "name": "stdout",
     "output_type": "stream",
     "text": [
      "accuracy: 0.82\n"
     ]
    }
   ],
   "source": [
    "predictions = model(test_images)\n",
    "\n",
    "# convert tensorflow tensor/variable to a numpy array\n",
    "predictions = predictions.numpy()\n",
    "\n",
    "predicted_labels = np.argmax(predictions, axis=1)\n",
    "matches = predicted_labels == test_labels\n",
    "print(f\"accuracy: {matches.mean():.2f}\")"
   ]
  },
  {
   "cell_type": "markdown",
   "metadata": {},
   "source": [
    "Currently getting an accuracy of 82% which is not great compared to the original keras example.  But loss is still going down so could/should\n",
    "probably inbcrease learning rate and or continue training to reduce loss further."
   ]
  }
 ],
 "metadata": {
  "author": "me",
  "kernelspec": {
   "display_name": "Python 3 (ipykernel)",
   "language": "python",
   "name": "python3"
  },
  "language_info": {
   "codemirror_mode": {
    "name": "ipython",
    "version": 3
   },
   "file_extension": ".py",
   "mimetype": "text/x-python",
   "name": "python",
   "nbconvert_exporter": "python",
   "pygments_lexer": "ipython3",
   "version": "3.9.17"
  },
  "latex_envs": {
   "LaTeX_envs_menu_present": true,
   "autoclose": false,
   "autocomplete": true,
   "bibliofile": "biblio.bib",
   "cite_by": "apalike",
   "current_citInitial": 1,
   "eqLabelWithNumbers": true,
   "eqNumInitial": 1,
   "hotkeys": {
    "equation": "Ctrl-E",
    "itemize": "Ctrl-I"
   },
   "labels_anchors": false,
   "latex_user_defs": false,
   "report_style_numbering": false,
   "user_envs_cfg": false
  },
  "toc": {
   "base_numbering": 1,
   "nav_menu": {},
   "number_sections": true,
   "sideBar": true,
   "skip_h1_title": false,
   "title_cell": "Table of Contents",
   "title_sidebar": "Contents",
   "toc_cell": false,
   "toc_position": {},
   "toc_section_display": true,
   "toc_window_display": true
  },
  "toc-autonumbering": false,
  "toc-showcode": false,
  "toc-showmarkdowntxt": false
 },
 "nbformat": 4,
 "nbformat_minor": 4
}
