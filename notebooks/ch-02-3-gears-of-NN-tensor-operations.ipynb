{
 "cells": [
  {
   "cell_type": "code",
   "execution_count": 1,
   "id": "e535a40b-a002-46cb-b656-a92ad4ddbad2",
   "metadata": {},
   "outputs": [
    {
     "name": "stderr",
     "output_type": "stream",
     "text": [
      "2025-05-23 18:25:27.357218: E external/local_xla/xla/stream_executor/cuda/cuda_fft.cc:467] Unable to register cuFFT factory: Attempting to register factory for plugin cuFFT when one has already been registered\n",
      "WARNING: All log messages before absl::InitializeLog() is called are written to STDERR\n",
      "E0000 00:00:1748024727.374693   24694 cuda_dnn.cc:8579] Unable to register cuDNN factory: Attempting to register factory for plugin cuDNN when one has already been registered\n",
      "E0000 00:00:1748024727.379693   24694 cuda_blas.cc:1407] Unable to register cuBLAS factory: Attempting to register factory for plugin cuBLAS when one has already been registered\n",
      "W0000 00:00:1748024727.393570   24694 computation_placer.cc:177] computation placer already registered. Please check linkage and avoid linking the same target more than once.\n",
      "W0000 00:00:1748024727.393600   24694 computation_placer.cc:177] computation placer already registered. Please check linkage and avoid linking the same target more than once.\n",
      "W0000 00:00:1748024727.393602   24694 computation_placer.cc:177] computation placer already registered. Please check linkage and avoid linking the same target more than once.\n",
      "W0000 00:00:1748024727.393604   24694 computation_placer.cc:177] computation placer already registered. Please check linkage and avoid linking the same target more than once.\n",
      "2025-05-23 18:25:27.399955: I tensorflow/core/platform/cpu_feature_guard.cc:210] This TensorFlow binary is optimized to use available CPU instructions in performance-critical operations.\n",
      "To enable the following instructions: AVX2 FMA, in other operations, rebuild TensorFlow with the appropriate compiler flags.\n"
     ]
    }
   ],
   "source": [
    "# suppress tensorflow logging, usually not useful unless you are having problems with tensorflow or accessing gpu\n",
    "import os\n",
    "#os.environ['TF_CPP_MIN_LOG_LEVEL'] = '3' \n",
    "\n",
    "# globally useful libraries / namespaces for this notebook\n",
    "import numpy as np\n",
    "import matplotlib.pyplot as plt\n",
    "from tensorflow.keras.datasets import mnist\n",
    "\n",
    "# notebook wide settings for plotting visualizations\n",
    "plt.rcParams['figure.figsize'] = (10, 8) # set default figure size, 10in by 8in"
   ]
  },
  {
   "cell_type": "markdown",
   "id": "6f5b2548-990e-4146-93e5-5ef3d2e77760",
   "metadata": {
    "tags": []
   },
   "source": [
    "# Chapter 2: The Mathematical Building Blocks of Neural Networks\n",
    "\n",
    "Supporting materials for:\n",
    "\n",
    "Chollet (2021). *Deep Learning with Python*. 2nd ed. Manning Publications Co.\n",
    "[Amazon](https://www.amazon.com/Learning-Python-Second-Fran%C3%A7ois-Chollet/dp/1617296864/ref=sr_1_1?crid=32NFM2SBCJVQQ)\n",
    "\n",
    "Understanding deep learning requires familiarity with many simple mathematical\n",
    "concepts: tensors, tensor operations, differentiation, gradient descent, and so on.\n",
    "Out goal in this notebook/chapter is to build up your intiution about these mathematical\n",
    "concepts without getting over technical.\n",
    "\n",
    "One note about the term tensors.  **Tensor** is a mathematical term that simply can be used to refer\n",
    "to a matrix of values, no matter how many dimensions.  Thus a 1-dimensional vector or a 2-dimensional\n",
    "matrix are both *Tensors*, as well as 3-dimensional or higher matrices.  Vectorized programming\n",
    "could also be referred to as tensor programming, but the term vectorized programming was coined\n",
    "before the term tensor was in common use.  Another difference is that the term Tensor programming\n",
    "and Tensor libraries have come to mean the types of vectorized or tensor operations we usually think of, but\n",
    "it also includes libraries that can automatically differentiate such tensors with respect to\n",
    "a loss function.  We will get to these concepts in a bit more detail below.\n",
    "\n"
   ]
  },
  {
   "cell_type": "markdown",
   "id": "49f34d6a-67f6-436c-8c79-f70e0546d9d9",
   "metadata": {},
   "source": [
    "## Note: Installing Keras/TensorFlow\n",
    "\n",
    "For this textbook we are using the `TensorFlow` library and mostly accessing the `Keras`\n",
    "neural network and deep learning API through the `TensorFlow`.  You will need to have\n",
    "a recent version of `Tensorflow/Keras` installed on your machine and available to your\n",
    "iPython kernel to run this notebook.  At the time of creation of this notebook, \n",
    "`TensorFlow/Keras` is no longer supported directly by the `Conda` package manager.  You\n",
    "should be doing a `pip install` command of `TensorFlow` to correctly get the \n",
    "most recent `TensorFlow` libraries with the `Keras` API available:\n",
    "\n",
    "```\n",
    "$ python3 -m pip install 'tensorflow'\n",
    "```\n",
    "\n",
    "If you have a suitable Nvidia GPU processor available on your your machine, you can get the `cuda` libraries\n",
    "setup and installed for `TensorFlow` by doing:\n",
    "\n",
    "```\n",
    "python3 -m pip install 'tensorflow[and-cuda]'\n",
    "```\n",
    "\n",
    "See the official [Install TensorFlow 2](https://www.tensorflow.org/install) for more detailed information about correctly\n",
    "getting `TensorFlow/Keras` installed on your system. [Install TensorFlow with pip](https://www.tensorflow.org/install/pip) \n",
    "has information on installing cuda/Nvidia.\n"
   ]
  },
  {
   "cell_type": "markdown",
   "id": "b3fa05ed-defc-4af3-acca-66789b3bbf59",
   "metadata": {},
   "source": [
    "# 2.3 The Gears of Neural Networks: Tensor Operations\n",
    "\n",
    "All transformations learned by neural networks can be reduced to a handful of *tensor operations*.\n",
    "For example, add tensors, multiply tensors, and so on.\n",
    "\n",
    "The `Dense` or fully connected layer, for example, can be interpreted as a tensor operation that takes\n",
    "a 2D tensor input and returns another 2D tensor output, using the following tensor operations:\n",
    "\n",
    "```\n",
    "output = relu(dot(W, input) + b)\n",
    "```\n",
    "\n",
    "There are 3 tensor operations here:  \n",
    "\n",
    "1. The `dot()` function is the dot product, or a 2D matrix multiplication\n",
    "   of `W` (the network weights) and the `input`.\n",
    "2. An addition (+) between the result of the matrix multiplication\n",
    "   and a vector named `b` (the network biases).\n",
    "3. A `relu()` operation is done, here `relu(x)` is `max(x, 0)`.  *relu* stands for *rectified linear unit*."
   ]
  },
  {
   "cell_type": "markdown",
   "id": "1b1cf412-c809-4622-8669-f0902a09015c",
   "metadata": {},
   "source": [
    "## 2.3.1 Element-wise Operations\n",
    "\n",
    "The `relu` operation and addition operation of the output above are examples of element-wise operations.  These are operations that are\n",
    "applied independently to each enatry in the tensors being considered.  These operations are highly amenable to massively parallel implementations,\n",
    "also known as *vectorized* implementations.  \n",
    "\n",
    "The dot product above represents a matrix multiplication operation.  But matrix multiplication, and other matrix/tensor operations are also\n",
    "highly amenable to parallel implementations.\n",
    "\n",
    "We can write naive implementations of the element-wise operations just discussed.  Naive here means that we are not parallelizing\n",
    "the computations.  But performing each element-wise operation 1 at a time (using loops to loop over the rank-2 2 dimensional\n",
    "matrix input).  So a naive `relu()` and `add()` operation would use loops in python over the tensors like this:"
   ]
  },
  {
   "cell_type": "code",
   "execution_count": 2,
   "id": "a804d270-f0fe-4a49-b0b5-82801b5f3bf7",
   "metadata": {},
   "outputs": [],
   "source": [
    "def naive_relu(x):\n",
    "    \"\"\"Naive (non-vectorized) rectified linear unit activation function.  We expect a 2-D tensor here, and we simply\n",
    "    loop over each row/column and \"rectify\" the value (e.g. any negative value becomes 0, but we keep positive values).\n",
    "    \"\"\"\n",
    "    # x is a rank-2 tensor\n",
    "    assert len(x.shape) == 2\n",
    "    \n",
    "    # avoid overwriting the input tensor\n",
    "    x = x.copy()\n",
    "    \n",
    "    # explicit loop to compute relus element by element\n",
    "    for i in range(x.shape[0]):\n",
    "        for j in range(x.shape[1]):\n",
    "            x[i, j] = max(x[i, j], 0)\n",
    "    \n",
    "    return x"
   ]
  },
  {
   "cell_type": "markdown",
   "id": "c9c37955-d253-45b6-965a-08bec14600d8",
   "metadata": {},
   "source": [
    "We will later on look at the `relu` and `cross_entropy` activation functions.  For example, all that the\n",
    "`relu` function does is set negative values to be 0 for the output activation."
   ]
  },
  {
   "cell_type": "code",
   "execution_count": 3,
   "id": "8b7f32c0-3fb6-47a5-97c8-a1963d111614",
   "metadata": {},
   "outputs": [
    {
     "data": {
      "image/png": "[encoded data removed]",
      "text/plain": [
       "<Figure size 1000x800 with 1 Axes>"
      ]
     },
     "metadata": {},
     "output_type": "display_data"
    }
   ],
   "source": [
    "# create a range of input values from -5 to 5\n",
    "x = np.linspace(-5, 5, 2500)\n",
    "\n",
    "# we reshape into a (50,50) matrix because that is what our naive_relu function expects\n",
    "y = naive_relu(x.reshape(50,50))\n",
    "\n",
    "# visualize the relu function\n",
    "plt.plot(x.reshape(2500), y.reshape(2500));\n",
    "plt.grid();"
   ]
  },
  {
   "cell_type": "code",
   "execution_count": 4,
   "id": "46710779-050e-4920-8eb8-e5a2cb27a3f7",
   "metadata": {},
   "outputs": [],
   "source": [
    "def naive_add(x, y):\n",
    "    \"\"\"\n",
    "    Naive (non-vectorized) matrix + matrix add.  We expect that `x` and `y` are 2-D tensors here of exactly\n",
    "    the same shapes and sizes.  We loop over each row/column and add corresponding values for the resulting\n",
    "    element wise addition.\n",
    "    \"\"\"\n",
    "    # x and y are rank-2 tensors\n",
    "    assert len(x.shape) == 2\n",
    "    assert x.shape == y.shape\n",
    "    \n",
    "    # avoid overwriting the input tensor\n",
    "    x = x.copy()\n",
    "    \n",
    "    # explicit loop to compute element wise addition\n",
    "    for i in range(x.shape[0]):\n",
    "        for j in range(x.shape[1]):\n",
    "            x[i, j] += y[i, j]\n",
    "            \n",
    "    return x\n"
   ]
  },
  {
   "cell_type": "code",
   "execution_count": 5,
   "id": "b2eacf2e-1488-4dde-b9ca-794e66eb09fc",
   "metadata": {},
   "outputs": [
    {
     "name": "stdout",
     "output_type": "stream",
     "text": [
      "[[-0.52022315  4.64512848 -4.5770441   0.19273057  3.26964759]\n",
      " [ 1.74861899 -0.16937206 -0.8116561  -3.50534119 -5.19162492]\n",
      " [ 1.24836127  4.82614833  1.18408099 -0.046286   -1.77062902]\n",
      " [-2.09672692 -2.87454939  2.46892051 -2.35047757 -0.05608658]\n",
      " [-1.00845264  1.12289142  1.62192648 -4.81136952  5.3227735 ]]\n",
      "[[0.         4.64512848 0.         0.19273057 3.26964759]\n",
      " [1.74861899 0.         0.         0.         0.        ]\n",
      " [1.24836127 4.82614833 1.18408099 0.         0.        ]\n",
      " [0.         0.         2.46892051 0.         0.        ]\n",
      " [0.         1.12289142 1.62192648 0.         5.3227735 ]]\n"
     ]
    }
   ],
   "source": [
    "# example of using naive relu function on some random data\n",
    "x = np.random.normal(0.0, 3.0, size=(5, 5))\n",
    "print(x)\n",
    "\n",
    "x = naive_relu(x)\n",
    "print(x)"
   ]
  },
  {
   "cell_type": "code",
   "execution_count": 6,
   "id": "30668118-3bef-42e8-b6dc-4a16d457918a",
   "metadata": {},
   "outputs": [
    {
     "name": "stdout",
     "output_type": "stream",
     "text": [
      "[[-4 -2  2  2 -5]\n",
      " [ 2 -4 -3 -2  2]\n",
      " [ 1 -2 -4 -5  4]\n",
      " [ 3 -1 -3 -5  0]\n",
      " [-2 -3  3  1  1]]\n",
      "[[-5 -3  1 -1  4]\n",
      " [ 2 -4  1 -2  0]\n",
      " [ 2 -3 -4  1  1]\n",
      " [-5  3  0  2  3]\n",
      " [ 1 -4 -1 -1  4]]\n",
      "[[-9 -5  3  1 -1]\n",
      " [ 4 -8 -2 -4  2]\n",
      " [ 3 -5 -8 -4  5]\n",
      " [-2  2 -3 -3  3]\n",
      " [-1 -7  2  0  5]]\n"
     ]
    }
   ],
   "source": [
    "# example of using the naive add function on some random data\n",
    "x = np.random.randint(-5, 5, (5,5))\n",
    "y = np.random.randint(-5, 5, (5,5))\n",
    "print(x)\n",
    "print(y)\n",
    "\n",
    "z = naive_add(x, y)\n",
    "print(z)"
   ]
  },
  {
   "cell_type": "markdown",
   "id": "1f3ab082-e17a-4417-803f-e6562b224b43",
   "metadata": {},
   "source": [
    "In practice, when dealing with tensors represented as NumPy arrays, these operations are available as \n",
    "well optimized built-in NumPy functions.  NumPy element-wise and matrix/tensor operations delegate the\n",
    "heavy lifiting to highly optimized libraries, such as the Basic Linear Algebra Subprograms (BLAS) \n",
    "implementation.  BLAS are low-level highly-parallel, efficient tensor-manipulation routines\n",
    "typically implemented in Fortran or C.\n",
    "\n",
    "So instead of writing explict serial loops, we can perform element wise operations using vectorized\n",
    "NumPy routines.  These will be much faster than naive serial implementations."
   ]
  },
  {
   "cell_type": "code",
   "execution_count": 7,
   "id": "45d39607-e715-4085-8ca8-3656d7a3ab59",
   "metadata": {},
   "outputs": [
    {
     "name": "stdout",
     "output_type": "stream",
     "text": [
      "[[-1.5210049  -2.36806674  3.19518599 -6.33767599  1.846422  ]\n",
      " [ 1.65337041 -1.83024867 -3.19041782  1.23586877 -1.15713514]\n",
      " [ 1.30190931  2.419077    2.53269385 -1.76516919  3.78758302]\n",
      " [ 1.81935447  2.4011814   3.79351137  2.36171476  3.72502926]\n",
      " [-3.488673    2.1474969  -1.20999858 -6.25150233  1.59674593]]\n",
      "[[ 0.77254344  4.75550948 -1.65835915 -4.16559457  3.17708389]\n",
      " [ 0.07302993  4.0407825   0.92388766  4.54144454  6.55951803]\n",
      " [-2.87952646 -1.32992947  1.3314314  -0.08250018  4.16373551]\n",
      " [-1.91222896 -1.73353634 -1.12028334 -2.32704538  0.71929479]\n",
      " [-4.12794895 -2.09525427 -0.09304566 -7.57880226 10.20508481]]\n"
     ]
    }
   ],
   "source": [
    "# generate random data again to demonstrate NumPy vectorized operations\n",
    "x = np.random.normal(0.0, 3.0, size=(5,5))\n",
    "y = np.random.normal(0.0, 3.0, size=(5,5))\n",
    "\n",
    "print(x)\n",
    "print(y)"
   ]
  },
  {
   "cell_type": "code",
   "execution_count": 8,
   "id": "a5324b53-4403-4a8a-b80e-2fd5dacaed1e",
   "metadata": {},
   "outputs": [
    {
     "name": "stdout",
     "output_type": "stream",
     "text": [
      "[[ 0.          2.38744274  1.53682684  0.          5.02350588]\n",
      " [ 1.72640034  2.21053384  0.          5.77731331  5.40238289]\n",
      " [ 0.          1.08914753  3.86412525  0.          7.95131853]\n",
      " [ 0.          0.66764506  2.67322803  0.03466938  4.44432405]\n",
      " [ 0.          0.05224264  0.          0.         11.80183075]]\n"
     ]
    }
   ],
   "source": [
    "# vectorized elementwise addition\n",
    "z = x + y\n",
    "\n",
    "# vectorized numpy function to find max which is relu function\n",
    "z = np.maximum(z, 0.0)\n",
    "\n",
    "print(z)"
   ]
  },
  {
   "cell_type": "markdown",
   "id": "8430fb3f-07a5-4d14-ad38-b2bf19ebffca",
   "metadata": {},
   "source": [
    "Just to drive home the point about efficiency of implementation here, lets compare the time it takes to perform\n",
    "the same operations using NumPy vectorized operations first:"
   ]
  },
  {
   "cell_type": "code",
   "execution_count": 9,
   "id": "fd40dc2c-e5ca-446c-abe3-e08ed74bee3e",
   "metadata": {},
   "outputs": [],
   "source": [
    "import time\n",
    "\n",
    "x = np.random.random((20, 100))\n",
    "y = np.random.random((20, 100))"
   ]
  },
  {
   "cell_type": "code",
   "execution_count": 10,
   "id": "2d6199bb-2ebd-45ab-a4f5-c582b96542d9",
   "metadata": {},
   "outputs": [
    {
     "name": "stdout",
     "output_type": "stream",
     "text": [
      "Took: 0.01 s\n"
     ]
    }
   ],
   "source": [
    "t0 = time.time()\n",
    "for _ in range(1000):\n",
    "    z = x + y\n",
    "    z = np.maximum(z, 0.)\n",
    "print(\"Took: {0:.2f} s\".format(time.time() - t0))"
   ]
  },
  {
   "cell_type": "markdown",
   "id": "f2856a89-8322-4064-baac-111aa1735609",
   "metadata": {},
   "source": [
    "Here we are timing performing a vectorized addition and relu, where we perform these operations 1000 times.\n",
    "The result will usually take only a tenth of a second or less (depending on the cpu of your system) using NumPy vectorized addition and\n",
    "`maximum` functions.\n",
    "\n",
    "Compare this to the time it takes to perform the same number of operations using the naive serialized\n",
    "addition and relu implementations:"
   ]
  },
  {
   "cell_type": "code",
   "execution_count": 11,
   "id": "dfa8521d-84cd-4e3a-a39a-812d6cd56f0c",
   "metadata": {},
   "outputs": [
    {
     "name": "stdout",
     "output_type": "stream",
     "text": [
      "Took: 1.97 s\n"
     ]
    }
   ],
   "source": [
    "t0 = time.time()\n",
    "for _ in range(1000):\n",
    "    z = naive_add(x, y)\n",
    "    z = naive_relu(z)\n",
    "print(\"Took: {0:.2f} s\".format(time.time() - t0))"
   ]
  },
  {
   "cell_type": "markdown",
   "id": "ae40d516-8b5c-4c30-9596-891d2066ad02",
   "metadata": {},
   "source": [
    "Typicaly this will take a whole 1.5 seconds or more to complete, which is a 2 orders of magnitude (> 100) difference in\n",
    "time needed to perform the same operations."
   ]
  },
  {
   "cell_type": "markdown",
   "id": "da901f18-9e90-44c3-b992-7c221c6492d1",
   "metadata": {},
   "source": [
    "Likewise, when running TensorFlow code on a GPU, element-wise operations are executed via fully vectorized\n",
    "CUDA implementations that can best utilize the highly parallel GPU chip architectures."
   ]
  },
  {
   "cell_type": "markdown",
   "id": "a8809f21-6873-47a1-9b7d-94a3adcb071d",
   "metadata": {},
   "source": [
    "## 2.3.2 Broadcasting\n",
    "\n",
    "The previous example of the naive add was hard coded to support addition of rank-2 (2 dimensional) tensors with identical shapes.  But in the\n",
    "`Dense` layer introduced earlier, we added a rank-2 tensor with a vector.  What happens with addition when the shapes of the two tensors being\n",
    "added differ?\n",
    "\n",
    "When possible, if there is no ambiguity, the small tensor will be *broadcast* to match the shape of the larger tensor.  Broadcasting\n",
    "consists of two steps:\n",
    "\n",
    "1. Axes (called *broadcast axes*) are added to the smaller tensor to match the `ndim` of the larger tensor.\n",
    "2. The smaller tensor is repeated alongside these new axes to match the full shape of the larger tensor.\n",
    "\n",
    "For example, consider `X` with shape `(32, 10)` (32 rows and 10 columns matrix) and `y` with shape `(10,)` (a vector of 10 values):"
   ]
  },
  {
   "cell_type": "code",
   "execution_count": 12,
   "id": "e2300166-53f8-419d-90ac-76abfbb6eaf7",
   "metadata": {},
   "outputs": [],
   "source": [
    "# X is a 2-d matrix of shape 32, 10.  the random function produces normal random numbers in the range from 0.0 to 1.0\n",
    "X = np.random.random( (32, 10) )\n",
    "\n",
    "# y is a random 1-d tensor, or in other words a vector, with shape (10,)\n",
    "y = np.random.random( (10,) )"
   ]
  },
  {
   "cell_type": "markdown",
   "id": "86f55900-68d9-4f9a-9b8c-73bb64378d87",
   "metadata": {},
   "source": [
    "If we needed to perform broadcasting by hand, we might do the following.  First we expand the vector into \n",
    "a 2-d matrix with 1 row and 10 columns."
   ]
  },
  {
   "cell_type": "code",
   "execution_count": 13,
   "id": "74020d1b-f269-4261-9391-05abdd3c5227",
   "metadata": {},
   "outputs": [
    {
     "data": {
      "text/plain": [
       "(1, 10)"
      ]
     },
     "execution_count": 13,
     "metadata": {},
     "output_type": "execute_result"
    }
   ],
   "source": [
    "y = np.expand_dims(y, axis=0)\n",
    "y.shape"
   ]
  },
  {
   "cell_type": "markdown",
   "id": "c5f14960-13ca-4c62-9f19-707f183a837c",
   "metadata": {},
   "source": [
    "Then to match the shape of `X` we can *broadcast* or in other words repeat the values of `y` so that we match the element-wise shape of `X`:"
   ]
  },
  {
   "cell_type": "code",
   "execution_count": 14,
   "id": "8d1a84e4-c86e-4b66-a8ab-df1bbd580c8c",
   "metadata": {},
   "outputs": [
    {
     "data": {
      "text/plain": [
       "(32, 10)"
      ]
     },
     "execution_count": 14,
     "metadata": {},
     "output_type": "execute_result"
    }
   ],
   "source": [
    "Y = np.concatenate([y] * 32, axis=0)\n",
    "Y.shape"
   ]
  },
  {
   "cell_type": "code",
   "execution_count": 15,
   "id": "fd474314-dd42-4fb8-8d0b-6fc3b136ccf0",
   "metadata": {},
   "outputs": [
    {
     "data": {
      "text/plain": [
       "[array([[0.34330405, 0.80837069, 0.52357681, 0.25435843, 0.06758023,\n",
       "         0.43911618, 0.10272906, 0.59167397, 0.93861909, 0.52335794]]),\n",
       " array([[0.34330405, 0.80837069, 0.52357681, 0.25435843, 0.06758023,\n",
       "         0.43911618, 0.10272906, 0.59167397, 0.93861909, 0.52335794]]),\n",
       " array([[0.34330405, 0.80837069, 0.52357681, 0.25435843, 0.06758023,\n",
       "         0.43911618, 0.10272906, 0.59167397, 0.93861909, 0.52335794]]),\n",
       " array([[0.34330405, 0.80837069, 0.52357681, 0.25435843, 0.06758023,\n",
       "         0.43911618, 0.10272906, 0.59167397, 0.93861909, 0.52335794]]),\n",
       " array([[0.34330405, 0.80837069, 0.52357681, 0.25435843, 0.06758023,\n",
       "         0.43911618, 0.10272906, 0.59167397, 0.93861909, 0.52335794]]),\n",
       " array([[0.34330405, 0.80837069, 0.52357681, 0.25435843, 0.06758023,\n",
       "         0.43911618, 0.10272906, 0.59167397, 0.93861909, 0.52335794]]),\n",
       " array([[0.34330405, 0.80837069, 0.52357681, 0.25435843, 0.06758023,\n",
       "         0.43911618, 0.10272906, 0.59167397, 0.93861909, 0.52335794]]),\n",
       " array([[0.34330405, 0.80837069, 0.52357681, 0.25435843, 0.06758023,\n",
       "         0.43911618, 0.10272906, 0.59167397, 0.93861909, 0.52335794]]),\n",
       " array([[0.34330405, 0.80837069, 0.52357681, 0.25435843, 0.06758023,\n",
       "         0.43911618, 0.10272906, 0.59167397, 0.93861909, 0.52335794]]),\n",
       " array([[0.34330405, 0.80837069, 0.52357681, 0.25435843, 0.06758023,\n",
       "         0.43911618, 0.10272906, 0.59167397, 0.93861909, 0.52335794]]),\n",
       " array([[0.34330405, 0.80837069, 0.52357681, 0.25435843, 0.06758023,\n",
       "         0.43911618, 0.10272906, 0.59167397, 0.93861909, 0.52335794]]),\n",
       " array([[0.34330405, 0.80837069, 0.52357681, 0.25435843, 0.06758023,\n",
       "         0.43911618, 0.10272906, 0.59167397, 0.93861909, 0.52335794]]),\n",
       " array([[0.34330405, 0.80837069, 0.52357681, 0.25435843, 0.06758023,\n",
       "         0.43911618, 0.10272906, 0.59167397, 0.93861909, 0.52335794]]),\n",
       " array([[0.34330405, 0.80837069, 0.52357681, 0.25435843, 0.06758023,\n",
       "         0.43911618, 0.10272906, 0.59167397, 0.93861909, 0.52335794]]),\n",
       " array([[0.34330405, 0.80837069, 0.52357681, 0.25435843, 0.06758023,\n",
       "         0.43911618, 0.10272906, 0.59167397, 0.93861909, 0.52335794]]),\n",
       " array([[0.34330405, 0.80837069, 0.52357681, 0.25435843, 0.06758023,\n",
       "         0.43911618, 0.10272906, 0.59167397, 0.93861909, 0.52335794]]),\n",
       " array([[0.34330405, 0.80837069, 0.52357681, 0.25435843, 0.06758023,\n",
       "         0.43911618, 0.10272906, 0.59167397, 0.93861909, 0.52335794]]),\n",
       " array([[0.34330405, 0.80837069, 0.52357681, 0.25435843, 0.06758023,\n",
       "         0.43911618, 0.10272906, 0.59167397, 0.93861909, 0.52335794]]),\n",
       " array([[0.34330405, 0.80837069, 0.52357681, 0.25435843, 0.06758023,\n",
       "         0.43911618, 0.10272906, 0.59167397, 0.93861909, 0.52335794]]),\n",
       " array([[0.34330405, 0.80837069, 0.52357681, 0.25435843, 0.06758023,\n",
       "         0.43911618, 0.10272906, 0.59167397, 0.93861909, 0.52335794]]),\n",
       " array([[0.34330405, 0.80837069, 0.52357681, 0.25435843, 0.06758023,\n",
       "         0.43911618, 0.10272906, 0.59167397, 0.93861909, 0.52335794]]),\n",
       " array([[0.34330405, 0.80837069, 0.52357681, 0.25435843, 0.06758023,\n",
       "         0.43911618, 0.10272906, 0.59167397, 0.93861909, 0.52335794]]),\n",
       " array([[0.34330405, 0.80837069, 0.52357681, 0.25435843, 0.06758023,\n",
       "         0.43911618, 0.10272906, 0.59167397, 0.93861909, 0.52335794]]),\n",
       " array([[0.34330405, 0.80837069, 0.52357681, 0.25435843, 0.06758023,\n",
       "         0.43911618, 0.10272906, 0.59167397, 0.93861909, 0.52335794]]),\n",
       " array([[0.34330405, 0.80837069, 0.52357681, 0.25435843, 0.06758023,\n",
       "         0.43911618, 0.10272906, 0.59167397, 0.93861909, 0.52335794]]),\n",
       " array([[0.34330405, 0.80837069, 0.52357681, 0.25435843, 0.06758023,\n",
       "         0.43911618, 0.10272906, 0.59167397, 0.93861909, 0.52335794]]),\n",
       " array([[0.34330405, 0.80837069, 0.52357681, 0.25435843, 0.06758023,\n",
       "         0.43911618, 0.10272906, 0.59167397, 0.93861909, 0.52335794]]),\n",
       " array([[0.34330405, 0.80837069, 0.52357681, 0.25435843, 0.06758023,\n",
       "         0.43911618, 0.10272906, 0.59167397, 0.93861909, 0.52335794]]),\n",
       " array([[0.34330405, 0.80837069, 0.52357681, 0.25435843, 0.06758023,\n",
       "         0.43911618, 0.10272906, 0.59167397, 0.93861909, 0.52335794]]),\n",
       " array([[0.34330405, 0.80837069, 0.52357681, 0.25435843, 0.06758023,\n",
       "         0.43911618, 0.10272906, 0.59167397, 0.93861909, 0.52335794]]),\n",
       " array([[0.34330405, 0.80837069, 0.52357681, 0.25435843, 0.06758023,\n",
       "         0.43911618, 0.10272906, 0.59167397, 0.93861909, 0.52335794]]),\n",
       " array([[0.34330405, 0.80837069, 0.52357681, 0.25435843, 0.06758023,\n",
       "         0.43911618, 0.10272906, 0.59167397, 0.93861909, 0.52335794]])]"
      ]
     },
     "execution_count": 15,
     "metadata": {},
     "output_type": "execute_result"
    }
   ],
   "source": [
    "# if it is not clear, the following actually repeats the array 32 times\n",
    "[y] * 32\n",
    "\n",
    "# then the concatenate function combines them back into a single NumPy\n",
    "# array, which now has shape (32, 10)"
   ]
  },
  {
   "cell_type": "markdown",
   "id": "06d8ca53-7366-4d43-999b-8f61108cabef",
   "metadata": {},
   "source": [
    "At this point since `X` and `Y` are the same shape, we can do element-wise operations, such as additon, multiplicaiton, etc.\n",
    "between the two as before.\n",
    "\n",
    "In actual implementation of broadcasting by NumPy, no new tensor is created as we did here, the repetition is done\n",
    "entirely virtually at the algorithmic level to get maximum performance of the operations.\n",
    "\n",
    "For example, again a naive serialized implementation of adding a matrix and a vector, where we need to broadcast the\n",
    "vector to the 2-D matrix shape, would look like the following.\n",
    "Notice there are some constraints on the broadcasting.  The number of elements in the `y` vector has to match the number of columns\n",
    "of the `X` matrix for the broadcasting to work here."
   ]
  },
  {
   "cell_type": "code",
   "execution_count": 16,
   "id": "b077f55d-f80f-404a-8df8-fb6238c9a0de",
   "metadata": {},
   "outputs": [],
   "source": [
    "def naive_add_matrix_and_vector(x, y):\n",
    "    '''Perform element-wise addition of a matrix and a vector using broadcasting.\n",
    "    The x matrix is assumed to be a 2-dimensional matrix, and the y vector should have\n",
    "    the same number of elements as the columns of X for the broadcasting to work.\n",
    "\n",
    "    Parameters\n",
    "    ----------\n",
    "    x - A rank 2 (2-D) matrix of shape (samples, features).\n",
    "    y - A rank 1 vector.  The number of elements in y must match the number of columns/features of the input x in \n",
    "        this naive implementation.\n",
    "    '''\n",
    "    # X matrix is assumed to be a rank-2 2-d tensor\n",
    "    assert len(x.shape) == 2\n",
    "    \n",
    "    # y vector is assumed to be a rank-1 vector\n",
    "    assert len(y.shape) == 1\n",
    "    \n",
    "    # broadcasting is only defined if number of elements of vector y matches number of columns of X\n",
    "    # matrix, so that we broadcast the vector onto each row of X\n",
    "    assert x.shape[1] == y.shape[0]\n",
    "    \n",
    "    # assumptions are met at this point, so we can successfully broadcast the additon\n",
    "    # make a copy of the X vector to avoid overwriting the input tensor\n",
    "    x = x.copy()\n",
    "    \n",
    "    # perform naive element-wise addition, broadcasting the vector y onto the rows of X\n",
    "    for row in range(X.shape[0]):\n",
    "        for col in range(X.shape[1]):\n",
    "            x[row, col] += y[col]\n",
    "            \n",
    "    return x"
   ]
  },
  {
   "cell_type": "code",
   "execution_count": 17,
   "id": "f229e3da-02a8-40c8-8f8e-f294a1dd3e7e",
   "metadata": {},
   "outputs": [
    {
     "name": "stdout",
     "output_type": "stream",
     "text": [
      "(32, 10)\n",
      "(10,)\n",
      "[[4.28616144e-01 6.97802841e-01 5.92880264e-01 8.24706255e-01\n",
      "  5.53331372e-01 5.73002626e-01 4.33255806e-01 8.71207014e-01\n",
      "  2.02806014e-01 8.83312889e-01]\n",
      " [6.19089233e-01 7.27297902e-01 9.35060247e-01 9.12531181e-01\n",
      "  5.69274859e-01 5.89630693e-01 6.96267935e-01 7.38010559e-02\n",
      "  4.69942487e-01 4.47401976e-01]\n",
      " [1.57211349e-01 5.06719342e-01 5.96202001e-01 6.50017160e-01\n",
      "  2.32795900e-01 7.89350834e-01 4.74393265e-01 4.31872999e-03\n",
      "  9.11852000e-01 7.19040609e-01]\n",
      " [6.63237668e-01 1.91620651e-01 7.03117399e-02 7.91121196e-01\n",
      "  6.97042014e-02 9.49155094e-01 6.26039512e-01 1.03971663e-01\n",
      "  5.09616118e-01 6.83472069e-01]\n",
      " [1.58097992e-01 1.23785463e-01 3.96295097e-01 8.94849085e-01\n",
      "  8.73774597e-01 1.95373614e-01 4.98307890e-01 8.09725056e-01\n",
      "  7.39587360e-01 6.99046864e-01]\n",
      " [4.13267539e-01 6.20519021e-01 5.00636113e-01 1.22072556e-01\n",
      "  2.52819032e-02 5.91086946e-01 6.34322977e-01 1.76564816e-01\n",
      "  3.18575145e-01 8.59904671e-04]\n",
      " [6.77794529e-01 3.89186531e-01 1.90988626e-01 8.08737797e-01\n",
      "  6.61730524e-01 8.53229975e-01 4.40598712e-01 2.15400563e-01\n",
      "  8.07273166e-01 2.39990989e-01]\n",
      " [4.44712818e-01 7.95986684e-01 4.26601906e-02 4.72830547e-01\n",
      "  1.44503901e-01 6.23281263e-01 6.68658964e-01 6.35247552e-01\n",
      "  7.43707575e-01 6.11002795e-01]\n",
      " [7.81171754e-01 5.37443207e-01 9.77049327e-01 6.60174056e-01\n",
      "  5.96285439e-01 9.21133012e-01 5.69615143e-01 5.11554993e-01\n",
      "  9.89631885e-01 5.92012684e-01]\n",
      " [8.13046386e-01 7.69606267e-01 6.88586654e-01 4.65528657e-01\n",
      "  6.69205474e-01 3.23833102e-02 9.73677284e-01 8.35871668e-01\n",
      "  4.51415843e-01 1.53547911e-01]\n",
      " [8.18756247e-01 6.93501013e-01 4.00375209e-01 1.49785830e-01\n",
      "  4.86999782e-01 2.63453796e-01 8.38180987e-01 2.61324555e-01\n",
      "  5.15097304e-01 2.15367026e-01]\n",
      " [3.67082846e-01 4.66821169e-01 8.19837024e-01 5.96019512e-01\n",
      "  7.81098367e-01 6.17588620e-01 3.00309724e-01 2.20278344e-01\n",
      "  4.53907118e-01 3.59042944e-01]\n",
      " [1.55534829e-01 5.29740414e-02 5.73954568e-01 6.04909589e-01\n",
      "  3.15583956e-01 3.80185727e-01 8.58896096e-01 6.19986599e-01\n",
      "  9.33376620e-01 3.89905493e-01]\n",
      " [4.60036255e-01 5.12097631e-01 7.53825143e-02 4.17651913e-01\n",
      "  2.66636141e-01 7.91286789e-01 2.36420925e-01 9.32654585e-01\n",
      "  9.61211380e-01 1.96316714e-01]\n",
      " [7.58345727e-01 1.84641598e-01 5.80793843e-01 5.48267926e-01\n",
      "  1.00902424e-01 1.37923216e-01 9.65086966e-01 7.65185658e-01\n",
      "  4.28803642e-01 9.91178445e-01]\n",
      " [5.35577715e-01 9.48838210e-01 7.47323772e-01 7.52004453e-01\n",
      "  7.42118735e-01 7.18176124e-01 1.01346048e-01 7.02250111e-01\n",
      "  2.02232996e-01 4.25292959e-01]\n",
      " [1.53716959e-01 2.73159484e-01 7.82875603e-01 7.35275936e-01\n",
      "  1.29250572e-01 8.72130135e-01 3.39039329e-02 5.00438984e-01\n",
      "  3.02682562e-01 1.29843345e-01]\n",
      " [1.97743558e-01 4.72022842e-01 7.55003346e-01 5.18561524e-01\n",
      "  5.22444630e-01 7.24296903e-01 7.01193015e-01 9.98205413e-02\n",
      "  7.61412303e-01 4.38314523e-01]\n",
      " [5.47452766e-03 1.07051820e-01 4.52207664e-01 7.34450178e-01\n",
      "  4.05608809e-01 4.29858426e-01 6.23725829e-01 9.53162353e-01\n",
      "  7.44777998e-01 6.16122978e-01]\n",
      " [2.47109054e-01 2.38238404e-01 7.16418781e-01 3.42130938e-01\n",
      "  5.93201874e-02 4.17335499e-01 1.77609304e-01 1.32030977e-01\n",
      "  6.78906512e-01 7.09851279e-01]\n",
      " [5.74599542e-01 6.89579140e-01 7.91110922e-01 1.37386195e-01\n",
      "  2.97353289e-01 4.96973898e-01 5.01751789e-01 7.39138010e-01\n",
      "  4.32723774e-01 1.64897084e-01]\n",
      " [5.82503503e-01 1.38170330e-01 4.68936387e-01 1.06465017e-01\n",
      "  7.15860182e-01 7.15513034e-01 1.87093283e-01 8.60732521e-01\n",
      "  6.13980716e-01 5.68644689e-01]\n",
      " [3.05541677e-01 2.14425123e-01 2.75628559e-01 8.43031812e-01\n",
      "  3.83735405e-01 6.51800599e-01 1.51859958e-01 6.30732278e-03\n",
      "  2.79565427e-02 6.59344946e-01]\n",
      " [1.56732155e-01 6.49687579e-01 7.64180359e-01 8.81618008e-01\n",
      "  7.15169107e-01 4.89154297e-01 7.23054297e-01 5.71160237e-01\n",
      "  8.98369370e-01 2.82884324e-01]\n",
      " [7.42962415e-01 1.83923118e-01 2.19798067e-02 6.36993843e-01\n",
      "  1.20181699e-01 8.85897463e-01 8.50443168e-01 2.57086919e-01\n",
      "  5.09860161e-01 5.17020093e-01]\n",
      " [6.19628423e-01 1.27569385e-01 3.02390915e-01 6.28154102e-01\n",
      "  6.82882162e-01 6.91790706e-01 4.12581119e-01 5.77962865e-01\n",
      "  9.53864724e-01 5.35653016e-01]\n",
      " [1.59683029e-01 5.84490278e-01 8.92739179e-01 9.39353752e-02\n",
      "  3.35308158e-01 9.81116391e-01 1.37548587e-01 5.21885299e-01\n",
      "  7.35991103e-01 1.73137198e-01]\n",
      " [7.94106163e-01 7.13525548e-01 4.15484015e-01 4.75743563e-01\n",
      "  1.04349081e-01 8.61007262e-01 3.29919874e-01 9.90894096e-01\n",
      "  4.76451351e-01 7.01044461e-01]\n",
      " [1.84319945e-01 2.66917267e-01 4.96501126e-01 2.81531554e-01\n",
      "  5.47959554e-01 1.72765400e-01 2.37958050e-02 8.03161631e-01\n",
      "  6.48432142e-01 2.03701033e-01]\n",
      " [9.35955834e-01 8.87739675e-01 9.92894617e-01 9.24318227e-01\n",
      "  9.68909166e-01 6.69767535e-01 1.82742928e-01 9.83277392e-01\n",
      "  6.31232466e-01 3.88453564e-01]\n",
      " [5.23032355e-01 6.25703410e-01 2.27144683e-01 2.20679254e-01\n",
      "  1.36350964e-01 1.02944048e-01 1.63179327e-01 9.94183677e-01\n",
      "  6.39662464e-01 8.11822179e-01]\n",
      " [1.47021987e-01 1.10368448e-01 2.40353656e-01 8.07747271e-01\n",
      "  1.58473819e-01 5.32844729e-01 8.55635872e-02 7.04365749e-01\n",
      "  3.89876777e-01 1.84756343e-01]]\n",
      "[0.26568896 0.42177896 0.20198448 0.8866886  0.47152763 0.02832577\n",
      " 0.98187128 0.50714292 0.03468438 0.98843837]\n"
     ]
    }
   ],
   "source": [
    "# an example of using our naive broadcasting addition on a vector of 10 values\n",
    "x = np.random.random( (32, 10) )\n",
    "y = np.random.random(10)\n",
    "\n",
    "print(x.shape)\n",
    "print(y.shape)\n",
    "print(x)\n",
    "print(y)"
   ]
  },
  {
   "cell_type": "code",
   "execution_count": 18,
   "id": "102a1d6e-31bf-46a1-8c83-4c3dab7905ba",
   "metadata": {},
   "outputs": [
    {
     "name": "stdout",
     "output_type": "stream",
     "text": [
      "(32, 10)\n",
      "[[0.69430511 1.1195818  0.79486474 1.71139486 1.024859   0.60132839\n",
      "  1.41512709 1.37834994 0.2374904  1.87175126]\n",
      " [0.8847782  1.14907686 1.13704473 1.79921978 1.04080249 0.61795646\n",
      "  1.67813922 0.58094398 0.50462687 1.43584035]\n",
      " [0.42290031 0.9284983  0.79818648 1.53670576 0.70432353 0.8176766\n",
      "  1.45626455 0.51146165 0.94653638 1.70747898]\n",
      " [0.92892663 0.61339961 0.27229622 1.6778098  0.54123183 0.97748086\n",
      "  1.6079108  0.61111459 0.5443005  1.67191044]\n",
      " [0.42378695 0.54556442 0.59827958 1.78153768 1.34530223 0.22369938\n",
      "  1.48017917 1.31686798 0.77427174 1.68748524]\n",
      " [0.6789565  1.04229798 0.70262059 1.00876116 0.49680954 0.61941271\n",
      "  1.61619426 0.68370774 0.35325953 0.98929828]\n",
      " [0.94348349 0.81096549 0.39297311 1.6954264  1.13325816 0.88155574\n",
      "  1.42247    0.72254348 0.84195755 1.22842936]\n",
      " [0.71040178 1.21776564 0.24464467 1.35951915 0.61603153 0.65160703\n",
      "  1.65053025 1.14239047 0.77839196 1.59944117]\n",
      " [1.04686072 0.95922217 1.17903381 1.54686266 1.06781307 0.94945878\n",
      "  1.55148643 1.01869791 1.02431627 1.58045106]\n",
      " [1.07873535 1.19138523 0.89057113 1.35221726 1.14073311 0.06070908\n",
      "  1.95554857 1.34301459 0.48610023 1.14198629]\n",
      " [1.08444521 1.11527997 0.60235969 1.03647443 0.95852741 0.29177956\n",
      "  1.82005227 0.76846748 0.54978169 1.2038054 ]\n",
      " [0.63277181 0.88860013 1.02182151 1.48270811 1.252626   0.64591439\n",
      "  1.28218101 0.72742127 0.4885915  1.34748132]\n",
      " [0.42122379 0.474753   0.77593905 1.49159819 0.78711159 0.4085115\n",
      "  1.84076738 1.12712952 0.968061   1.37834387]\n",
      " [0.72572522 0.93387659 0.277367   1.30434051 0.73816377 0.81961256\n",
      "  1.21829221 1.43979751 0.99589576 1.18475509]\n",
      " [1.02403469 0.60642056 0.78277832 1.43495653 0.57243006 0.16624898\n",
      "  1.94695825 1.27232858 0.46348802 1.97961682]\n",
      " [0.80126668 1.37061717 0.94930825 1.63869305 1.21364637 0.74650189\n",
      "  1.08321733 1.20939303 0.23691738 1.41373133]\n",
      " [0.41940592 0.69493844 0.98486008 1.62196454 0.6007782  0.9004559\n",
      "  1.01577522 1.00758191 0.33736694 1.11828172]\n",
      " [0.46343252 0.8938018  0.95698783 1.40525012 0.99397226 0.75262267\n",
      "  1.6830643  0.60696346 0.79609668 1.4267529 ]\n",
      " [0.27116349 0.52883078 0.65419215 1.62113878 0.87713644 0.45818419\n",
      "  1.60559711 1.46030527 0.77946238 1.60456135]\n",
      " [0.51279802 0.66001736 0.91840326 1.22881954 0.53084782 0.44566127\n",
      "  1.15948059 0.6391739  0.71359089 1.69828965]\n",
      " [0.8402885  1.1113581  0.9930954  1.02407479 0.76888092 0.52529967\n",
      "  1.48362307 1.24628093 0.46740816 1.15333546]\n",
      " [0.84819246 0.55994929 0.67092087 0.99315362 1.18738781 0.7438388\n",
      "  1.16896457 1.36787544 0.6486651  1.55708306]\n",
      " [0.57123064 0.63620408 0.47761304 1.72972041 0.85526304 0.68012637\n",
      "  1.13373124 0.51345024 0.06264093 1.64778332]\n",
      " [0.42242112 1.07146654 0.96616484 1.76830661 1.18669674 0.51748007\n",
      "  1.70492558 1.07830316 0.93305375 1.2713227 ]\n",
      " [1.00865138 0.60570208 0.22396429 1.52368244 0.59170933 0.91422323\n",
      "  1.83231445 0.76422984 0.54454454 1.50545847]\n",
      " [0.88531739 0.54934834 0.5043754  1.5148427  1.15440979 0.72011647\n",
      "  1.3944524  1.08510579 0.98854911 1.52409139]\n",
      " [0.42537199 1.00626924 1.09472366 0.98062397 0.80683579 1.00944216\n",
      "  1.11941987 1.02902822 0.77067549 1.16157557]\n",
      " [1.05979513 1.13530451 0.6174685  1.36243216 0.57587671 0.88933303\n",
      "  1.31179116 1.49803702 0.51113573 1.68948284]\n",
      " [0.45000891 0.68869623 0.69848561 1.16822015 1.01948719 0.20109117\n",
      "  1.00566709 1.31030455 0.68311652 1.19213941]\n",
      " [1.2016448  1.30951863 1.1948791  1.81100683 1.4404368  0.6980933\n",
      "  1.16461421 1.49042031 0.66591685 1.37689194]\n",
      " [0.78872132 1.04748237 0.42912916 1.10736785 0.6078786  0.13126982\n",
      "  1.14505061 1.5013266  0.67434685 1.80026055]\n",
      " [0.41271095 0.53214741 0.44233814 1.69443587 0.63000145 0.5611705\n",
      "  1.06743487 1.21150867 0.42456116 1.17319472]]\n"
     ]
    }
   ],
   "source": [
    "z = naive_add_matrix_and_vector(x, y)\n",
    "print(z.shape)\n",
    "print(z)"
   ]
  },
  {
   "cell_type": "markdown",
   "id": "8d27432f-38a3-4124-ab4c-dde8a8f893e2",
   "metadata": {},
   "source": [
    "Broadcasting will be done automatically by NumPy when using tensors whose shapes\n",
    "can be broadcast successfully.\n",
    "\n",
    "Technically, as described in the text, if one tensor has shape `(a, b, ..., n, n+1, ..., m)` and the other has shape\n",
    "`(n, n+1, ..., m)` then broadcasting should be possible.\n",
    "\n",
    "For example, adding a rank-4 tensor and a rank-2 tensor, the rank-2 tensor is broadcast appropriately to perform the\n",
    "operation."
   ]
  },
  {
   "cell_type": "code",
   "execution_count": 19,
   "id": "64d505ce-32fc-4593-88ac-b2f2ff21a832",
   "metadata": {},
   "outputs": [
    {
     "name": "stdout",
     "output_type": "stream",
     "text": [
      "(64, 3, 32, 10)\n",
      "(32, 10)\n",
      "(64, 3, 32, 10)\n"
     ]
    }
   ],
   "source": [
    "# x is a random rank-4 tensor with shape (64, 3, 32, 10)\n",
    "x = np.random.random( (64, 3, 32, 10) )\n",
    "print(x.shape)\n",
    "\n",
    "# y is a rank-2 tensor of shape (32, 10)\n",
    "y = np.random.random( (32, 10) )\n",
    "print(y.shape)\n",
    "\n",
    "# element-wise maximum function broadcasts y.  result is still shape (64, 3, 32, 10) like x.\n",
    "# maximum is computed by broadcasting y\n",
    "z = np.maximum(x, y)\n",
    "print(z.shape)"
   ]
  },
  {
   "cell_type": "code",
   "execution_count": 20,
   "id": "dbcbe890-3425-494e-b68f-31fe2402fec7",
   "metadata": {},
   "outputs": [
    {
     "name": "stdout",
     "output_type": "stream",
     "text": [
      "ValueError occurs because operands can not be broadcast together with shapes (64, 3, 32, 10) and (320,)\n"
     ]
    }
   ],
   "source": [
    "# note that dimensions do need to match.  e.g. cannot broadcast even like the following, though you might think\n",
    "# it would make sense\n",
    "x = np.random.random( (64, 3, 32, 10) )\n",
    "y = np.random.random( (320) )\n",
    "\n",
    "try:\n",
    "    z = np.maximum(x, y)\n",
    "    print(z.shape)\n",
    "except ValueError:\n",
    "    print('ValueError occurs because operands can not be broadcast together with shapes (64, 3, 32, 10) and (320,)')"
   ]
  },
  {
   "cell_type": "markdown",
   "id": "5b4d4b3c-e4a2-496f-bb55-3a5099b4dc9d",
   "metadata": {},
   "source": [
    "## 2.3.3 Tensor Product\n",
    "\n",
    "The *tensor product* or *dot product* is one of the most common and most useful tensor operations.\n",
    "\n",
    "The dot product is also known as the matrix multiplication operation.  This operation is defined over matrices.\n",
    "\n",
    "In NumPy, you can use the `np.dot()` function to perform the tensor product.  For example, a vector multiplcation\n",
    "can be done as:"
   ]
  },
  {
   "cell_type": "code",
   "execution_count": 21,
   "id": "1248f3e9-81b9-41c0-ba2e-fed212cc31ee",
   "metadata": {},
   "outputs": [
    {
     "data": {
      "text/plain": [
       "8.190792538024649"
      ]
     },
     "execution_count": 21,
     "metadata": {},
     "output_type": "execute_result"
    }
   ],
   "source": [
    "# two vectors each with 32 elements\n",
    "x = np.random.random( (32,) )\n",
    "y = np.random.random( (32,) )\n",
    "\n",
    "# dot product, results in scalar value, because result is computed as if \n",
    "# multiplying a 1x32 column matrix times a 32x1 row matrix giving a 1x1 or scalar result\n",
    "# when performing tensor product of vectors this is known as the inner product\n",
    "z = np.dot(x, y)\n",
    "z"
   ]
  },
  {
   "cell_type": "markdown",
   "id": "a2dfb7e5-d4dd-4db5-8544-583afe03f6da",
   "metadata": {},
   "source": [
    "Since NumPy versions for Python 3, the `@` operator has been defined by NumPy to perform a dot product"
   ]
  },
  {
   "cell_type": "code",
   "execution_count": 22,
   "id": "7db19ca9-e9d9-4d85-8b2d-f1c4da8db1a6",
   "metadata": {},
   "outputs": [
    {
     "data": {
      "text/plain": [
       "8.190792538024649"
      ]
     },
     "execution_count": 22,
     "metadata": {},
     "output_type": "execute_result"
    }
   ],
   "source": [
    "# operator @ performs dot product on NumPy arrays\n",
    "z = x @ y\n",
    "z"
   ]
  },
  {
   "cell_type": "markdown",
   "id": "acfa44f4-344b-4a23-a56c-5b97f6c0bc24",
   "metadata": {},
   "source": [
    "A tensor product is a combination of multiplication and summation of groups of elements.  Conceptually for rank-2 and higher tensor products you\n",
    "can think of it as a weighted sum, as we will see later.\n",
    "\n",
    "Mathematically for vectors, the dot product (called inner product when both tensors are vectors) is computed as follows:"
   ]
  },
  {
   "cell_type": "code",
   "execution_count": 23,
   "id": "35e070d9-ee8d-4c5a-8447-2174efccc8b5",
   "metadata": {},
   "outputs": [],
   "source": [
    "def naive_vector_dot(x, y):\n",
    "    \"\"\"Perform (a naive implementation of the) dot product between two vectors x and y of the same size.\n",
    "    The dot product of vectors is also known as the inner product, and the result is to multiply each\n",
    "    corresponding element of x and y and sum up these multiplications, the results is a scalar value.\n",
    "\n",
    "    Parameters\n",
    "    ----------\n",
    "    x, y - rank-1 vectors, both must have the same number of elements for the dot/inner produect to be defined.\n",
    "\n",
    "    Returns\n",
    "    -------\n",
    "    scalar - A dot product of two vectors results in a single scalar result, which is the sum of the product of the\n",
    "       corresponding elements of x and y.\n",
    "    \"\"\"\n",
    "    # x and y are NumPy vectors\n",
    "    assert len(x.shape) == 1\n",
    "    assert len(y.shape) == 1\n",
    "    \n",
    "    # x and y vectors have to have equal number of elements\n",
    "    # for inner product to be defined\n",
    "    assert x.shape[0] == y.shape[0]\n",
    "    \n",
    "    # result of inner product is a scalar.  The inner product is the sum of the element\n",
    "    # wise multiplications\n",
    "    z = 0.0\n",
    "    \n",
    "    for i in range(x.shape[0]):\n",
    "        z += x[i] * y[i]\n",
    "        \n",
    "    return z"
   ]
  },
  {
   "cell_type": "code",
   "execution_count": 24,
   "id": "063e6f7c-c713-4c57-affa-b6664ca4fe6e",
   "metadata": {},
   "outputs": [
    {
     "data": {
      "text/plain": [
       "8.190792538024649"
      ]
     },
     "execution_count": 24,
     "metadata": {},
     "output_type": "execute_result"
    }
   ],
   "source": [
    "# demonstrate we get the same inner product result using our\n",
    "# naive serialized implementation of the inner product\n",
    "z = naive_vector_dot(x, y)\n",
    "z"
   ]
  },
  {
   "cell_type": "markdown",
   "id": "2443e985-252e-460a-9c80-c03ddfc67536",
   "metadata": {},
   "source": [
    "The dot product, or inner product, of two vectors is a scalar, because we are multiplying each corresponding\n",
    "element, and adding the result of the multiplications into a single result.\n",
    "\n",
    "You can take the dot product between a matrix and a vector.  The number of elements of the vector `y` needs to match\n",
    "the columns (or last dimension) of the matrix `X`.  The result of matrix `@` vector product is a vector where\n",
    "the coefficients are the dot products between vector `y` and each row of `X`.\n",
    "\n",
    "An implementation of matrix `@` vector multplication can be done by hand as follows:"
   ]
  },
  {
   "cell_type": "code",
   "execution_count": 25,
   "id": "1d1184f0-cc63-47e8-9ce8-09cb5b479816",
   "metadata": {},
   "outputs": [],
   "source": [
    "def naive_matrix_vector_dot(x, y):\n",
    "    '''Perform (naive implementation of ) matrix @ vector dot product.  x is constrained to be a\n",
    "    rank-2 2-d matrix, but it can be of higher rank for general matrix/vector\n",
    "    multiplication.  Here y is a vector whose number of elements matches the\n",
    "    number of columns of the 2-d matrix x.  The result is a new vector which is\n",
    "    the inner product of y with each row of x.\n",
    "\n",
    "    Parameters\n",
    "    ----------\n",
    "    x - a rank-2 matrix of size (samples, features)\n",
    "    y - a rank-1 vector that must be of size (features, ) for the dot product to be defined\n",
    "\n",
    "    Returns\n",
    "    -------\n",
    "    vector - a vector of size (samples, ) is returned, conceptually this is the result of performing the\n",
    "      inner product of each sample/row of x with the vector y.\n",
    "    '''\n",
    "    # X is a rank-2 matrix\n",
    "    assert len(x.shape) == 2\n",
    "    \n",
    "    # y is a vector\n",
    "    assert len(y.shape) == 1\n",
    "    \n",
    "    # number of columns of X must be same as number of elemnts of the y vector\n",
    "    assert x.shape[1] == y.shape[0]\n",
    "    \n",
    "    # perform the matrix @ vector multiplication.  Result is a vector with same\n",
    "    # number of elements as rows of X (typo in textbook)\n",
    "    z = np.zeros(x.shape[0])\n",
    "    \n",
    "    # perform the matrix vector product\n",
    "    for row in range(x.shape[0]):\n",
    "        for col in range(x.shape[1]):\n",
    "            z[row] += x[row, col] * y[col]\n",
    "            \n",
    "    return z            "
   ]
  },
  {
   "cell_type": "code",
   "execution_count": 26,
   "id": "9f0bfaac-3537-4ccc-abfd-23eee517c016",
   "metadata": {},
   "outputs": [
    {
     "name": "stdout",
     "output_type": "stream",
     "text": [
      "(5,)\n",
      "[4.00026333 2.93318236 2.88470877 4.17970113 2.11302856]\n"
     ]
    }
   ],
   "source": [
    "# example of using our naive function\n",
    "x = np.random.random( (5, 10) )\n",
    "y = np.random.random( (10,) )\n",
    "\n",
    "z = naive_matrix_vector_dot(x, y)\n",
    "print(z.shape)\n",
    "print(z)"
   ]
  },
  {
   "cell_type": "code",
   "execution_count": 27,
   "id": "dca57f4c-b1fd-461e-a64b-a338f105315c",
   "metadata": {},
   "outputs": [
    {
     "name": "stdout",
     "output_type": "stream",
     "text": [
      "(5,)\n",
      "[4.00026333 2.93318236 2.88470877 4.17970113 2.11302856]\n"
     ]
    }
   ],
   "source": [
    "# demonstrate that our naive function is performing the same tensor product\n",
    "z = x @ y\n",
    "print(z.shape)\n",
    "print(z)"
   ]
  },
  {
   "cell_type": "markdown",
   "id": "f7764707-3b50-4627-b2d1-320b0414a5fc",
   "metadata": {},
   "source": [
    "We could have reused our first function for performing the inner product of 2 vectors.  The following is eqivalent and emphasizes\n",
    "that we are returning the inner product of y with each row of x."
   ]
  },
  {
   "cell_type": "code",
   "execution_count": 28,
   "id": "7b872ed0-f407-4273-b9b7-1d0256221f96",
   "metadata": {},
   "outputs": [],
   "source": [
    "def naive_matrix_vector_dot_2(x, y):\n",
    "    '''Perform (naive implementation of ) matrix @ vector dot product.  x is constrained to be a\n",
    "    rank-2 2-d matrix, but it can be of higher rank for general matrix/vector\n",
    "    multiplication.  Here y is a vector whose number of elements matches the\n",
    "    number of columns of the 2-d matrix x.  The result is a new vector which is\n",
    "    the inner product of y with each row of x.\n",
    "\n",
    "    This version explicitly demonstrates that the resulting vector is the inner product of y with\n",
    "    each row of x.\n",
    "\n",
    "    Parameters\n",
    "    ----------\n",
    "    x - a rank-2 matrix of size (samples, features)\n",
    "    y - a rank-1 vector that must be of size (features, ) for the dot product to be defined\n",
    "\n",
    "    Returns\n",
    "    -------\n",
    "    vector - a vector of size (samples, ) is returned, conceptually this is the result of performing the\n",
    "      inner product of each sample/row of x with the vector y.\n",
    "    '''\n",
    "    z = np.zeros(x.shape[0])\n",
    "    for row in range(x.shape[0]):\n",
    "        z[row] = naive_vector_dot(x[row, :], y)\n",
    "    return z"
   ]
  },
  {
   "cell_type": "code",
   "execution_count": 29,
   "id": "df10b297-f0c5-4ed5-be40-bcae99ae4777",
   "metadata": {},
   "outputs": [
    {
     "name": "stdout",
     "output_type": "stream",
     "text": [
      "(5,)\n",
      "[4.00026333 2.93318236 2.88470877 4.17970113 2.11302856]\n"
     ]
    }
   ],
   "source": [
    "# demonstrate this second version is equivalent to previous and the NumPy tensor product\n",
    "z = naive_matrix_vector_dot_2(x, y)\n",
    "print(z.shape)\n",
    "print(z)"
   ]
  },
  {
   "cell_type": "markdown",
   "id": "284e06e0-9630-4661-be89-c17c1eaf792b",
   "metadata": {},
   "source": [
    "The dot product generalizes to tensors with an arbitray number of axes.\n",
    "You can take the dot product of two rank-2 matrices `X` and `Y` if and only if\n",
    "the shape of `X.shape[1] == Y.shape[0]`, or in other words if the number of columns\n",
    "of `X` equals the number of rows of `Y`.  The result of the dot product is a\n",
    "new rank-2 matrix of shape `(X.shape[0], Y.shape[1])`.\n",
    "\n",
    "Or for example, if `X` is shape `(32, 10)` and `Y` is shape `(10, 22)` then\n",
    "the dot product of these two matrices is defined since the number of columns of\n",
    "`X` matches the number of rows in `Y`.  And the resulting size of the dot\n",
    "product will be a new matrix of shape `(32, 22)`.\n",
    "\n",
    "Here is a naive implementation of the tensor product operation for rank-2 matrices.\n",
    "Each resulting element of the tensor product is a sum of the products of a row of \n",
    "`X` with a column of `Y`."
   ]
  },
  {
   "cell_type": "code",
   "execution_count": 30,
   "id": "dab42ed8-9f23-426b-a570-cc58d411ba1e",
   "metadata": {},
   "outputs": [],
   "source": [
    "def naive_matrix_dot(x, y):\n",
    "    # X and Y are rank-2 NumPy matrices\n",
    "    assert len(x.shape) == 2\n",
    "    assert len(y.shape) == 2\n",
    "    \n",
    "    # tensor product is defined if number of columns of x matches\n",
    "    # number of rows of y\n",
    "    assert x.shape[1] == y.shape[0]\n",
    "    \n",
    "    # result is the sum of the products of each row of x with each column of y,\n",
    "    # or in other words the inner product of rows of x with coluns of y\n",
    "    z = np.zeros( (x.shape[0], y.shape[1]) )\n",
    "    \n",
    "    # perform the tensor product, iterate over the rows of x\n",
    "    # and over the columns of y\n",
    "    for row in range(X.shape[0]):\n",
    "        for col in range(Y.shape[1]):\n",
    "            # notice using NumPy slicing to slice out the row and column\n",
    "            row_x = x[row, :]\n",
    "            column_y = y[:, col]\n",
    "            \n",
    "            # reuse the inner product function from before, compute the scalar inner\n",
    "            # product of the current row/column\n",
    "            z[row, col] = naive_vector_dot(row_x, column_y)\n",
    "            \n",
    "    return z"
   ]
  },
  {
   "cell_type": "code",
   "execution_count": 31,
   "id": "f97e066e-6923-4c82-8642-6ccd2acb6777",
   "metadata": {},
   "outputs": [
    {
     "name": "stdout",
     "output_type": "stream",
     "text": [
      "(3, 2)\n",
      "[[2.10553756 2.59926773]\n",
      " [2.74341179 2.96945453]\n",
      " [1.65412823 1.95221383]]\n"
     ]
    }
   ],
   "source": [
    "# example of tensor product using our naive implementation\n",
    "# X is shape (3, 10) and Y is shape (10, 2)\n",
    "X = np.random.random( (3, 10) )\n",
    "Y = np.random.random( (10, 2) )\n",
    "\n",
    "# result is a (3, 2) shaped matrix\n",
    "Z = naive_matrix_dot(X, Y)\n",
    "print(Z.shape)\n",
    "print(Z)"
   ]
  },
  {
   "cell_type": "code",
   "execution_count": 32,
   "id": "003b6016-6cf4-4b1d-96b1-b23398dcd793",
   "metadata": {},
   "outputs": [
    {
     "name": "stdout",
     "output_type": "stream",
     "text": [
      "(3, 2)\n",
      "[[2.10553756 2.59926773]\n",
      " [2.74341179 2.96945453]\n",
      " [1.65412823 1.95221383]]\n"
     ]
    }
   ],
   "source": [
    "# just to confirm, the NumPy tensor product should give the same result\n",
    "Z = X @ Y\n",
    "print(Z.shape)\n",
    "print(Z)"
   ]
  },
  {
   "cell_type": "markdown",
   "id": "0ac1c69a-9f6d-4ffe-a6c1-72860375f1c3",
   "metadata": {},
   "source": [
    "More generally, you can take the dot product between higher-dimensional tensors.\n",
    "For example, the resulting shape of tensor product between tensors of shapes is:\n",
    "\n",
    "- `(a, b, c, d) @ (d,) -> (a, b, c)`\n",
    "- `(a, b, c, d) @ (d, e) -> (a, b, c, e)`"
   ]
  },
  {
   "cell_type": "code",
   "execution_count": 33,
   "id": "f5dbcae7-74e1-4dea-9e91-41a3d6442455",
   "metadata": {},
   "outputs": [
    {
     "name": "stdout",
     "output_type": "stream",
     "text": [
      "(5, 3, 8, 7)\n",
      "(7,)\n",
      "(5, 3, 8)\n"
     ]
    }
   ],
   "source": [
    "# example multiplication of a rank-4 tensor and a vector\n",
    "X = np.random.random( (5, 3, 8, 7) )\n",
    "y = np.random.random( (7,) )\n",
    "Z = X @ y\n",
    "print(X.shape)\n",
    "print(y.shape)\n",
    "print(Z.shape)"
   ]
  },
  {
   "cell_type": "code",
   "execution_count": 34,
   "id": "507baba1-7a46-43a6-acd5-eb17e364ca7c",
   "metadata": {},
   "outputs": [
    {
     "name": "stdout",
     "output_type": "stream",
     "text": [
      "(5, 3, 8, 7)\n",
      "(7, 5)\n",
      "(5, 3, 8, 5)\n"
     ]
    }
   ],
   "source": [
    "# example multiplication of a rank-4 tensor and a rank-2 tensor\n",
    "X = np.random.random( (5, 3, 8, 7) )\n",
    "Y = np.random.random( (7, 5) )\n",
    "Z = X @ Y\n",
    "print(X.shape)\n",
    "print(Y.shape)\n",
    "print(Z.shape)"
   ]
  },
  {
   "cell_type": "markdown",
   "id": "69a1b122-8f88-4382-a7f3-561c5b667a7c",
   "metadata": {},
   "source": [
    "## 2.3.4 Tensor Reshaping\n",
    "\n",
    "It is often necessary to reshape tensors.  In general you can always reshape a tensor into a new tensor, with different or same ranks, as long\n",
    "as the number of resulting elements remains the same in the reshaped tensor.\n",
    "\n",
    "For example, we did this in the previous dense neural network example for the MNIST data.  The MNIST images contain 28 rows by 28 columns\n",
    "of pixel inputs, but we feed in the inputs to the nerual networks as a flat `28 * 28 = 784` set of inputs.  So the input layer of the\n",
    "neural network we trained expected 784 inputs.  So previously we needed to reshape the training images, as follows:"
   ]
  },
  {
   "cell_type": "code",
   "execution_count": 35,
   "id": "172a71cc-1c28-4e09-8d88-6d61be094fbf",
   "metadata": {},
   "outputs": [
    {
     "name": "stdout",
     "output_type": "stream",
     "text": [
      "(60000, 28, 28)\n"
     ]
    }
   ],
   "source": [
    "# refetch so we have the original unshaped data\n",
    "(train_images, train_labels), (test_images, test_labels) = mnist.load_data()\n",
    "\n",
    "# originally the training images is a set of 60000 samples, where each sample is a 28x28 matrix of image pixels.  Thus the input\n",
    "# tensor is a rank-3 tensor of shape (60000, 28, 20)\n",
    "print(train_images.shape)"
   ]
  },
  {
   "cell_type": "code",
   "execution_count": 36,
   "id": "e6ba713f-7de7-4003-aab6-dc83b26de485",
   "metadata": {},
   "outputs": [
    {
     "name": "stdout",
     "output_type": "stream",
     "text": [
      "(60000, 784)\n"
     ]
    }
   ],
   "source": [
    "# but our simple Dense neural network expects a simple vector of inputs, so we have to flatten the 2-d\n",
    "# image into a single dimension of size 784 in order to use these images as input for the network\n",
    "train_images = train_images.reshape( (60000, 28 * 28) )\n",
    "print(train_images.shape)"
   ]
  },
  {
   "cell_type": "markdown",
   "id": "955abbe4-fb5c-4ae2-88bf-625265fc61c7",
   "metadata": {},
   "source": [
    "Reshaping simply rearranges the rows and columns to match the target shape.  Notice we reduced the tensor from a rank-3 to a rank-2\n",
    "tensor in this example.  As long as the total number of elements remains the same, we can reshape a matrix to a new one of any rank\n",
    "and number of elements per rank as desired.  For example, the number of elements in these tensors befor and after reshaping \n",
    "was `60000 * 28 * 28`"
   ]
  },
  {
   "cell_type": "code",
   "execution_count": 37,
   "id": "d8c8f6e1-5acb-4e25-bdeb-09a177048629",
   "metadata": {},
   "outputs": [
    {
     "name": "stdout",
     "output_type": "stream",
     "text": [
      "47040000\n",
      "47040000\n"
     ]
    }
   ],
   "source": [
    "print(train_images.size)\n",
    "print(60000 * 28 * 28)"
   ]
  },
  {
   "cell_type": "markdown",
   "id": "bd183f8e-db42-4642-9f90-aeca407f2a72",
   "metadata": {},
   "source": [
    "Reshaping a tensor means rearranging its rows and columns to match a target shape.  Naturally the reshaped tensor has to have the same total\n",
    "number of elements as the initial tensor as we discussed.  Some more examples of reshaping a tensor with 6 elements from our textbook:"
   ]
  },
  {
   "cell_type": "code",
   "execution_count": 38,
   "id": "f4323f7a-80f1-4088-a3a1-aa7b7e5e0d43",
   "metadata": {},
   "outputs": [
    {
     "name": "stdout",
     "output_type": "stream",
     "text": [
      "[0 1 2 3 4 5]\n",
      "(6,)\n"
     ]
    }
   ],
   "source": [
    "# vector of elements from 0 to 6\n",
    "x = np.arange(6)\n",
    "print(x)\n",
    "print(x.shape)"
   ]
  },
  {
   "cell_type": "code",
   "execution_count": 39,
   "id": "b9e80465-0dce-40a7-9345-0ce10beae714",
   "metadata": {},
   "outputs": [
    {
     "name": "stdout",
     "output_type": "stream",
     "text": [
      "[[0 1]\n",
      " [2 3]\n",
      " [4 5]]\n",
      "(3, 2)\n"
     ]
    }
   ],
   "source": [
    "# reshape to (3,2) rank-2 as shown initially in textbook\n",
    "x = x.reshape( (3, 2) )\n",
    "print(x)\n",
    "print(x.shape)"
   ]
  },
  {
   "cell_type": "code",
   "execution_count": 40,
   "id": "7d9ad3a7-f47f-425f-af2c-a4036fe7c90c",
   "metadata": {},
   "outputs": [
    {
     "name": "stdout",
     "output_type": "stream",
     "text": [
      "[[0]\n",
      " [1]\n",
      " [2]\n",
      " [3]\n",
      " [4]\n",
      " [5]]\n",
      "(6, 1)\n"
     ]
    }
   ],
   "source": [
    "# turn into a column matrix, e.g. not a rank-1 vector, but a rank-2 matrix with 6 rows and 1 column\n",
    "x = x.reshape( (6, 1) )\n",
    "print(x)\n",
    "print(x.shape)"
   ]
  },
  {
   "cell_type": "code",
   "execution_count": 41,
   "id": "2534d627-7343-4c0c-b8ff-9da5ea5eafd7",
   "metadata": {},
   "outputs": [
    {
     "name": "stdout",
     "output_type": "stream",
     "text": [
      "[[0 1 2]\n",
      " [3 4 5]]\n",
      "(2, 3)\n"
     ]
    }
   ],
   "source": [
    "# turn into (2, 3) shaped matrix\n",
    "x = x.reshape( (2, 3) )\n",
    "print(x)\n",
    "print(x.shape)"
   ]
  },
  {
   "cell_type": "markdown",
   "id": "8f18f189-b97a-4327-9765-ffaeca57979d",
   "metadata": {},
   "source": [
    "A special case of reshaping is *transposition* of the rows and columns.  This does change the order\n",
    "of the elements.  Transposition means to exchange the rows and columns so that `x[i, :]` becomse\n",
    "`x[:, i]`"
   ]
  },
  {
   "cell_type": "code",
   "execution_count": 42,
   "id": "3f619920-153f-4d8c-a23c-ff07b256f9d4",
   "metadata": {},
   "outputs": [
    {
     "data": {
      "text/plain": [
       "array([[0, 3],\n",
       "       [1, 4],\n",
       "       [2, 5]])"
      ]
     },
     "execution_count": 42,
     "metadata": {},
     "output_type": "execute_result"
    }
   ],
   "source": [
    "# notice that this result is now (3, 2) shaped, and the order of elements is different from original (3, 2) shaped array from the\n",
    "# transpose operation\n",
    "x.transpose()"
   ]
  },
  {
   "cell_type": "markdown",
   "id": "fbce4569-fb5a-4f9f-ba53-31a1bafbe3b4",
   "metadata": {},
   "source": [
    "## 2.3.5 Geometric Interpretation of Tensor Operations\n",
    "\n",
    "Tensor operations have a geometric interpretation that can be useful in some cases to get a better understanding of what function the\n",
    "tensor operations is performing.\n",
    "\n",
    "For example, consider addition of a vector.  Use a vector `A` with 2 elements, which can be interpreted as a point in\n",
    "a 2 dimensional geometric space. (notice this is where the confusion between 1-D tensor and 2-D comes from because \n",
    "the vector is a rank-1 tensor with 2 elements, that can be though of as points in a 2 dimensional space)."
   ]
  },
  {
   "cell_type": "code",
   "execution_count": 43,
   "id": "09fe20ad-f889-4f0d-bb24-6663de09a105",
   "metadata": {},
   "outputs": [
    {
     "data": {
      "image/png": "[encoded data removed]",
      "text/plain": [
       "<Figure size 1000x800 with 1 Axes>"
      ]
     },
     "metadata": {},
     "output_type": "display_data"
    }
   ],
   "source": [
    "# the vector in 2D space\n",
    "A = np.array([0.5, 1])\n",
    "\n",
    "# set up figure properties\n",
    "ax = plt.axes()\n",
    "ax.set_aspect('equal')\n",
    "ax.set_xlim(0, 1)\n",
    "ax.set_ylim(0, 1.1)\n",
    "\n",
    "# visualize the vector as direction and magnitude from origin\n",
    "plt.plot(A[0], A[1], 'bs')\n",
    "plt.arrow(0, 0, A[0], A[1], head_width=0.02, head_length=0.04, length_includes_head=True, color='black')\n",
    "plt.text(A[0] + 0.05, A[1] - 0.01, '[0.5, 1]', size=20)\n",
    "\n",
    "plt.grid();\n"
   ]
  },
  {
   "cell_type": "markdown",
   "id": "d08df1b4-3b95-4853-952b-3b2dd14b565d",
   "metadata": {},
   "source": [
    "Now consider a new point `B = [1, 0.25]`.  Vector addition\n",
    "can be conceptualized geometrically by\n",
    "chaining together the vector arrows.  The result of vector\n",
    "element-wise addition is a new vector of a particular direction\n",
    "and magnitude."
   ]
  },
  {
   "cell_type": "code",
   "execution_count": 44,
   "id": "4bc73d00-27bc-4dd6-8271-00eaa2f7bf5f",
   "metadata": {},
   "outputs": [
    {
     "name": "stdout",
     "output_type": "stream",
     "text": [
      "[1.5  1.25]\n"
     ]
    },
    {
     "data": {
      "image/png": "[encoded data removed]",
      "text/plain": [
       "<Figure size 1000x800 with 1 Axes>"
      ]
     },
     "metadata": {},
     "output_type": "display_data"
    }
   ],
   "source": [
    "# the vector in 2D space\n",
    "A = np.array([0.5, 1])\n",
    "B = np.array([1.0, 0.25])\n",
    "\n",
    "# set up figure properties\n",
    "ax = plt.axes()\n",
    "ax.set_aspect('equal')\n",
    "ax.set_xlim(0, 1.9)\n",
    "ax.set_ylim(0, 1.5)\n",
    "\n",
    "# visualize the vector as direction and magnitude from origin\n",
    "plt.plot(A[0], A[1], 'bs')\n",
    "plt.arrow(0, 0, A[0], A[1], head_width=0.02, head_length=0.04, length_includes_head=True, color='black')\n",
    "plt.text(A[0] - 0.1, A[1] - 0.01, 'A', size=20)\n",
    "\n",
    "plt.plot(B[0], B[1], 'bs')\n",
    "plt.arrow(0, 0, B[0], B[1], head_width=0.02, head_length=0.04, length_includes_head=True, color='black')\n",
    "plt.text(B[0] + 0.03, B[1] - 0.01, 'B', size=20)\n",
    "\n",
    "# add vectors, I will call it C\n",
    "C = A + B\n",
    "plt.plot(C[0], C[1], 'bs')\n",
    "plt.arrow(A[0], A[1], B[0], B[1], head_width=0.02, head_length=0.04, length_includes_head=True, color='grey')\n",
    "plt.arrow(B[0], B[1], A[0], A[1], head_width=0.02, head_length=0.04, length_includes_head=True, color='grey')\n",
    "plt.text(C[0] + 0.03, C[1] - 0.01, 'A + B', size=20)\n",
    "\n",
    "\n",
    "plt.grid();\n",
    "print(C)"
   ]
  },
  {
   "cell_type": "markdown",
   "id": "5fd4b036-91c4-4216-ab68-a3c28ac7d501",
   "metadata": {},
   "source": [
    "Tensor addition thus represents the action of *translating an object* (moving the\n",
    "object without distorting it) by a certain amount in a certain direction.\n",
    "\n",
    "For example, if we want to translate a polygon shape, we can do the following."
   ]
  },
  {
   "cell_type": "code",
   "execution_count": 45,
   "id": "0be1ca95-1cd3-4e39-b93b-a4ebafbef424",
   "metadata": {},
   "outputs": [
    {
     "name": "stdout",
     "output_type": "stream",
     "text": [
      "[[0.  0.4 0.7 0.2 0. ]\n",
      " [0.  0.1 0.6 0.5 0. ]]\n",
      "(2, 5)\n"
     ]
    },
    {
     "data": {
      "image/png": "[encoded data removed]",
      "text/plain": [
       "<Figure size 1000x800 with 1 Axes>"
      ]
     },
     "metadata": {},
     "output_type": "display_data"
    }
   ],
   "source": [
    "# a shape\n",
    "x = np.array([0.0, 0.4, 0.7, 0.2, 0.0])\n",
    "y = np.array([0.0, 0.1, 0.6, 0.5, 0.0])\n",
    "\n",
    "# set up figure properties\n",
    "ax = plt.axes()\n",
    "ax.set_aspect('equal')\n",
    "ax.set_xlim(0, 0.9)\n",
    "ax.set_ylim(0, 0.9)\n",
    "\n",
    "# represent shape as a 2 row matrix, where each column is\n",
    "# an x,y point of the shape to fill\n",
    "s = np.array([x, y])\n",
    "print(s)\n",
    "print(s.shape)\n",
    "\n",
    "# plot filled shape, row 0 are x positions and row 1\n",
    "# are y positions\n",
    "plt.fill(s[0], s[1]);\n",
    "plt.grid();"
   ]
  },
  {
   "cell_type": "code",
   "execution_count": 46,
   "id": "b6fb0bcf-5e0e-4d5d-b965-69dca19449af",
   "metadata": {},
   "outputs": [
    {
     "name": "stdout",
     "output_type": "stream",
     "text": [
      "[[0.2 0.6 0.9 0.4 0.2]\n",
      " [0.3 0.4 0.9 0.8 0.3]]\n",
      "(2, 5)\n"
     ]
    },
    {
     "data": {
      "image/png": "[encoded data removed]",
      "text/plain": [
       "<Figure size 1000x800 with 1 Axes>"
      ]
     },
     "metadata": {},
     "output_type": "display_data"
    }
   ],
   "source": [
    "# perform object translation by adding horizontal and vertical factor to shape\n",
    "# needs to be a (2,1) column matrix for the broadcasting to work here\n",
    "translation_factors = np.array([0.2, 0.3]).reshape(2,1)\n",
    "\n",
    "# notice we use broadcasting to add translation factors to shape coordinates\n",
    "news = translation_factors + s\n",
    "print(news)\n",
    "print(news.shape)\n",
    "\n",
    "# set up figure properties\n",
    "ax = plt.axes()\n",
    "ax.set_aspect('equal')\n",
    "ax.set_xlim(0, 0.9)\n",
    "ax.set_ylim(0, 0.9)\n",
    "\n",
    "# visualize the translation\n",
    "# plot filled shape, row 0 are x positions and row 1\n",
    "# are y positions\n",
    "plt.fill(s[0], s[1], color='blue', alpha=0.5)\n",
    "plt.fill(news[0], news[1], color='red', alpha=0.75)\n",
    "plt.arrow(0, 0, translation_factors[0,0], translation_factors[1,0], head_width=0.02, head_length=0.04, length_includes_head=True, color='black')\n",
    "plt.grid();"
   ]
  },
  {
   "cell_type": "markdown",
   "id": "1ae93bb1-2646-4e97-b962-3016045271ff",
   "metadata": {},
   "source": [
    "Rotation can be achieved by performing tensor product of matrix of `sin` and `cos` of desired rotation."
   ]
  },
  {
   "cell_type": "code",
   "execution_count": 47,
   "id": "f530d0eb-f804-41cb-b96e-6863ed3bb2d4",
   "metadata": {},
   "outputs": [
    {
     "name": "stdout",
     "output_type": "stream",
     "text": [
      "[[ 0.          0.33128347  0.41710561 -0.00656581  0.        ]\n",
      " [ 0.          0.24546133  0.82220612  0.53847645  0.        ]]\n",
      "(2, 5)\n"
     ]
    },
    {
     "data": {
      "image/png": "[encoded data removed]",
      "text/plain": [
       "<Figure size 1000x800 with 1 Axes>"
      ]
     },
     "metadata": {},
     "output_type": "display_data"
    }
   ],
   "source": [
    "# rotate 22.5 degress or pi/8 radians\n",
    "theta = np.pi / 8.0 \n",
    "rotation_factors = np.array([\n",
    "    [np.cos(theta), -np.sin(theta)],\n",
    "    [np.sin(theta), np.cos(theta)]])\n",
    "\n",
    "# perform rotation\n",
    "news = rotation_factors @ s\n",
    "print(news)\n",
    "print(news.shape)\n",
    "\n",
    "# set up figure properties\n",
    "ax = plt.axes()\n",
    "ax.set_aspect('equal')\n",
    "ax.set_xlim(-0.1, 0.9)\n",
    "ax.set_ylim(0, 0.9)\n",
    "\n",
    "# visualize the translation\n",
    "# plot filled shape, row 0 are x positions and row 1\n",
    "# are y positions\n",
    "plt.fill(s[0], s[1], color='blue', alpha=0.5)\n",
    "plt.fill(news[0], news[1], color='red', alpha=0.75)\n",
    "plt.grid();"
   ]
  },
  {
   "cell_type": "markdown",
   "id": "f19928bb-988b-499f-8c69-d1655aa407a0",
   "metadata": {},
   "source": [
    "Scaling can be performed using a diagnol matrix defining the vertical and horizontal scaling factors.  \n",
    "A negative scaling incidentally will cause a flip along the indicated axis.\n",
    "\n",
    "So to make width 1.5 as big, and to make height 0.5 as big and flip along the\n",
    "y axis, do:"
   ]
  },
  {
   "cell_type": "code",
   "execution_count": 48,
   "id": "33723a7f-7235-41cf-b0d5-3712d53f64e7",
   "metadata": {},
   "outputs": [
    {
     "name": "stdout",
     "output_type": "stream",
     "text": [
      "(2, 2)\n",
      "(2, 5)\n",
      "[[ 0.    0.6   1.05  0.3   0.  ]\n",
      " [ 0.   -0.05 -0.3  -0.25  0.  ]]\n",
      "(2, 5)\n"
     ]
    },
    {
     "data": {
      "image/png": "[encoded data removed]",
      "text/plain": [
       "<Figure size 1000x800 with 1 Axes>"
      ]
     },
     "metadata": {},
     "output_type": "display_data"
    }
   ],
   "source": [
    "# scale width to be 1.5 times as big, but make 1/2 height and flip\n",
    "# the y axis\n",
    "scaling_factors = np.array([\n",
    "    [1.5,  0.0],\n",
    "    [0.0, -0.5]])\n",
    "\n",
    "# perform rotation\n",
    "print(scaling_factors.shape)\n",
    "print(s.shape)\n",
    "news = scaling_factors @ s\n",
    "print(news)\n",
    "print(news.shape)\n",
    "\n",
    "# set up figure properties\n",
    "ax = plt.axes()\n",
    "ax.set_aspect('equal')\n",
    "ax.set_xlim(0, 1.1)\n",
    "ax.set_ylim(-0.4, 0.7)\n",
    "\n",
    "# visualize the scaling operation\n",
    "# plot filled shape, row 0 are x positions and row 1\n",
    "# are y positions\n",
    "plt.fill(s[0], s[1], color='blue', alpha=0.5)\n",
    "plt.fill(news[0], news[1], color='red', alpha=0.75)\n",
    "plt.grid();"
   ]
  },
  {
   "cell_type": "markdown",
   "id": "0fff706c-1b98-447e-93cb-72817c2e23c0",
   "metadata": {},
   "source": [
    "*Scaling* and *rotation* are both linear transformations.  A dot product with an arbitray matrix implements\n",
    "a linear transform.\n",
    "\n",
    "**Affine transform** is a combination of a linear transform (using a dot product with some matrix, and\n",
    "a translation (achieved by vector addition).  This is the basic calculation used to calculate\n",
    "the output `y` of a layer from some input `x`, e.g. `y = W @ x + b`\n",
    "\n",
    "As an example, define `W` as the same scaling operation as above, then translate 0.5 horizontally and\n",
    "0.2 vertically."
   ]
  },
  {
   "cell_type": "code",
   "execution_count": 49,
   "id": "1b3eb9a1-a31c-4920-9d2f-5b6a82a0a567",
   "metadata": {},
   "outputs": [
    {
     "name": "stdout",
     "output_type": "stream",
     "text": [
      "(2, 2)\n",
      "(2, 5)\n",
      "[[ 0.5   1.1   1.55  0.8   0.5 ]\n",
      " [ 0.2   0.15 -0.1  -0.05  0.2 ]]\n",
      "(2, 5)\n"
     ]
    },
    {
     "data": {
      "image/png": "[encoded data removed]",
      "text/plain": [
       "<Figure size 1000x800 with 1 Axes>"
      ]
     },
     "metadata": {},
     "output_type": "display_data"
    }
   ],
   "source": [
    "# Same scaling operation as before\n",
    "W = np.array([\n",
    "    [1.5,  0.0],\n",
    "    [0.0, -0.5]])\n",
    "\n",
    "# the bias here performs a translation, 0.5 vertical and 0.2 horizontal\n",
    "b = np.array([0.5, 0.2]).reshape(2,1)\n",
    "\n",
    "# perform rotation\n",
    "print(W.shape)\n",
    "print(s.shape)\n",
    "news = (W @ s) + b\n",
    "print(news)\n",
    "print(news.shape)\n",
    "\n",
    "# set up figure properties\n",
    "ax = plt.axes()\n",
    "ax.set_aspect('equal')\n",
    "ax.set_xlim(-0.1, 1.6)\n",
    "ax.set_ylim(-0.1, 0.7)\n",
    "\n",
    "# visualize the scaling operation\n",
    "# plot filled shape, column 0 are x positions and column 1\n",
    "# are y positions\n",
    "plt.fill(s[0], s[1], color='blue', alpha=0.5)\n",
    "plt.fill(news[0], news[1], color='red', alpha=0.75)\n",
    "plt.grid();"
   ]
  },
  {
   "cell_type": "markdown",
   "id": "2dfc536c-c64d-40ae-befd-1cfe958183ed",
   "metadata": {},
   "source": [
    "Finally lets apply a `relu()` activation.  As discussed in the text, if all you apply are affine transforms\n",
    "repeatedly, you still end up with an affine transform.  So you could calculate an expression that\n",
    "applies all serial affine transformations as a single affine transformation.  \n",
    "\n",
    "In practical terms, this means a dense neural network that only performs affine transformations (linear\n",
    "transforms and translations) can be reduced to an equivalent single Dense layer.  In that case a\n",
    "neural network would be equivalent to a linear model in disguise.\n",
    "\n",
    "However, to allow for nonlinear transformations, neural networks usually apply a nonlinear\n",
    "activation function to the affine transformation of each layer.  Thanks to the activation\n",
    "function, a chain of Dense layers can be made to implement very complex non-linear\n",
    "geometric transformations.  \n",
    "\n",
    "It may not be obvious, but `relu()` applies a nonlinear activation function."
   ]
  },
  {
   "cell_type": "code",
   "execution_count": 50,
   "id": "57878042-0906-48c7-ac8c-b1c1f50314dd",
   "metadata": {},
   "outputs": [
    {
     "name": "stdout",
     "output_type": "stream",
     "text": [
      "[[0.5  1.1  1.55 0.8  0.5 ]\n",
      " [0.2  0.15 0.   0.   0.2 ]]\n",
      "(2, 5)\n"
     ]
    },
    {
     "data": {
      "image/png": "[encoded data removed]",
      "text/plain": [
       "<Figure size 1000x800 with 1 Axes>"
      ]
     },
     "metadata": {},
     "output_type": "display_data"
    }
   ],
   "source": [
    "# Same scaling operation as before\n",
    "W = np.array([\n",
    "    [1.5,  0.0],\n",
    "    [0.0, -0.5]])\n",
    "\n",
    "# the bias here performs a translation, 0.5 vertical and 0.2 horizontal\n",
    "b = np.array([0.5, 0.2]).reshape(2, 1)\n",
    "\n",
    "# perform weighted summation and addition of bias, then apply\n",
    "# a nonlinear relu.  Again the maximum of 0 essentially is the simple\n",
    "# relu function\n",
    "news = np.maximum((W @ s) + b, 0.0)\n",
    "print(news)\n",
    "print(news.shape)\n",
    "\n",
    "# set up figure properties\n",
    "ax = plt.axes()\n",
    "ax.set_aspect('equal')\n",
    "ax.set_xlim(-0.1, 1.6)\n",
    "ax.set_ylim(-0.1, 0.7)\n",
    "\n",
    "# visualize the scaling operation\n",
    "# plot filled shape, column 0 are x positions and column 1\n",
    "# are y positions\n",
    "plt.fill(s[0], s[1], color='blue', alpha=0.5)\n",
    "plt.fill(news[0], news[1], color='red', alpha=0.75)\n",
    "plt.grid();"
   ]
  },
  {
   "cell_type": "markdown",
   "id": "2fa5cc7d-5c3c-4896-b193-9ccd9cd7161d",
   "metadata": {},
   "source": [
    "## 2.3.6 Geometric Interpretation of Deep Learning\n",
    "\n",
    "A neural network consists of a chain of tensor operations.  Translation, rotation and scaling are are linear transformations, which have\n",
    "relatively simple geometric interpretations.  In addition neural network apply nonlinear activation functions, which add in ability\n",
    "to model nonlinear functional relations between the input data and output label to be learned by the network.\n",
    "\n"
   ]
  }
 ],
 "metadata": {
  "kernelspec": {
   "display_name": "Python 3 (ipykernel)",
   "language": "python",
   "name": "python3"
  },
  "language_info": {
   "codemirror_mode": {
    "name": "ipython",
    "version": 3
   },
   "file_extension": ".py",
   "mimetype": "text/x-python",
   "name": "python",
   "nbconvert_exporter": "python",
   "pygments_lexer": "ipython3",
   "version": "3.12.7"
  }
 },
 "nbformat": 4,
 "nbformat_minor": 5
}
