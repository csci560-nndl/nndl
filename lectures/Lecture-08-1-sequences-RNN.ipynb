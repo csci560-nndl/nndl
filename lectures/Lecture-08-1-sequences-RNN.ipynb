{
 "cells": [
  {
   "cell_type": "code",
   "execution_count": 1,
   "metadata": {},
   "outputs": [
    {
     "name": "stderr",
     "output_type": "stream",
     "text": [
      "Using TensorFlow backend.\n"
     ]
    }
   ],
   "source": [
    "# general imports needed by functions\n",
    "import errno    \n",
    "import os\n",
    "\n",
    "# import python scientific libraries\n",
    "import numpy as np\n",
    "import matplotlib.pyplot as plt\n",
    "import seaborn as sns\n",
    "\n",
    "# import needed keras objects into current namespace\n",
    "from keras import layers\n",
    "from keras import models\n",
    "from keras import optimizers\n"
   ]
  },
  {
   "cell_type": "code",
   "execution_count": 2,
   "metadata": {},
   "outputs": [],
   "source": [
    "# set plotting visual style and parameters for all plotted figures\n",
    "%matplotlib inline\n",
    "sns.set_style('darkgrid') # use seaborn style to improve visual presentation\n",
    "sns.set_context('notebook')\n",
    "plt.rcParams['figure.figsize'] = (12.0 , 8.0)"
   ]
  },
  {
   "cell_type": "code",
   "execution_count": 3,
   "metadata": {},
   "outputs": [
    {
     "name": "stdout",
     "output_type": "stream",
     "text": [
      "is gup available?  False\n",
      "\n",
      "[name: \"/device:CPU:0\"\n",
      "device_type: \"CPU\"\n",
      "memory_limit: 268435456\n",
      "locality {\n",
      "}\n",
      "incarnation: 9868249592297746104\n",
      ", name: \"/device:XLA_CPU:0\"\n",
      "device_type: \"XLA_CPU\"\n",
      "memory_limit: 17179869184\n",
      "locality {\n",
      "}\n",
      "incarnation: 16859819057464299092\n",
      "physical_device_desc: \"device: XLA_CPU device\"\n",
      "]\n"
     ]
    }
   ],
   "source": [
    "import tensorflow as tf\n",
    "\n",
    "print(\"is gpu available? \", tf.test.is_gpu_available())\n",
    "print(\"\")\n",
    "\n",
    "# check which devices tensorflow has recognized and is using\n",
    "from tensorflow.python.client import device_lib\n",
    "print(device_lib.list_local_devices())"
   ]
  },
  {
   "cell_type": "markdown",
   "metadata": {},
   "source": [
    "# 6. Deep Learning for Text and Sequences\n",
    "\n",
    "We will use *recurrent neural networks* and *1D convnets* for:\n",
    "\n",
    "- Document classification and timeseries classification.\n",
    "- Timeseries comparisons (estimate closeness sof documents or stockcs)\n",
    "- Sequence-to-sequence learning (e.g. natural language translation)\n",
    "- Sentiment analysis (postiive or negative movie reviews)\n",
    "- Timeseries forecasting (predict future weather given timeseries of past weather).\n",
    "\n",
    "## 6.1 Working with text data\n",
    "\n",
    "Deep learning for NLP is pattern recognition applied to words, sentences and paragraphs, in much the same way\n",
    "that computer vision is pattern recognition applied to pixels.\n",
    "\n",
    "Like all machine learning and NN models, deep-learning need numeric tensors, they can't work with raw\n",
    "text as input (as we have seen).  *Vectorizing* text is the process of transforming text into numeric tensors.\n",
    "This can be done in multiple ways:\n",
    "- Segment text into words, and transform each word into a vector.\n",
    "- Segment text into characters, and transfrom each character into a vector.\n",
    "- Extract n-grams of words or characters, and transform each n-gram into a vector.\n",
    "\n",
    "Where *n-grams* are overlapping groups of multiple consecutive words or characters.\n",
    "\n",
    "Generically, the different units we encode text into (words, characters, or n-grams) can be referred to\n",
    "as *tokens*, and breaking text into such tokens is called *tokenization*.  The first step in parsing a\n",
    "computer language in order to compile or interpret it is to tokenize the input, and likewise, the first step in\n",
    "a NLP task is to tokenize the text before processing can begin.\n",
    "\n",
    "All text-vectorization consists of applying some tokenization scheme then associating a resulting\n",
    "numeric vector with the generated tokens.  These vectors, packed into sequence tensors, are fed\n",
    "into deep neural networks.\n",
    "\n",
    "Two major approaches to associating a numeric vector with tokens:\n",
    "- *one-hot encoding*\n",
    "- *token embedding* (typically for words known as *word embedding*.\n",
    "\n",
    "\n",
    "This section looks at these two techniques in more detail (we have seen examples of one-hot encoding\n",
    "in previous sections.  "
   ]
  },
  {
   "cell_type": "markdown",
   "metadata": {},
   "source": [
    "### 6.1.1 One-hot encoding of words and characters\n",
    "\n",
    "One-hot encoding is the most common and most basic way to turn character tokens into a vector.\n",
    "It consists of associating a unique integer index with every word, and then turning this integer\n",
    "index $i$ into a binary vector of size $N$ (the size of the vocabulary); the vector is all zeros\n",
    "except for the $i$th entry, which is 1.\n",
    "\n",
    "One-hot encoding can be done at the character level.\n",
    "\n",
    "The toy example for word-level one-hot encoding (Listing 6.1)"
   ]
  },
  {
   "cell_type": "code",
   "execution_count": 4,
   "metadata": {},
   "outputs": [
    {
     "name": "stdout",
     "output_type": "stream",
     "text": [
      "(2, 10, 11)\n",
      "{'The': 1, 'cat': 2, 'sat': 3, 'on': 4, 'the': 5, 'mat.': 6, 'dog': 7, 'ate': 8, 'my': 9, 'homework.': 10}\n",
      "[0. 1. 0. 0. 0. 0. 0. 0. 0. 0. 0.]\n"
     ]
    }
   ],
   "source": [
    "# example samples.  In this example, each sample is a single sentence\n",
    "samples = ['The cat sat on the mat.', 'The dog ate my homework.']\n",
    "\n",
    "# build an index of all tokens in the data\n",
    "token_index = {}\n",
    "for sample in samples:\n",
    "    # example of tokenizing by word.  In a real problem, we would (usually)\n",
    "    # strip punctuation and special characters\n",
    "    for word in sample.split():\n",
    "        if word not in token_index:\n",
    "            # an arbitrary unique index assigned for each word\n",
    "            token_index[word] = len(token_index) + 1\n",
    "\n",
    "# we only consider the first max_length words in each sample\n",
    "max_length = 10\n",
    "\n",
    "# where we store the results, tensor one entry for each sample\n",
    "results = np.zeros(shape=(len(samples), max_length, max(token_index.values()) + 1))\n",
    "\n",
    "# vectorize the samples\n",
    "for i, sample in enumerate(samples):\n",
    "    # look at each word in the sample\n",
    "    for j, word in list(enumerate(sample.split()))[:max_length]:\n",
    "        index = token_index.get(word)\n",
    "        results[i, j, index] = 1 # one-hot encoding\n",
    "        \n",
    "\n",
    "# show the resulting representation\n",
    "print(results.shape)\n",
    "print(token_index)\n",
    "print(results[0, 0, :]) # first word of first sample, The is index 1, one-hot encoded"
   ]
  },
  {
   "cell_type": "markdown",
   "metadata": {},
   "source": [
    "The toy example for character-level one-hot encoding"
   ]
  },
  {
   "cell_type": "code",
   "execution_count": 5,
   "metadata": {},
   "outputs": [
    {
     "name": "stdout",
     "output_type": "stream",
     "text": [
      "[0. 0. 0. 0. 0. 0. 0. 0. 0. 0. 0. 0. 0. 0. 0. 0. 0. 0. 0. 0. 0. 0. 0. 0.\n",
      " 0. 0. 0. 0. 0. 0. 0. 0. 0. 0. 0. 0. 0. 0. 0. 0. 0. 0. 0. 0. 0. 0. 0. 0.\n",
      " 0. 0. 0. 0. 0. 0. 0. 0. 0. 0. 0. 0. 0. 0. 0. 0. 0. 0. 0. 0. 0. 0. 0. 0.\n",
      " 0. 0. 0. 0. 0. 0. 0. 0. 0. 0. 0. 0. 0. 0. 0. 0. 0. 0. 0. 0. 0. 0. 0. 0.\n",
      " 0. 0. 0. 0. 0.]\n",
      "0 0 56 T\n",
      "0 1 18 h\n",
      "0 2 15 e\n",
      "0 3 95  \n",
      "0 4 13 c\n",
      "0 5 11 a\n",
      "0 6 30 t\n",
      "0 7 95  \n",
      "0 8 29 s\n",
      "0 9 11 a\n",
      "0 10 30 t\n",
      "0 11 95  \n",
      "0 12 25 o\n",
      "0 13 24 n\n",
      "0 14 95  \n",
      "0 15 30 t\n",
      "0 16 18 h\n",
      "0 17 15 e\n",
      "0 18 95  \n",
      "0 19 23 m\n",
      "0 20 11 a\n",
      "0 21 30 t\n",
      "0 22 76 .\n",
      "1 0 56 T\n",
      "1 1 18 h\n",
      "1 2 15 e\n",
      "1 3 95  \n",
      "1 4 14 d\n",
      "1 5 25 o\n",
      "1 6 17 g\n",
      "1 7 95  \n",
      "1 8 11 a\n",
      "1 9 30 t\n",
      "1 10 15 e\n",
      "1 11 95  \n",
      "1 12 23 m\n",
      "1 13 35 y\n",
      "1 14 95  \n",
      "1 15 18 h\n",
      "1 16 25 o\n",
      "1 17 23 m\n",
      "1 18 15 e\n",
      "1 19 33 w\n",
      "1 20 25 o\n",
      "1 21 28 r\n",
      "1 22 21 k\n",
      "1 23 76 .\n",
      "(2, 50, 101)\n",
      "{'0': 1, '1': 2, '2': 3, '3': 4, '4': 5, '5': 6, '6': 7, '7': 8, '8': 9, '9': 10, 'a': 11, 'b': 12, 'c': 13, 'd': 14, 'e': 15, 'f': 16, 'g': 17, 'h': 18, 'i': 19, 'j': 20, 'k': 21, 'l': 22, 'm': 23, 'n': 24, 'o': 25, 'p': 26, 'q': 27, 'r': 28, 's': 29, 't': 30, 'u': 31, 'v': 32, 'w': 33, 'x': 34, 'y': 35, 'z': 36, 'A': 37, 'B': 38, 'C': 39, 'D': 40, 'E': 41, 'F': 42, 'G': 43, 'H': 44, 'I': 45, 'J': 46, 'K': 47, 'L': 48, 'M': 49, 'N': 50, 'O': 51, 'P': 52, 'Q': 53, 'R': 54, 'S': 55, 'T': 56, 'U': 57, 'V': 58, 'W': 59, 'X': 60, 'Y': 61, 'Z': 62, '!': 63, '\"': 64, '#': 65, '$': 66, '%': 67, '&': 68, \"'\": 69, '(': 70, ')': 71, '*': 72, '+': 73, ',': 74, '-': 75, '.': 76, '/': 77, ':': 78, ';': 79, '<': 80, '=': 81, '>': 82, '?': 83, '@': 84, '[': 85, '\\\\': 86, ']': 87, '^': 88, '_': 89, '`': 90, '{': 91, '|': 92, '}': 93, '~': 94, ' ': 95, '\\t': 96, '\\n': 97, '\\r': 98, '\\x0b': 99, '\\x0c': 100}\n",
      "[0. 0. 0. 0. 0. 0. 0. 0. 0. 0. 0. 0. 0. 0. 0. 0. 0. 0. 0. 0. 0. 0. 0. 0.\n",
      " 0. 0. 0. 0. 0. 0. 0. 0. 0. 0. 0. 0. 0. 0. 0. 0. 0. 0. 0. 0. 0. 0. 0. 0.\n",
      " 0. 0. 0. 0. 0. 0. 0. 0. 1. 0. 0. 0. 0. 0. 0. 0. 0. 0. 0. 0. 0. 0. 0. 0.\n",
      " 0. 0. 0. 0. 0. 0. 0. 0. 0. 0. 0. 0. 0. 0. 0. 0. 0. 0. 0. 0. 0. 0. 0. 0.\n",
      " 0. 0. 0. 0. 0.]\n"
     ]
    }
   ],
   "source": [
    "import string\n",
    "\n",
    "samples = ['The cat sat on the mat.', 'The dog ate my homework.']\n",
    "# all printable ASCII characters\n",
    "characters = string.printable\n",
    "# build index of the characters\n",
    "# BUG: textbook reverses key/value of the token_index, we correct here\n",
    "token_index = dict(zip(characters, range(1, len(characters) + 1)))\n",
    "\n",
    "\n",
    "# vectorize the samples\n",
    "max_length = 50\n",
    "results = np.zeros((len(samples), max_length, max(token_index.values()) + 1))\n",
    "print(results[0, 0, :]) # first character of first sample\n",
    "for i, sample in enumerate(samples):\n",
    "    for j, character in enumerate(sample):\n",
    "        index = token_index.get(character)\n",
    "        print(i, j, index, character)\n",
    "        results[i, j, index] = 1\n",
    "        \n",
    "# show the resulting representation\n",
    "print(results.shape)\n",
    "print(token_index)\n",
    "print(results[0, 0, :]) # first character of first sample"
   ]
  },
  {
   "cell_type": "markdown",
   "metadata": {},
   "source": [
    "Kerhas has built-in library functions for one-hot encoding of text at word or character level, starting from\n",
    "raw text data.  They take care of stripping special characters and only using N most common words in the\n",
    "dataset."
   ]
  },
  {
   "cell_type": "code",
   "execution_count": 6,
   "metadata": {},
   "outputs": [
    {
     "name": "stdout",
     "output_type": "stream",
     "text": [
      "Found 9 unique tokens.\n",
      "{'the': 1, 'cat': 2, 'sat': 3, 'on': 4, 'mat': 5, 'dog': 6, 'ate': 7, 'my': 8, 'homework': 9}\n",
      "(2, 1000)\n",
      "[0. 1. 1. 1. 1. 1. 0. 0. 0. 0. 0. 0. 0. 0. 0. 0. 0. 0. 0. 0. 0. 0. 0. 0.\n",
      " 0. 0. 0. 0. 0. 0. 0. 0. 0. 0. 0. 0. 0. 0. 0. 0. 0. 0. 0. 0. 0. 0. 0. 0.\n",
      " 0. 0. 0. 0. 0. 0. 0. 0. 0. 0. 0. 0. 0. 0. 0. 0. 0. 0. 0. 0. 0. 0. 0. 0.\n",
      " 0. 0. 0. 0. 0. 0. 0. 0. 0. 0. 0. 0. 0. 0. 0. 0. 0. 0. 0. 0. 0. 0. 0. 0.\n",
      " 0. 0. 0. 0. 0. 0. 0. 0. 0. 0. 0. 0. 0. 0. 0. 0. 0. 0. 0. 0. 0. 0. 0. 0.\n",
      " 0. 0. 0. 0. 0. 0. 0. 0. 0. 0. 0. 0. 0. 0. 0. 0. 0. 0. 0. 0. 0. 0. 0. 0.\n",
      " 0. 0. 0. 0. 0. 0. 0. 0. 0. 0. 0. 0. 0. 0. 0. 0. 0. 0. 0. 0. 0. 0. 0. 0.\n",
      " 0. 0. 0. 0. 0. 0. 0. 0. 0. 0. 0. 0. 0. 0. 0. 0. 0. 0. 0. 0. 0. 0. 0. 0.\n",
      " 0. 0. 0. 0. 0. 0. 0. 0. 0. 0. 0. 0. 0. 0. 0. 0. 0. 0. 0. 0. 0. 0. 0. 0.\n",
      " 0. 0. 0. 0. 0. 0. 0. 0. 0. 0. 0. 0. 0. 0. 0. 0. 0. 0. 0. 0. 0. 0. 0. 0.\n",
      " 0. 0. 0. 0. 0. 0. 0. 0. 0. 0. 0. 0. 0. 0. 0. 0. 0. 0. 0. 0. 0. 0. 0. 0.\n",
      " 0. 0. 0. 0. 0. 0. 0. 0. 0. 0. 0. 0. 0. 0. 0. 0. 0. 0. 0. 0. 0. 0. 0. 0.\n",
      " 0. 0. 0. 0. 0. 0. 0. 0. 0. 0. 0. 0. 0. 0. 0. 0. 0. 0. 0. 0. 0. 0. 0. 0.\n",
      " 0. 0. 0. 0. 0. 0. 0. 0. 0. 0. 0. 0. 0. 0. 0. 0. 0. 0. 0. 0. 0. 0. 0. 0.\n",
      " 0. 0. 0. 0. 0. 0. 0. 0. 0. 0. 0. 0. 0. 0. 0. 0. 0. 0. 0. 0. 0. 0. 0. 0.\n",
      " 0. 0. 0. 0. 0. 0. 0. 0. 0. 0. 0. 0. 0. 0. 0. 0. 0. 0. 0. 0. 0. 0. 0. 0.\n",
      " 0. 0. 0. 0. 0. 0. 0. 0. 0. 0. 0. 0. 0. 0. 0. 0. 0. 0. 0. 0. 0. 0. 0. 0.\n",
      " 0. 0. 0. 0. 0. 0. 0. 0. 0. 0. 0. 0. 0. 0. 0. 0. 0. 0. 0. 0. 0. 0. 0. 0.\n",
      " 0. 0. 0. 0. 0. 0. 0. 0. 0. 0. 0. 0. 0. 0. 0. 0. 0. 0. 0. 0. 0. 0. 0. 0.\n",
      " 0. 0. 0. 0. 0. 0. 0. 0. 0. 0. 0. 0. 0. 0. 0. 0. 0. 0. 0. 0. 0. 0. 0. 0.\n",
      " 0. 0. 0. 0. 0. 0. 0. 0. 0. 0. 0. 0. 0. 0. 0. 0. 0. 0. 0. 0. 0. 0. 0. 0.\n",
      " 0. 0. 0. 0. 0. 0. 0. 0. 0. 0. 0. 0. 0. 0. 0. 0. 0. 0. 0. 0. 0. 0. 0. 0.\n",
      " 0. 0. 0. 0. 0. 0. 0. 0. 0. 0. 0. 0. 0. 0. 0. 0. 0. 0. 0. 0. 0. 0. 0. 0.\n",
      " 0. 0. 0. 0. 0. 0. 0. 0. 0. 0. 0. 0. 0. 0. 0. 0. 0. 0. 0. 0. 0. 0. 0. 0.\n",
      " 0. 0. 0. 0. 0. 0. 0. 0. 0. 0. 0. 0. 0. 0. 0. 0. 0. 0. 0. 0. 0. 0. 0. 0.\n",
      " 0. 0. 0. 0. 0. 0. 0. 0. 0. 0. 0. 0. 0. 0. 0. 0. 0. 0. 0. 0. 0. 0. 0. 0.\n",
      " 0. 0. 0. 0. 0. 0. 0. 0. 0. 0. 0. 0. 0. 0. 0. 0. 0. 0. 0. 0. 0. 0. 0. 0.\n",
      " 0. 0. 0. 0. 0. 0. 0. 0. 0. 0. 0. 0. 0. 0. 0. 0. 0. 0. 0. 0. 0. 0. 0. 0.\n",
      " 0. 0. 0. 0. 0. 0. 0. 0. 0. 0. 0. 0. 0. 0. 0. 0. 0. 0. 0. 0. 0. 0. 0. 0.\n",
      " 0. 0. 0. 0. 0. 0. 0. 0. 0. 0. 0. 0. 0. 0. 0. 0. 0. 0. 0. 0. 0. 0. 0. 0.\n",
      " 0. 0. 0. 0. 0. 0. 0. 0. 0. 0. 0. 0. 0. 0. 0. 0. 0. 0. 0. 0. 0. 0. 0. 0.\n",
      " 0. 0. 0. 0. 0. 0. 0. 0. 0. 0. 0. 0. 0. 0. 0. 0. 0. 0. 0. 0. 0. 0. 0. 0.\n",
      " 0. 0. 0. 0. 0. 0. 0. 0. 0. 0. 0. 0. 0. 0. 0. 0. 0. 0. 0. 0. 0. 0. 0. 0.\n",
      " 0. 0. 0. 0. 0. 0. 0. 0. 0. 0. 0. 0. 0. 0. 0. 0. 0. 0. 0. 0. 0. 0. 0. 0.\n",
      " 0. 0. 0. 0. 0. 0. 0. 0. 0. 0. 0. 0. 0. 0. 0. 0. 0. 0. 0. 0. 0. 0. 0. 0.\n",
      " 0. 0. 0. 0. 0. 0. 0. 0. 0. 0. 0. 0. 0. 0. 0. 0. 0. 0. 0. 0. 0. 0. 0. 0.\n",
      " 0. 0. 0. 0. 0. 0. 0. 0. 0. 0. 0. 0. 0. 0. 0. 0. 0. 0. 0. 0. 0. 0. 0. 0.\n",
      " 0. 0. 0. 0. 0. 0. 0. 0. 0. 0. 0. 0. 0. 0. 0. 0. 0. 0. 0. 0. 0. 0. 0. 0.\n",
      " 0. 0. 0. 0. 0. 0. 0. 0. 0. 0. 0. 0. 0. 0. 0. 0. 0. 0. 0. 0. 0. 0. 0. 0.\n",
      " 0. 0. 0. 0. 0. 0. 0. 0. 0. 0. 0. 0. 0. 0. 0. 0. 0. 0. 0. 0. 0. 0. 0. 0.\n",
      " 0. 0. 0. 0. 0. 0. 0. 0. 0. 0. 0. 0. 0. 0. 0. 0. 0. 0. 0. 0. 0. 0. 0. 0.\n",
      " 0. 0. 0. 0. 0. 0. 0. 0. 0. 0. 0. 0. 0. 0. 0. 0.]\n"
     ]
    }
   ],
   "source": [
    "from keras.preprocessing.text import Tokenizer\n",
    "\n",
    "samples = ['The cat sat on the mat.', 'The dog ate my homework.']\n",
    "\n",
    "# creates tokenizer configured to only use 1000 most common words\n",
    "tokenizer = Tokenizer(num_words=1000)\n",
    "\n",
    "# builds the word index\n",
    "tokenizer.fit_on_texts(samples)\n",
    "\n",
    "# turns strings into lists of integer indexes\n",
    "sequences = tokenizer.texts_to_sequences(samples)\n",
    "\n",
    "# other vectorizations are supported, but texts_to_matrix does same as we did above by hand\n",
    "one_hot_results = tokenizer.texts_to_matrix(samples, mode='binary')\n",
    "\n",
    "# can be used to recover the word index that was computed\n",
    "word_index = tokenizer.word_index\n",
    "print('Found %s unique tokens.' % len(word_index))\n",
    "\n",
    "# show the results\n",
    "print(word_index)\n",
    "print(one_hot_results.shape)\n",
    "print(one_hot_results[0,:])"
   ]
  },
  {
   "cell_type": "markdown",
   "metadata": {},
   "source": [
    "A variant is *one-hot hasing*.  If number of unique tokens is very large, hash words into vectors of fixed size.\n",
    "It is a hash, so *hash collisions* may occur and 2to different words end up with same hash."
   ]
  },
  {
   "cell_type": "code",
   "execution_count": 7,
   "metadata": {},
   "outputs": [
    {
     "name": "stdout",
     "output_type": "stream",
     "text": [
      "(2, 10, 1000)\n",
      "[0. 0. 0. 0. 0. 0. 0. 0. 0. 0. 0. 0. 0. 0. 0. 0. 0. 0. 0. 0. 0. 0. 0. 0.\n",
      " 0. 0. 0. 0. 0. 0. 0. 0. 0. 0. 0. 0. 0. 0. 0. 0. 0. 0. 0. 0. 0. 0. 0. 0.\n",
      " 0. 0. 0. 0. 0. 0. 0. 0. 0. 0. 0. 0. 0. 0. 0. 0. 0. 0. 0. 0. 0. 0. 0. 0.\n",
      " 0. 1. 0. 0. 0. 0. 0. 0. 0. 0. 0. 0. 0. 0. 0. 0. 0. 0. 0. 0. 0. 0. 0. 0.\n",
      " 0. 0. 0. 0. 0. 0. 0. 0. 0. 0. 0. 0. 0. 0. 0. 0. 0. 0. 0. 0. 0. 0. 0. 0.\n",
      " 0. 0. 0. 0. 0. 0. 0. 0. 0. 0. 0. 0. 0. 0. 0. 0. 0. 0. 0. 0. 0. 0. 0. 0.\n",
      " 0. 0. 0. 0. 0. 0. 0. 0. 0. 0. 0. 0. 0. 0. 0. 0. 0. 0. 0. 0. 0. 0. 0. 0.\n",
      " 0. 0. 0. 0. 0. 0. 0. 0. 0. 0. 0. 0. 0. 0. 0. 0. 0. 0. 0. 0. 0. 0. 0. 0.\n",
      " 0. 0. 0. 0. 0. 0. 0. 0. 0. 0. 0. 0. 0. 0. 0. 0. 0. 0. 0. 0. 0. 0. 0. 0.\n",
      " 0. 0. 0. 0. 0. 0. 0. 0. 0. 0. 0. 0. 0. 0. 0. 0. 0. 0. 0. 0. 0. 0. 0. 0.\n",
      " 0. 0. 0. 0. 0. 0. 0. 0. 0. 0. 0. 0. 0. 0. 0. 0. 0. 0. 0. 0. 0. 0. 0. 0.\n",
      " 0. 0. 0. 0. 0. 0. 0. 0. 0. 0. 0. 0. 0. 0. 0. 0. 0. 0. 0. 0. 0. 0. 0. 0.\n",
      " 0. 0. 0. 0. 0. 0. 0. 0. 0. 0. 0. 0. 0. 0. 0. 0. 0. 0. 0. 0. 0. 0. 0. 0.\n",
      " 0. 0. 0. 0. 0. 0. 0. 0. 0. 0. 0. 0. 0. 0. 0. 0. 0. 0. 0. 0. 0. 0. 0. 0.\n",
      " 0. 0. 0. 0. 0. 0. 0. 0. 0. 0. 0. 0. 0. 0. 0. 0. 0. 0. 0. 0. 0. 0. 0. 0.\n",
      " 0. 0. 0. 0. 0. 0. 0. 0. 0. 0. 0. 0. 0. 0. 0. 0. 0. 0. 0. 0. 0. 0. 0. 0.\n",
      " 0. 0. 0. 0. 0. 0. 0. 0. 0. 0. 0. 0. 0. 0. 0. 0. 0. 0. 0. 0. 0. 0. 0. 0.\n",
      " 0. 0. 0. 0. 0. 0. 0. 0. 0. 0. 0. 0. 0. 0. 0. 0. 0. 0. 0. 0. 0. 0. 0. 0.\n",
      " 0. 0. 0. 0. 0. 0. 0. 0. 0. 0. 0. 0. 0. 0. 0. 0. 0. 0. 0. 0. 0. 0. 0. 0.\n",
      " 0. 0. 0. 0. 0. 0. 0. 0. 0. 0. 0. 0. 0. 0. 0. 0. 0. 0. 0. 0. 0. 0. 0. 0.\n",
      " 0. 0. 0. 0. 0. 0. 0. 0. 0. 0. 0. 0. 0. 0. 0. 0. 0. 0. 0. 0. 0. 0. 0. 0.\n",
      " 0. 0. 0. 0. 0. 0. 0. 0. 0. 0. 0. 0. 0. 0. 0. 0. 0. 0. 0. 0. 0. 0. 0. 0.\n",
      " 0. 0. 0. 0. 0. 0. 0. 0. 0. 0. 0. 0. 0. 0. 0. 0. 0. 0. 0. 0. 0. 0. 0. 0.\n",
      " 0. 0. 0. 0. 0. 0. 0. 0. 0. 0. 0. 0. 0. 0. 0. 0. 0. 0. 0. 0. 0. 0. 0. 0.\n",
      " 0. 0. 0. 0. 0. 0. 0. 0. 0. 0. 0. 0. 0. 0. 0. 0. 0. 0. 0. 0. 0. 0. 0. 0.\n",
      " 0. 0. 0. 0. 0. 0. 0. 0. 0. 0. 0. 0. 0. 0. 0. 0. 0. 0. 0. 0. 0. 0. 0. 0.\n",
      " 0. 0. 0. 0. 0. 0. 0. 0. 0. 0. 0. 0. 0. 0. 0. 0. 0. 0. 0. 0. 0. 0. 0. 0.\n",
      " 0. 0. 0. 0. 0. 0. 0. 0. 0. 0. 0. 0. 0. 0. 0. 0. 0. 0. 0. 0. 0. 0. 0. 0.\n",
      " 0. 0. 0. 0. 0. 0. 0. 0. 0. 0. 0. 0. 0. 0. 0. 0. 0. 0. 0. 0. 0. 0. 0. 0.\n",
      " 0. 0. 0. 0. 0. 0. 0. 0. 0. 0. 0. 0. 0. 0. 0. 0. 0. 0. 0. 0. 0. 0. 0. 0.\n",
      " 0. 0. 0. 0. 0. 0. 0. 0. 0. 0. 0. 0. 0. 0. 0. 0. 0. 0. 0. 0. 0. 0. 0. 0.\n",
      " 0. 0. 0. 0. 0. 0. 0. 0. 0. 0. 0. 0. 0. 0. 0. 0. 0. 0. 0. 0. 0. 0. 0. 0.\n",
      " 0. 0. 0. 0. 0. 0. 0. 0. 0. 0. 0. 0. 0. 0. 0. 0. 0. 0. 0. 0. 0. 0. 0. 0.\n",
      " 0. 0. 0. 0. 0. 0. 0. 0. 0. 0. 0. 0. 0. 0. 0. 0. 0. 0. 0. 0. 0. 0. 0. 0.\n",
      " 0. 0. 0. 0. 0. 0. 0. 0. 0. 0. 0. 0. 0. 0. 0. 0. 0. 0. 0. 0. 0. 0. 0. 0.\n",
      " 0. 0. 0. 0. 0. 0. 0. 0. 0. 0. 0. 0. 0. 0. 0. 0. 0. 0. 0. 0. 0. 0. 0. 0.\n",
      " 0. 0. 0. 0. 0. 0. 0. 0. 0. 0. 0. 0. 0. 0. 0. 0. 0. 0. 0. 0. 0. 0. 0. 0.\n",
      " 0. 0. 0. 0. 0. 0. 0. 0. 0. 0. 0. 0. 0. 0. 0. 0. 0. 0. 0. 0. 0. 0. 0. 0.\n",
      " 0. 0. 0. 0. 0. 0. 0. 0. 0. 0. 0. 0. 0. 0. 0. 0. 0. 0. 0. 0. 0. 0. 0. 0.\n",
      " 0. 0. 0. 0. 0. 0. 0. 0. 0. 0. 0. 0. 0. 0. 0. 0. 0. 0. 0. 0. 0. 0. 0. 0.\n",
      " 0. 0. 0. 0. 0. 0. 0. 0. 0. 0. 0. 0. 0. 0. 0. 0. 0. 0. 0. 0. 0. 0. 0. 0.\n",
      " 0. 0. 0. 0. 0. 0. 0. 0. 0. 0. 0. 0. 0. 0. 0. 0.]\n",
      "73\n"
     ]
    }
   ],
   "source": [
    "samples = ['The cat sat on the mat.', 'The dog ate my homework.']\n",
    "\n",
    "dimensionality = 1000\n",
    "max_length = 10\n",
    "\n",
    "results = np.zeros((len(samples), max_length, dimensionality))\n",
    "for i, sample in enumerate(samples):\n",
    "    for j, word in list(enumerate(sample.split()))[:max_length]:\n",
    "        # hashes the word into a random integer index between 0 and 1000\n",
    "        index = abs(hash(word)) % dimensionality\n",
    "        results[i, j, index] = 1\n",
    "        \n",
    "print(results.shape)\n",
    "print(results[0, 0, :])\n",
    "print(abs(hash('The')) % dimensionality)"
   ]
  },
  {
   "cell_type": "markdown",
   "metadata": {},
   "source": [
    "### 6.1.2 Using word embeddings\n",
    "\n",
    "Another populaer method is using dense *word vectors* also called *word embeddings*.\n",
    "\n",
    "One-hot encodings are binary, sparse (mostly zeros) and very high-dimensional.\n",
    "\n",
    "Word embeddings are low-dimensional floating-point vectors (that is dense vectors).\n",
    "Word embeddings are learned from data.  It is common to see word embeddings that\n",
    "are 256, 512 or 1024 dimensional when dealing with very large vocaularies.  \n",
    "\n",
    "Two ways to obtain word embeddings:\n",
    "- Learn word embeddings jointly with the main task (initially word vectors are random, and they are learned\n",
    "  in the same way you learn weights).\n",
    "- Load embeddings that were precomputed using a different machine-learning task.  These are\n",
    "  *pretrained word embeddings*.\n",
    "  \n",
    "**Learning Word Embeddings with the Embedding Layer**\n",
    "\n",
    "It is reasonable to *learn* a new embedding space with every new NLP task.  This can be done using\n",
    "backpropagation, and Keras has special layers specifically for training a word embedding.  In this\n",
    "case it becomes about learning the weights of this layer, the `Embedding` layer."
   ]
  },
  {
   "cell_type": "code",
   "execution_count": 8,
   "metadata": {},
   "outputs": [
    {
     "name": "stdout",
     "output_type": "stream",
     "text": [
      "WARNING:tensorflow:From /home/dash/anaconda3/lib/python3.7/site-packages/keras/backend/tensorflow_backend.py:74: The name tf.get_default_graph is deprecated. Please use tf.compat.v1.get_default_graph instead.\n",
      "\n"
     ]
    }
   ],
   "source": [
    "from keras.layers import Embedding\n",
    "\n",
    "# 1000 is number of possible tokens, and 64 is the embedding dimensionality that\n",
    "# willbe learned\n",
    "embedding_layer = Embedding(1000, 64)"
   ]
  },
  {
   "cell_type": "markdown",
   "metadata": {},
   "source": [
    "The `Embedding` layer that is learned is best understood as a dictionary that maps integer\n",
    "indices (which stand for specific words) to dense vectors (64 dimensional real-valued number vectors\n",
    "in this case).  It is effectively a dictionary lookup.  However, as discussed, the resulting embeddings,\n",
    "once learned, have semantic meanings in the geometrical space that relate words to similar words.\n",
    "\n",
    "The `Embedding` layer takes as input a 2D tensor of integers, of shape `(samples, sequence_length)`\n",
    "where each entery is a sequence of integers.  It can embed sequences of variable lengths:\n",
    "for instance, you could feed into the `Embedding` layer in the previous example batches with shapes\n",
    "`(32, 10)` (batch of 32 wequences of length 10).  All sequences must have same length, so\n",
    "will need to padd with zeros if too short or truncate if too long.\n",
    "\n",
    "The `Embedding` layer returns a 3D floating-point tensor of shape\n",
    "`(samples, sequence_length, embedding_dimensionality)`.\n",
    "Such a 3D tensor can then be processed by an RNN layer or 1D convolution.\n",
    "\n",
    "Iniitally the weights of such a layer are random.  During training, these vectors are adjusted,\n",
    "structuring the space into something that can be exploited by the downstream task.  Once fully\n",
    "trained, the embedding space will show a lot of structure.\n",
    "\n",
    "Using the IMDB movie-review sentiment-prediction task.  We prepare the data.  We restrict to the top\n",
    "10,000 most common words, and cut off the reviews after only 20 words.  This example will learn\n",
    "an 8-dimensional embedding for each of the 10,000 words, turn the input integer sequence (2D integer\n",
    "tensor) into the embedded sequence (3D float tensor), flatten the tensor to 2D, and train a single\n",
    "`Dense` layer on top for classification (remember we are doing a binary classification of good vs. bad\n",
    "review sentiment).\n"
   ]
  },
  {
   "cell_type": "code",
   "execution_count": 13,
   "metadata": {},
   "outputs": [],
   "source": [
    "# the following is a bug in keras introduced because np has stopped allowing pickle loads by default\n",
    "# https://stackoverflow.com/questions/55890813/how-to-fix-object-arrays-cannot-be-loaded-when-allow-pickle-false-for-imdb-loa\n",
    "\n",
    "# save np.load\n",
    "np_load_old = np.load\n",
    "\n",
    "# modify the default parameters of np.load\n",
    "np.load = lambda *a,**k: np_load_old(*a, allow_pickle=True, **k)"
   ]
  },
  {
   "cell_type": "code",
   "execution_count": 14,
   "metadata": {},
   "outputs": [
    {
     "name": "stdout",
     "output_type": "stream",
     "text": [
      "(25000, 20)\n",
      "(25000, 20)\n",
      "[  65   16   38 1334   88   12   16  283    5   16 4472  113  103   32\n",
      "   15   16 5345   19  178   32]\n"
     ]
    }
   ],
   "source": [
    "from keras.datasets import imdb\n",
    "from keras import preprocessing\n",
    "\n",
    "# number of words to considre as features\n",
    "max_features = 10000\n",
    "# cuts off text aftre this number of words\n",
    "maxlen = 20\n",
    "\n",
    "# loads the data as lists of integers\n",
    "(x_train, y_train), (x_test, y_test) = imdb.load_data(\n",
    "     num_words=max_features)\n",
    "\n",
    "# turns the lists of integers into a 2D integer tensor of shape (samples, maxlen)\n",
    "x_train = preprocessing.sequence.pad_sequences(x_train, maxlen=maxlen)\n",
    "x_test  = preprocessing.sequence.pad_sequences(x_test, maxlen=maxlen)\n",
    "\n",
    "print(x_train.shape)\n",
    "print(x_test.shape)\n",
    "print(x_train[0,:])"
   ]
  },
  {
   "cell_type": "code",
   "execution_count": 15,
   "metadata": {},
   "outputs": [
    {
     "name": "stdout",
     "output_type": "stream",
     "text": [
      "WARNING:tensorflow:From /home/dash/anaconda3/lib/python3.7/site-packages/keras/backend/tensorflow_backend.py:517: The name tf.placeholder is deprecated. Please use tf.compat.v1.placeholder instead.\n",
      "\n",
      "WARNING:tensorflow:From /home/dash/anaconda3/lib/python3.7/site-packages/keras/backend/tensorflow_backend.py:4138: The name tf.random_uniform is deprecated. Please use tf.random.uniform instead.\n",
      "\n",
      "WARNING:tensorflow:From /home/dash/anaconda3/lib/python3.7/site-packages/keras/optimizers.py:790: The name tf.train.Optimizer is deprecated. Please use tf.compat.v1.train.Optimizer instead.\n",
      "\n",
      "WARNING:tensorflow:From /home/dash/anaconda3/lib/python3.7/site-packages/keras/backend/tensorflow_backend.py:3376: The name tf.log is deprecated. Please use tf.math.log instead.\n",
      "\n",
      "WARNING:tensorflow:From /home/dash/anaconda3/lib/python3.7/site-packages/tensorflow_core/python/ops/nn_impl.py:183: where (from tensorflow.python.ops.array_ops) is deprecated and will be removed in a future version.\n",
      "Instructions for updating:\n",
      "Use tf.where in 2.0, which has the same broadcast rule as np.where\n",
      "_________________________________________________________________\n",
      "Layer (type)                 Output Shape              Param #   \n",
      "=================================================================\n",
      "embedding_2 (Embedding)      (None, 20, 8)             80000     \n",
      "_________________________________________________________________\n",
      "flatten_1 (Flatten)          (None, 160)               0         \n",
      "_________________________________________________________________\n",
      "dense_1 (Dense)              (None, 1)                 161       \n",
      "=================================================================\n",
      "Total params: 80,161\n",
      "Trainable params: 80,161\n",
      "Non-trainable params: 0\n",
      "_________________________________________________________________\n"
     ]
    }
   ],
   "source": [
    "from keras.models import Sequential\n",
    "from keras.layers import Flatten, Dense\n",
    "\n",
    "model = Sequential()\n",
    "\n",
    "# specifies maximum input length, after the embedding layer, activation have shape (samples, maxlen, 8)\n",
    "model.add(Embedding(max_features, 8, input_length=maxlen))\n",
    "\n",
    "#flattens the 3D tensor of the embedding into a 2D tensor of shape (samples, maxlen * 8)\n",
    "model.add(Flatten())\n",
    "\n",
    "# add the classifier on top, use a sigmoid for a binary classifier\n",
    "model.add(Dense(1, activation='sigmoid'))\n",
    "\n",
    "model.compile(optimizer='rmsprop', loss='binary_crossentropy', metrics=['acc'])\n",
    "model.summary()"
   ]
  },
  {
   "cell_type": "code",
   "execution_count": 16,
   "metadata": {},
   "outputs": [
    {
     "name": "stdout",
     "output_type": "stream",
     "text": [
      "WARNING:tensorflow:From /home/dash/anaconda3/lib/python3.7/site-packages/keras/backend/tensorflow_backend.py:986: The name tf.assign_add is deprecated. Please use tf.compat.v1.assign_add instead.\n",
      "\n",
      "WARNING:tensorflow:From /home/dash/anaconda3/lib/python3.7/site-packages/keras/backend/tensorflow_backend.py:973: The name tf.assign is deprecated. Please use tf.compat.v1.assign instead.\n",
      "\n",
      "WARNING:tensorflow:From /home/dash/anaconda3/lib/python3.7/site-packages/keras/backend/tensorflow_backend.py:2741: The name tf.Session is deprecated. Please use tf.compat.v1.Session instead.\n",
      "\n",
      "Train on 20000 samples, validate on 5000 samples\n",
      "Epoch 1/10\n",
      "WARNING:tensorflow:From /home/dash/anaconda3/lib/python3.7/site-packages/keras/backend/tensorflow_backend.py:174: The name tf.get_default_session is deprecated. Please use tf.compat.v1.get_default_session instead.\n",
      "\n",
      "WARNING:tensorflow:From /home/dash/anaconda3/lib/python3.7/site-packages/keras/backend/tensorflow_backend.py:181: The name tf.ConfigProto is deprecated. Please use tf.compat.v1.ConfigProto instead.\n",
      "\n",
      "WARNING:tensorflow:From /home/dash/anaconda3/lib/python3.7/site-packages/keras/backend/tensorflow_backend.py:190: The name tf.global_variables is deprecated. Please use tf.compat.v1.global_variables instead.\n",
      "\n",
      "WARNING:tensorflow:From /home/dash/anaconda3/lib/python3.7/site-packages/keras/backend/tensorflow_backend.py:199: The name tf.is_variable_initialized is deprecated. Please use tf.compat.v1.is_variable_initialized instead.\n",
      "\n",
      "WARNING:tensorflow:From /home/dash/anaconda3/lib/python3.7/site-packages/keras/backend/tensorflow_backend.py:206: The name tf.variables_initializer is deprecated. Please use tf.compat.v1.variables_initializer instead.\n",
      "\n",
      "20000/20000 [==============================] - 3s 128us/step - loss: 0.6760 - acc: 0.6049 - val_loss: 0.6402 - val_acc: 0.6784\n",
      "Epoch 2/10\n",
      "20000/20000 [==============================] - 2s 88us/step - loss: 0.5664 - acc: 0.7423 - val_loss: 0.5476 - val_acc: 0.7192\n",
      "Epoch 3/10\n",
      "20000/20000 [==============================] - 2s 95us/step - loss: 0.4759 - acc: 0.7803 - val_loss: 0.5120 - val_acc: 0.7388\n",
      "Epoch 4/10\n",
      "20000/20000 [==============================] - 2s 99us/step - loss: 0.4269 - acc: 0.8076 - val_loss: 0.5013 - val_acc: 0.7446\n",
      "Epoch 5/10\n",
      "20000/20000 [==============================] - 2s 94us/step - loss: 0.3935 - acc: 0.8256 - val_loss: 0.4985 - val_acc: 0.7536\n",
      "Epoch 6/10\n",
      "20000/20000 [==============================] - 2s 107us/step - loss: 0.3672 - acc: 0.8396 - val_loss: 0.5017 - val_acc: 0.7526\n",
      "Epoch 7/10\n",
      "20000/20000 [==============================] - 2s 97us/step - loss: 0.3438 - acc: 0.8532 - val_loss: 0.5055 - val_acc: 0.7522\n",
      "Epoch 8/10\n",
      "20000/20000 [==============================] - 2s 104us/step - loss: 0.3226 - acc: 0.8653 - val_loss: 0.5135 - val_acc: 0.7474\n",
      "Epoch 9/10\n",
      "20000/20000 [==============================] - 2s 102us/step - loss: 0.3025 - acc: 0.8765 - val_loss: 0.5217 - val_acc: 0.7494\n",
      "Epoch 10/10\n",
      "20000/20000 [==============================] - 2s 109us/step - loss: 0.2841 - acc: 0.8858 - val_loss: 0.5305 - val_acc: 0.7474\n"
     ]
    }
   ],
   "source": [
    "history = model.fit(x_train, y_train,\n",
    "                    epochs=10,\n",
    "                    batch_size=32,\n",
    "                    validation_split=0.2)"
   ]
  },
  {
   "cell_type": "markdown",
   "metadata": {},
   "source": [
    "You should get a validation accuracy of ~76%, which is pretty good considering we are only looking at first 20 words\n",
    "of each review.\n",
    "\n",
    "This architecutre leads to a model that treats each word in the input sequence separately (without considering\n",
    "ordering or inter-word relationships).  It will be much better to add recurrent layers or 1D convolutions on top\n",
    "of the embedding to learn features that take into account word sequences and orderings."
   ]
  },
  {
   "cell_type": "markdown",
   "metadata": {},
   "source": [
    "**Using Pretrained Word Embeddings**\n",
    "\n",
    "Similar to using pre-trained convolutions for an image processing task, we can use embeddings used from\n",
    "a previous large NLP task.\n",
    "\n",
    "There are various precomputed databases of word embeddings that can be used in Keras. Word2vec is one\n",
    "well known example.  Another is Global Vectors for Word Representation (GloVe).\n",
    "\n",
    "This example shows using GlOve embeddings in a Keras model."
   ]
  },
  {
   "cell_type": "markdown",
   "metadata": {},
   "source": [
    "### 6.1.3 Putting it all together: from raw text to word embeddings\n",
    "\n",
    "You'll use a similar model to before, embedding sentences in sequences of vectors, flattening them, and training\n",
    "a `Dense` layer on top.  But here we used pretrained word embeddings, and instead of using pretokenized\n",
    "IMDB data pacakged in Keras, you'll need to start from scratch by downloading the original data.\n",
    "\n",
    "**Downloading the IMDB Data as Raw Text**\n",
    "\n",
    "Download the raw IMDB dta from http://mng.bz/0tIo\n",
    "\n",
    "Uncompress it."
   ]
  },
  {
   "cell_type": "code",
   "execution_count": 18,
   "metadata": {},
   "outputs": [],
   "source": [
    "import os\n",
    "\n",
    "imdb_dir = 'data/aclImdb'\n",
    "train_dir = os.path.join(imdb_dir, 'train')\n",
    "\n",
    "labels = []\n",
    "texts = []\n",
    "\n",
    "for label_type in ['neg', 'pos']:\n",
    "    dir_name = os.path.join(train_dir, label_type)\n",
    "    for fname in os.listdir(dir_name):\n",
    "        if fname[-4:] == '.txt':\n",
    "            f = open(os.path.join(dir_name, fname))\n",
    "            texts.append(f.read())\n",
    "            f.close()\n",
    "            if label_type == 'neg':\n",
    "                labels.append(0)\n",
    "            else:\n",
    "                labels.append(1)"
   ]
  },
  {
   "cell_type": "markdown",
   "metadata": {},
   "source": [
    "**Tokenizing the Data**\n",
    "\n",
    "Let's vectorize the text and prepare a training and validation split.\n",
    "\n",
    "Because pretrained word embeddings are meant to be particularly useful on problems where little\n",
    "training data is available, we will use only first 200 samples for training."
   ]
  },
  {
   "cell_type": "markdown",
   "metadata": {
    "collapsed": true
   },
   "source": [
    "## 6.2 Understanding recurrent neural networks\n",
    "\n",
    "All networks so far have been strictly *feedforward networks*.  Feedforward networks have no memory.  Each input shown\n",
    "is processed independently from others, with no state kept in between inputs.  In order to process sequences\n",
    "with such a network, you have to present entire sequence all in 1 input.\n",
    "\n",
    "A *recurrent neural network* (RNN) keeps a state: it processes sequences by iterating through sequence elements\n",
    "and maintaining a *state* containing information relative to what it has seen so far.  It is a type of NN that has \n",
    "an internal loop.\n",
    "\n",
    "To make notions of *loop* and *state* clear, we have a small toy example using `Numpy` only for the\n",
    "implementation.  This RNN takes as input a sequence of vectors, which are encoded as a tensor\n",
    "of size `(timesteps, input_features)`.  It loops over timesteps and, at each timestep,\n",
    "it considers its current state at `t`.  We then set state for the next input to the previous output.  \n",
    "For the first timestep, the previous output is not defined, so we initialize the state as all zeros\n",
    "called *initial state*.\n",
    "\n",
    "```python\n",
    "# Pseudocode RNN\n",
    "\n",
    "# The state at t\n",
    "state_t = 0\n",
    "\n",
    "# iterates over sequence of elements\n",
    "for input_t in input_sequence:\n",
    "    output_t = f(input_t, state_t)\n",
    "    # The prevous output becomes the state for the next iteration\n",
    "    state_t = output_t\n",
    "```\n",
    "\n",
    "You can even flesh out the function `f`: the transformation of the input and state into\n",
    "an output will be parameterized by two matrices, `W` and `U`, and a bias vector.  It is\n",
    "similar to the transformation operation operated by a densely connected layer.\n",
    "\n",
    "```python\n",
    "# More detailed pseudocode for the RNN\n",
    "\n",
    "# The state at t\n",
    "state_t = 0\n",
    "\n",
    "# iterates over sequence of elements\n",
    "for input_t in input_sequence:\n",
    "    output_t = activation(dot(W, input_t) + dot(U, state_t) + b)\n",
    "    # The previous output becomes the state for the next iteration\n",
    "    state_t = output_t\n",
    "```\n",
    "\n",
    "To make absolutely unambiguous, let's write a naive `Numpy` implementation of the forward\n",
    "pass of the simple RNN."
   ]
  },
  {
   "cell_type": "code",
   "execution_count": 19,
   "metadata": {},
   "outputs": [
    {
     "name": "stdout",
     "output_type": "stream",
     "text": [
      "(100, 64)\n"
     ]
    }
   ],
   "source": [
    "# number of timesteps in the input sequence\n",
    "timesteps = 100\n",
    "\n",
    "# dimensionality of the input feature space\n",
    "input_features = 32\n",
    "\n",
    "# dimensionality of the output feature space\n",
    "output_features = 64\n",
    "\n",
    "# input data: random noise for the sake of the example\n",
    "inputs = np.random.random((timesteps, input_features))\n",
    "\n",
    "# initial state: an all-zero vector\n",
    "state_t = np.zeros((output_features,))\n",
    "\n",
    "# create random weight matrices, these would be trained by gradient descent\n",
    "W = np.random.random((output_features, input_features))\n",
    "U = np.random.random((output_features, output_features))\n",
    "b = np.random.random((output_features,))\n",
    "\n",
    "# holds the history of the outputs\n",
    "successive_outputs = []\n",
    "\n",
    "# input_t is a vector of shape (input_features,)\n",
    "for input_t in inputs:\n",
    "    # combines the input with the current state (the previous output) to obtain the current output\n",
    "    output_t = np.tanh(np.dot(W, input_t) + np.dot(U, state_t) + b)\n",
    "    \n",
    "    # stores this output in a list\n",
    "    successive_outputs.append(output_t)\n",
    "    \n",
    "    # updates the state of the network for the next timestep\n",
    "    state_t = output_t\n",
    "    \n",
    "# the final output is a 2D tensor of shape (timesteps, output_features)\n",
    "final_output_sequence = np.concatenate(successive_outputs, axis=0).reshape((timesteps, output_features))\n",
    "\n",
    "\n",
    "print(final_output_sequence.shape)"
   ]
  },
  {
   "cell_type": "code",
   "execution_count": 20,
   "metadata": {},
   "outputs": [
    {
     "name": "stdout",
     "output_type": "stream",
     "text": [
      "100\n",
      "(64,)\n",
      "[0.99999999 0.99999994 0.99999998 0.99999324 0.99999989 0.99999998\n",
      " 0.99999929 1.         0.99999981 0.99999996 0.99999999 0.99999991\n",
      " 1.         0.99999998 0.99999988 0.99999977 0.99999998 0.99999994\n",
      " 0.99999995 1.         0.99999959 0.99999999 0.99999617 0.99999993\n",
      " 0.99999986 1.         0.99999998 0.99999994 0.99999819 1.\n",
      " 0.99999985 0.99999999 0.99999885 1.         0.99999998 0.99999894\n",
      " 1.         0.99999996 1.         1.         1.         1.\n",
      " 0.99999971 0.9999967  0.9999962  0.99999996 0.99999999 0.99999998\n",
      " 0.99999935 0.99999997 0.9999998  1.         0.9999994  0.99999999\n",
      " 0.99999989 0.99994312 0.99999998 0.99999981 0.99999995 0.99999996\n",
      " 0.99999995 1.         0.99999995 0.99999987]\n",
      "[0.99999999 0.99999994 0.99999998 0.99999324 0.99999989 0.99999998\n",
      " 0.99999929 1.         0.99999981 0.99999996 0.99999999 0.99999991\n",
      " 1.         0.99999998 0.99999988 0.99999977 0.99999998 0.99999994\n",
      " 0.99999995 1.         0.99999959 0.99999999 0.99999617 0.99999993\n",
      " 0.99999986 1.         0.99999998 0.99999994 0.99999819 1.\n",
      " 0.99999985 0.99999999 0.99999885 1.         0.99999998 0.99999894\n",
      " 1.         0.99999996 1.         1.         1.         1.\n",
      " 0.99999971 0.9999967  0.9999962  0.99999996 0.99999999 0.99999998\n",
      " 0.99999935 0.99999997 0.9999998  1.         0.9999994  0.99999999\n",
      " 0.99999989 0.99994312 0.99999998 0.99999981 0.99999995 0.99999996\n",
      " 0.99999995 1.         0.99999995 0.99999987]\n",
      "True\n"
     ]
    }
   ],
   "source": [
    "print(len(successive_outputs))\n",
    "print(successive_outputs[0].shape)\n",
    "print(successive_outputs[0])\n",
    "print(final_output_sequence[0,:])\n",
    "print(np.allclose(successive_outputs[0], final_output_sequence[0,:]))"
   ]
  },
  {
   "cell_type": "markdown",
   "metadata": {},
   "source": [
    "RNN is a for loop that reuses quantities computed during previous iteration of loop.\n",
    "\n",
    "RNNs are characterized by their step function, which in the previous code was\n",
    "\n",
    "```python\n",
    "output_t = np.tanh(np.dot(W, input_t) + np.dot(U, state_t) + b)\n",
    "```"
   ]
  },
  {
   "cell_type": "markdown",
   "metadata": {},
   "source": [
    "### 6.2.1 A recurrent layer in Keras\n",
    "\n",
    "The `SimpleRNN` layer in Keras corresponds to the previous example.  One minor difference: `SimpleRNN`\n",
    "processes batches of sequences (like all other Keras layers), not a single sequence as in the previous\n",
    "example.  This means it takes inputs of shape `(batch_size, timesteps, input_features)`.\n",
    "\n",
    "`SimpleRNN` can be run in 2 different modes: it can return either the full sequence of successive\n",
    "outputs for each timestep (a 3D tensor of shape `(batch_size, timesteps, input_features)`) or \n",
    "only the last output for each input sequence (a 2D tensor of shape `(batch_size, output_features)`).\n",
    "These two modes are controlled by the `return_sequences` constructor argument.\n",
    "\n",
    "If we don't specify, the default is to return only the last output"
   ]
  },
  {
   "cell_type": "code",
   "execution_count": 21,
   "metadata": {},
   "outputs": [],
   "source": [
    "from keras.models import Sequential\n",
    "from keras.layers import Embedding, SimpleRNN"
   ]
  },
  {
   "cell_type": "code",
   "execution_count": 22,
   "metadata": {},
   "outputs": [
    {
     "name": "stdout",
     "output_type": "stream",
     "text": [
      "_________________________________________________________________\n",
      "Layer (type)                 Output Shape              Param #   \n",
      "=================================================================\n",
      "embedding_3 (Embedding)      (None, None, 32)          320000    \n",
      "_________________________________________________________________\n",
      "simple_rnn_1 (SimpleRNN)     (None, 32)                2080      \n",
      "=================================================================\n",
      "Total params: 322,080\n",
      "Trainable params: 322,080\n",
      "Non-trainable params: 0\n",
      "_________________________________________________________________\n"
     ]
    }
   ],
   "source": [
    "model = Sequential()\n",
    "model.add(Embedding(10000, 32))\n",
    "model.add(SimpleRNN(32))\n",
    "model.summary()"
   ]
  },
  {
   "cell_type": "markdown",
   "metadata": {},
   "source": [
    "The following example returns the full state sequence by specifying the `return_sequences` constructor\n",
    "parameter:"
   ]
  },
  {
   "cell_type": "code",
   "execution_count": 23,
   "metadata": {},
   "outputs": [
    {
     "name": "stdout",
     "output_type": "stream",
     "text": [
      "_________________________________________________________________\n",
      "Layer (type)                 Output Shape              Param #   \n",
      "=================================================================\n",
      "embedding_4 (Embedding)      (None, None, 32)          320000    \n",
      "_________________________________________________________________\n",
      "simple_rnn_2 (SimpleRNN)     (None, None, 32)          2080      \n",
      "=================================================================\n",
      "Total params: 322,080\n",
      "Trainable params: 322,080\n",
      "Non-trainable params: 0\n",
      "_________________________________________________________________\n"
     ]
    }
   ],
   "source": [
    "model = Sequential()\n",
    "model.add(Embedding(10000, 32))\n",
    "model.add(SimpleRNN(32, return_sequences=True))\n",
    "model.summary()"
   ]
  },
  {
   "cell_type": "markdown",
   "metadata": {},
   "source": [
    "Notice the (slight) difference in the returned shape from the RNN layer in the second example.  \n",
    "\n",
    "It is sometimes useful to stack several recurrent layers one after the other in order to increase the\n",
    "representational power of a network.  In such a setup, you have to get all of the intermediate layers\n",
    "to return full sequence of outputs:"
   ]
  },
  {
   "cell_type": "code",
   "execution_count": 24,
   "metadata": {},
   "outputs": [
    {
     "name": "stdout",
     "output_type": "stream",
     "text": [
      "_________________________________________________________________\n",
      "Layer (type)                 Output Shape              Param #   \n",
      "=================================================================\n",
      "embedding_5 (Embedding)      (None, None, 32)          320000    \n",
      "_________________________________________________________________\n",
      "simple_rnn_3 (SimpleRNN)     (None, None, 32)          2080      \n",
      "_________________________________________________________________\n",
      "simple_rnn_4 (SimpleRNN)     (None, None, 32)          2080      \n",
      "_________________________________________________________________\n",
      "simple_rnn_5 (SimpleRNN)     (None, None, 32)          2080      \n",
      "_________________________________________________________________\n",
      "simple_rnn_6 (SimpleRNN)     (None, 32)                2080      \n",
      "=================================================================\n",
      "Total params: 328,320\n",
      "Trainable params: 328,320\n",
      "Non-trainable params: 0\n",
      "_________________________________________________________________\n"
     ]
    }
   ],
   "source": [
    "model = Sequential()\n",
    "model.add(Embedding(10000, 32))\n",
    "model.add(SimpleRNN(32, return_sequences=True))\n",
    "model.add(SimpleRNN(32, return_sequences=True))\n",
    "model.add(SimpleRNN(32, return_sequences=True))\n",
    "# Last layer only returns the last output\n",
    "model.add(SimpleRNN(32))\n",
    "model.summary()\n"
   ]
  },
  {
   "cell_type": "markdown",
   "metadata": {},
   "source": [
    "Now let's use such a model on the IMDB movie-review-classification problem.  First we preprocess\n",
    "the data."
   ]
  },
  {
   "cell_type": "code",
   "execution_count": 25,
   "metadata": {},
   "outputs": [
    {
     "name": "stdout",
     "output_type": "stream",
     "text": [
      "Loading data...\n",
      "25000 train sequences\n",
      "25000 test sequences\n",
      "Pad sequences (samples x time)\n",
      "input_train shape: (25000, 500)\n",
      "input_test shape: (25000, 500)\n"
     ]
    }
   ],
   "source": [
    "from keras.datasets import imdb\n",
    "from keras.preprocessing import sequence\n",
    "\n",
    "# number of words to consider as features\n",
    "max_features = 10000\n",
    "# cuts off text after this many words\n",
    "maxlen = 500\n",
    "batch_size = 32\n",
    "\n",
    "print('Loading data...')\n",
    "(input_train, y_train), (input_test, y_test) = imdb.load_data(\n",
    "    num_words=max_features)\n",
    "print(len(input_train), 'train sequences')\n",
    "print(len(input_test), 'test sequences')\n",
    "\n",
    "print('Pad sequences (samples x time)')\n",
    "input_train = sequence.pad_sequences(input_train, maxlen=maxlen)\n",
    "input_test = sequence.pad_sequences(input_test, maxlen=maxlen)\n",
    "print('input_train shape:', input_train.shape)\n",
    "print('input_test shape:', input_test.shape)"
   ]
  },
  {
   "cell_type": "markdown",
   "metadata": {},
   "source": [
    "Let's train a simple recurrent network using an `Embedding` layer and a `SimpleRNN` layer."
   ]
  },
  {
   "cell_type": "code",
   "execution_count": 26,
   "metadata": {},
   "outputs": [
    {
     "name": "stdout",
     "output_type": "stream",
     "text": [
      "_________________________________________________________________\n",
      "Layer (type)                 Output Shape              Param #   \n",
      "=================================================================\n",
      "embedding_6 (Embedding)      (None, None, 32)          320000    \n",
      "_________________________________________________________________\n",
      "simple_rnn_7 (SimpleRNN)     (None, 32)                2080      \n",
      "_________________________________________________________________\n",
      "dense_2 (Dense)              (None, 1)                 33        \n",
      "=================================================================\n",
      "Total params: 322,113\n",
      "Trainable params: 322,113\n",
      "Non-trainable params: 0\n",
      "_________________________________________________________________\n"
     ]
    }
   ],
   "source": [
    "from keras.layers import Dense\n",
    "\n",
    "model = Sequential()\n",
    "model.add(Embedding(max_features, 32))\n",
    "model.add(SimpleRNN(32))\n",
    "model.add(Dense(1, activation='sigmoid'))\n",
    "model.summary()"
   ]
  },
  {
   "cell_type": "code",
   "execution_count": 27,
   "metadata": {},
   "outputs": [
    {
     "name": "stdout",
     "output_type": "stream",
     "text": [
      "Train on 20000 samples, validate on 5000 samples\n",
      "Epoch 1/10\n",
      "20000/20000 [==============================] - 72s 4ms/step - loss: 0.6314 - acc: 0.6244 - val_loss: 0.5134 - val_acc: 0.7598\n",
      "Epoch 2/10\n",
      "20000/20000 [==============================] - 68s 3ms/step - loss: 0.4025 - acc: 0.8284 - val_loss: 0.4737 - val_acc: 0.7752\n",
      "Epoch 3/10\n",
      "20000/20000 [==============================] - 67s 3ms/step - loss: 0.3084 - acc: 0.8775 - val_loss: 0.3825 - val_acc: 0.8310\n",
      "Epoch 4/10\n",
      "20000/20000 [==============================] - 62s 3ms/step - loss: 0.2362 - acc: 0.9088 - val_loss: 0.3608 - val_acc: 0.8486\n",
      "Epoch 5/10\n",
      "20000/20000 [==============================] - 58s 3ms/step - loss: 0.1830 - acc: 0.9305 - val_loss: 0.4172 - val_acc: 0.8576\n",
      "Epoch 6/10\n",
      "20000/20000 [==============================] - 59s 3ms/step - loss: 0.1382 - acc: 0.9510 - val_loss: 0.4207 - val_acc: 0.8452\n",
      "Epoch 7/10\n",
      "20000/20000 [==============================] - 59s 3ms/step - loss: 0.0929 - acc: 0.9686 - val_loss: 0.6776 - val_acc: 0.7428\n",
      "Epoch 8/10\n",
      "20000/20000 [==============================] - 59s 3ms/step - loss: 0.0718 - acc: 0.9763 - val_loss: 0.5033 - val_acc: 0.8280\n",
      "Epoch 9/10\n",
      "20000/20000 [==============================] - 61s 3ms/step - loss: 0.0386 - acc: 0.9888 - val_loss: 0.6650 - val_acc: 0.7842\n",
      "Epoch 10/10\n",
      "20000/20000 [==============================] - 62s 3ms/step - loss: 0.0279 - acc: 0.9920 - val_loss: 0.5934 - val_acc: 0.8254\n"
     ]
    }
   ],
   "source": [
    "model.compile(optimizer='rmsprop', loss='binary_crossentropy', metrics=['acc'])\n",
    "history = model.fit(input_train, y_train,\n",
    "                    epochs=10,\n",
    "                    batch_size=128,\n",
    "                    validation_split=0.2)"
   ]
  },
  {
   "cell_type": "markdown",
   "metadata": {},
   "source": [
    "Now, lets display the training and validation loss and accuracy."
   ]
  },
  {
   "cell_type": "code",
   "execution_count": 28,
   "metadata": {},
   "outputs": [
    {
     "data": {
      "text/plain": [
       "<matplotlib.legend.Legend at 0x7f281de77518>"
      ]
     },
     "execution_count": 28,
     "metadata": {},
     "output_type": "execute_result"
    },
    {
     "data": {
      "image/png": "[encoded data removed]",
      "text/plain": [
       "<Figure size 864x576 with 1 Axes>"
      ]
     },
     "metadata": {},
     "output_type": "display_data"
    }
   ],
   "source": [
    "acc = history.history['acc']\n",
    "val_acc = history.history['val_acc']\n",
    "\n",
    "epochs = range(1, len(acc) + 1)\n",
    "\n",
    "plt.plot(epochs, acc, label='Training acc')\n",
    "plt.plot(epochs, val_acc, label='Validation acc')\n",
    "plt.title('Training and validation accuracy')\n",
    "plt.legend()"
   ]
  },
  {
   "cell_type": "code",
   "execution_count": 29,
   "metadata": {},
   "outputs": [
    {
     "data": {
      "text/plain": [
       "<matplotlib.legend.Legend at 0x7f281c5b39e8>"
      ]
     },
     "execution_count": 29,
     "metadata": {},
     "output_type": "execute_result"
    },
    {
     "data": {
      "image/png": "[encoded data removed]",
      "text/plain": [
       "<Figure size 864x576 with 1 Axes>"
      ]
     },
     "metadata": {},
     "output_type": "display_data"
    }
   ],
   "source": [
    "loss = history.history['loss']\n",
    "val_loss = history.history['val_loss']\n",
    "\n",
    "epochs = range(1, len(acc) + 1)\n",
    "\n",
    "plt.plot(epochs, loss, label='Training loss')\n",
    "plt.plot(epochs, val_loss, label='Validation loss')\n",
    "plt.title('Training and validation loss')\n",
    "plt.legend()"
   ]
  },
  {
   "cell_type": "markdown",
   "metadata": {},
   "source": [
    "As a reminder, in chapter 3 we achieved 88% using a `Dense` network.  Unfortunately this small\n",
    "recurrent network doesn't perform well compared to this.  The network is overfitting, so it could be improved.\n",
    "\n",
    "Part of the problem is that we only consider the first 500 words of each review, rather than the\n",
    "full sequences.  But the bigger problems is that `SimpleRNN` are simply not goot at processing too long\n",
    "of a sequence, such as written text.  We need other types of recurrent layers which perform\n",
    "much better on long sequences."
   ]
  },
  {
   "cell_type": "markdown",
   "metadata": {},
   "source": [
    "# 6.2.2 Understanding the LSTM and GRU layers\n",
    "\n",
    "There are 2 other recurrent layers available in Keras: `LSTM` and `GRU`.  `SimpleRNN` is too simple so in\n",
    "practice we need to use one of these other types of RNN.\n",
    "\n",
    "`SimpleRNN` suffers from *vanishing gradient problem*.  This effect can also be a problem for deep neural\n",
    "networks.  It comes about because the information passed back through the gradiants via backpropagation\n",
    "becomes a weaker signal the further back  you have to transmit it.  In effect, the itteration of the\n",
    "`SimpleRNN` through time means that the vanishing gradient problem is especially accute.  The\n",
    "`LSTM` and `GRU` recurrent layers were designed to solve this problem.\n",
    "\n",
    "Long Short-Term Memory (LSTM) is a variant of the `SimpleRNN`.  It adds a way to carry information\n",
    "across many timesteps.  It saves (gradient) information for later, thus preventing older signals from\n",
    "vanishing during processing (espeically for long time sequences).\n",
    "\n",
    "LSTM is complex, though no more complicated than the `SimpleRNN`. Feedforward computation.  We still have a `U`,\n",
    "`W` and `b` matrix to compute the output.  But we have an additional bit of\n",
    "carry information.  The carry information is computed from 3 separate, but same type of matrix\n",
    "multiplicaiton and addition functions.  This bit of carry information is also considered and added to\n",
    "the output function. that is computed.\n",
    "\n",
    "The carry signal is composed of 3 components, labeled `i`, `f` and `k`.  You can interpret these as\n",
    "a way of forgetting `f` irrelevant information in the carray dataflow, while `i` and `k` provide\n",
    "information about the present, updating the carry track with new information.  \n",
    "\n",
    "But in short, just keep in mind what the `LSTM` cell is meant to do: allow past information to be\n",
    "reinjected at a later time, thus fighting the vanishing-gradient problem."
   ]
  },
  {
   "cell_type": "markdown",
   "metadata": {},
   "source": [
    "# 6.2.3 A concrete LSTM example in Keras\n",
    "\n",
    "Here we use a `LSTM` layer to see how it improves the recurrent network on the IMDB dataset."
   ]
  },
  {
   "cell_type": "code",
   "execution_count": 30,
   "metadata": {},
   "outputs": [
    {
     "name": "stdout",
     "output_type": "stream",
     "text": [
      "_________________________________________________________________\n",
      "Layer (type)                 Output Shape              Param #   \n",
      "=================================================================\n",
      "embedding_7 (Embedding)      (None, None, 32)          320000    \n",
      "_________________________________________________________________\n",
      "lstm_1 (LSTM)                (None, 32)                8320      \n",
      "_________________________________________________________________\n",
      "dense_3 (Dense)              (None, 1)                 33        \n",
      "=================================================================\n",
      "Total params: 328,353\n",
      "Trainable params: 328,353\n",
      "Non-trainable params: 0\n",
      "_________________________________________________________________\n"
     ]
    }
   ],
   "source": [
    "from keras.layers import LSTM\n",
    "\n",
    "model = Sequential()\n",
    "model.add(Embedding(max_features, 32))\n",
    "model.add(LSTM(32))\n",
    "model.add(Dense(1, activation='sigmoid'))\n",
    "model.summary()"
   ]
  },
  {
   "cell_type": "code",
   "execution_count": null,
   "metadata": {},
   "outputs": [],
   "source": [
    "model.compile(optimizer='rmsprop',\n",
    "              loss='binary_crossentropy',\n",
    "              metrics=['acc'])\n",
    "\n",
    "history = model.fit(input_train, y_train,\n",
    "                    epochs=10,\n",
    "                    batch_size=128,\n",
    "                    validation_split=0.2)"
   ]
  },
  {
   "cell_type": "code",
   "execution_count": null,
   "metadata": {},
   "outputs": [],
   "source": [
    "acc = history.history['acc']\n",
    "val_acc = history.history['val_acc']\n",
    "\n",
    "epochs = range(1, len(acc) + 1)\n",
    "\n",
    "plt.plot(epochs, acc, label='Training acc')\n",
    "plt.plot(epochs, val_acc, label='Validation acc')\n",
    "plt.title('Training and validation accuracy')\n",
    "plt.legend()"
   ]
  },
  {
   "cell_type": "code",
   "execution_count": null,
   "metadata": {},
   "outputs": [],
   "source": [
    "loss = history.history['loss']\n",
    "val_loss = history.history['val_loss']\n",
    "\n",
    "epochs = range(1, len(acc) + 1)\n",
    "\n",
    "plt.plot(epochs, loss, label='Training loss')\n",
    "plt.plot(epochs, val_loss, label='Validation loss')\n",
    "plt.title('Training and validation loss')\n",
    "plt.legend()"
   ]
  },
  {
   "cell_type": "markdown",
   "metadata": {},
   "source": [
    "This time, we should achieve up to 89% validation accuracy.  This should be better than the `SimpleRNN`\n",
    "performance, and a bit better than the simple feedforward model from chapter 3 as well.  And again\n",
    "recall we are still only looking at first 500 words (500 timesteps in the recurrent formulation), whereas\n",
    "in chapter 3 we were using the full text for all reviews.\n",
    "\n",
    "But the result isn't significally better, especially considering the much greater computational machinery\n",
    "now present in the `LSTM`.  Again we may be able to increase performance a bit by tuning the hyper-parameters.\n",
    "But, as argued in textbook, we probably can't improve much over just simply looking at which words are used\n",
    "and their frequency.  Thus the simpler model for this simple binary classification task may be difficult to improve\n",
    "upon using more complex recurrent networks.  \n",
    "\n",
    "But there are far more difficult natural-language processing problems where LSTM and GRU will make a much\n",
    "greater difference."
   ]
  },
  {
   "cell_type": "markdown",
   "metadata": {},
   "source": [
    "# 6.2.4\n",
    "\n",
    "- A RNN is a recurrent neural network, you can think of it as implementing a loop that processes a sequence of\n",
    "  input, and feeds the state (output) from previous timestep into calculation of the next output state.\n",
    "- LSTM adds in mechanisms to address the vanishing gradients problem, which is especially problematic for recurrent\n",
    "  neural networks.\n",
    "- Embedding layers are an alternative to simple one-hot or bag-of-word encodings, that are especially powerful\n",
    "  for more complex NLP tasks."
   ]
  }
 ],
 "metadata": {
  "kernelspec": {
   "display_name": "Python 3",
   "language": "python",
   "name": "python3"
  },
  "language_info": {
   "codemirror_mode": {
    "name": "ipython",
    "version": 3
   },
   "file_extension": ".py",
   "mimetype": "text/x-python",
   "name": "python",
   "nbconvert_exporter": "python",
   "pygments_lexer": "ipython3",
   "version": "3.7.3"
  },
  "latex_envs": {
   "LaTeX_envs_menu_present": true,
   "autoclose": false,
   "autocomplete": true,
   "bibliofile": "biblio.bib",
   "cite_by": "apalike",
   "current_citInitial": 1,
   "eqLabelWithNumbers": true,
   "eqNumInitial": 1,
   "hotkeys": {
    "equation": "Ctrl-E",
    "itemize": "Ctrl-I"
   },
   "labels_anchors": false,
   "latex_user_defs": false,
   "report_style_numbering": false,
   "user_envs_cfg": false
  },
  "toc": {
   "base_numbering": 1,
   "nav_menu": {},
   "number_sections": true,
   "sideBar": true,
   "skip_h1_title": false,
   "title_cell": "Table of Contents",
   "title_sidebar": "Contents",
   "toc_cell": false,
   "toc_position": {},
   "toc_section_display": true,
   "toc_window_display": false
  }
 },
 "nbformat": 4,
 "nbformat_minor": 2
}
