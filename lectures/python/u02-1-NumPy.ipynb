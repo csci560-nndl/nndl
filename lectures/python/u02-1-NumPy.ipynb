{
 "cells": [
  {
   "cell_type": "markdown",
   "metadata": {},
   "source": [
    "# NumPy - Multidimensional data arrays\n",
    "\n",
    "The NumPy library is used for all numerical data analytic computations in Python.\n",
    "It is a package that provides high-performance vector, matrix and higher-dimensional\n",
    "data structures for Python. It is implemented in C and Fortran, so when calculations\n",
    "are vectorized (formulated with vectors and matrices), performance is very good. \n",
    "\n",
    "To use NumPy we need to start by importing the NumPy library.  You can\n",
    "import the module namespace as usual\n",
    "\n",
    "```python\n",
    "import numpy\n",
    "```\n",
    "\n",
    "though by convention, scripts and notebooks that perform a lot of NumPy\n",
    "computations will often import NumPy with an alias as follows"
   ]
  },
  {
   "cell_type": "code",
   "execution_count": 1,
   "metadata": {},
   "outputs": [],
   "source": [
    "import numpy as np"
   ]
  },
  {
   "cell_type": "markdown",
   "metadata": {},
   "source": [
    "We will follow this convention and import numpy using the alias `np` for use\n",
    "in all of our notebooks for this class.\n",
    "\n",
    "This notebook lecture is using materials from past versions of this course\n",
    "(see the archive).  We have also based many of our new examples on\n",
    "the\n",
    "[Quickstart tutorial](https://numpy.org/doc/stable/user/quickstart.html)\n",
    "provided by the official NumPy library maintainers website."
   ]
  },
  {
   "cell_type": "markdown",
   "metadata": {},
   "source": [
    "# The Basics\n",
    "\n",
    "NumPy's main object is the homogeneous multidimensional array.  It is a table\n",
    "of elements (usually numbers), all of the same type, indexed by a tuple\n",
    "of non-negative integers. \n",
    "\n",
    "Because the main NumPy array is a homogeneous collection of elements, it\n",
    "is more similar to plain arrays you may be familiar with from C or Java, than\n",
    "the `List` type from the main Python language.  Homogeneous means\n",
    "that all of the items in the array must be of the same type.  So typically\n",
    "we will work with a homogeneous array of all floats or all int types for\n",
    "various machine learning tasks.\n",
    "\n",
    " In NumPy dimensions are called **axes**. For example the coordinates of a point\n",
    " in 3D space `[1, 2, 1]` has one axis.  That axis has 3 elements in it, so we\n",
    " say it has a length of 3.  A table of values like this:\n",
    " \n",
    " ```python\n",
    " [[1., 2., 1.],\n",
    "  [0., 1., 3.]]\n",
    "```\n",
    "\n",
    "is said to have 2 axes.  The first axis (the rows, and referred to numerically\n",
    "as axis 0) has a length of 2 (e.g. there are 2 rows).  The second axis\n",
    "(the columns, numerically referred to as axis 1) has a length of 3\n",
    "(there are 3 columns).\n",
    "\n",
    "The vast majority of the data we use in this class will be arranged in a table\n",
    "like this with 2 axis, where each row holds a sample of data, and each column\n",
    "represents an attribute of the sampled data.  For example, for an experiment\n",
    "each row might hold the information for a participant or subject of the experiment,\n",
    "while the columns might be attributes like the subject's age, weight, height,\n",
    "and results like how they responed to the experiment.\n",
    "\n",
    "Lots look at an example array in NumPy and some of its attributes."
   ]
  },
  {
   "cell_type": "code",
   "execution_count": 2,
   "metadata": {},
   "outputs": [
    {
     "data": {
      "text/plain": [
       "array([[ 0,  1,  2,  3,  4],\n",
       "       [ 5,  6,  7,  8,  9],\n",
       "       [10, 11, 12, 13, 14]])"
      ]
     },
     "execution_count": 2,
     "metadata": {},
     "output_type": "execute_result"
    }
   ],
   "source": [
    "# create an array with elements ranging from 0 to 14, and reshape into\n",
    "# an array with 2 axis, with 3 rows in the axis 0 and 5 columns in the axis 1\n",
    "a = np.arange(15).reshape(3,5)\n",
    "a"
   ]
  },
  {
   "cell_type": "code",
   "execution_count": null,
   "metadata": {},
   "outputs": [],
   "source": [
    "a.ndim"
   ]
  },
  {
   "cell_type": "code",
   "execution_count": null,
   "metadata": {},
   "outputs": [],
   "source": [
    "a.shape"
   ]
  },
  {
   "cell_type": "code",
   "execution_count": null,
   "metadata": {},
   "outputs": [],
   "source": [
    "a.size"
   ]
  },
  {
   "cell_type": "code",
   "execution_count": 4,
   "metadata": {},
   "outputs": [
    {
     "data": {
      "text/plain": [
       "dtype('int64')"
      ]
     },
     "execution_count": 4,
     "metadata": {},
     "output_type": "execute_result"
    }
   ],
   "source": [
    "a.dtype"
   ]
  },
  {
   "cell_type": "code",
   "execution_count": null,
   "metadata": {},
   "outputs": [],
   "source": [
    "a.itemsize"
   ]
  },
  {
   "cell_type": "code",
   "execution_count": null,
   "metadata": {},
   "outputs": [],
   "source": [
    "a.data"
   ]
  },
  {
   "cell_type": "code",
   "execution_count": 3,
   "metadata": {},
   "outputs": [
    {
     "data": {
      "text/plain": [
       "numpy.ndarray"
      ]
     },
     "execution_count": 3,
     "metadata": {},
     "output_type": "execute_result"
    }
   ],
   "source": [
    "type(a)"
   ]
  },
  {
   "cell_type": "code",
   "execution_count": 12,
   "metadata": {},
   "outputs": [
    {
     "data": {
      "text/plain": [
       "[[0, 'string', 2, 3, 4, 5], [6, 7, 8, 9, True, 11]]"
      ]
     },
     "execution_count": 12,
     "metadata": {},
     "output_type": "execute_result"
    }
   ],
   "source": [
    "l = [[0, 'string', 2, 3, 4, 5],\n",
    "     [6, 7, 8, 9, True, 11]]\n",
    "l"
   ]
  },
  {
   "cell_type": "code",
   "execution_count": 8,
   "metadata": {},
   "outputs": [
    {
     "data": {
      "text/plain": [
       "list"
      ]
     },
     "execution_count": 8,
     "metadata": {},
     "output_type": "execute_result"
    }
   ],
   "source": []
  },
  {
   "cell_type": "markdown",
   "metadata": {},
   "source": [
    "NumPy's array class is called `ndarray` as the last cell shows.  An `ndarray`\n",
    "is a general n-dimensional array.\n",
    "\n",
    "In the previous example we demonstrated many of the basic attributes of\n",
    "a NumPy `ndarray`\n",
    "\n",
    "- **ndarray.ndim**: The number of axes (or dimensions) of the array.  Our array\n",
    "  has 2 dimensions, axis 0 (rows) and axis 1 (columns)\n",
    "- **ndarray.shape**: The length of each dimension of the array.  Since we have 3\n",
    "  rows and 5 columns, axis 0 has a length of 3 and axis 1 has a length of 5.\n",
    "- **ndarray.size**: The total number of elements of the array, has to be equal to\n",
    "  the product of the shape (e.g. $3 \\times 5 = 15$ here).\n",
    "- **ndarray.dtype**: The type of elements in the array.  `ndarray`'s are **homogeneous**\n",
    "  which means all elements are of the same type, the type describe here.  You\n",
    "  will often see types like this `int64`, where `int` is the basic type and\n",
    "  the number 64 indicates the number of bits being used for the data type\n",
    "  representation.\n",
    "- **ndarray.itemsize**: The size in bytes of each element of the array.  Since\n",
    "  a byte uses 8 bits, a size of 8 bytes here equals 64 bits of memory for each of\n",
    "  the 15 elements in the array.\n",
    "- **ndarray.data**: The actually pointer to the buffer in memory holding the values\n",
    "  of this array.  We don't normally access this directly.\n",
    "  \n",
    "Another quick example of an array, compare this one to the first one."
   ]
  },
  {
   "cell_type": "code",
   "execution_count": 13,
   "metadata": {},
   "outputs": [],
   "source": [
    "# set the display options so that our arrays are displayed as decimal notation\n",
    "# rather than floating point notation in the rest of the notebook\n",
    "np.set_printoptions(suppress=True)"
   ]
  },
  {
   "cell_type": "code",
   "execution_count": 14,
   "metadata": {},
   "outputs": [
    {
     "data": {
      "text/plain": [
       "array([[[ 4.91463478,  2.72014166,  2.20270517],\n",
       "        [-2.40172018, -0.42262995, -0.04752124],\n",
       "        [ 1.4126038 , -3.23217043, -0.9959877 ],\n",
       "        [-1.20286033,  0.95707324, -3.20667402]],\n",
       "\n",
       "       [[-1.97808616,  0.04099682, -4.7763905 ],\n",
       "        [ 4.09483831,  4.14678955, -1.61166196],\n",
       "        [-2.18955469,  2.2690551 ,  1.79952707],\n",
       "        [-2.51534874,  3.88123434, -3.0941251 ]],\n",
       "\n",
       "       [[ 4.22020354, -0.79768108,  2.95552203],\n",
       "        [ 2.32351891, -1.29975097, -3.26606597],\n",
       "        [ 1.86737578,  3.92134814, -0.78048388],\n",
       "        [-0.57348928, -1.59772117,  1.93861645]],\n",
       "\n",
       "       [[-1.77912517,  1.39773974,  0.7133414 ],\n",
       "        [ 1.79129032,  4.44480709, -0.6605687 ],\n",
       "        [-1.51176746,  0.0205056 , -0.8332939 ],\n",
       "        [ 4.09586537, -4.44110834, -0.27024187]],\n",
       "\n",
       "       [[-1.33939577,  3.2867668 , -3.72083489],\n",
       "        [-1.85922831,  1.58190146, -2.2160052 ],\n",
       "        [-4.67054374, -3.54378683,  0.25158285],\n",
       "        [-4.42705511,  3.48176689,  2.96905678]]])"
      ]
     },
     "execution_count": 14,
     "metadata": {},
     "output_type": "execute_result"
    }
   ],
   "source": [
    "# an array of random floating point numbers that range from -5 to 5\n",
    "# the 3rd parameter, a tuple, gives the shape of the array to randomly create\n",
    "\n",
    "# I think of this as axis 0 is the number of regular 2-d tables, so here we have\n",
    "# 5 tables, where each table has 4 rows and 3 columns\n",
    "b = np.random.uniform(-5.0, 5.0, (5, 4, 3))\n",
    "b"
   ]
  },
  {
   "cell_type": "code",
   "execution_count": 15,
   "metadata": {},
   "outputs": [
    {
     "data": {
      "text/plain": [
       "3"
      ]
     },
     "execution_count": 15,
     "metadata": {},
     "output_type": "execute_result"
    }
   ],
   "source": [
    "b.ndim"
   ]
  },
  {
   "cell_type": "code",
   "execution_count": 16,
   "metadata": {},
   "outputs": [
    {
     "data": {
      "text/plain": [
       "(5, 4, 3)"
      ]
     },
     "execution_count": 16,
     "metadata": {},
     "output_type": "execute_result"
    }
   ],
   "source": [
    "b.shape"
   ]
  },
  {
   "cell_type": "code",
   "execution_count": 17,
   "metadata": {},
   "outputs": [
    {
     "data": {
      "text/plain": [
       "60"
      ]
     },
     "execution_count": 17,
     "metadata": {},
     "output_type": "execute_result"
    }
   ],
   "source": [
    "b.size"
   ]
  },
  {
   "cell_type": "code",
   "execution_count": 18,
   "metadata": {},
   "outputs": [
    {
     "data": {
      "text/plain": [
       "dtype('float64')"
      ]
     },
     "execution_count": 18,
     "metadata": {},
     "output_type": "execute_result"
    }
   ],
   "source": [
    "b.dtype"
   ]
  },
  {
   "cell_type": "code",
   "execution_count": 19,
   "metadata": {},
   "outputs": [
    {
     "data": {
      "text/plain": [
       "8"
      ]
     },
     "execution_count": 19,
     "metadata": {},
     "output_type": "execute_result"
    }
   ],
   "source": [
    "b.itemsize"
   ]
  },
  {
   "cell_type": "markdown",
   "metadata": {},
   "source": [
    "# Array creation\n",
    "\n",
    "There are a number of ways to create a NumPy `ndarray`.  We saw two\n",
    "array generation functions in the previous example, one creating\n",
    "an array with a range of values, and another using the NumPy `random`\n",
    "submodule to generate arrays of random values.\n",
    "\n",
    "One basic way to create an array is by initializing it form a regular\n",
    "Python list or tuple."
   ]
  },
  {
   "cell_type": "code",
   "execution_count": null,
   "metadata": {},
   "outputs": [],
   "source": [
    "a = np.array([2, 3, 4])\n",
    "print(a)\n",
    "print(a.dtype)\n",
    "print(a.shape)"
   ]
  },
  {
   "cell_type": "code",
   "execution_count": null,
   "metadata": {},
   "outputs": [],
   "source": [
    "b = np.array([[1.2, 3.5, 5.1], \n",
    "              [3.8, 4.6, 2.7]])\n",
    "print(b)\n",
    "print(b.dtype)\n",
    "print(b.shape)"
   ]
  },
  {
   "cell_type": "code",
   "execution_count": null,
   "metadata": {},
   "outputs": [],
   "source": [
    "c = np.array(['gouda', 42, False, 3-2j])\n",
    "print(c)\n",
    "print(c.dtype)\n",
    "print(c.shape)"
   ]
  },
  {
   "cell_type": "markdown",
   "metadata": {},
   "source": [
    "Notice that when you give a nonhomogeneous list of values, NumPy will convert to\n",
    "the most general type, which is this case is a string representation of each element\n",
    "with a maximum length of 6 characters for each string.\n",
    "\n",
    "We saw an example of array `b` where a sequence of lists is transformed into\n",
    "an array with 2 axis.  This can be done for 3 or even higher numbers of axis, though\n",
    "of course it gets complicated to construct such a list by hand in python.\n",
    "\n",
    "The type of the array can be explicitly specified at creation time."
   ]
  },
  {
   "cell_type": "code",
   "execution_count": null,
   "metadata": {},
   "outputs": [],
   "source": [
    "d = np.array( [[1, 2], [3, 4]], dtype=complex)\n",
    "print(d)\n",
    "print(d.dtype)\n",
    "print(d.shape)"
   ]
  },
  {
   "cell_type": "markdown",
   "metadata": {},
   "source": [
    "## Array generation functions\n",
    "\n",
    "We saw some array generating functions above.  The `arange()` function\n",
    "is analogous to the `range()` built-in funciton, it creates arrays with\n",
    "1 axis with a range of values."
   ]
  },
  {
   "cell_type": "code",
   "execution_count": null,
   "metadata": {},
   "outputs": [],
   "source": [
    "# array of values from 0 up to by not including 12\n",
    "np.arange(12)"
   ]
  },
  {
   "cell_type": "code",
   "execution_count": null,
   "metadata": {},
   "outputs": [],
   "source": [
    "# range of event values from 10 to 50 \n",
    "np.arange(10, 51, 2)"
   ]
  },
  {
   "cell_type": "code",
   "execution_count": null,
   "metadata": {},
   "outputs": [],
   "source": [
    "# stepping backwards\n",
    "np.arange(100, -1, -5)"
   ]
  },
  {
   "cell_type": "code",
   "execution_count": 27,
   "metadata": {},
   "outputs": [
    {
     "name": "stdout",
     "output_type": "stream",
     "text": [
      "[1 2 3 4 5 6 7 8]\n",
      "(8,)\n",
      "(4, 2)\n",
      "[[1 2]\n",
      " [3 4]\n",
      " [5 6]\n",
      " [7 8]]\n"
     ]
    }
   ],
   "source": [
    "x = np.array([1, 2, 3, 4, 5, 6, 7, 8])\n",
    "print(x)\n",
    "print(x.shape)\n",
    "\n",
    "y = x.reshape((4,2))\n",
    "print(y.shape)\n",
    "print(y)"
   ]
  },
  {
   "cell_type": "markdown",
   "metadata": {},
   "source": [
    "Another function for generating sequences that might be more useful in this\n",
    "class is `linspace()`.  This function can be used to generate an array of\n",
    "a particular size with points linearly spaces over some range.  For example"
   ]
  },
  {
   "cell_type": "code",
   "execution_count": 48,
   "metadata": {},
   "outputs": [
    {
     "name": "stdout",
     "output_type": "stream",
     "text": [
      "[ 1  4  9 16 25]\n",
      "[ 3  6  9 12 15]\n",
      "[ 4 10 18 28 40]\n",
      "[-1  5 13 23 35]\n",
      "[-1  5 13 23 35]\n"
     ]
    }
   ],
   "source": [
    "x = np.array([1, 2, 3, 4, 5])\n",
    "\n",
    "y = x**2 + 3 * x - 5\n",
    "\n",
    "print(x**2)\n",
    "print(3*x)\n",
    "\n",
    "print(x**2 + 3*x)\n",
    "print(x**2 + 3*x - 5)\n",
    "print(y)"
   ]
  },
  {
   "cell_type": "code",
   "execution_count": 49,
   "metadata": {},
   "outputs": [
    {
     "name": "stdout",
     "output_type": "stream",
     "text": [
      "[False False  True  True False]\n"
     ]
    }
   ],
   "source": [
    "mask = (y > 5) & (y <= 23)\n",
    "print(mask)"
   ]
  },
  {
   "cell_type": "code",
   "execution_count": 50,
   "metadata": {},
   "outputs": [
    {
     "name": "stdout",
     "output_type": "stream",
     "text": [
      "[ -1   5 234 644  35]\n"
     ]
    }
   ],
   "source": [
    "y[mask] = y[mask]**2 + 5 * y[mask]\n",
    "print(y)"
   ]
  },
  {
   "cell_type": "code",
   "execution_count": 45,
   "metadata": {},
   "outputs": [
    {
     "data": {
      "text/plain": [
       "array([ 5, 35])"
      ]
     },
     "execution_count": 45,
     "metadata": {},
     "output_type": "execute_result"
    }
   ],
   "source": [
    "indexes = [1, 4]\n",
    "y[indexes]"
   ]
  },
  {
   "cell_type": "code",
   "execution_count": 46,
   "metadata": {},
   "outputs": [
    {
     "name": "stdout",
     "output_type": "stream",
     "text": [
      "(3+2j)\n",
      "<class 'complex'>\n"
     ]
    }
   ],
   "source": [
    "i = 3+2j\n",
    "print(i)\n",
    "print(type(i))"
   ]
  },
  {
   "cell_type": "code",
   "execution_count": null,
   "metadata": {},
   "outputs": [],
   "source": [
    "# 10 point linearly spaces from 0.0 to 1.0\n",
    "# notice that this funciton is inclusive of the endpoints, the first and last points\n",
    "# will begin and end at the stated begin and end of the range\n",
    "np.linspace(0.0, 1.0, 10)"
   ]
  },
  {
   "cell_type": "code",
   "execution_count": null,
   "metadata": {},
   "outputs": [],
   "source": [
    "# 100 points linearly spaces from -10 to 10\n",
    "np.linspace(-10.0, 10.0, 100)"
   ]
  },
  {
   "cell_type": "markdown",
   "metadata": {},
   "source": [
    "The  `np.random.uniform()` function we used before shows a common pattern for many other\n",
    "array generating functions.  Functions in NumPy's random library can be used\n",
    "to generate arrays of random numbers with different distributions (uniform,\n",
    "normal, gaussian distribution, etc).  The 3rd parameter is a tuple indicating\n",
    "the shape of the array to be generated.\n",
    "\n",
    "Often we know what shape of array we need and the type of the values that will\n",
    "be in it, but we will generate the data later.  We can use functions\n",
    "like `zeros()` or `empty()` to create empty arrays of a particular shape and type."
   ]
  },
  {
   "cell_type": "code",
   "execution_count": null,
   "metadata": {},
   "outputs": [],
   "source": [
    "# array of zeros with 3 rows and 4 columns\n",
    "a = np.zeros( (3, 4) )\n",
    "print(a)\n",
    "print(a.shape)\n",
    "print(a.dtype)"
   ]
  },
  {
   "cell_type": "markdown",
   "metadata": {},
   "source": [
    "Notice that if you don't specify a datatype, many array generation functions default\n",
    "to generating arrays of floating point numbers (with the standard number of bits \n",
    "for a float type used).\n",
    "\n",
    "`zeros()` is useful if you need to ensure all values are initially 0, but if\n",
    "you know you will be filling in all values, you can just get an empty array.\n",
    "This sometimes has all 0's anyway, but the memory is not initialized so garbage\n",
    "values can also be in the array you get back using `empty()`."
   ]
  },
  {
   "cell_type": "code",
   "execution_count": null,
   "metadata": {},
   "outputs": [],
   "source": [
    "# empty array of  3 rows and 4 columns\n",
    "a = np.empty( (6, 8) )\n",
    "print(a)\n",
    "print(a.shape)\n",
    "print(a.dtype)"
   ]
  },
  {
   "cell_type": "markdown",
   "metadata": {},
   "source": [
    "There are many other\n",
    "[array generation functions](https://numpy.org/doc/stable/reference/routines.array-creation.html) \n",
    "that can be used.  "
   ]
  },
  {
   "cell_type": "markdown",
   "metadata": {},
   "source": [
    "# Basic operations (Vectorized computations)\n",
    "\n",
    "NumPy arrays support a style of programming known as vectorized computations,\n",
    "first popularized in the Matlab programming enviornment (I believe).\n",
    "\n",
    "What this means is that, instead of using loops to access and perform\n",
    "operations on the elements of an array, we can treat an array as a single\n",
    "value/variable and apply an operation to all elements with a single statement.\n",
    "\n",
    "An example should make this clearer."
   ]
  },
  {
   "cell_type": "markdown",
   "metadata": {},
   "source": [
    "## Elementwise arithemetic\n",
    "\n",
    "For example, you can easily apply simple operations to all elemnts of an array,\n",
    "like addition or multiplication, by performing a scalar operation with an\n",
    "`ndarray` object.  A **scalar** value is simply a fancy way of saying a\n",
    "single value, e.g. a regular Python variable holding 1 value, instead of an\n",
    "array that holds many values.\n",
    "\n",
    "So any array we have we can perform elementwise scalar operations on it."
   ]
  },
  {
   "cell_type": "code",
   "execution_count": null,
   "metadata": {},
   "outputs": [],
   "source": [
    "# 100 random integers in range from 1 to 10\n",
    "a = np.random.randint(1,11,(10,10))\n",
    "a"
   ]
  },
  {
   "cell_type": "code",
   "execution_count": null,
   "metadata": {},
   "outputs": [],
   "source": [
    "# subtract 10 from each element of array using vectorized operation\n",
    "a - 10"
   ]
  },
  {
   "cell_type": "code",
   "execution_count": null,
   "metadata": {},
   "outputs": [],
   "source": [
    "# multiple each array element by 10\n",
    "10 * a"
   ]
  },
  {
   "cell_type": "code",
   "execution_count": null,
   "metadata": {},
   "outputs": [],
   "source": [
    "# divide all elemsnt by 10, result should be floats in range 0.1 to 1.0\n",
    "a / 10"
   ]
  },
  {
   "cell_type": "markdown",
   "metadata": {},
   "source": [
    "## Vectorized functions (Universal Functions)\n",
    "\n",
    "Many functions have been provided in NumPy to perform vectorized operations\n",
    "on NumPy arrays.  These are also called Universal functions (ufunc).\n",
    "\n",
    "For example, all of the math function in the standard `math` library are\n",
    "scalar functions, the expect a single value.  NumPy provides vectorized\n",
    "versions of all of the math functions that performs the elementwise\n",
    "operation on all of the values.\n",
    "[NumPy mathematical functions reference](https://numpy.org/doc/stable/reference/routines.math.html)\n",
    "These are all in the top NumPy namespace.  So for example\n"
   ]
  },
  {
   "cell_type": "code",
   "execution_count": null,
   "metadata": {},
   "outputs": [],
   "source": [
    "# array of random numbers in range -2pi to 2pi\n",
    "b = np.random.uniform(-np.pi, np.pi, (10,10))\n",
    "b"
   ]
  },
  {
   "cell_type": "code",
   "execution_count": null,
   "metadata": {},
   "outputs": [],
   "source": [
    "# sin of each value\n",
    "np.sin(b)"
   ]
  },
  {
   "cell_type": "code",
   "execution_count": null,
   "metadata": {},
   "outputs": [],
   "source": [
    "# logarithm of each value, need to take absolute value because logarithm\n",
    "# not defined for negative values\n",
    "np.log(np.abs(b))"
   ]
  },
  {
   "cell_type": "markdown",
   "metadata": {},
   "source": [
    "So far all of the previous examples have applied a scalar or a function\n",
    "transformation to each element of an array.\n",
    "\n",
    "Operations between 2 arrays are also defined, and by default perform elementwise\n",
    "operations.  They are defined normally when the arrays are of the same shape.\n",
    "An example should make this clearer."
   ]
  },
  {
   "cell_type": "code",
   "execution_count": null,
   "metadata": {},
   "outputs": [],
   "source": [
    "# arrays of same size and shape\n",
    "a = np.array([1, 5, 7, 9])\n",
    "b = np.array([-1, 4, -10, 6])"
   ]
  },
  {
   "cell_type": "code",
   "execution_count": null,
   "metadata": {},
   "outputs": [],
   "source": [
    "a + b"
   ]
  },
  {
   "cell_type": "code",
   "execution_count": null,
   "metadata": {},
   "outputs": [],
   "source": [
    "a - b"
   ]
  },
  {
   "cell_type": "markdown",
   "metadata": {},
   "source": [
    "In some vectorized languages, multiplication opeator `*` is defined to perform\n",
    "matrix multiplcation by default.  For NumPy arrays, it performs elementwise\n",
    "multiplication by default."
   ]
  },
  {
   "cell_type": "code",
   "execution_count": null,
   "metadata": {},
   "outputs": [],
   "source": [
    "A = np.array( [ [1, 1],\n",
    "                [0, 1] ])\n",
    "\n",
    "B = np.array( [ [2, 0],\n",
    "                [3, 4] ])\n",
    "\n",
    "# this is just the elementwise product of the two matrices\n",
    "A * B"
   ]
  },
  {
   "cell_type": "markdown",
   "metadata": {},
   "source": [
    "If you need true matrix multiplication, the `@` operator has been overloaded\n",
    "in recent versions of Numpy for matrix multiplication, or you can use the\n",
    "`np.dot()` function which computes the dot product, another name for matrix\n",
    "multiplication."
   ]
  },
  {
   "cell_type": "code",
   "execution_count": null,
   "metadata": {},
   "outputs": [],
   "source": [
    "# matrix multiplication\n",
    "A @ B"
   ]
  },
  {
   "cell_type": "code",
   "execution_count": null,
   "metadata": {},
   "outputs": [],
   "source": [
    "# also the dot() member function performs matrix multiplication\n",
    "A.dot(B)"
   ]
  },
  {
   "cell_type": "markdown",
   "metadata": {},
   "source": [
    "## Combining vectorized operations\n",
    "\n",
    "In the previous examples we  showed that elementwise vectorized operations can be chained.\n",
    "The result of taking the absolute value of the matrix was then fed to the\n",
    "`log()` function, so we applied absolute value followed by log function\n",
    "operations successively to each value of array b.\n",
    "\n",
    "We also showed that when 2 arrays are used on both sides of an operation, the\n",
    "result is an elementwise vectorized operation.\n",
    "\n",
    "In general more complex vectorized expressions can be built up by composing\n",
    "many basic vectorized operations together.  So for example, jumping ahead a bit,\n",
    "but a very common thing we might do is something like the following."
   ]
  },
  {
   "cell_type": "code",
   "execution_count": null,
   "metadata": {},
   "outputs": [],
   "source": [
    "# x values range from -4 to 4\n",
    "x = np.linspace(-4.0, 4.0, 1000)"
   ]
  },
  {
   "cell_type": "markdown",
   "metadata": {},
   "source": [
    "Calculate and display function\n",
    "\n",
    "$$\n",
    "f(x) = 50 \\sin(x^2) + \\frac{1}{2} x^3 - 10 \\cos(\\frac{x}{2})\n",
    "$$"
   ]
  },
  {
   "cell_type": "code",
   "execution_count": null,
   "metadata": {},
   "outputs": [],
   "source": [
    "# calculate the function f(x) composed of elementwise transformations\n",
    "y = 50.0 * np.sin(x**2.0) + 0.5 * x**3.0 - 10.0 * np.cos(x/2.0)"
   ]
  },
  {
   "cell_type": "code",
   "execution_count": null,
   "metadata": {},
   "outputs": [],
   "source": [
    "# display the resulting function as a plot\n",
    "import matplotlib.pyplot as plt\n",
    "plt.figure(figsize=(10,8))\n",
    "plt.plot(x, y);"
   ]
  },
  {
   "cell_type": "markdown",
   "metadata": {},
   "source": [
    "## Array member functions\n",
    "\n",
    "In addition to many universal functions (like the vectorized math\n",
    "functions) provided by NumPy, there ae many member functions of\n",
    "an array itself that we will use.  These member functions\n",
    "are sometimes known as unary operations.\n",
    "[ndarray member function reference](https://numpy.org/doc/stable/reference/generated/numpy.ndarray.html)\n",
    "\n",
    "A few examples of some useful array member functions."
   ]
  },
  {
   "cell_type": "code",
   "execution_count": null,
   "metadata": {},
   "outputs": [],
   "source": [
    "# array of random integers\n",
    "a = np.random.randint(1, 6, (3,6))\n",
    "a"
   ]
  },
  {
   "cell_type": "code",
   "execution_count": null,
   "metadata": {},
   "outputs": [],
   "source": [
    "# minimum value of the array\n",
    "a.min()"
   ]
  },
  {
   "cell_type": "code",
   "execution_count": null,
   "metadata": {},
   "outputs": [],
   "source": [
    "# minimum of each column, use axis=0\n",
    "a.min(axis=0)"
   ]
  },
  {
   "cell_type": "code",
   "execution_count": null,
   "metadata": {},
   "outputs": [],
   "source": [
    "# minimum of each row, use axis=1\n",
    "a.min(axis=1)"
   ]
  },
  {
   "cell_type": "code",
   "execution_count": null,
   "metadata": {},
   "outputs": [],
   "source": [
    "# mean of all values\n",
    "a.mean()"
   ]
  },
  {
   "cell_type": "code",
   "execution_count": null,
   "metadata": {},
   "outputs": [],
   "source": [
    "# sum of all values\n",
    "a.sum()"
   ]
  },
  {
   "cell_type": "code",
   "execution_count": null,
   "metadata": {},
   "outputs": [],
   "source": [
    "# sum of each column\n",
    "a.sum(axis=0)"
   ]
  },
  {
   "cell_type": "code",
   "execution_count": null,
   "metadata": {},
   "outputs": [],
   "source": [
    "# reshape the array\n",
    "a.reshape( (6,3) )"
   ]
  },
  {
   "cell_type": "code",
   "execution_count": null,
   "metadata": {},
   "outputs": [],
   "source": [
    "a.reshape( (2,3,3) )"
   ]
  },
  {
   "cell_type": "code",
   "execution_count": null,
   "metadata": {},
   "outputs": [],
   "source": [
    "a.flatten()"
   ]
  },
  {
   "cell_type": "markdown",
   "metadata": {},
   "source": [
    "## Elementwise logical expressions\n",
    "\n",
    "Logical expressions work elementwise for NumPy arrays, just like numerical\n",
    "expressions.  The result will be an array of boolean values.\n",
    "\n",
    "So for example you can use the logical operators like `<`, `>=`, `==`, etc.\n",
    "to get a result of booleans."
   ]
  },
  {
   "cell_type": "code",
   "execution_count": null,
   "metadata": {},
   "outputs": [],
   "source": [
    "a"
   ]
  },
  {
   "cell_type": "code",
   "execution_count": null,
   "metadata": {},
   "outputs": [],
   "source": [
    "a == 1"
   ]
  },
  {
   "cell_type": "code",
   "execution_count": null,
   "metadata": {},
   "outputs": [],
   "source": [
    "a <= 2"
   ]
  },
  {
   "cell_type": "markdown",
   "metadata": {},
   "source": [
    "We will see later on when we perform boolean indexing how and why this\n",
    "might be useful.\n",
    "\n",
    "You can make more complex boolean expressions, however the logical operators\n",
    "like `and` `or` and `not` do not work on arrays for elementwise boolean\n",
    "expressions, so the following will fail if you want the locations in\n",
    "a where the value is either a 1 or a 5."
   ]
  },
  {
   "cell_type": "code",
   "execution_count": null,
   "metadata": {},
   "outputs": [],
   "source": [
    "try:\n",
    "    (a == 1) or (a == 5)\n",
    "except ValueError:\n",
    "    print(\"ValueError was generated: The truth value of an array with more than one element is ambiguous. Use a.any() or a.all()\")"
   ]
  },
  {
   "cell_type": "markdown",
   "metadata": {},
   "source": [
    "The error message here is misleading.  You should use the numpy logical functions\n",
    "to perform these operations, like this."
   ]
  },
  {
   "cell_type": "code",
   "execution_count": null,
   "metadata": {},
   "outputs": [],
   "source": [
    "np.logical_or(a == 1, a == 5)"
   ]
  },
  {
   "cell_type": "markdown",
   "metadata": {},
   "source": [
    "Also, though `and` and `or` were not overloaded to perform elementwise logical\n",
    "comparision, instead the bitwise operators were overloaded for NumPy arrays\n",
    "for this purpose.  These are the operators `&` for and `|` for or,\n",
    "`~` for not and `^` for xor.  \n",
    "\n",
    "So you will often commonly see these operators used instead to create logical\n",
    "expressions between multiple NumPy arrays."
   ]
  },
  {
   "cell_type": "code",
   "execution_count": null,
   "metadata": {},
   "outputs": [],
   "source": [
    "(a == 1) | (a == 5)"
   ]
  },
  {
   "cell_type": "markdown",
   "metadata": {},
   "source": [
    "# Indexing, Slicing and Iterating\n",
    "\n",
    "It is important you understand array slicing.  A one-dimensional array\n",
    "can be indexed, sliced and iterated over in pretty much an identical\n",
    "manner to lists and other Python sequences."
   ]
  },
  {
   "cell_type": "code",
   "execution_count": null,
   "metadata": {},
   "outputs": [],
   "source": [
    "# a 1-dimensional array of 10 values\n",
    "a = np.arange(10)**3\n",
    "a"
   ]
  },
  {
   "cell_type": "code",
   "execution_count": null,
   "metadata": {},
   "outputs": [],
   "source": [
    "# index the 3rd element at index 2\n",
    "a[2]"
   ]
  },
  {
   "cell_type": "code",
   "execution_count": null,
   "metadata": {},
   "outputs": [],
   "source": [
    "# get a slice from element 2 to up to by not including element 5\n",
    "a[2:5]"
   ]
  },
  {
   "cell_type": "code",
   "execution_count": null,
   "metadata": {},
   "outputs": [],
   "source": [
    "# use step size to get even values from start up to element 6\n",
    "a[:7:2]"
   ]
  },
  {
   "cell_type": "code",
   "execution_count": null,
   "metadata": {},
   "outputs": [],
   "source": [
    "# reverse the array\n",
    "a[::-1]"
   ]
  },
  {
   "cell_type": "code",
   "execution_count": null,
   "metadata": {},
   "outputs": [],
   "source": [
    "# iterate over elements in the array\n",
    "for val in a:\n",
    "    print(val**(1.0/3.0))"
   ]
  },
  {
   "cell_type": "markdown",
   "metadata": {},
   "source": [
    "Although as we noted in a previous video, there is one big difference between\n",
    "arrays and regular Python sequences when it comes to slicing.\n",
    "\n",
    "When you slice an array, you get a view of the array."
   ]
  },
  {
   "cell_type": "code",
   "execution_count": null,
   "metadata": {},
   "outputs": [],
   "source": [
    "b = a[2:5]\n",
    "b"
   ]
  },
  {
   "cell_type": "code",
   "execution_count": null,
   "metadata": {},
   "outputs": [],
   "source": [
    "a[2:5] = 0\n",
    "a"
   ]
  },
  {
   "cell_type": "code",
   "execution_count": null,
   "metadata": {},
   "outputs": [],
   "source": [
    "b"
   ]
  },
  {
   "cell_type": "markdown",
   "metadata": {},
   "source": [
    "So notice by change the values to 0 in a, the view in b now also shows them as 0.\n",
    "\n",
    "But be aware that some operations work in place, so the view will stay, but some\n",
    "operations end up creating a new copy of hte values.  For example."
   ]
  },
  {
   "cell_type": "code",
   "execution_count": null,
   "metadata": {},
   "outputs": [],
   "source": [
    "# b is still a view\n",
    "b[1] = 10\n",
    "b"
   ]
  },
  {
   "cell_type": "code",
   "execution_count": null,
   "metadata": {},
   "outputs": [],
   "source": [
    "# sow the change to a value of 10 shows up in a as well\n",
    "a"
   ]
  },
  {
   "cell_type": "code",
   "execution_count": null,
   "metadata": {},
   "outputs": [],
   "source": [
    "# operators +=, *=, etc. will work in place, so b remains a view of a\n",
    "b += 5\n",
    "b"
   ]
  },
  {
   "cell_type": "code",
   "execution_count": null,
   "metadata": {},
   "outputs": [],
   "source": [
    "a"
   ]
  },
  {
   "cell_type": "code",
   "execution_count": null,
   "metadata": {},
   "outputs": [],
   "source": [
    "# but performing the same operation again, but using just a regular assignment\n",
    "# causes a copy to be made\n",
    "b = b + 5\n",
    "b"
   ]
  },
  {
   "cell_type": "code",
   "execution_count": null,
   "metadata": {},
   "outputs": [],
   "source": [
    "a"
   ]
  },
  {
   "cell_type": "markdown",
   "metadata": {},
   "source": [
    "The lesson of the last example is you do have to be a bit careful.  I usually\n",
    "assume slices will be views.  Making a view rather than a copy is done for\n",
    "efficiency reasons.  A primary goal of NumPy is to provide efficient numerical\n",
    "in memory calculations.  So copying arrays when evaluating results is avoided\n",
    "if at all possible, thus views are the normal result from a slice."
   ]
  },
  {
   "cell_type": "markdown",
   "metadata": {},
   "source": [
    "## Multidimensional indexing and slicing\n",
    "\n",
    "When your `ndarray` has 2 or more dimensions, you can still perform indexing\n",
    "and slicing operations.  All of the same indexing and slicing syntax is\n",
    "available on a NumPy array for every dimension of the array.\n",
    "\n",
    "So for a multidimensional array you can hae one indexing/slicing expression\n",
    "per axis.  These indices are given in a tuple separated by commas.\n"
   ]
  },
  {
   "cell_type": "code",
   "execution_count": null,
   "metadata": {},
   "outputs": [],
   "source": [
    "# construct array as a function of each coordinate.  Since\n",
    "# the array is 2 dimensional, the function will receive two coordinates,\n",
    "# the row number and column number\n",
    "def f(row, col):\n",
    "    return 3*row + col**2\n",
    "\n",
    "# create an 2-dimensional array of integers\n",
    "b = np.fromfunction(f, (5,4), dtype=int)\n",
    "b"
   ]
  },
  {
   "cell_type": "code",
   "execution_count": null,
   "metadata": {},
   "outputs": [],
   "source": [
    "# item at row 2, column 3\n",
    "b[2,3]"
   ]
  },
  {
   "cell_type": "code",
   "execution_count": null,
   "metadata": {},
   "outputs": [],
   "source": [
    "# item at row 3, column 1\n",
    "b[3,1]"
   ]
  },
  {
   "cell_type": "markdown",
   "metadata": {},
   "source": [
    "We can extract a column or set of columns.  This is common if/when we want to\n",
    "perform an operation on some attribute or feature of a data set."
   ]
  },
  {
   "cell_type": "code",
   "execution_count": null,
   "metadata": {},
   "outputs": [],
   "source": [
    "# all rows, the column 1 only of them\n",
    "b[0:5, 1]"
   ]
  },
  {
   "cell_type": "code",
   "execution_count": null,
   "metadata": {},
   "outputs": [],
   "source": [
    "# since there are only 5 rows, this is equivalent to extract column 1\n",
    "b[:, 1]"
   ]
  },
  {
   "cell_type": "markdown",
   "metadata": {},
   "source": [
    "Likewise we can extract rows.  This is common to get a subset of samples from\n",
    "a data set.  "
   ]
  },
  {
   "cell_type": "code",
   "execution_count": null,
   "metadata": {},
   "outputs": [],
   "source": [
    "# extract rows 2 and 3, all columns\n",
    "b[2:4, :]"
   ]
  },
  {
   "cell_type": "markdown",
   "metadata": {},
   "source": [
    "If we want all columns, you can omit any final dimensions where you want all values\n",
    "in them.  So to get rows 2 and 3 we simply do the following.  We will use this\n",
    "type of slice frequently to extract samples from a table of data values we are\n",
    "manipulating."
   ]
  },
  {
   "cell_type": "code",
   "execution_count": null,
   "metadata": {},
   "outputs": [],
   "source": [
    "b[2:4]"
   ]
  },
  {
   "cell_type": "markdown",
   "metadata": {},
   "source": [
    "We can get even more complex, like get the values in the middle and use\n",
    "steps, which sometimes can be useful."
   ]
  },
  {
   "cell_type": "code",
   "execution_count": null,
   "metadata": {},
   "outputs": [],
   "source": [
    "# the clip off first and last row and column to get middle values\n",
    "b[1:-1, 1:-1]"
   ]
  },
  {
   "cell_type": "code",
   "execution_count": null,
   "metadata": {},
   "outputs": [],
   "source": [
    "# get every other row\n",
    "b[::2]"
   ]
  },
  {
   "cell_type": "code",
   "execution_count": null,
   "metadata": {},
   "outputs": [],
   "source": [
    "# get every other column, start at column 1\n",
    "b[:,1::2]"
   ]
  },
  {
   "cell_type": "markdown",
   "metadata": {},
   "source": [
    "An notice like we did before for a single dimension, we can use a slice to\n",
    "manipulate only the values in a row or column, or in general some slice."
   ]
  },
  {
   "cell_type": "code",
   "execution_count": null,
   "metadata": {},
   "outputs": [],
   "source": [
    "# make column 2 be the negative of its current value\n",
    "b[:,2] = -b[:,2]\n",
    "\n",
    "# subtract 10 from values in row 3\n",
    "b[3] -= 10\n",
    "\n",
    "b"
   ]
  },
  {
   "cell_type": "markdown",
   "metadata": {},
   "source": [
    "We almost never iterate over NumPy arrays.  If you are iterating over a NumPy\n",
    "array you are probably not using more efficient vectorized elementwise operations.\n",
    "\n",
    "However, we can do it like we did for a single dimensional array.  If we do it for\n",
    "the 2-dimensional array, we will iterate over each row "
   ]
  },
  {
   "cell_type": "code",
   "execution_count": null,
   "metadata": {},
   "outputs": [],
   "source": [
    "for row in b:\n",
    "    print(row)"
   ]
  },
  {
   "cell_type": "markdown",
   "metadata": {},
   "source": [
    "If you want to iterate over every element, you can flatten the array using\n",
    "either the `flatten()` method, or better use the `flat` attribute of arrays which\n",
    "gives a 1-dimensional view into the array."
   ]
  },
  {
   "cell_type": "code",
   "execution_count": null,
   "metadata": {},
   "outputs": [],
   "source": [
    "for element in b.flat:\n",
    "    print(element)"
   ]
  },
  {
   "cell_type": "markdown",
   "metadata": {},
   "source": [
    "If you want to iterate over columns, you can use an explicit index and slice it."
   ]
  },
  {
   "cell_type": "code",
   "execution_count": null,
   "metadata": {},
   "outputs": [],
   "source": [
    "# extract number of cols in b\n",
    "rows,cols = b.shape\n",
    "for col in range(cols):\n",
    "    print(b[:,col])"
   ]
  },
  {
   "cell_type": "markdown",
   "metadata": {},
   "source": [
    "# Reshaping and Stacking arrays\n",
    "\n",
    "We already showed some examples of reshaping an array.  In general you can\n",
    "always flatten an array to a one-dimensional vector if needed.  All\n",
    "reshaping will always end up with the same number of elements, just shaped into\n",
    "different dimensions."
   ]
  },
  {
   "cell_type": "code",
   "execution_count": null,
   "metadata": {},
   "outputs": [],
   "source": [
    "b.shape"
   ]
  },
  {
   "cell_type": "code",
   "execution_count": null,
   "metadata": {},
   "outputs": [],
   "source": [
    "b.flatten()"
   ]
  },
  {
   "cell_type": "code",
   "execution_count": null,
   "metadata": {},
   "outputs": [],
   "source": [
    "# reshape as 3-dimenstional, 2 tables of 5 rows and 2 columns\n",
    "b.reshape((2,5,2))"
   ]
  },
  {
   "cell_type": "markdown",
   "metadata": {},
   "source": [
    "Several arrays can be stacked together along different axes.  The\n",
    "size of the axis/dimension being stacked along will need to match for\n",
    "the stacking to work."
   ]
  },
  {
   "cell_type": "code",
   "execution_count": null,
   "metadata": {},
   "outputs": [],
   "source": [
    "a = np.random.randint(0, 5, (2,2))\n",
    "a"
   ]
  },
  {
   "cell_type": "code",
   "execution_count": null,
   "metadata": {},
   "outputs": [],
   "source": [
    "b = np.random.randint(0, 5, (2,2))\n",
    "b"
   ]
  },
  {
   "cell_type": "code",
   "execution_count": null,
   "metadata": {},
   "outputs": [],
   "source": [
    "# vertical stacking, put a on top of be\n",
    "# notice you need to pass in the arrays as a tuple here, because you can actually\n",
    "# stack 3 or more arrays of the same number of columns if you wish.\n",
    "np.vstack((a,b))"
   ]
  },
  {
   "cell_type": "code",
   "execution_count": null,
   "metadata": {},
   "outputs": [],
   "source": [
    "# horizontal stacking, stack b beside a\n",
    "np.hstack((a,b))"
   ]
  },
  {
   "cell_type": "markdown",
   "metadata": {},
   "source": [
    "# Advanced Indexing and Index Tricks\n",
    "\n",
    "NumPy offers more indexing facilities than retular Python sequences.\n",
    "In addition to indexing by integers and slices (as we saw above), arrays\n",
    "can be indexed by arrays of integers and arrays of booleans."
   ]
  },
  {
   "cell_type": "markdown",
   "metadata": {},
   "source": [
    "## Indexing with arrays of indices\n",
    "\n",
    "If we have an array of indexes (also works with a regular Python sequence of \n",
    "indexes, like a list), we can use this to index into an array.\n",
    "\n",
    "For example."
   ]
  },
  {
   "cell_type": "code",
   "execution_count": null,
   "metadata": {},
   "outputs": [],
   "source": [
    "# use our 2-dimensional array b again from before \n",
    "\n",
    "# construct array as a function of each coordinate.  Since\n",
    "# the array is 2 dimensional, the function will receive two coordinates,\n",
    "# the row number and column number\n",
    "def f(row, col):\n",
    "    return 3*row + col**2\n",
    "\n",
    "# create an 2-dimensional array of integers\n",
    "b = np.fromfunction(f, (5,4), dtype=int)\n",
    "b"
   ]
  },
  {
   "cell_type": "code",
   "execution_count": null,
   "metadata": {},
   "outputs": [],
   "source": [
    "# selection rows 1 3 and 4 only\n",
    "rows = np.array([1,3,4])\n",
    "b[rows]"
   ]
  },
  {
   "cell_type": "code",
   "execution_count": null,
   "metadata": {},
   "outputs": [],
   "source": [
    "# works with a regular python list as well\n",
    "rows = [1, 3, 4]\n",
    "b[rows]"
   ]
  },
  {
   "cell_type": "code",
   "execution_count": null,
   "metadata": {},
   "outputs": [],
   "source": [
    "# works to select columns\n",
    "cols = [0, 2]\n",
    "b[:,cols]"
   ]
  },
  {
   "cell_type": "code",
   "execution_count": null,
   "metadata": {},
   "outputs": [],
   "source": [
    "# and we can select only some columns from some rows.  But when you supply\n",
    "# both an index for rows and columns, the lists must have the same shape\n",
    "# so to get rows 1,3,4 and only the columns 0 and 2 from them we need\n",
    "# to do something like this\n",
    "\n",
    "# first start simply, get column 0 and 2 from row 1 only\n",
    "rows = np.array([1, 1])\n",
    "cols = np.array([0, 2])\n",
    "b[rows,cols]"
   ]
  },
  {
   "cell_type": "code",
   "execution_count": null,
   "metadata": {},
   "outputs": [],
   "source": [
    "# now we want those columns from rows 1 and 3\n",
    "# notice the arrays have to be of the same shape\n",
    "rows = np.array([[1, 1],\n",
    "                 [3, 3]])\n",
    "cols = np.array([[0, 2],\n",
    "                 [0, 2]])\n",
    "\n",
    "b[rows,cols]"
   ]
  },
  {
   "cell_type": "code",
   "execution_count": null,
   "metadata": {},
   "outputs": [],
   "source": [
    "# finally what we really wanted, rows 1,3 and 4 but only columns 0 and 2.\n",
    "# result of this is 3 rows and 2 columns, so our rows and columns\n",
    "# indexes need to be 3x2 to match the shape we are trying to extract\n",
    "rows = np.array([[1, 1],\n",
    "                 [3, 3],\n",
    "                 [4, 4]])\n",
    "cols = np.array([[0, 2],\n",
    "                 [0, 2],\n",
    "                 [0, 2]])\n",
    "\n",
    "b[rows,cols]"
   ]
  },
  {
   "cell_type": "markdown",
   "metadata": {},
   "source": [
    "This latter example is less common, we almost always need some particular rows\n",
    "or some particular columns.  And if you do need some rows and only some columns\n",
    "from those rows, it can be easier to perform the slicing in two steps instead."
   ]
  },
  {
   "cell_type": "code",
   "execution_count": null,
   "metadata": {},
   "outputs": [],
   "source": [
    "# first extract the sample rows\n",
    "rows = [1, 3, 4]\n",
    "samples = b[rows]\n",
    "samples"
   ]
  },
  {
   "cell_type": "code",
   "execution_count": null,
   "metadata": {},
   "outputs": [],
   "source": [
    "# now keep only the attributes we need\n",
    "cols = [0, 2]\n",
    "samples = samples[:,cols]\n",
    "samples"
   ]
  },
  {
   "cell_type": "markdown",
   "metadata": {},
   "source": [
    "Here is a more complex example of using lists to index into an array.\n",
    "We often might want to find the particular value in each row or column\n",
    "that is special or of some interest.\n",
    "\n",
    "Say we have a data set of 4 time dependent series.\n",
    "Here each series is a row, and the column would represent the common sample\n",
    "time in each case, e.g. t=0, 1, 2, 3, 4, 5, 6 (though we are just making\n",
    "up some example data here)."
   ]
  },
  {
   "cell_type": "code",
   "execution_count": null,
   "metadata": {},
   "outputs": [],
   "source": [
    "# 4 time-dependent series sampled in each row of 7 time steps each\n",
    "data = np.sin(np.arange(28)).reshape(4,7)\n",
    "data"
   ]
  },
  {
   "cell_type": "code",
   "execution_count": null,
   "metadata": {},
   "outputs": [],
   "source": [
    "# index of maxima for each series,\n",
    "# argmax returns the index where the maximum occurs, \n",
    "# using axis=1 means we get the index for each of our 4 sample rows where \n",
    "# maximum value occurs\n",
    "ind = data.argmax(axis=1)\n",
    "ind"
   ]
  },
  {
   "cell_type": "code",
   "execution_count": null,
   "metadata": {},
   "outputs": [],
   "source": [
    "# these are the indexes.  Say the columns refer to a sample of the time\n",
    "# series starting at time 20 and going til time 120.  So the sample times\n",
    "# represent a time being sampled at\n",
    "time = np.linspace(20, 120, 7)\n",
    "time"
   ]
  },
  {
   "cell_type": "code",
   "execution_count": null,
   "metadata": {},
   "outputs": [],
   "source": [
    "# so we can use the indexes to find the actual time where the maximum\n",
    "# occured for each time series sample\n",
    "time[ind]"
   ]
  },
  {
   "cell_type": "markdown",
   "metadata": {},
   "source": [
    "## Indexing with boolean arrays\n",
    "\n",
    "When we index arrays with arrays of (integer) indices we are providing the lit of\n",
    "indices to pick.\n",
    "\n",
    "With boolean indices the approach is different; we explicitly choose which items in the array we want and which ones we don't.\n",
    "\n",
    "The most naturaly way to think of and use boolean indexing is to use an array\n",
    "of boolean values that has the *same shape* as the original array.\n",
    "\n",
    "For example, we can create a boolean array using boolean operations, as we\n",
    "discussed earlier."
   ]
  },
  {
   "cell_type": "code",
   "execution_count": null,
   "metadata": {},
   "outputs": [],
   "source": [
    "b"
   ]
  },
  {
   "cell_type": "code",
   "execution_count": null,
   "metadata": {},
   "outputs": [],
   "source": [
    "# boolean array of those items divible by 3\n",
    "b % 3 == 0"
   ]
  },
  {
   "cell_type": "code",
   "execution_count": null,
   "metadata": {},
   "outputs": [],
   "source": [
    "# use boolean indexing to extract only those values divible by 3\n",
    "b[ (b % 3 == 0) ]"
   ]
  },
  {
   "cell_type": "markdown",
   "metadata": {},
   "source": [
    "You will notice the result will be a 1-dimensional vector, even though in this\n",
    "case were selecting columns 0 and the last column, so we could have\n",
    "wanted a `(5,2)` shaped result.\n",
    "\n",
    "But this happens because a boolean selection can pick arbitrary values from\n",
    "the array.  For example."
   ]
  },
  {
   "cell_type": "code",
   "execution_count": null,
   "metadata": {},
   "outputs": [],
   "source": [
    "# notice you should not use and or or to boolean expressions between arrays, use &\n",
    "# and | instead, or a.any() a.all()\n",
    "(b >= 4) & (b <= 10)"
   ]
  },
  {
   "cell_type": "code",
   "execution_count": null,
   "metadata": {},
   "outputs": [],
   "source": [
    "# values between 4 and 10\n",
    "b[ (b >= 4) & (b <= 10) ]"
   ]
  },
  {
   "cell_type": "markdown",
   "metadata": {},
   "source": [
    "Boolean indexing can be very useful for assignments, for example if we\n",
    "want to zero-out all of the numbers divisbly by 3\n"
   ]
  },
  {
   "cell_type": "code",
   "execution_count": null,
   "metadata": {},
   "outputs": [],
   "source": [
    "# assign something into the locations selected by our boolean index\n",
    "b[ (b % 3 == 0) ] = 0\n",
    "b"
   ]
  },
  {
   "cell_type": "markdown",
   "metadata": {},
   "source": [
    "The second way of indexing with booleans is more similar to integer\n",
    "indexing: for each dimension of the array we give a 1D boolean array selecting\n",
    "the slices we want.\n",
    "\n",
    "This implies that the boolean array has to have the same size as the size for the\n",
    "dimension you are slicing on.\n",
    "\n",
    "So we can get the same rows and columns we did previously but using\n",
    "boolean indexing like the following."
   ]
  },
  {
   "cell_type": "code",
   "execution_count": null,
   "metadata": {},
   "outputs": [],
   "source": [
    "# use our 2-dimensional array b again from before \n",
    "\n",
    "# construct array as a function of each coordinate.  Since\n",
    "# the array is 2 dimensional, the function will receive two coordinates,\n",
    "# the row number and column number\n",
    "def f(row, col):\n",
    "    return 3*row + col**2\n",
    "\n",
    "# create an 2-dimensional array of integers\n",
    "b = np.fromfunction(f, (5,4), dtype=int)\n",
    "b"
   ]
  },
  {
   "cell_type": "code",
   "execution_count": null,
   "metadata": {},
   "outputs": [],
   "source": [
    "# select rows 1, 3 and 4 again but with a boolean index\n",
    "rows = [False, True, False, True, True]\n",
    "b[rows]"
   ]
  },
  {
   "cell_type": "code",
   "execution_count": null,
   "metadata": {},
   "outputs": [],
   "source": [
    "# select columns 0 and 2\n",
    "cols = [True, False, True, False]\n",
    "b[:,cols]"
   ]
  }
 ],
 "metadata": {
  "kernelspec": {
   "display_name": "Python 3 (ipykernel)",
   "language": "python",
   "name": "python3"
  },
  "language_info": {
   "codemirror_mode": {
    "name": "ipython",
    "version": 3
   },
   "file_extension": ".py",
   "mimetype": "text/x-python",
   "name": "python",
   "nbconvert_exporter": "python",
   "pygments_lexer": "ipython3",
   "version": "3.11.0"
  }
 },
 "nbformat": 4,
 "nbformat_minor": 4
}
