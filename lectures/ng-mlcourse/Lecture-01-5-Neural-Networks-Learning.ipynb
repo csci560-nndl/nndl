{
 "cells": [
  {
   "cell_type": "code",
   "execution_count": 1,
   "metadata": {
    "ExecuteTime": {
     "end_time": "2020-01-27T14:36:57.937526Z",
     "start_time": "2020-01-27T14:36:57.566352Z"
    }
   },
   "outputs": [],
   "source": [
    "import numpy as np\n",
    "import matplotlib.pyplot as plt\n",
    "import pandas as pd\n",
    "import matplotlib\n",
    "%matplotlib inline\n"
   ]
  },
  {
   "cell_type": "code",
   "execution_count": 2,
   "metadata": {
    "ExecuteTime": {
     "end_time": "2020-01-27T14:36:57.941124Z",
     "start_time": "2020-01-27T14:36:57.938765Z"
    }
   },
   "outputs": [],
   "source": [
    "plt.rcParams['figure.figsize'] = (8, 6) # set default figure size, 8in by 6in"
   ]
  },
  {
   "cell_type": "markdown",
   "metadata": {},
   "source": [
    "# Video W5 01: Neural Network Cost Function\n",
    "\n",
    "[YouTube Video Link](https://www.youtube.com/watch?v=18X68kLAfKY&list=PLZ9qNFMHZ-A4rycgrgOYma6zxF4BZGGPW&index=51)\n",
    "\n",
    "We will be looking this week at methods to train a neural network, e.g. ways to find the set of $\\Theta$ parameters that optimize\n",
    "our network performance on a given training set.  We will be looking at multilayer networks, with usually at least 1 layer of so\n",
    "called hidden units, and a final layer of output units.  We will be doing either binary or multi-class classification with\n",
    "our networks.  For binary classification, we would simply have a single unit in the output layer, and the answer we are looking for\n",
    "is is this a positive or a negative case.  When we have $N$ multiple classes, as we already discussed, we can use a network with\n",
    "$N$ units in the output layer, and we will train such that each unit represents a particular classification.\n",
    "\n",
    "**Cost Function**\n",
    "\n",
    "The cost function we need to use for a neural network is a generalization of the cost function we used for logistic regression. \n",
    "Recall that our logistic regression cost function with the regularization term looked like this:\n",
    "\n",
    "$$\n",
    "J(\\theta) = -\\frac{1}{m} \\Big[ \\sum_{i=1}^m  y^{(i)} \\; \\textrm{log} (h_\\theta(x^{(i)})) + (1 - y^{(i)}) \\; \\textrm{log} (1 - h_\\theta(x^{(i)})) \\Big] + \\frac{\\lambda}{2m} \\sum_{j=1}^{n} \\theta_j^2\n",
    "$$\n",
    "\n",
    "The biggest change in notation for a neural network is that we need to sum up over multiple output units (for the most general\n",
    "multi-class case).  Thus, if we have $K$ output units, we sum up their individual costs:\n",
    "\n",
    "$$\n",
    "J(\\theta) = -\\frac{1}{m} \\Big[ \\sum_{i=1}^m  \\sum_{k=1}^{K} y_k^{(i)} \\; \\textrm{log} (h_\\theta(x^{(i)}))_k + (1 - y_k^{(i)}) \\; \\textrm{log} (1 - h_\\theta(x^{(i)}))_k \\Big] + \\frac{\\lambda}{2m} \\sum_{l=1}^{L-1} \\sum_{i=1}^{s_l}\\sum_{j=1}^{s_{l+1}} \\big( \\Theta_{ji}^{(l)} \\big)^2\n",
    "$$\n",
    "\n",
    "Notice also that the regularization term has become more complex.  This is because we need to add in penalities for our cost for all\n",
    "of the $\\Theta$ parameter values in all of the layers of our network."
   ]
  },
  {
   "cell_type": "markdown",
   "metadata": {},
   "source": [
    "# Video W5 02: Backpropagation Algorithm\n",
    "\n",
    "[YouTube Video Link](https://www.youtube.com/watch?v=SvAEX5taVKk&list=PLZ9qNFMHZ-A4rycgrgOYma6zxF4BZGGPW&index=52)\n",
    "\n",
    "The trick with multi-layer neural networks is calculating the partial derivative or gradient terms in the layers of the network.\n",
    "Because of the layered nature of the network, there is no direct way to calculate the partial derivatives for hidden layers.  We\n",
    "can however estimate these partial derivatives by calculating the delta or differences in our outputs at the output layer from the\n",
    "correct output.  Given these deltas, we can estimate deltas for subsequent earlier layers.  Thus backpropagation works by first\n",
    "doing a feed forward pass to calculate all of the activations for all of the units in all layers, then backpropagating the delta\n",
    "errors, wich can give us an estimate of the partial derivatives of the functions at each layer.  Don't worry too much if you don't\n",
    "follow the logic for how the backpropagation equations have been derived.  For this course, it will be sufficient to understand\n",
    "the given backpropagation equations so that you can implment them in Python code.\n",
    "\n",
    "The delta's for the output layer are computed dirrectly as simply the difference between the activiation of each unit and the\n",
    "correct answer given in our training set $y$.  For the 4 layer example network from the video, the delta's at layer $L = 4$ are\n",
    "given by:\n",
    "\n",
    "$$\n",
    "\\delta_j^{(4)} = a_j^{(4)} - y_j\n",
    "$$\n",
    "\n",
    "As you can see, this is simply the difference between the output and the correct answer for each of the $j$ output units.  Given\n",
    "these delta values for the output layer, we can estimate deltas for the 2 previous layers:\n",
    "\n",
    "$$\n",
    "\\delta_j^{(3)} = (\\Theta^{(3)})^T \\delta^{(4)} \\; .* \\; g'(z^{(3)})\n",
    "$$\n",
    "\n",
    "$$\n",
    "\\delta_j^{(2)} = (\\Theta^{(2)})^T \\delta^{(3)} \\; .* \\; g'(z^{(2)})\n",
    "$$\n",
    "\n",
    "Notice each calculation of a layer uses the delta calculated from the next higher layer.  The $g'(z)$ represents the derivative\n",
    "of the sigmoid function, which can be derived directly using calculus.  In the video the instructor uses a bit of matlab\n",
    "notation in these equations.  The $.*$ means we need to do an element wise multiplication between the left and right terms.\n",
    "The result will be deltas for each of the units in the indicated layer of the network.  These deltas can then be used directly\n",
    "as estimates of the gradient or partial derivatives, and thus can then be used in our optimization methods like gradient descent to search for the best $\\Theta$ parameters for a given network to represent a given training set of data.\n",
    "\n",
    "**Backpropagation Algorithm**\n",
    "\n",
    "Given a training set of $m$ training examples ${ (x^{(1)}, y^{(1)}), \\cdots, (x^{(m)}, y^{(m)})}$ the video next gives\n",
    "pseudo code for the basic backpropagation algorithm.  There are a lot of details here, but for all of the details it is mostly\n",
    "a matter of being comfortable with the notation.  We are using subscripts $i, j$ to denote connections or $\\Theta$ parameters\n",
    "from the $j^{th}$ unit in a previous layer to the $i^{th}$ unit in the next layer.  And we are using $l$ to indicate the layer\n",
    "number in the network.\n",
    "\n",
    "Given this notation, we create a number of matrices (denoted by capital Delta $\\Delta$, that we initially set to 0 and use\n",
    "as accumulators when computing the deltas.  The algorithm given in the video is:\n",
    "\n",
    "Set $\\Delta_{ij}^{(l)} = 0$ (for all $l, i, j$).\n",
    "\n",
    "For $i = 1 \\; \\textrm{to} \\; m$  (we iterate over each of our training examples)\n",
    "\n",
    "- Set $a^{(1)} = x^{(1)}$ and perform forward propagation to compute the activation $a^{(l)}$ for all units in all layers $l = 2, 3, ..., L$.\n",
    "- Using $y^{(i)}$ compute the delta in the output layer $\\delta^{(L)} = a^{(L)} - y^{(i)}$ \n",
    "- Backpropagate and compute the delta values in all previous layers\n",
    "- Accumulate this computed delta for input example $m$ by adding $\\Delta_{ij}^{(l)} := \\Delta_{ij}^{(l)} + a_j^{(l)} \\delta_i^{(l+1)}$\n",
    "\n",
    "Finally we can add in a regularization term for the units that don't represent bias units\n",
    "\n",
    "$$\n",
    "D_{ij}^{(l)} := \\frac{1}{m} \\Delta_{ij}^{(l)} + \\lambda \\Theta_{ij}^{(l)} \\; \\; \\textrm{if} \\; \\; j \\ne 0\n",
    "$$\n",
    "\n",
    "$$\n",
    "D_{ij}^{(l)} := \\frac{1}{m} \\Delta_{ij}^{(l)} \\;\\;\\;\\;\\;\\;\\;\\; \\textrm{if} \\; \\; j = 0\n",
    "$$\n",
    "\n",
    "And these $D$ terms can be used as approximations of the partial derivative gradients we need in order to perform an optimization\n",
    "like gradient descent on our $\\Theta$ parameters of the network:\n",
    "\n",
    "$$\n",
    "\\frac{\\partial}{\\partial \\Theta_{ij}^{(l)}} J(\\Theta) = D_{ij}^{(l)}\n",
    "$$"
   ]
  },
  {
   "cell_type": "markdown",
   "metadata": {},
   "source": [
    "# Video W5 03: Backpropagation Intuition\n",
    "\n",
    "[YouTube Video Link](https://www.youtube.com/watch?v=q1bQDyV6lsg&list=PLZ9qNFMHZ-A4rycgrgOYma6zxF4BZGGPW&index=53)\n",
    "\n"
   ]
  },
  {
   "cell_type": "markdown",
   "metadata": {},
   "source": [
    "# Video W5 04: Implementation Note: Unrolling Parameters\n",
    "\n",
    "[YouTube Video Link](https://www.youtube.com/watch?v=rcDJhGtXMvk&index=54&list=PLZ9qNFMHZ-A4rycgrgOYma6zxF4BZGGPW)\n",
    "\n",
    "Example of the unrolling/reshaping operations from the video, but in `Python`/`NumPy`"
   ]
  },
  {
   "cell_type": "code",
   "execution_count": 3,
   "metadata": {
    "ExecuteTime": {
     "end_time": "2020-01-27T14:36:58.132247Z",
     "start_time": "2020-01-27T14:36:57.942579Z"
    }
   },
   "outputs": [
    {
     "name": "stdout",
     "output_type": "stream",
     "text": [
      "[[1. 1. 1. 1. 1. 1. 1. 1. 1. 1. 1.]\n",
      " [1. 1. 1. 1. 1. 1. 1. 1. 1. 1. 1.]\n",
      " [1. 1. 1. 1. 1. 1. 1. 1. 1. 1. 1.]\n",
      " [1. 1. 1. 1. 1. 1. 1. 1. 1. 1. 1.]\n",
      " [1. 1. 1. 1. 1. 1. 1. 1. 1. 1. 1.]\n",
      " [1. 1. 1. 1. 1. 1. 1. 1. 1. 1. 1.]\n",
      " [1. 1. 1. 1. 1. 1. 1. 1. 1. 1. 1.]\n",
      " [1. 1. 1. 1. 1. 1. 1. 1. 1. 1. 1.]\n",
      " [1. 1. 1. 1. 1. 1. 1. 1. 1. 1. 1.]\n",
      " [1. 1. 1. 1. 1. 1. 1. 1. 1. 1. 1.]]\n",
      "(10, 11)\n"
     ]
    }
   ],
   "source": [
    "# example of the matrix reshaping in Python/NumPy\n",
    "Theta1 = np.ones( (10, 11) )\n",
    "print(Theta1)\n",
    "print(Theta1.shape)"
   ]
  },
  {
   "cell_type": "code",
   "execution_count": 4,
   "metadata": {
    "ExecuteTime": {
     "end_time": "2020-01-27T14:36:58.250482Z",
     "start_time": "2020-01-27T14:36:58.134733Z"
    }
   },
   "outputs": [],
   "source": [
    "Theta2 = 2 * np.ones( (10,11) )\n",
    "Theta3 = 3 * np.ones( (1, 11) )"
   ]
  },
  {
   "cell_type": "code",
   "execution_count": 5,
   "metadata": {
    "ExecuteTime": {
     "end_time": "2020-01-27T14:36:58.363559Z",
     "start_time": "2020-01-27T14:36:58.251850Z"
    }
   },
   "outputs": [
    {
     "name": "stdout",
     "output_type": "stream",
     "text": [
      "[[3.]\n",
      " [3.]\n",
      " [3.]\n",
      " [3.]\n",
      " [3.]\n",
      " [3.]\n",
      " [3.]\n",
      " [3.]\n",
      " [3.]\n",
      " [3.]\n",
      " [3.]]\n",
      "(11, 1)\n"
     ]
    }
   ],
   "source": [
    "# the matlab/octave notation Theta1(:) basically reshapes the matrix into a column vector, the\n",
    "# equivalent in NumPY is\n",
    "Theta3Col = Theta3.reshape( (Theta3.size,1) )\n",
    "print(Theta3Col)\n",
    "print(Theta3Col.shape)"
   ]
  },
  {
   "cell_type": "code",
   "execution_count": 6,
   "metadata": {
    "ExecuteTime": {
     "end_time": "2020-01-27T14:36:58.466384Z",
     "start_time": "2020-01-27T14:36:58.364704Z"
    }
   },
   "outputs": [
    {
     "name": "stdout",
     "output_type": "stream",
     "text": [
      "(231, 1)\n"
     ]
    }
   ],
   "source": [
    "# so to create the thetaVec column vector, we can do this\n",
    "thetaVec = np.concatenate((Theta1.reshape( (Theta1.size,1) ), \n",
    "                           Theta2.reshape( (Theta2.size,1) ),\n",
    "                           Theta3.reshape( (Theta3.size,1) ) ))\n",
    "print(thetaVec.shape)\n",
    "#print thetaVec"
   ]
  },
  {
   "cell_type": "code",
   "execution_count": 7,
   "metadata": {
    "ExecuteTime": {
     "end_time": "2020-01-27T14:36:58.620752Z",
     "start_time": "2020-01-27T14:36:58.467547Z"
    }
   },
   "outputs": [
    {
     "data": {
      "text/plain": [
       "array([[1., 1., 1., 1., 1., 1., 1., 1., 1., 1., 1.],\n",
       "       [1., 1., 1., 1., 1., 1., 1., 1., 1., 1., 1.],\n",
       "       [1., 1., 1., 1., 1., 1., 1., 1., 1., 1., 1.],\n",
       "       [1., 1., 1., 1., 1., 1., 1., 1., 1., 1., 1.],\n",
       "       [1., 1., 1., 1., 1., 1., 1., 1., 1., 1., 1.],\n",
       "       [1., 1., 1., 1., 1., 1., 1., 1., 1., 1., 1.],\n",
       "       [1., 1., 1., 1., 1., 1., 1., 1., 1., 1., 1.],\n",
       "       [1., 1., 1., 1., 1., 1., 1., 1., 1., 1., 1.],\n",
       "       [1., 1., 1., 1., 1., 1., 1., 1., 1., 1., 1.],\n",
       "       [1., 1., 1., 1., 1., 1., 1., 1., 1., 1., 1.]])"
      ]
     },
     "execution_count": 7,
     "metadata": {},
     "output_type": "execute_result"
    }
   ],
   "source": [
    "# to get back the theta matrices from the column vector, we can do something similar to matlab\n",
    "# get the Theta1 values back to a 10x11 matrix, note we use 0 based indexing in NumPy arrays\n",
    "np.reshape(thetaVec[0:110], (10, 11) )"
   ]
  },
  {
   "cell_type": "code",
   "execution_count": 8,
   "metadata": {
    "ExecuteTime": {
     "end_time": "2020-01-27T14:36:58.728004Z",
     "start_time": "2020-01-27T14:36:58.622805Z"
    }
   },
   "outputs": [
    {
     "data": {
      "text/plain": [
       "array([[2., 2., 2., 2., 2., 2., 2., 2., 2., 2., 2.],\n",
       "       [2., 2., 2., 2., 2., 2., 2., 2., 2., 2., 2.],\n",
       "       [2., 2., 2., 2., 2., 2., 2., 2., 2., 2., 2.],\n",
       "       [2., 2., 2., 2., 2., 2., 2., 2., 2., 2., 2.],\n",
       "       [2., 2., 2., 2., 2., 2., 2., 2., 2., 2., 2.],\n",
       "       [2., 2., 2., 2., 2., 2., 2., 2., 2., 2., 2.],\n",
       "       [2., 2., 2., 2., 2., 2., 2., 2., 2., 2., 2.],\n",
       "       [2., 2., 2., 2., 2., 2., 2., 2., 2., 2., 2.],\n",
       "       [2., 2., 2., 2., 2., 2., 2., 2., 2., 2., 2.],\n",
       "       [2., 2., 2., 2., 2., 2., 2., 2., 2., 2., 2.]])"
      ]
     },
     "execution_count": 8,
     "metadata": {},
     "output_type": "execute_result"
    }
   ],
   "source": [
    "np.reshape(thetaVec[110:220], (10, 11) )"
   ]
  },
  {
   "cell_type": "code",
   "execution_count": 9,
   "metadata": {
    "ExecuteTime": {
     "end_time": "2020-01-27T14:36:58.810526Z",
     "start_time": "2020-01-27T14:36:58.730285Z"
    }
   },
   "outputs": [
    {
     "data": {
      "text/plain": [
       "array([[3., 3., 3., 3., 3., 3., 3., 3., 3., 3., 3.]])"
      ]
     },
     "execution_count": 9,
     "metadata": {},
     "output_type": "execute_result"
    }
   ],
   "source": [
    "np.reshape(thetaVec[220:231], (1,11) )"
   ]
  },
  {
   "cell_type": "markdown",
   "metadata": {},
   "source": [
    "# Video W5 05: Gradient Checking\n",
    "\n",
    "[YouTube Video Link](https://www.youtube.com/watch?v=I-X8_EcGYik&index=55&list=PLZ9qNFMHZ-A4rycgrgOYma6zxF4BZGGPW)\n",
    "\n",
    "This is a method that helps to debug any gradient descent or optimization methods for backpropagation.  If you introduce subtle bugs in computing\n",
    "the cost or gradient values that are used in an optimization method, the optimization can appear to be working.  However, you\n",
    "can end up with not truly optimal parameters that you would get if your calculation of cost and gradient were completely 100%\n",
    "correct.  The method shown in this video can be used to check that the result you get after optimization is actually the\n",
    "best one possible, and thus that you are computing the cost and gradients correctly.\n",
    "\n",
    "This method is based on approximating the gradient or partial derivative, using the difference of the function at 2 points\n",
    "that are close together (based on the definition of the derivative of a function at a point).\n",
    "\n",
    "If the approximate method of calculating the partial derivative is close to the computed $D$ values, then probably the\n",
    "implementation is correct.  Where close is defined as being the same to some number of decimal places, for example.\n",
    "\n",
    "Here is a very simple example of calculating the gradient (the derivative) using this numerical approximation.  Suppose\n",
    "you have \n",
    "\n",
    "$$\n",
    "J(\\theta) = \\theta^3\n",
    "$$\n",
    "\n",
    "Furthermore let $\\theta = 1.0$ and $\\epsilon = 0.01$.  We can use the formula for two sided difference for approximating the derivative\n",
    "\n",
    "$$\n",
    "\\frac{J(\\theta + \\epsilon) - J(\\theta - \\epsilon)}{2 \\epsilon}\n",
    "$$\n",
    "\n",
    "to approximate the derivative.  The true derivative using analytic methods for this function at the point $\\theta = 1$ is\n",
    "\n",
    "$$\n",
    "\\frac{d}{d \\theta} J(\\theta) = 3 \\theta^2 = 3\n",
    "$$"
   ]
  },
  {
   "cell_type": "code",
   "execution_count": 10,
   "metadata": {
    "ExecuteTime": {
     "end_time": "2020-01-27T14:36:58.970478Z",
     "start_time": "2020-01-27T14:36:58.812458Z"
    }
   },
   "outputs": [
    {
     "name": "stdout",
     "output_type": "stream",
     "text": [
      "3.0001000000000055\n"
     ]
    }
   ],
   "source": [
    "theta = 1.0\n",
    "epsilon = 0.01\n",
    "\n",
    "def J(theta):\n",
    "    return theta**3.0\n",
    "\n",
    "dtheta = ( J(theta + epsilon) - J(theta - epsilon) ) / (2.0 * epsilon)\n",
    "print(dtheta)"
   ]
  },
  {
   "cell_type": "markdown",
   "metadata": {},
   "source": [
    "# Video W5 06: Random Initialization\n",
    "\n",
    "[YouTube Video Link](https://www.youtube.com/watch?v=NhgB6FLyHJc&list=PLZ9qNFMHZ-A4rycgrgOYma6zxF4BZGGPW&index=56)\n",
    "\n",
    "Unlike before in logistic regression, there is a problem with setting the initial values for theta to 0 when using\n",
    "backpropagation.  All of the activations (and all of the delta values) will be the same for all inputs given an initial\n",
    "theta that is all 0's.  \n",
    "\n",
    "A simple way to get around this is to initialize all of the theta paramters to small random values, around 0.  The\n",
    "eqivalent way to create random Theta1, Theta2, etc. matrices of the right shape in NumPy is:"
   ]
  },
  {
   "cell_type": "code",
   "execution_count": 11,
   "metadata": {
    "ExecuteTime": {
     "end_time": "2020-01-27T14:36:59.061728Z",
     "start_time": "2020-01-27T14:36:58.971642Z"
    }
   },
   "outputs": [
    {
     "name": "stdout",
     "output_type": "stream",
     "text": [
      "[[-0.00927585  0.00688937  0.0038515  -0.00187655  0.0032855   0.00473098\n",
      "   0.00837566 -0.00531993  0.00566006 -0.00497069 -0.00792791]\n",
      " [ 0.0048606   0.00142866 -0.00948879 -0.00914775 -0.00151711 -0.00638017\n",
      "  -0.00698096  0.00981922  0.00416671  0.00105867 -0.00635742]\n",
      " [ 0.00114294  0.0009835  -0.00362582 -0.00386887  0.00179664  0.00982292\n",
      "  -0.0031878  -0.00315623  0.00610806 -0.00450114  0.00784163]\n",
      " [ 0.00055308  0.00780461 -0.00572404  0.00455841  0.00880534  0.00764861\n",
      "  -0.00042736 -0.00297417 -0.0039938   0.0018698  -0.00483692]\n",
      " [-0.00365203 -0.00787712 -0.00228025 -0.00074642  0.0075331  -0.00048142\n",
      "   0.00619623  0.00549621 -0.00527335  0.00848575  0.00900161]\n",
      " [ 0.00192231  0.00666015 -0.0056828  -0.0009044  -0.00291632 -0.00169948\n",
      "  -0.00929008  0.00527211  0.00861137 -0.00188713 -0.00465058]\n",
      " [ 0.00539161  0.00765059 -0.00393272 -0.00200595 -0.0085338   0.00145957\n",
      "   0.0095758   0.00518709  0.00168052 -0.00239327 -0.0084419 ]\n",
      " [ 0.00766364 -0.00271423 -0.00589936 -0.00525419 -0.00451048  0.00438122\n",
      "   0.00058615  0.00593244  0.00797068 -0.00718005 -0.00296339]\n",
      " [ 0.00859731  0.00186039  0.00263223  0.00999022  0.00552409 -0.00605677\n",
      "   0.00750864 -0.00644645  0.00954088  0.007847   -0.00520841]\n",
      " [-0.00595164 -0.00995464  0.00041028 -0.0044485   0.00795594 -0.00528193\n",
      "   0.00458289 -0.00366079 -0.00603128 -0.00870833 -0.00797376]]\n"
     ]
    }
   ],
   "source": [
    "INIT_EPSILON = 0.01\n",
    "Theta1 = np.random.uniform(-INIT_EPSILON, INIT_EPSILON, (10, 11) )\n",
    "print(Theta1)"
   ]
  },
  {
   "cell_type": "markdown",
   "metadata": {},
   "source": [
    "# Video W5 07: Putting it Together\n",
    "\n",
    "[YouTube Video Link](https://www.youtube.com/watch?v=T7-ZsYlFH4M&list=PLZ9qNFMHZ-A4rycgrgOYma6zxF4BZGGPW&index=57)\n",
    "\n"
   ]
  },
  {
   "cell_type": "markdown",
   "metadata": {},
   "source": [
    "# Video W5 08: Autonomous Driving\n",
    "\n",
    "[YouTube Video Link](https://www.youtube.com/watch?v=WkmplH50K1k&index=58&list=PLZ9qNFMHZ-A4rycgrgOYma6zxF4BZGGPW)\n"
   ]
  }
 ],
 "metadata": {
  "kernelspec": {
   "display_name": "Python 3 (ipykernel)",
   "language": "python",
   "name": "python3"
  },
  "language_info": {
   "codemirror_mode": {
    "name": "ipython",
    "version": 3
   },
   "file_extension": ".py",
   "mimetype": "text/x-python",
   "name": "python",
   "nbconvert_exporter": "python",
   "pygments_lexer": "ipython3",
   "version": "3.9.7"
  },
  "toc": {
   "base_numbering": 1,
   "nav_menu": {},
   "number_sections": true,
   "sideBar": true,
   "skip_h1_title": false,
   "title_cell": "Table of Contents",
   "title_sidebar": "Contents",
   "toc_cell": false,
   "toc_position": {},
   "toc_section_display": true,
   "toc_window_display": false
  },
  "varInspector": {
   "cols": {
    "lenName": 16,
    "lenType": 16,
    "lenVar": 40
   },
   "kernels_config": {
    "python": {
     "delete_cmd_postfix": "",
     "delete_cmd_prefix": "del ",
     "library": "var_list.py",
     "varRefreshCmd": "print(var_dic_list())"
    },
    "r": {
     "delete_cmd_postfix": ") ",
     "delete_cmd_prefix": "rm(",
     "library": "var_list.r",
     "varRefreshCmd": "cat(var_dic_list()) "
    }
   },
   "types_to_exclude": [
    "module",
    "function",
    "builtin_function_or_method",
    "instance",
    "_Feature"
   ],
   "window_display": false
  }
 },
 "nbformat": 4,
 "nbformat_minor": 4
}
