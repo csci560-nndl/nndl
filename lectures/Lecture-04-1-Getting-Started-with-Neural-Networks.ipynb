{
 "cells": [
  {
   "cell_type": "code",
   "execution_count": 1,
   "id": "dc68b280-ae97-40a0-af53-cf00b6960152",
   "metadata": {},
   "outputs": [
    {
     "name": "stderr",
     "output_type": "stream",
     "text": [
      "2022-02-03 12:56:57.679191: I tensorflow/stream_executor/platform/default/dso_loader.cc:49] Successfully opened dynamic library libcudart.so.10.1\n"
     ]
    }
   ],
   "source": [
    "import numpy as np\n",
    "import matplotlib.pyplot as plt\n",
    "import tensorflow as tf\n",
    "from tensorflow import keras\n",
    "%matplotlib inline"
   ]
  },
  {
   "cell_type": "code",
   "execution_count": 2,
   "id": "30d81be2-7a82-4afe-8645-7879b6b41f37",
   "metadata": {},
   "outputs": [],
   "source": [
    "plt.rcParams['figure.figsize'] = (10, 8) # set default figure size, 10in by 8in\n",
    "\n",
    "np.set_printoptions(precision=4, suppress=True)"
   ]
  },
  {
   "cell_type": "markdown",
   "id": "0cd77286-a453-45d8-92f2-b57fddeab8f0",
   "metadata": {},
   "source": [
    "# Chapter 4: Getting Started with neural Networks: Classification and Regression\n",
    "\n",
    "Supporting materials for:\n",
    "\n",
    "Chollet (2021). *Deep Learning with Python*. 2nd ed. Manning Publications Co.\n",
    "[Amazon](https://www.amazon.com/Learning-Python-Second-Fran%C3%A7ois-Chollet/dp/1617296864/ref=sr_1_1?crid=32NFM2SBCJVQQ)"
   ]
  },
  {
   "cell_type": "markdown",
   "id": "12d51b87-3d51-46e6-96f3-c909014ab38d",
   "metadata": {},
   "source": [
    "The examples from this chapter show some basic end-to-end machine learning workflows.  We introduce data preprocessing,\n",
    "basic model architecture principles, and model evaluation.\n",
    "\n",
    "There are examples of classification and regression problems.  Make sure you understand the fundamental difference.\n",
    "A classification problem is when we try to predict a label.  For example, the simpliest classification is binary\n",
    "classification.  We will predict movie reviews where the class label of the review was either positive or negative,\n",
    "this is a binary classification problem.  Classification can be more complex.  We have already seen\n",
    "examples of multiclass classification with the MNIST training set.  In that case, we are trying to predict which of\n",
    "10 digits each image belongs to.  This is an example of multiclass classification.\n",
    "\n",
    "A regression problem then is one where we are trying to predict a continuous value.  A good example is predicting house\n",
    "prices from house features, which we have also seen examples of so far in this class.\n",
    "\n"
   ]
  },
  {
   "cell_type": "markdown",
   "id": "219b2775-9a74-40aa-95d5-5231f30fc44c",
   "metadata": {},
   "source": [
    "# 4.1 Classifying movie reviews: A binary classification example\n",
    "\n",
    "Two-class classification, or binary classification, is one of the most common kinds of machine\n",
    "learning problem.\n",
    "\n",
    "## 4.1.1 The IMDB dataset\n",
    "\n",
    "Another example of a test/example dataset.  The IMDB dataset has 50,000 reviews from the\n",
    "Internet Movie DataBase.  They are evenly split into 25,000 reviews for training and\n",
    "25,000 reviews for testing.  Also each is evenly split with 50% negative and 50% positive\n",
    "reviews.\n",
    "\n",
    "Keras has IMDB dataset packaged.  It has already been preprocessed, the reviews which are sequences\n",
    "of words have been turned into sequences of integers, where each integer stands for a specific\n",
    "word in the dictionary.  We would normally have to do a preprocessing step like this ourselves if\n",
    "working on a new text based dataset.  But ML models can't use text as input, we have to convert text\n",
    "into some numeric representation to be used as input to a ML model.\n",
    "\n",
    "Load the dataset."
   ]
  },
  {
   "cell_type": "code",
   "execution_count": 3,
   "id": "ee1ff41a-047f-4146-a682-e38eb2f550fe",
   "metadata": {},
   "outputs": [
    {
     "name": "stderr",
     "output_type": "stream",
     "text": [
      "<__array_function__ internals>:5: VisibleDeprecationWarning: Creating an ndarray from ragged nested sequences (which is a list-or-tuple of lists-or-tuples-or ndarrays with different lengths or shapes) is deprecated. If you meant to do this, you must specify 'dtype=object' when creating the ndarray.\n",
      "/home/dash/anaconda3/lib/python3.8/site-packages/tensorflow/python/keras/datasets/imdb.py:159: VisibleDeprecationWarning: Creating an ndarray from ragged nested sequences (which is a list-or-tuple of lists-or-tuples-or ndarrays with different lengths or shapes) is deprecated. If you meant to do this, you must specify 'dtype=object' when creating the ndarray.\n",
      "  x_train, y_train = np.array(xs[:idx]), np.array(labels[:idx])\n",
      "/home/dash/anaconda3/lib/python3.8/site-packages/tensorflow/python/keras/datasets/imdb.py:160: VisibleDeprecationWarning: Creating an ndarray from ragged nested sequences (which is a list-or-tuple of lists-or-tuples-or ndarrays with different lengths or shapes) is deprecated. If you meant to do this, you must specify 'dtype=object' when creating the ndarray.\n",
      "  x_test, y_test = np.array(xs[idx:]), np.array(labels[idx:])\n"
     ]
    }
   ],
   "source": [
    "from tensorflow.keras.datasets import imdb\n",
    "\n",
    "(train_data, train_labels), (test_data, test_labels) = imdb.load_data(num_words=10000)"
   ]
  },
  {
   "cell_type": "markdown",
   "id": "abc46ee5-036d-4d14-9fc4-2b0b81e0b3d3",
   "metadata": {},
   "source": [
    "The argument `num_words=10000` means we keep only the top 10,000 most frequently occurring words in the\n",
    "training data.\n",
    "\n",
    "The variables `train_data` and `test_data` are lists of reviews.  Each review is a list of word indices.\n",
    "\n",
    "`train_labels` and `test_labels` are our binary labels, 0 for *negative* reviews and 1 for *positive* reviews."
   ]
  },
  {
   "cell_type": "code",
   "execution_count": 4,
   "id": "6c1c50a6-f34b-49ad-a80e-cc6fce616ba9",
   "metadata": {},
   "outputs": [
    {
     "name": "stdout",
     "output_type": "stream",
     "text": [
      "(25000,)\n",
      "object\n",
      "[1, 14, 22, 16, 43, 530, 973, 1622, 1385, 65, 458, 4468, 66, 3941, 4, 173, 36, 256, 5, 25, 100, 43, 838, 112, 50, 670, 2, 9, 35, 480, 284, 5, 150, 4, 172, 112, 167, 2, 336, 385, 39, 4, 172, 4536, 1111, 17, 546, 38, 13, 447, 4, 192, 50, 16, 6, 147, 2025, 19, 14, 22, 4, 1920, 4613, 469, 4, 22, 71, 87, 12, 16, 43, 530, 38, 76, 15, 13, 1247, 4, 22, 17, 515, 17, 12, 16, 626, 18, 2, 5, 62, 386, 12, 8, 316, 8, 106, 5, 4, 2223, 5244, 16, 480, 66, 3785, 33, 4, 130, 12, 16, 38, 619, 5, 25, 124, 51, 36, 135, 48, 25, 1415, 33, 6, 22, 12, 215, 28, 77, 52, 5, 14, 407, 16, 82, 2, 8, 4, 107, 117, 5952, 15, 256, 4, 2, 7, 3766, 5, 723, 36, 71, 43, 530, 476, 26, 400, 317, 46, 7, 4, 2, 1029, 13, 104, 88, 4, 381, 15, 297, 98, 32, 2071, 56, 26, 141, 6, 194, 7486, 18, 4, 226, 22, 21, 134, 476, 26, 480, 5, 144, 30, 5535, 18, 51, 36, 28, 224, 92, 25, 104, 4, 226, 65, 16, 38, 1334, 88, 12, 16, 283, 5, 16, 4472, 113, 103, 32, 15, 16, 5345, 19, 178, 32]\n"
     ]
    }
   ],
   "source": [
    "print(train_data.shape)\n",
    "print(train_data.dtype)\n",
    "print(train_data[0])"
   ]
  },
  {
   "cell_type": "markdown",
   "id": "459643bc-8644-4b1c-ac57-ce1b0af4463f",
   "metadata": {},
   "source": [
    "Because we restriced to 10,000 most frequent words, no word index should exceed 10,000"
   ]
  },
  {
   "cell_type": "code",
   "execution_count": 5,
   "id": "a2579329-f690-45e2-a2e8-6cbd2c396a7b",
   "metadata": {},
   "outputs": [
    {
     "data": {
      "text/plain": [
       "9999"
      ]
     },
     "execution_count": 5,
     "metadata": {},
     "output_type": "execute_result"
    }
   ],
   "source": [
    "max([max(sequence) for sequence in train_data])"
   ]
  },
  {
   "cell_type": "markdown",
   "id": "ef4adb3b-57b6-41f2-bfd5-89bca589ad72",
   "metadata": {},
   "source": [
    "An example of decoding a review back to English words."
   ]
  },
  {
   "cell_type": "code",
   "execution_count": 6,
   "id": "a81ec283-a7d5-44c3-90f6-aed5fbaf7514",
   "metadata": {},
   "outputs": [
    {
     "name": "stdout",
     "output_type": "stream",
     "text": [
      "? this film was just brilliant casting location scenery story direction everyone's really suited the part they played and you could just imagine being there robert ? is an amazing actor and now the same being director ? father came from the same scottish island as myself so i loved the fact there was a real connection with this film the witty remarks throughout the film were great it was just brilliant so much that i bought the film as soon as it was released for ? and would recommend it to everyone to watch and the fly fishing was amazing really cried at the end it was so sad and you know what they say if you cry at a film it must have been good and this definitely was also ? to the two little boy's that played the ? of norman and paul they were just brilliant children are often left out of the ? list i think because the stars that play them all grown up are such a big profile for the whole film but these children are amazing and should be praised for what they have done don't you think the whole story was so lovely because it was true and was someone's life after all that was shared with us all\n"
     ]
    }
   ],
   "source": [
    "# word_index is a dictionary mapping words to an integer index\n",
    "word_index = imdb.get_word_index()\n",
    "\n",
    "# reverse the mapping, mapping integer indices to the words using the word_index dict\n",
    "reverse_word_index = dict(\n",
    "    [(value, key) for (key, value) in word_index.items()]\n",
    ")\n",
    "\n",
    "# decode review 0.  Note that indices are offset by 3 because 0, 1 and 2 are reserved indices\n",
    "# for \"padding\", \"start of sequence\" and \"unknown\"\n",
    "decoded_review = \" \".join(\n",
    "    [reverse_word_index.get(i - 3, \"?\") for i in train_data[0]]\n",
    ")\n",
    "\n",
    "print(decoded_review)"
   ]
  },
  {
   "cell_type": "markdown",
   "id": "53397338-dcb4-418d-a2f0-0c283ca48efb",
   "metadata": {},
   "source": [
    "## 4.1.2 Preparing the data\n",
    "\n",
    "As you may have noticed, the reviews are simple lists of integers.  The reviews are of different lengths, e.g."
   ]
  },
  {
   "cell_type": "code",
   "execution_count": 7,
   "id": "2b603da2-c209-4fed-98bf-b02c4ff99682",
   "metadata": {},
   "outputs": [
    {
     "name": "stdout",
     "output_type": "stream",
     "text": [
      "218\n",
      "189\n"
     ]
    }
   ],
   "source": [
    "print(len(train_data[0]))\n",
    "print(len(train_data[1]))"
   ]
  },
  {
   "cell_type": "markdown",
   "id": "89caad60-19ac-4a83-acb2-c7658388f98b",
   "metadata": {},
   "source": [
    "We need to process these lists into some other format to be suitable as input for a ML algorithm, like a neural network.  You can't\n",
    "directly feed in uneven lists of integers.  We have to turn the lists into tensors.  Two basic methods used:\n",
    "\n",
    "1. Pad lists so they all have the same length. e.g. turn into tensor of shape `(samples, max_length)`.\n",
    "2. *Multi-hot encode* your lists to turn them into vectors of 0s and 1s.  Since we restricted to 10,000 words this would mean we\n",
    "   have 10,000 features in the tensor, where a 1 indicates that word was present (maybe multiple times) in the review, and a 0 \n",
    "   indicates the word was not present.  This may result in relatively sparse representations.\n",
    "   \n",
    "In our following example, we use approach 2.\n",
    "\n",
    "Encoding the integer sequences via multi-hot encoding by hand.\n"
   ]
  },
  {
   "cell_type": "code",
   "execution_count": 8,
   "id": "83807a16-dec2-4f9c-9d17-e402a9082d68",
   "metadata": {},
   "outputs": [],
   "source": [
    "def vectorize_sequences(sequences, dimension=10000):\n",
    "    \"\"\"Vectorize word index sequences into a multi-hot encoding.\n",
    "    The sequences is n array of regular python lists.  We hot encode\n",
    "    each word we find in the list into a vector of the indicated number\n",
    "    of feature dimensions, one vector for each of the word sequences /\n",
    "    reviews.\n",
    "    \"\"\"\n",
    "    # initialize a tensor/array of the correct shape, initialized to all 0's\n",
    "    results = np.zeros((len(sequences), dimension))\n",
    "    \n",
    "    # set specific index to 1 for each word index encountered in the review\n",
    "    for sequence_num, sequence in enumerate(sequences):\n",
    "        for word_index in sequence:\n",
    "            results[sequence_num, word_index] = 1\n",
    "            \n",
    "    return results\n",
    "\n",
    "# vectorize the training and test data\n",
    "x_train = vectorize_sequences(train_data)\n",
    "x_test = vectorize_sequences(test_data)"
   ]
  },
  {
   "cell_type": "markdown",
   "id": "8184b125-04a2-4ae8-8624-fff83d437f1e",
   "metadata": {},
   "source": [
    "Here is what the sample inputs look like now."
   ]
  },
  {
   "cell_type": "code",
   "execution_count": 9,
   "id": "68eaf353-ffa1-4ace-8b57-110afe5ccc33",
   "metadata": {},
   "outputs": [
    {
     "name": "stdout",
     "output_type": "stream",
     "text": [
      "(25000, 10000)\n",
      "[0. 1. 1. ... 0. 0. 0.]\n"
     ]
    }
   ],
   "source": [
    "print(x_train.shape)\n",
    "print(x_train[0])"
   ]
  },
  {
   "cell_type": "markdown",
   "id": "90895748-d91a-4200-a39d-31f51499cd24",
   "metadata": {},
   "source": [
    "We also need to vectorize the labels to get them into format needed by Keras/TensorFlow."
   ]
  },
  {
   "cell_type": "code",
   "execution_count": 10,
   "id": "f83cd9e3-e3a2-4112-b75a-e70476b89df2",
   "metadata": {},
   "outputs": [
    {
     "name": "stdout",
     "output_type": "stream",
     "text": [
      "int64\n",
      "(25000,)\n",
      "float32\n",
      "(25000,)\n"
     ]
    }
   ],
   "source": [
    "print(train_labels.dtype)\n",
    "print(train_labels.shape)\n",
    "\n",
    "y_train = np.asarray(train_labels).astype(\"float32\")\n",
    "y_test = np.asarray(test_labels).astype(\"float32\")\n",
    "\n",
    "print(y_train.dtype)\n",
    "print(y_train.shape)"
   ]
  },
  {
   "cell_type": "markdown",
   "id": "95008fc0-d64e-4d3a-973d-697ef800f5e6",
   "metadata": {},
   "source": [
    "## 4.1.3 Building your model\n",
    "\n",
    "The input data is vectors of 10,000 features, and the output labels are scalars (1s and 0s).\n",
    "\n",
    "A model that performs well on such a problem is a plain stack of densely connected (`Dense`) layers with\n",
    "`relu` activations.  This is also known as a simple densly connected feedforward network.\n",
    "\n",
    "Architecture decisions:\n",
    "\n",
    "- How many layers to use\n",
    "- How many (hidden) units to choose for each layer.\n",
    "\n",
    "There are some guidelines for making good initial decisions (see chapter 5).  We start with two intermediate layers\n",
    "of 16 hidden units, with a third final output layer with a single unit to perform the scalar prediction\n",
    "regarding the sentiment (positive or negative) of the review.  Notice also that we use `relu` (rectified\n",
    "linear unit) activation for the intermediate layers, but `sigmoid` activation for the final layer.\n",
    "`sigmoid` activation is appropriate for a binary classification, as this activation squashes the output into\n",
    "a value between 0 and 1.\n",
    "\n",
    "Model definition."
   ]
  },
  {
   "cell_type": "code",
   "execution_count": 11,
   "id": "ebee9df6-2473-471b-8d2a-7c98467f76b3",
   "metadata": {},
   "outputs": [
    {
     "name": "stderr",
     "output_type": "stream",
     "text": [
      "2022-02-03 12:57:04.190639: I tensorflow/compiler/jit/xla_cpu_device.cc:41] Not creating XLA devices, tf_xla_enable_xla_devices not set\n",
      "2022-02-03 12:57:04.191386: I tensorflow/stream_executor/platform/default/dso_loader.cc:49] Successfully opened dynamic library libcuda.so.1\n",
      "2022-02-03 12:57:04.242807: I tensorflow/stream_executor/cuda/cuda_gpu_executor.cc:941] successful NUMA node read from SysFS had negative value (-1), but there must be at least one NUMA node, so returning NUMA node zero\n",
      "2022-02-03 12:57:04.243076: I tensorflow/core/common_runtime/gpu/gpu_device.cc:1720] Found device 0 with properties: \n",
      "pciBusID: 0000:01:00.0 name: Quadro M2200 computeCapability: 5.2\n",
      "coreClock: 1.036GHz coreCount: 8 deviceMemorySize: 3.95GiB deviceMemoryBandwidth: 82.08GiB/s\n",
      "2022-02-03 12:57:04.243091: I tensorflow/stream_executor/platform/default/dso_loader.cc:49] Successfully opened dynamic library libcudart.so.10.1\n",
      "2022-02-03 12:57:04.244329: I tensorflow/stream_executor/platform/default/dso_loader.cc:49] Successfully opened dynamic library libcublas.so.10\n",
      "2022-02-03 12:57:04.244359: I tensorflow/stream_executor/platform/default/dso_loader.cc:49] Successfully opened dynamic library libcublasLt.so.10\n",
      "2022-02-03 12:57:04.245458: I tensorflow/stream_executor/platform/default/dso_loader.cc:49] Successfully opened dynamic library libcufft.so.10\n",
      "2022-02-03 12:57:04.245660: I tensorflow/stream_executor/platform/default/dso_loader.cc:49] Successfully opened dynamic library libcurand.so.10\n",
      "2022-02-03 12:57:04.246913: I tensorflow/stream_executor/platform/default/dso_loader.cc:49] Successfully opened dynamic library libcusolver.so.10\n",
      "2022-02-03 12:57:04.247426: I tensorflow/stream_executor/platform/default/dso_loader.cc:49] Successfully opened dynamic library libcusparse.so.10\n",
      "2022-02-03 12:57:04.249739: I tensorflow/stream_executor/platform/default/dso_loader.cc:49] Successfully opened dynamic library libcudnn.so.7\n",
      "2022-02-03 12:57:04.249832: I tensorflow/stream_executor/cuda/cuda_gpu_executor.cc:941] successful NUMA node read from SysFS had negative value (-1), but there must be at least one NUMA node, so returning NUMA node zero\n",
      "2022-02-03 12:57:04.250180: I tensorflow/stream_executor/cuda/cuda_gpu_executor.cc:941] successful NUMA node read from SysFS had negative value (-1), but there must be at least one NUMA node, so returning NUMA node zero\n",
      "2022-02-03 12:57:04.250413: I tensorflow/core/common_runtime/gpu/gpu_device.cc:1862] Adding visible gpu devices: 0\n",
      "2022-02-03 12:57:04.251252: I tensorflow/core/platform/cpu_feature_guard.cc:142] This TensorFlow binary is optimized with oneAPI Deep Neural Network Library (oneDNN) to use the following CPU instructions in performance-critical operations:  SSE4.1 SSE4.2 AVX AVX2 FMA\n",
      "To enable them in other operations, rebuild TensorFlow with the appropriate compiler flags.\n",
      "2022-02-03 12:57:04.251878: I tensorflow/stream_executor/cuda/cuda_gpu_executor.cc:941] successful NUMA node read from SysFS had negative value (-1), but there must be at least one NUMA node, so returning NUMA node zero\n",
      "2022-02-03 12:57:04.252156: I tensorflow/core/common_runtime/gpu/gpu_device.cc:1720] Found device 0 with properties: \n",
      "pciBusID: 0000:01:00.0 name: Quadro M2200 computeCapability: 5.2\n",
      "coreClock: 1.036GHz coreCount: 8 deviceMemorySize: 3.95GiB deviceMemoryBandwidth: 82.08GiB/s\n",
      "2022-02-03 12:57:04.252177: I tensorflow/stream_executor/platform/default/dso_loader.cc:49] Successfully opened dynamic library libcudart.so.10.1\n",
      "2022-02-03 12:57:04.252193: I tensorflow/stream_executor/platform/default/dso_loader.cc:49] Successfully opened dynamic library libcublas.so.10\n",
      "2022-02-03 12:57:04.252204: I tensorflow/stream_executor/platform/default/dso_loader.cc:49] Successfully opened dynamic library libcublasLt.so.10\n",
      "2022-02-03 12:57:04.252215: I tensorflow/stream_executor/platform/default/dso_loader.cc:49] Successfully opened dynamic library libcufft.so.10\n",
      "2022-02-03 12:57:04.252226: I tensorflow/stream_executor/platform/default/dso_loader.cc:49] Successfully opened dynamic library libcurand.so.10\n",
      "2022-02-03 12:57:04.252237: I tensorflow/stream_executor/platform/default/dso_loader.cc:49] Successfully opened dynamic library libcusolver.so.10\n",
      "2022-02-03 12:57:04.252249: I tensorflow/stream_executor/platform/default/dso_loader.cc:49] Successfully opened dynamic library libcusparse.so.10\n",
      "2022-02-03 12:57:04.252261: I tensorflow/stream_executor/platform/default/dso_loader.cc:49] Successfully opened dynamic library libcudnn.so.7\n",
      "2022-02-03 12:57:04.252304: I tensorflow/stream_executor/cuda/cuda_gpu_executor.cc:941] successful NUMA node read from SysFS had negative value (-1), but there must be at least one NUMA node, so returning NUMA node zero\n",
      "2022-02-03 12:57:04.252788: I tensorflow/stream_executor/cuda/cuda_gpu_executor.cc:941] successful NUMA node read from SysFS had negative value (-1), but there must be at least one NUMA node, so returning NUMA node zero\n",
      "2022-02-03 12:57:04.253069: I tensorflow/core/common_runtime/gpu/gpu_device.cc:1862] Adding visible gpu devices: 0\n",
      "2022-02-03 12:57:04.253098: I tensorflow/stream_executor/platform/default/dso_loader.cc:49] Successfully opened dynamic library libcudart.so.10.1\n",
      "2022-02-03 12:57:04.715397: I tensorflow/core/common_runtime/gpu/gpu_device.cc:1261] Device interconnect StreamExecutor with strength 1 edge matrix:\n",
      "2022-02-03 12:57:04.715420: I tensorflow/core/common_runtime/gpu/gpu_device.cc:1267]      0 \n",
      "2022-02-03 12:57:04.715428: I tensorflow/core/common_runtime/gpu/gpu_device.cc:1280] 0:   N \n",
      "2022-02-03 12:57:04.715604: I tensorflow/stream_executor/cuda/cuda_gpu_executor.cc:941] successful NUMA node read from SysFS had negative value (-1), but there must be at least one NUMA node, so returning NUMA node zero\n",
      "2022-02-03 12:57:04.715931: I tensorflow/stream_executor/cuda/cuda_gpu_executor.cc:941] successful NUMA node read from SysFS had negative value (-1), but there must be at least one NUMA node, so returning NUMA node zero\n",
      "2022-02-03 12:57:04.716302: I tensorflow/stream_executor/cuda/cuda_gpu_executor.cc:941] successful NUMA node read from SysFS had negative value (-1), but there must be at least one NUMA node, so returning NUMA node zero\n",
      "2022-02-03 12:57:04.716667: I tensorflow/core/common_runtime/gpu/gpu_device.cc:1406] Created TensorFlow device (/job:localhost/replica:0/task:0/device:GPU:0 with 3043 MB memory) -> physical GPU (device: 0, name: Quadro M2200, pci bus id: 0000:01:00.0, compute capability: 5.2)\n",
      "2022-02-03 12:57:04.716849: I tensorflow/compiler/jit/xla_gpu_device.cc:99] Not creating XLA devices, tf_xla_enable_xla_devices not set\n"
     ]
    }
   ],
   "source": [
    "from tensorflow import keras\n",
    "from tensorflow.keras import layers\n",
    "\n",
    "model = keras.Sequential([\n",
    "    layers.Dense(16, activation=\"relu\"),\n",
    "    layers.Dense(16, activation=\"relu\"),\n",
    "    layers.Dense(1, activation=\"sigmoid\")\n",
    "])"
   ]
  },
  {
   "cell_type": "markdown",
   "id": "f9d893cc-6597-4970-8977-53056a165a6d",
   "metadata": {},
   "source": [
    "Recall that each `Dense` layer implements the following chain of tensor operations\n",
    "\n",
    "```\n",
    "output = relu(input @ W + b)\n",
    "```\n",
    "\n",
    "Having 16 units means the weight matrix `W` will have shape `(input_dimension, 16)`, the dot product / matrix multiplication will project the input onto a 16-dimensional representation space.  The bias vector `b` has 16 values as well which are added and then\n",
    "the `relu` activation is applied.\n",
    "\n",
    "The dimensionality can be thought of as how much freedom are you allowing the model to have.  Having more units\n",
    "(higher dimensional representation space) allows mode to learn more-complex representations.  But it is more computationally\n",
    "expensive.  And worse, too much freedom can lead to overfitting, which is learning noise in the specific input data.  Overfitting,\n",
    "or learning these unwanted patterns, leads to improvements in predicting the data you are training with, but will most likely\n",
    "decrease performance on test data, which is bad.\n",
    "\n",
    "`relu` or rectified linear unit activation is a type of simple nonlinear transformation.  It simply zeros out\n",
    "negative values."
   ]
  },
  {
   "cell_type": "code",
   "execution_count": 12,
   "id": "430b40c4-30d1-40df-9383-3dc7778163ec",
   "metadata": {},
   "outputs": [
    {
     "data": {
      "image/png": "[encoded data removed]",
      "text/plain": [
       "<Figure size 720x576 with 1 Axes>"
      ]
     },
     "metadata": {
      "needs_background": "light"
     },
     "output_type": "display_data"
    }
   ],
   "source": [
    "# relu is really the same as the max(output, 0), but we can use the tf.keras relu\n",
    "from tensorflow.keras.activations import relu\n",
    "\n",
    "linear_transform = np.linspace(-2.0, 2.0, 100)\n",
    "plt.plot(linear_transform, relu(linear_transform), 'b-', label='relu activation')\n",
    "plt.axis([-2, 2, -0.5, 2.0])\n",
    "plt.legend()\n",
    "plt.xlabel('linear transform result')\n",
    "plt.ylabel('activation function output')\n",
    "plt.grid();"
   ]
  },
  {
   "cell_type": "markdown",
   "id": "08b88a4b-ccb0-4fec-a173-57ce7edc0396",
   "metadata": {},
   "source": [
    "The final layer uses a `sigmoid` activation function. The sigmoid activation is a common activation for\n",
    "simple binary classification.  It squashes the output into a value between 0 and 1, and can thus\n",
    "be interpreted as a probability estimate of the binary output.  When we need to make an actual decision,\n",
    "we usually use a threshold of 0.5 for the final prediction of a 0 or 1 binary label."
   ]
  },
  {
   "cell_type": "code",
   "execution_count": 13,
   "id": "80e2bf8d-b6a8-436e-bf04-761c14ab7be3",
   "metadata": {},
   "outputs": [
    {
     "data": {
      "image/png": "[encoded data removed]",
      "text/plain": [
       "<Figure size 720x576 with 1 Axes>"
      ]
     },
     "metadata": {
      "needs_background": "light"
     },
     "output_type": "display_data"
    }
   ],
   "source": [
    "from tensorflow.keras.activations import sigmoid\n",
    "\n",
    "linear_transform = np.linspace(-5.0, 5.0, 100)\n",
    "plt.plot(linear_transform, sigmoid(linear_transform), 'b-', label='sigmoid activation')\n",
    "plt.yticks([0, 0.25, 0.5, 0.75, 1.0])\n",
    "plt.legend()\n",
    "plt.xlabel('linear transform result')\n",
    "plt.ylabel('activation function output')\n",
    "plt.grid();"
   ]
  },
  {
   "cell_type": "markdown",
   "id": "2d8f217d-ea1a-4a1a-a74d-64eface6cb8c",
   "metadata": {},
   "source": [
    "### What are activation functions and why are they necessary?\n",
    "\n",
    "Without an activation function like `relu` or `sigmoid` (also called a non-linearity), the `Dense`\n",
    "layer would consist of two linear operations, a dot product and addition\n",
    "\n",
    "```\n",
    "output = input @ W + b\n",
    "```\n",
    "\n",
    "The layer could only perform **linear transformations** (also called affine transformations) of the input\n",
    "data.  The **hypothesis space** of such a layer would be the set of all possible linear transformations of the\n",
    "input data into a 16-dimensional space (assuming we use 16 units in the layer).\n",
    "\n",
    "Linear transformations are limited.  Also multiple layers would not help, a sequence of linear transformations\n",
    "is no more powerful than 1 linear transformation.\n",
    "\n",
    "In order to get access to much richer hypothesis space that will benefit from deep representations, you need\n",
    "a non-linearity in the function transformation.  `relu` is simple, but is a very popular example of\n",
    "a non-linear activation function."
   ]
  },
  {
   "cell_type": "markdown",
   "id": "2f383ebb-236a-43b1-b6f1-d0662400f62f",
   "metadata": {},
   "source": [
    "Finally we need a loss function and an optimizer.  \n",
    "\n",
    "Its best to use `binary_crossentropy` loss for binary classification problems.  *Crossentropy* is a quantity \n",
    "from the field of information theory that measures the distance between probability distributions, or in\n",
    "this case, between the ground-truth distribution and your predictions.\n",
    "\n",
    "As for optimizer, we will use `rmsprop`, which is usually a good default choice for virtually\n",
    "any problem.\n",
    "\n",
    "Compiling the model"
   ]
  },
  {
   "cell_type": "code",
   "execution_count": 14,
   "id": "44efc3be-e2f8-4f01-807a-36d2e10d9ff2",
   "metadata": {},
   "outputs": [],
   "source": [
    "model.compile(optimizer=\"rmsprop\",\n",
    "              loss=\"binary_crossentropy\",\n",
    "              metrics=[\"accuracy\"])"
   ]
  },
  {
   "cell_type": "markdown",
   "id": "d82f4cf2-01d6-4036-a851-a56b97c0c46b",
   "metadata": {},
   "source": [
    "## 4.1.4 Validating your approach\n",
    "\n",
    "You should not evalute deep learning models (or ML models in general) on the performnce on the training data.\n",
    "The real question is how well models do on data it has not been trained with and has not seen before.\n",
    "\n",
    "It is standard practice to use a validation set to monitor accuracy of a model during training.  \n",
    "\n",
    "Here we create a validation set by hand by setting asside 10,000 samples from the original training data\n",
    "of our IMDB review dataset.\n",
    "\n",
    "Setting aside a validation set."
   ]
  },
  {
   "cell_type": "code",
   "execution_count": 15,
   "id": "c4bd1da1-17f4-4aa3-b433-a5948a3c4346",
   "metadata": {},
   "outputs": [],
   "source": [
    "x_val = x_train[:10000]\n",
    "partial_x_train = x_train[10000:]\n",
    "y_val = y_train[:10000]\n",
    "partial_y_train = y_train[10000:]"
   ]
  },
  {
   "cell_type": "markdown",
   "id": "3a6b691f-b520-43fd-b09a-63cae10d0054",
   "metadata": {},
   "source": [
    "We will not train for 20 epochs in mini-batches of 512 samples.  At the same time we monitor loss and\n",
    "accuracy on the 10,000 validation set samples we set apart.  \n",
    "\n",
    "Training your model."
   ]
  },
  {
   "cell_type": "code",
   "execution_count": 16,
   "id": "9ed21a21-6937-431b-b13d-0fbd34b3e962",
   "metadata": {},
   "outputs": [
    {
     "name": "stderr",
     "output_type": "stream",
     "text": [
      "2022-02-03 12:57:05.536262: I tensorflow/compiler/mlir/mlir_graph_optimization_pass.cc:116] None of the MLIR optimization passes are enabled (registered 2)\n",
      "2022-02-03 12:57:05.554789: I tensorflow/core/platform/profile_utils/cpu_utils.cc:112] CPU Frequency: 3000000000 Hz\n"
     ]
    },
    {
     "name": "stdout",
     "output_type": "stream",
     "text": [
      "Epoch 1/20\n",
      " 1/30 [>.............................] - ETA: 16s - loss: 0.7045 - accuracy: 0.4922"
     ]
    },
    {
     "name": "stderr",
     "output_type": "stream",
     "text": [
      "2022-02-03 12:57:05.958670: I tensorflow/stream_executor/platform/default/dso_loader.cc:49] Successfully opened dynamic library libcublas.so.10\n"
     ]
    },
    {
     "name": "stdout",
     "output_type": "stream",
     "text": [
      "30/30 [==============================] - 2s 56ms/step - loss: 0.6083 - accuracy: 0.6808 - val_loss: 0.3986 - val_accuracy: 0.8651\n",
      "Epoch 2/20\n",
      "30/30 [==============================] - 1s 39ms/step - loss: 0.3217 - accuracy: 0.9015 - val_loss: 0.3029 - val_accuracy: 0.8893\n",
      "Epoch 3/20\n",
      "30/30 [==============================] - 1s 37ms/step - loss: 0.2250 - accuracy: 0.9270 - val_loss: 0.2782 - val_accuracy: 0.8907\n",
      "Epoch 4/20\n",
      "30/30 [==============================] - 1s 37ms/step - loss: 0.1734 - accuracy: 0.9479 - val_loss: 0.3303 - val_accuracy: 0.8698\n",
      "Epoch 5/20\n",
      "30/30 [==============================] - 1s 35ms/step - loss: 0.1427 - accuracy: 0.9557 - val_loss: 0.3681 - val_accuracy: 0.8611\n",
      "Epoch 6/20\n",
      "30/30 [==============================] - 1s 37ms/step - loss: 0.1136 - accuracy: 0.9645 - val_loss: 0.3078 - val_accuracy: 0.8852\n",
      "Epoch 7/20\n",
      "30/30 [==============================] - 1s 41ms/step - loss: 0.0876 - accuracy: 0.9772 - val_loss: 0.3189 - val_accuracy: 0.8799\n",
      "Epoch 8/20\n",
      "30/30 [==============================] - 1s 46ms/step - loss: 0.0719 - accuracy: 0.9820 - val_loss: 0.3640 - val_accuracy: 0.8784\n",
      "Epoch 9/20\n",
      "30/30 [==============================] - 1s 51ms/step - loss: 0.0573 - accuracy: 0.9860 - val_loss: 0.3757 - val_accuracy: 0.8730\n",
      "Epoch 10/20\n",
      "30/30 [==============================] - 1s 45ms/step - loss: 0.0466 - accuracy: 0.9893 - val_loss: 0.3916 - val_accuracy: 0.8745\n",
      "Epoch 11/20\n",
      "30/30 [==============================] - 1s 38ms/step - loss: 0.0352 - accuracy: 0.9933 - val_loss: 0.4239 - val_accuracy: 0.8754\n",
      "Epoch 12/20\n",
      "30/30 [==============================] - 1s 39ms/step - loss: 0.0295 - accuracy: 0.9946 - val_loss: 0.4818 - val_accuracy: 0.8718\n",
      "Epoch 13/20\n",
      "30/30 [==============================] - 1s 40ms/step - loss: 0.0234 - accuracy: 0.9965 - val_loss: 0.4871 - val_accuracy: 0.8750\n",
      "Epoch 14/20\n",
      "30/30 [==============================] - 1s 48ms/step - loss: 0.0174 - accuracy: 0.9978 - val_loss: 0.5164 - val_accuracy: 0.8715\n",
      "Epoch 15/20\n",
      "30/30 [==============================] - 1s 42ms/step - loss: 0.0113 - accuracy: 0.9991 - val_loss: 0.5599 - val_accuracy: 0.8683\n",
      "Epoch 16/20\n",
      "30/30 [==============================] - 1s 33ms/step - loss: 0.0127 - accuracy: 0.9977 - val_loss: 0.5958 - val_accuracy: 0.8666\n",
      "Epoch 17/20\n",
      "30/30 [==============================] - 1s 35ms/step - loss: 0.0076 - accuracy: 0.9991 - val_loss: 0.6213 - val_accuracy: 0.8687\n",
      "Epoch 18/20\n",
      "30/30 [==============================] - 1s 39ms/step - loss: 0.0049 - accuracy: 0.9998 - val_loss: 0.6679 - val_accuracy: 0.8692\n",
      "Epoch 19/20\n",
      "30/30 [==============================] - 1s 36ms/step - loss: 0.0057 - accuracy: 0.9990 - val_loss: 0.6929 - val_accuracy: 0.8639\n",
      "Epoch 20/20\n",
      "30/30 [==============================] - 1s 36ms/step - loss: 0.0025 - accuracy: 0.9999 - val_loss: 0.7612 - val_accuracy: 0.8678\n"
     ]
    }
   ],
   "source": [
    "history = model.fit(partial_x_train,\n",
    "                    partial_y_train,\n",
    "                    epochs=20,\n",
    "                    batch_size=512,\n",
    "                    validation_data=(x_val, y_val))"
   ]
  },
  {
   "cell_type": "markdown",
   "id": "b8213ed5-74b5-48af-a76f-063f6d003367",
   "metadata": {},
   "source": [
    "Note that the call to `model.fit()` returns a `History` object.  This gives a history of the training\n",
    "loss and validation metrics over the epochs of training."
   ]
  },
  {
   "cell_type": "code",
   "execution_count": 17,
   "id": "bda9686b-5ff2-467f-b52c-32790a9f78b0",
   "metadata": {},
   "outputs": [
    {
     "data": {
      "text/plain": [
       "dict_keys(['loss', 'accuracy', 'val_loss', 'val_accuracy'])"
      ]
     },
     "execution_count": 17,
     "metadata": {},
     "output_type": "execute_result"
    }
   ],
   "source": [
    "history_dict = history.history\n",
    "history_dict.keys()"
   ]
  },
  {
   "cell_type": "markdown",
   "id": "78a81acd-9a49-4cc6-b63a-28f96b1532fa",
   "metadata": {},
   "source": [
    "We can the loss and accuracy.  Further, we can plot training and validation history of both of these to make\n",
    "inferences about how well the model training went."
   ]
  },
  {
   "cell_type": "code",
   "execution_count": 18,
   "id": "a4fbaf64-e70d-4493-bd8f-8c945ff66fb1",
   "metadata": {},
   "outputs": [],
   "source": [
    "# create list of epoch numbers for the plots\n",
    "epochs = np.arange(1, len(history_dict['loss']) + 1)"
   ]
  },
  {
   "cell_type": "code",
   "execution_count": 19,
   "id": "5c6f8581-27e3-4c66-a1ac-a1681ede8518",
   "metadata": {},
   "outputs": [
    {
     "data": {
      "image/png": "[encoded data removed]",
      "text/plain": [
       "<Figure size 720x576 with 1 Axes>"
      ]
     },
     "metadata": {
      "needs_background": "light"
     },
     "output_type": "display_data"
    }
   ],
   "source": [
    "# plot training and validation loss.  I don't like using line and points on same plot, so change\n",
    "# to using color for the two values on plot\n",
    "plt.plot(epochs, history_dict['loss'], 'r-', label='Training loss')\n",
    "plt.plot(epochs, history_dict['val_loss'], 'b-', label='Validation loss')\n",
    "plt.xlabel('Epochs')\n",
    "plt.ylabel('Loss')\n",
    "plt.xticks(epochs)\n",
    "plt.grid()\n",
    "plt.legend();"
   ]
  },
  {
   "cell_type": "code",
   "execution_count": 20,
   "id": "df101706-7d2c-4f5e-9e1e-ac93e53fd6fd",
   "metadata": {},
   "outputs": [
    {
     "data": {
      "image/png": "[encoded data removed]",
      "text/plain": [
       "<Figure size 720x576 with 1 Axes>"
      ]
     },
     "metadata": {
      "needs_background": "light"
     },
     "output_type": "display_data"
    }
   ],
   "source": [
    "# plot training and validation accuracy \n",
    "plt.plot(epochs, history_dict['accuracy'], 'r-', label='Training accuracy')\n",
    "plt.plot(epochs, history_dict['val_accuracy'], 'b-', label='Validation accuracy')\n",
    "plt.xlabel('Epochs')\n",
    "plt.ylabel('Accuracy')\n",
    "plt.xticks(epochs)\n",
    "plt.grid()\n",
    "plt.legend();"
   ]
  },
  {
   "cell_type": "markdown",
   "id": "6dacd5cd-b21d-4b17-8867-15a73722837d",
   "metadata": {},
   "source": [
    "As you can see, training loss decreases with each epoch of training, and training accuracy improves.\n",
    "\n",
    "However, validation loss gets worse and accuracy does not improve nor is it ever as good as training accuracy.\n",
    "\n",
    "This model performs much better on the training data than on the validation data.  \n",
    "\n",
    "This is an example of **overfitting**.  After the 4th epoch validation loss stops decreasing.  We are\n",
    "overoptimizing on the training data and end up learning representations that are specific to\n",
    "the training data (noise) and don't generalize.\n",
    "\n",
    "Can use a range of techniques to mitigate overfitting.  Simplest approach is to stop training when\n",
    "validation loss starts increasing, e.g. for only 4 epochs.\n",
    "\n",
    "Retraining a model from scratch for 4 epochs to stop before overfitting."
   ]
  },
  {
   "cell_type": "code",
   "execution_count": 21,
   "id": "97575773-acd4-4d37-98d5-bd43e56ecc0a",
   "metadata": {},
   "outputs": [
    {
     "name": "stdout",
     "output_type": "stream",
     "text": [
      "Epoch 1/4\n",
      "49/49 [==============================] - 2s 30ms/step - loss: 0.5432 - accuracy: 0.7399\n",
      "Epoch 2/4\n",
      "49/49 [==============================] - 1s 30ms/step - loss: 0.2678 - accuracy: 0.9075\n",
      "Epoch 3/4\n",
      "49/49 [==============================] - 2s 34ms/step - loss: 0.1978 - accuracy: 0.9327\n",
      "Epoch 4/4\n",
      "49/49 [==============================] - 2s 38ms/step - loss: 0.1657 - accuracy: 0.9439\n",
      "782/782 [==============================] - 4s 5ms/step - loss: 0.3092 - accuracy: 0.8779\n",
      "[0.3092162311077118, 0.8779199719429016]\n"
     ]
    }
   ],
   "source": [
    "model = keras.Sequential([\n",
    "            layers.Dense(16, activation=\"relu\"),\n",
    "            layers.Dense(16, activation=\"relu\"),\n",
    "            layers.Dense(1, activation=\"sigmoid\")\n",
    "])\n",
    "\n",
    "# train the model for 4 epochs\n",
    "model.compile(optimizer=\"rmsprop\",\n",
    "              loss=\"binary_crossentropy\",\n",
    "              metrics=[\"accuracy\"])\n",
    "model.fit(x_train, y_train, epochs=4, batch_size=512)\n",
    "\n",
    "\n",
    "# determine results on the test data, first number is the test loss\n",
    "# and second is the accuracy\n",
    "results = model.evaluate(x_test, y_test)\n",
    "print(results)\n"
   ]
  },
  {
   "cell_type": "markdown",
   "id": "5923cc82-425d-4b65-89df-a10f038ce995",
   "metadata": {},
   "source": [
    "This naive approach achieves an accuracy of about 87%.  State-of-the-art approaches should be able to get close to 95% accuracy\n",
    "on test data."
   ]
  },
  {
   "cell_type": "markdown",
   "id": "209ba7da-7cb0-43a0-b998-e8b86ac1fcda",
   "metadata": {},
   "source": [
    "## 4.1.5 Using a trained model to generate predictions on new data\n",
    "\n",
    "Can use `predict` method of trained model to generate predictions on new data."
   ]
  },
  {
   "cell_type": "code",
   "execution_count": 22,
   "id": "c7bc2b4d-8104-4143-a0d6-166138e9880b",
   "metadata": {},
   "outputs": [
    {
     "data": {
      "text/plain": [
       "array([[0.2438],\n",
       "       [1.    ],\n",
       "       [0.9704],\n",
       "       ...,\n",
       "       [0.1691],\n",
       "       [0.1131],\n",
       "       [0.7473]], dtype=float32)"
      ]
     },
     "execution_count": 22,
     "metadata": {},
     "output_type": "execute_result"
    }
   ],
   "source": [
    "model.predict(x_test)"
   ]
  },
  {
   "cell_type": "markdown",
   "id": "8cf4dec6-3eb2-44ad-b266-e9c4f2154d45",
   "metadata": {},
   "source": [
    "## 4.1.6 Further experiments\n",
    "\n",
    "Left as an exercise for students.  See if you can improve the model.\n",
    "\n",
    "- Try more representation layers\n",
    "- Try more or fewer units in layers\n",
    "- Try using `mse` loss instead of `binary_crossentropy`\n",
    "- Try using `tanh` activation instead of `relu`."
   ]
  },
  {
   "cell_type": "markdown",
   "id": "d8e157bc-aa04-409a-b445-54d02902ff53",
   "metadata": {},
   "source": [
    "## 4.1.7 Wrapping up\n",
    "\n",
    "- Usually need to do quite a bit of preprocessing.\n",
    "- Stacks of `Dense` layers with `relu` activations can solve a wide range of problems.\n",
    "- In binary classification, model should end with a `Dense` layer with one unit using `sigmoid` activation.\n",
    "- Should usually use `binary_crossentropy` loss function for scalar sigmoid output on binary classification problems.\n",
    "- The `rmsprop` optimizer is generally good enough for most nn/deep learning problems.\n",
    "- Neural networks eventually start overfitting and get increasingly worse at generalizing to unseen data.  Need to always\n",
    "  fight overfitting and monitor performance."
   ]
  },
  {
   "cell_type": "markdown",
   "id": "b0d5dd35-963d-4059-968c-ca381bef5b03",
   "metadata": {},
   "source": [
    "# 4.2 Classifying newswires: A multiclass classification example.\n",
    "\n",
    "When we have more than 2 (binary) classes, we will be doing **multiclass classification**.  More specificaly this is known\n",
    "as **single-label multiclass classification**."
   ]
  },
  {
   "cell_type": "markdown",
   "id": "527b5f89-d495-446a-9623-00a5eab92f26",
   "metadata": {},
   "source": [
    "## 4.2.1 The Reuters dataset\n",
    "\n",
    "This dataset is also textual.  It consists of news articles.  The label we are trying to predict from the text\n",
    "is the topic or area of the news article (like finance, sports, politics), etc.\n",
    "\n",
    "The Reuters dataset is available from keras.\n",
    "\n",
    "Loading the Reuters dataset."
   ]
  },
  {
   "cell_type": "code",
   "execution_count": 23,
   "id": "00e1e68d-3e7b-4278-bd8c-77e0adc44855",
   "metadata": {},
   "outputs": [
    {
     "name": "stderr",
     "output_type": "stream",
     "text": [
      "/home/dash/anaconda3/lib/python3.8/site-packages/tensorflow/python/keras/datasets/reuters.py:148: VisibleDeprecationWarning: Creating an ndarray from ragged nested sequences (which is a list-or-tuple of lists-or-tuples-or ndarrays with different lengths or shapes) is deprecated. If you meant to do this, you must specify 'dtype=object' when creating the ndarray.\n",
      "  x_train, y_train = np.array(xs[:idx]), np.array(labels[:idx])\n",
      "/home/dash/anaconda3/lib/python3.8/site-packages/tensorflow/python/keras/datasets/reuters.py:149: VisibleDeprecationWarning: Creating an ndarray from ragged nested sequences (which is a list-or-tuple of lists-or-tuples-or ndarrays with different lengths or shapes) is deprecated. If you meant to do this, you must specify 'dtype=object' when creating the ndarray.\n",
      "  x_test, y_test = np.array(xs[idx:]), np.array(labels[idx:])\n"
     ]
    }
   ],
   "source": [
    "from tensorflow.keras.datasets import reuters\n",
    "\n",
    "(train_data, train_labels), (test_data, test_labels) = reuters.load_data(num_words=10000)"
   ]
  },
  {
   "cell_type": "code",
   "execution_count": 24,
   "id": "02fe54f0-7078-4ce9-bc42-f4fa0ec09ebb",
   "metadata": {},
   "outputs": [
    {
     "name": "stdout",
     "output_type": "stream",
     "text": [
      "(8982,)\n",
      "(2246,)\n"
     ]
    }
   ],
   "source": [
    "# there are 8,982 training examples and 2,246 test examples\n",
    "print(train_data.shape)\n",
    "print(test_data.shape)"
   ]
  },
  {
   "cell_type": "markdown",
   "id": "bdd59a16-f1f6-4d3d-9946-5fc003712add",
   "metadata": {},
   "source": [
    "As with the IMDB reviews, each sample is a list of integers, which are word indices of a word dictionary for the\n",
    "articles."
   ]
  },
  {
   "cell_type": "code",
   "execution_count": 25,
   "id": "7ff97a3f-fc2f-4c69-ad44-11ab1054d7ca",
   "metadata": {},
   "outputs": [
    {
     "data": {
      "text/plain": [
       "[1,\n",
       " 245,\n",
       " 273,\n",
       " 207,\n",
       " 156,\n",
       " 53,\n",
       " 74,\n",
       " 160,\n",
       " 26,\n",
       " 14,\n",
       " 46,\n",
       " 296,\n",
       " 26,\n",
       " 39,\n",
       " 74,\n",
       " 2979,\n",
       " 3554,\n",
       " 14,\n",
       " 46,\n",
       " 4689,\n",
       " 4329,\n",
       " 86,\n",
       " 61,\n",
       " 3499,\n",
       " 4795,\n",
       " 14,\n",
       " 61,\n",
       " 451,\n",
       " 4329,\n",
       " 17,\n",
       " 12]"
      ]
     },
     "execution_count": 25,
     "metadata": {},
     "output_type": "execute_result"
    }
   ],
   "source": [
    "train_data[10]"
   ]
  },
  {
   "cell_type": "markdown",
   "id": "3fdf5b35-6814-426f-bc17-55cf35b8c7f7",
   "metadata": {},
   "source": [
    "Here is how you can decode it back to words again."
   ]
  },
  {
   "cell_type": "code",
   "execution_count": 26,
   "id": "97fc0b45-2c67-4346-9544-70be9f5f7ecc",
   "metadata": {},
   "outputs": [
    {
     "name": "stdout",
     "output_type": "stream",
     "text": [
      "? period ended december 31 shr profit 11 cts vs loss 24 cts net profit 224 271 vs loss 511 349 revs 7 258 688 vs 7 200 349 reuter 3\n"
     ]
    }
   ],
   "source": [
    "word_index = reuters.get_word_index()\n",
    "\n",
    "reverse_word_index = dict(\n",
    "    [(value, key) for (key, value) in word_index.items()]\n",
    ")\n",
    "\n",
    "decoded_newswire = \" \".join(\n",
    "    [reverse_word_index.get(i - 3, \"?\") for i in train_data[10]]\n",
    ")\n",
    "\n",
    "print(decoded_newswire)"
   ]
  },
  {
   "cell_type": "markdown",
   "id": "a3160846-56e5-4074-87e6-fc19a27109b2",
   "metadata": {},
   "source": [
    "The label is an integer between 0 and 45, a topic index."
   ]
  },
  {
   "cell_type": "code",
   "execution_count": 27,
   "id": "c5966dc0-16bb-4626-8936-5d140d1cd2a0",
   "metadata": {},
   "outputs": [
    {
     "data": {
      "text/plain": [
       "3"
      ]
     },
     "execution_count": 27,
     "metadata": {},
     "output_type": "execute_result"
    }
   ],
   "source": [
    "train_labels[10]"
   ]
  },
  {
   "cell_type": "markdown",
   "id": "8b271964-b298-41e2-a354-7c888a2c79ae",
   "metadata": {},
   "source": [
    "## 4.2.2 Preparing the data\n",
    "\n",
    "You can vectorize the data with the exact same code as in previous example.\n",
    "\n",
    "Encoding the input data."
   ]
  },
  {
   "cell_type": "code",
   "execution_count": 28,
   "id": "ea1ac52c-3619-435c-b6df-10e7bcdabdbb",
   "metadata": {},
   "outputs": [],
   "source": [
    "x_train = vectorize_sequences(train_data)\n",
    "x_test = vectorize_sequences(test_data)"
   ]
  },
  {
   "cell_type": "markdown",
   "id": "7c409a5f-fbce-4eda-b45a-1a8bdf86e23f",
   "metadata": {},
   "source": [
    "There are two ways to vectorize the labels.  We can cast the label list as an integer tensor.  Or we can use\n",
    "**one-hot encoding**.  One-hot encoding is a widely used format for categorical data, it is also sometimes\n",
    "called **categorical encoding**.  In this case, one-hot encoding of the labels consists of embedding each label\n",
    "as an all-zero vector with a 1 in the place of the correct label index.\n",
    "\n",
    "Encoding the labels."
   ]
  },
  {
   "cell_type": "code",
   "execution_count": 29,
   "id": "2f8b4459-a49a-4f0c-8820-1d3b76fb501f",
   "metadata": {},
   "outputs": [
    {
     "name": "stdout",
     "output_type": "stream",
     "text": [
      "(8982, 46)\n",
      "[0. 0. 0. 1. 0. 0. 0. 0. 0. 0. 0. 0. 0. 0. 0. 0. 0. 0. 0. 0. 0. 0. 0. 0.\n",
      " 0. 0. 0. 0. 0. 0. 0. 0. 0. 0. 0. 0. 0. 0. 0. 0. 0. 0. 0. 0. 0. 0.]\n"
     ]
    }
   ],
   "source": [
    "def to_one_hot(labels, dimension=46):\n",
    "    \"\"\"A hand-made implementaiton of one-hot\n",
    "    encoding.  Given integer labels, reencode as one-hot\n",
    "    encoded vector.  We assume 46 dimensions of the\n",
    "    reuters output category labels.  The resulting shape\n",
    "    of the labels is (num_samples, 46) where each of the\n",
    "    46 features is a 0 or 1 value, and only one value is \n",
    "    encoded as 1, which is the correct category for that sample.\n",
    "    \"\"\"\n",
    "    # create resulting one-hot encoded labels, initialized to all 0's\n",
    "    # initially\n",
    "    results = np.zeros((len(labels), dimension))\n",
    "    \n",
    "    for sample_num, label in enumerate(labels):\n",
    "        results[sample_num, label] = 1.0\n",
    "    return results\n",
    "\n",
    "# one-hot encode the train and test labels\n",
    "y_train = to_one_hot(train_labels)\n",
    "y_test = to_one_hot(test_labels)\n",
    "\n",
    "print(y_train.shape)\n",
    "print(y_train[0])"
   ]
  },
  {
   "cell_type": "markdown",
   "id": "b98d4320-d002-40d6-873a-515c6760bc06",
   "metadata": {},
   "source": [
    "We don't really need to write encodings like this by hand.  Usually libraries like\n",
    "`scikit-learn` and `tensorflow.keras` will have premade functions for common tasks\n",
    "like this."
   ]
  },
  {
   "cell_type": "code",
   "execution_count": 30,
   "id": "dd318d69-97b0-497a-b16f-9e2ee0f62dfd",
   "metadata": {},
   "outputs": [
    {
     "name": "stdout",
     "output_type": "stream",
     "text": [
      "(8982, 46)\n",
      "[0. 0. 0. 1. 0. 0. 0. 0. 0. 0. 0. 0. 0. 0. 0. 0. 0. 0. 0. 0. 0. 0. 0. 0.\n",
      " 0. 0. 0. 0. 0. 0. 0. 0. 0. 0. 0. 0. 0. 0. 0. 0. 0. 0. 0. 0. 0. 0.]\n"
     ]
    }
   ],
   "source": [
    "from tensorflow.keras.utils import to_categorical\n",
    "\n",
    "y_train = to_categorical(train_labels)\n",
    "y_test = to_categorical(test_labels)\n",
    "\n",
    "print(y_train.shape)\n",
    "print(y_train[0])"
   ]
  },
  {
   "cell_type": "markdown",
   "id": "d552168e-8e30-4f3d-a30b-381905e01f6d",
   "metadata": {},
   "source": [
    "## 4.2.3 Building your model\n",
    "\n",
    "The news article classification problem is similar to our first binary classification problem.  The input is encoded in the\n",
    "same way.\n",
    "\n",
    "But the number of outputs has changed from 1 binary labels of 0 or 1, to 46 outputs of 0 or 1, where only 1 of the 46 should be 1\n",
    "to indicate the predicted category of the news article.\n",
    "\n",
    "A 16-dimensional space may be too limited to separate 46 different classes.  Such small layers act as information bottlenecks.\n",
    "\n",
    "For this reason, we may anticipate we need to use larger layers.\n",
    "\n",
    "Model definition."
   ]
  },
  {
   "cell_type": "code",
   "execution_count": 31,
   "id": "010901b9-2a2a-4d92-9263-179c5383f820",
   "metadata": {},
   "outputs": [],
   "source": [
    "model = keras.Sequential([\n",
    "            layers.Dense(64, activation=\"relu\"),\n",
    "            layers.Dense(64, activation=\"relu\"),\n",
    "            layers.Dense(46, activation=\"softmax\")\n",
    "])"
   ]
  },
  {
   "cell_type": "markdown",
   "id": "3a2fe918-a755-41bd-853f-7202725a1a4d",
   "metadata": {},
   "source": [
    "Notice we end the model with a `Dense` layer with 46 dimensions/outputs this time (one for each one-hot\n",
    "encoded output we want to predict).\n",
    "\n",
    "Second we use `softmax` activation for the final output layer.  `softmax` activation outputs\n",
    "a **probability distribution** over the 46 different output classes.  For each sample, the model\n",
    "produces a 46-dimensional output vector, where the `output[i]` is the probability that the sample \n",
    "belongs to class `i`.  Since this is a probability distribution, the 46 scores will sum up to 1,\n",
    "this is part of what `softmax` does.\n",
    "\n",
    "The best loss function to use is probably `categorical_crossentropy`.  As the name implies this loss\n",
    "is good for categorical (multiclass) outputs.\n",
    "\n",
    "Compiling the model."
   ]
  },
  {
   "cell_type": "code",
   "execution_count": 32,
   "id": "c5169933-219b-4c10-bae3-39661d3b0508",
   "metadata": {},
   "outputs": [],
   "source": [
    "model.compile(optimizer=\"rmsprop\",\n",
    "              loss=\"categorical_crossentropy\",\n",
    "              metrics=[\"accuracy\"])"
   ]
  },
  {
   "cell_type": "markdown",
   "id": "dc6bc091-ee03-4d7f-a274-5279fcb93100",
   "metadata": {},
   "source": [
    "## 4.2.4 Validating your approach\n",
    "\n",
    "Lets again split off some of the training data to use for validation while fitting the model.\n",
    "\n",
    "Setting aside a validation set."
   ]
  },
  {
   "cell_type": "code",
   "execution_count": 33,
   "id": "6542fb03-8291-440a-84e0-635bde1fe2e4",
   "metadata": {},
   "outputs": [],
   "source": [
    "x_val = x_train[:1000]\n",
    "partial_x_train = x_train[1000:]\n",
    "y_val = y_train[:1000]\n",
    "partial_y_train = y_train[1000:]"
   ]
  },
  {
   "cell_type": "markdown",
   "id": "d201f743-c769-4f40-876f-744484a52076",
   "metadata": {},
   "source": [
    "Now we will train for 20 epochs, using batchs of 512 samples."
   ]
  },
  {
   "cell_type": "code",
   "execution_count": 34,
   "id": "7b8829bc-3aab-42ee-9c50-d522eaa412f4",
   "metadata": {},
   "outputs": [
    {
     "name": "stdout",
     "output_type": "stream",
     "text": [
      "Epoch 1/20\n",
      "16/16 [==============================] - 1s 60ms/step - loss: 3.1101 - accuracy: 0.4031 - val_loss: 1.6752 - val_accuracy: 0.6490\n",
      "Epoch 2/20\n",
      "16/16 [==============================] - 1s 46ms/step - loss: 1.4396 - accuracy: 0.6988 - val_loss: 1.2720 - val_accuracy: 0.7240\n",
      "Epoch 3/20\n",
      "16/16 [==============================] - 1s 43ms/step - loss: 1.0587 - accuracy: 0.7799 - val_loss: 1.1002 - val_accuracy: 0.7620\n",
      "Epoch 4/20\n",
      "16/16 [==============================] - 1s 50ms/step - loss: 0.7950 - accuracy: 0.8301 - val_loss: 1.0092 - val_accuracy: 0.7840\n",
      "Epoch 5/20\n",
      "16/16 [==============================] - 1s 45ms/step - loss: 0.6399 - accuracy: 0.8661 - val_loss: 0.9498 - val_accuracy: 0.7950\n",
      "Epoch 6/20\n",
      "16/16 [==============================] - 1s 46ms/step - loss: 0.4896 - accuracy: 0.8992 - val_loss: 0.9300 - val_accuracy: 0.8020\n",
      "Epoch 7/20\n",
      "16/16 [==============================] - 1s 46ms/step - loss: 0.4111 - accuracy: 0.9129 - val_loss: 0.9191 - val_accuracy: 0.8110\n",
      "Epoch 8/20\n",
      "16/16 [==============================] - 1s 50ms/step - loss: 0.3483 - accuracy: 0.9292 - val_loss: 0.9586 - val_accuracy: 0.7950\n",
      "Epoch 9/20\n",
      "16/16 [==============================] - 1s 41ms/step - loss: 0.2913 - accuracy: 0.9363 - val_loss: 0.8874 - val_accuracy: 0.8210\n",
      "Epoch 10/20\n",
      "16/16 [==============================] - 1s 43ms/step - loss: 0.2273 - accuracy: 0.9506 - val_loss: 0.9063 - val_accuracy: 0.8150\n",
      "Epoch 11/20\n",
      "16/16 [==============================] - 1s 52ms/step - loss: 0.1929 - accuracy: 0.9533 - val_loss: 0.9247 - val_accuracy: 0.8240\n",
      "Epoch 12/20\n",
      "16/16 [==============================] - 1s 42ms/step - loss: 0.1730 - accuracy: 0.9559 - val_loss: 0.9579 - val_accuracy: 0.8210\n",
      "Epoch 13/20\n",
      "16/16 [==============================] - 1s 42ms/step - loss: 0.1522 - accuracy: 0.9579 - val_loss: 0.9516 - val_accuracy: 0.8170\n",
      "Epoch 14/20\n",
      "16/16 [==============================] - 1s 50ms/step - loss: 0.1432 - accuracy: 0.9584 - val_loss: 0.9500 - val_accuracy: 0.8310\n",
      "Epoch 15/20\n",
      "16/16 [==============================] - 1s 44ms/step - loss: 0.1292 - accuracy: 0.9614 - val_loss: 0.9868 - val_accuracy: 0.8110\n",
      "Epoch 16/20\n",
      "16/16 [==============================] - 1s 44ms/step - loss: 0.1193 - accuracy: 0.9587 - val_loss: 1.0398 - val_accuracy: 0.8120\n",
      "Epoch 17/20\n",
      "16/16 [==============================] - 1s 44ms/step - loss: 0.1081 - accuracy: 0.9635 - val_loss: 1.1041 - val_accuracy: 0.7920\n",
      "Epoch 18/20\n",
      "16/16 [==============================] - 1s 50ms/step - loss: 0.1190 - accuracy: 0.9633 - val_loss: 1.0214 - val_accuracy: 0.8130\n",
      "Epoch 19/20\n",
      "16/16 [==============================] - 1s 43ms/step - loss: 0.1178 - accuracy: 0.9567 - val_loss: 1.0623 - val_accuracy: 0.8080\n",
      "Epoch 20/20\n",
      "16/16 [==============================] - 1s 43ms/step - loss: 0.1044 - accuracy: 0.9621 - val_loss: 1.0604 - val_accuracy: 0.8150\n"
     ]
    }
   ],
   "source": [
    "history = model.fit(partial_x_train,\n",
    "                    partial_y_train,\n",
    "                    epochs=20,\n",
    "                    batch_size=512,\n",
    "                    validation_data=(x_val, y_val))"
   ]
  },
  {
   "cell_type": "markdown",
   "id": "17c276d2-4ea5-4f5f-a38c-c64d8c19a7d0",
   "metadata": {},
   "source": [
    "And finally let's display th eloss and accuracy curves again.  Since this is the second time using the same\n",
    "code to plot these figures, lets take a bit of time to create functions we can reuse instead so we can do these\n",
    "plots without copying the plotting code again and again."
   ]
  },
  {
   "cell_type": "code",
   "execution_count": 35,
   "id": "a3dd3264-6ef6-40d4-baf3-165e231414e8",
   "metadata": {},
   "outputs": [],
   "source": [
    "def plot_loss_curves(history):\n",
    "    \"\"\"Plot training and validation loss.  I don't like using line and points on same plot, so change\n",
    "    to using color for the two values on plot\n",
    "    \"\"\"\n",
    "    # extract the data to plot\n",
    "    loss = history.history['loss']\n",
    "    val_loss = history.history['val_loss']\n",
    "    epochs = np.arange(1, len(loss) + 1)\n",
    "    \n",
    "    # plot the loss curves\n",
    "    plt.plot(epochs, loss, 'r-', label='Training loss')\n",
    "    plt.plot(epochs, val_loss, 'b-', label='Validation loss')\n",
    "    plt.xlabel('Epochs')\n",
    "    plt.ylabel('Loss')\n",
    "    plt.xticks(epochs)\n",
    "    plt.grid()\n",
    "    plt.legend();"
   ]
  },
  {
   "cell_type": "code",
   "execution_count": 36,
   "id": "9d9932f7-4ead-4ba1-b8e1-aa8a41847438",
   "metadata": {},
   "outputs": [],
   "source": [
    "def plot_accuracy_curves(history):\n",
    "    \"\"\"Plot training and validation accuracy\n",
    "    \"\"\"\n",
    "    # extract the data to plot\n",
    "    acc = history.history['accuracy']\n",
    "    val_acc = history.history['val_accuracy']\n",
    "    \n",
    "    # plot the accuracy curves\n",
    "    plt.plot(epochs, acc, 'r-', label='Training accuracy')\n",
    "    plt.plot(epochs, val_acc, 'b-', label='Validation accuracy')\n",
    "    plt.xlabel('Epochs')\n",
    "    plt.ylabel('Accuracy')\n",
    "    plt.xticks(epochs)\n",
    "    plt.grid()\n",
    "    plt.legend();"
   ]
  },
  {
   "cell_type": "code",
   "execution_count": 37,
   "id": "d094d934-d526-449c-802a-ba6d9024bcff",
   "metadata": {},
   "outputs": [
    {
     "data": {
      "image/png": "[encoded data removed]",
      "text/plain": [
       "<Figure size 720x576 with 1 Axes>"
      ]
     },
     "metadata": {
      "needs_background": "light"
     },
     "output_type": "display_data"
    }
   ],
   "source": [
    "plot_loss_curves(history)"
   ]
  },
  {
   "cell_type": "code",
   "execution_count": 38,
   "id": "731e4791-c2a2-4f44-a03c-93667d451d0b",
   "metadata": {},
   "outputs": [
    {
     "data": {
      "image/png": "[encoded data removed]",
      "text/plain": [
       "<Figure size 720x576 with 1 Axes>"
      ]
     },
     "metadata": {
      "needs_background": "light"
     },
     "output_type": "display_data"
    }
   ],
   "source": [
    "plot_accuracy_curves(history)"
   ]
  },
  {
   "cell_type": "markdown",
   "id": "e2aa5906-5787-4435-869b-d2b732772525",
   "metadata": {},
   "source": [
    "The model begins to overfit after 8 or 9 epochs, topping out at about just above 80% accuracy.\n",
    "\n",
    "As before, we take a brute force method to avoid overfitting, and just retrain from\n",
    "scratch and stopping before we saw the overfitting.\n",
    "\n",
    "Retraining a model from scratch and stopping before overfitting."
   ]
  },
  {
   "cell_type": "code",
   "execution_count": 39,
   "id": "ef21c658-446a-48cb-b79f-bbe702dc3550",
   "metadata": {},
   "outputs": [
    {
     "name": "stdout",
     "output_type": "stream",
     "text": [
      "Epoch 1/9\n",
      "18/18 [==============================] - 1s 38ms/step - loss: 3.0019 - accuracy: 0.4133\n",
      "Epoch 2/9\n",
      "18/18 [==============================] - 1s 39ms/step - loss: 1.4070 - accuracy: 0.7044\n",
      "Epoch 3/9\n",
      "18/18 [==============================] - 1s 41ms/step - loss: 1.0117 - accuracy: 0.7845\n",
      "Epoch 4/9\n",
      "18/18 [==============================] - 1s 44ms/step - loss: 0.7630 - accuracy: 0.8416\n",
      "Epoch 5/9\n",
      "18/18 [==============================] - 1s 40ms/step - loss: 0.6351 - accuracy: 0.8673\n",
      "Epoch 6/9\n",
      "18/18 [==============================] - 1s 41ms/step - loss: 0.4851 - accuracy: 0.8973\n",
      "Epoch 7/9\n",
      "18/18 [==============================] - 1s 45ms/step - loss: 0.3920 - accuracy: 0.9150\n",
      "Epoch 8/9\n",
      "18/18 [==============================] - 1s 39ms/step - loss: 0.3242 - accuracy: 0.9301\n",
      "Epoch 9/9\n",
      "18/18 [==============================] - 1s 40ms/step - loss: 0.2595 - accuracy: 0.9384\n",
      "71/71 [==============================] - 1s 8ms/step - loss: 0.9409 - accuracy: 0.7992\n",
      "[0.940873384475708, 0.799198567867279]\n"
     ]
    }
   ],
   "source": [
    "# create the same model from scratch\n",
    "model = keras.Sequential([\n",
    "            layers.Dense(64, activation=\"relu\"),\n",
    "            layers.Dense(64, activation=\"relu\"),\n",
    "            layers.Dense(46, activation=\"softmax\")\n",
    "])\n",
    "\n",
    "\n",
    "# compile model with same loss and optimizer\n",
    "model.compile(optimizer=\"rmsprop\",\n",
    "              loss=\"categorical_crossentropy\",\n",
    "              metrics=[\"accuracy\"])\n",
    "\n",
    "# fit model stopping after 9 epochs of training\n",
    "model.fit(x_train,\n",
    "          y_train,\n",
    "          epochs=9,\n",
    "          batch_size=512)\n",
    "\n",
    "# jump to directly evaluating results on the test data of this model\n",
    "results = model.evaluate(x_test, y_test)\n",
    "\n",
    "print(results)"
   ]
  },
  {
   "cell_type": "markdown",
   "id": "5ebf8fd7-92d7-4aa1-9b63-4da809cd6e6c",
   "metadata": {},
   "source": [
    "This approach will usually reach an accuracy of about 80%. \n",
    "\n",
    "This is more impressive than before.  With a balanced binary classification, the accuracy of purely random\n",
    "guessing would be 50%.  But here random guessing only achieves `1 / 46 =` about 2% accuracy.\n",
    "\n",
    "It is always a good idea to have in mind the performance of a random baseline.  We can\n",
    "create such a random baseline and check empirically:\n"
   ]
  },
  {
   "cell_type": "code",
   "execution_count": 40,
   "id": "751bc58e-95b3-4aa3-8ea5-b63004828d64",
   "metadata": {},
   "outputs": [
    {
     "data": {
      "text/plain": [
       "0.19857524487978628"
      ]
     },
     "execution_count": 40,
     "metadata": {},
     "output_type": "execute_result"
    }
   ],
   "source": [
    "import copy\n",
    "\n",
    "# copy and randomly shuffle up the labels.  This better simulates random guessing here,\n",
    "# which ends up higher than 1/46 because the labels are not evenly distributed in this\n",
    "# test data\n",
    "test_labels_copy = copy.copy(test_labels)\n",
    "np.random.shuffle(test_labels_copy)\n",
    "\n",
    "# count up number of times the random guess/shuffle gets answer correct\n",
    "hits_array = np.array(test_labels) == np.array(test_labels_copy)\n",
    "\n",
    "hits_array.mean()"
   ]
  },
  {
   "cell_type": "markdown",
   "id": "1e9ce76c-060e-4591-a478-413adca1fadc",
   "metadata": {},
   "source": [
    "So actually, unlike what I just said above, a better random guesser would get about 20% accuracy.  This random\n",
    "basiline is a better guesser because, the categories are not equally distributed.  So the random guesser should guess\n",
    "the larger categories more frequently than the smaller represented news article categories.  Using a random shuffle\n",
    "maintains the frequence of the categories, and thus acts as a random guesser biased to guess at the same frequency\n",
    "of the category labels.\n",
    "\n",
    "In any case, a model getting 80% here is still better than you might have initially thought, given the problem is much\n",
    "tougher here than before."
   ]
  },
  {
   "cell_type": "markdown",
   "id": "435c06e5-c570-443d-a399-6f29deadf650",
   "metadata": {},
   "source": [
    "## 4.2.5 Generating predictions on new data\n",
    "\n",
    "Calling `predict` with a trained model on new samples returns a class probability ditribution over all 46 topics.  \n",
    "\n",
    "We can generate topic predictions for all of the test data."
   ]
  },
  {
   "cell_type": "code",
   "execution_count": 41,
   "id": "e4b182d8-2799-4d18-be48-af938c0fbf90",
   "metadata": {},
   "outputs": [],
   "source": [
    "predictions = model.predict(x_test)"
   ]
  },
  {
   "cell_type": "markdown",
   "id": "b217e92e-0eda-40a3-96b0-bc7769d83e79",
   "metadata": {},
   "source": [
    "Each entry in `predictions` is a vector of length 46 that sums up to 1.0.  You can think of the value as the probability that\n",
    "the test sample article is of each of the 46 topic categories."
   ]
  },
  {
   "cell_type": "code",
   "execution_count": 42,
   "id": "09d92a57-9252-4969-b003-58dcc5077fc2",
   "metadata": {},
   "outputs": [
    {
     "data": {
      "text/plain": [
       "(46,)"
      ]
     },
     "execution_count": 42,
     "metadata": {},
     "output_type": "execute_result"
    }
   ],
   "source": [
    "predictions[0].shape"
   ]
  },
  {
   "cell_type": "code",
   "execution_count": 43,
   "id": "e27b024d-8e72-422c-a887-24f53c91fffe",
   "metadata": {},
   "outputs": [
    {
     "name": "stdout",
     "output_type": "stream",
     "text": [
      "[0.     0.0001 0.0001 0.8857 0.0791 0.     0.     0.     0.0184 0.\n",
      " 0.0001 0.0013 0.0003 0.0007 0.     0.0002 0.0013 0.0002 0.     0.0039\n",
      " 0.0027 0.0002 0.0001 0.0002 0.     0.     0.     0.     0.0002 0.0015\n",
      " 0.     0.0001 0.     0.     0.0001 0.0003 0.0018 0.0001 0.     0.0003\n",
      " 0.     0.0001 0.     0.0006 0.     0.0001]\n",
      "1.0000001\n",
      "[0. 0. 0. 1. 0. 0. 0. 0. 0. 0. 0. 0. 0. 0. 0. 0. 0. 0. 0. 0. 0. 0. 0. 0.\n",
      " 0. 0. 0. 0. 0. 0. 0. 0. 0. 0. 0. 0. 0. 0. 0. 0. 0. 0. 0. 0. 0. 0.]\n",
      "3\n"
     ]
    }
   ],
   "source": [
    "print(predictions[0])\n",
    "print(np.sum(predictions[0]))\n",
    "print(y_test[0])\n",
    "print(test_labels[0])"
   ]
  },
  {
   "cell_type": "markdown",
   "id": "9128c4f7-9af7-4e8e-92eb-39bf338ea4d7",
   "metadata": {},
   "source": [
    "The largest entry should be chosen as the predicted class.  As should usually be the case, you should see that topic 3 has the\n",
    "largest predicted value, around 0.7133, and thus topic 3 would be the predicted topic for the test article 0.\n",
    "\n",
    "We can use argmax to convert the one-hot encoding back to an integer topic index."
   ]
  },
  {
   "cell_type": "code",
   "execution_count": 44,
   "id": "dfa58316-13cf-4957-bb56-6339a333e612",
   "metadata": {},
   "outputs": [
    {
     "data": {
      "text/plain": [
       "3"
      ]
     },
     "execution_count": 44,
     "metadata": {},
     "output_type": "execute_result"
    }
   ],
   "source": [
    "np.argmax(predictions[0])"
   ]
  },
  {
   "cell_type": "markdown",
   "id": "1dfda7fa-1847-426d-a83b-a09f67744933",
   "metadata": {},
   "source": [
    "## 4.2.6 A different way to handle the labels and the loss\n",
    "\n",
    "We mentioned that the labels could also be cast as an integer tensor."
   ]
  },
  {
   "cell_type": "code",
   "execution_count": 45,
   "id": "93ae6400-9089-4f57-a13c-f5bee01eca31",
   "metadata": {},
   "outputs": [
    {
     "name": "stdout",
     "output_type": "stream",
     "text": [
      "(8982,)\n",
      "[ 3  4  3 ... 25  3 25]\n"
     ]
    }
   ],
   "source": [
    "y_train = np.array(train_labels)\n",
    "y_test = np.array(test_labels)\n",
    "\n",
    "print(y_train.shape)\n",
    "print(y_train)"
   ]
  },
  {
   "cell_type": "markdown",
   "id": "adf21b28-296f-4bb7-86ff-c8241586bff7",
   "metadata": {},
   "source": [
    "The only thing this approach would change is the choice of the loss function.  The loss function `categorical_crossentropy`\n",
    "expects the labels to follow a categorical encoding.  With integer labels you should use `sparse_categorical_crossentropy`"
   ]
  },
  {
   "cell_type": "code",
   "execution_count": 46,
   "id": "fc9ca1d9-fdd7-4b45-8ffd-5ca8b7efdfb4",
   "metadata": {},
   "outputs": [
    {
     "name": "stdout",
     "output_type": "stream",
     "text": [
      "Epoch 1/20\n",
      "16/16 [==============================] - 1s 47ms/step - loss: 3.2389 - accuracy: 0.3580 - val_loss: 1.9051 - val_accuracy: 0.6380\n",
      "Epoch 2/20\n",
      "16/16 [==============================] - 1s 46ms/step - loss: 1.6517 - accuracy: 0.6812 - val_loss: 1.3567 - val_accuracy: 0.7160\n",
      "Epoch 3/20\n",
      "16/16 [==============================] - 1s 49ms/step - loss: 1.1443 - accuracy: 0.7655 - val_loss: 1.1532 - val_accuracy: 0.7440\n",
      "Epoch 4/20\n",
      "16/16 [==============================] - 1s 41ms/step - loss: 0.8792 - accuracy: 0.8179 - val_loss: 1.0256 - val_accuracy: 0.7920\n",
      "Epoch 5/20\n",
      "16/16 [==============================] - 1s 43ms/step - loss: 0.6926 - accuracy: 0.8591 - val_loss: 0.9736 - val_accuracy: 0.7970\n",
      "Epoch 6/20\n",
      "16/16 [==============================] - 1s 65ms/step - loss: 0.5353 - accuracy: 0.8933 - val_loss: 0.9491 - val_accuracy: 0.7990\n",
      "Epoch 7/20\n",
      "16/16 [==============================] - 1s 59ms/step - loss: 0.4517 - accuracy: 0.9083 - val_loss: 0.8943 - val_accuracy: 0.8140\n",
      "Epoch 8/20\n",
      "16/16 [==============================] - 1s 74ms/step - loss: 0.3654 - accuracy: 0.9281 - val_loss: 0.8945 - val_accuracy: 0.8170\n",
      "Epoch 9/20\n",
      "16/16 [==============================] - 1s 49ms/step - loss: 0.3049 - accuracy: 0.9372 - val_loss: 0.8933 - val_accuracy: 0.8130\n",
      "Epoch 10/20\n",
      "16/16 [==============================] - 1s 50ms/step - loss: 0.2402 - accuracy: 0.9498 - val_loss: 0.9132 - val_accuracy: 0.8140\n",
      "Epoch 11/20\n",
      "16/16 [==============================] - 1s 66ms/step - loss: 0.2183 - accuracy: 0.9482 - val_loss: 0.9105 - val_accuracy: 0.8160\n",
      "Epoch 12/20\n",
      "16/16 [==============================] - 1s 36ms/step - loss: 0.1850 - accuracy: 0.9516 - val_loss: 0.9357 - val_accuracy: 0.8060\n",
      "Epoch 13/20\n",
      "16/16 [==============================] - 1s 50ms/step - loss: 0.1587 - accuracy: 0.9586 - val_loss: 0.9489 - val_accuracy: 0.8190\n",
      "Epoch 14/20\n",
      "16/16 [==============================] - 1s 36ms/step - loss: 0.1532 - accuracy: 0.9568 - val_loss: 0.9734 - val_accuracy: 0.8050\n",
      "Epoch 15/20\n",
      "16/16 [==============================] - 1s 41ms/step - loss: 0.1307 - accuracy: 0.9595 - val_loss: 1.0086 - val_accuracy: 0.8050\n",
      "Epoch 16/20\n",
      "16/16 [==============================] - 1s 41ms/step - loss: 0.1205 - accuracy: 0.9623 - val_loss: 0.9953 - val_accuracy: 0.8080\n",
      "Epoch 17/20\n",
      "16/16 [==============================] - 1s 37ms/step - loss: 0.1197 - accuracy: 0.9617 - val_loss: 1.1010 - val_accuracy: 0.7970\n",
      "Epoch 18/20\n",
      "16/16 [==============================] - 1s 35ms/step - loss: 0.1163 - accuracy: 0.9628 - val_loss: 1.0373 - val_accuracy: 0.8090\n",
      "Epoch 19/20\n",
      "16/16 [==============================] - 1s 37ms/step - loss: 0.1103 - accuracy: 0.9582 - val_loss: 1.0982 - val_accuracy: 0.8000\n",
      "Epoch 20/20\n",
      "16/16 [==============================] - 1s 34ms/step - loss: 0.1006 - accuracy: 0.9633 - val_loss: 1.1128 - val_accuracy: 0.7990\n"
     ]
    }
   ],
   "source": [
    "# lets show complete example of using integer encoding and this different loss function.\n",
    "# build model from scratch\n",
    "model = keras.Sequential([\n",
    "            layers.Dense(64, activation=\"relu\"),\n",
    "            layers.Dense(64, activation=\"relu\"),\n",
    "            layers.Dense(46, activation=\"softmax\")\n",
    "])\n",
    "\n",
    "# compile model specifying this different loss function\n",
    "model.compile(optimizer=\"rmsprop\",\n",
    "              loss=\"sparse_categorical_crossentropy\",\n",
    "              metrics=[\"accuracy\"])\n",
    "\n",
    "# we have different y data labels, so pull out validation data again\n",
    "#x_val = x_train[:1000]\n",
    "#partial_x_train = x_train[1000:]\n",
    "y_val = y_train[:1000]\n",
    "partial_y_train = y_train[1000:]\n",
    "\n",
    "# fit the model\n",
    "history = model.fit(partial_x_train,\n",
    "                    partial_y_train,\n",
    "                    epochs=20,\n",
    "                    batch_size=512,\n",
    "                    validation_data=(x_val, y_val))"
   ]
  },
  {
   "cell_type": "code",
   "execution_count": 47,
   "id": "9109cdfc-cb8f-48e4-a08f-b2f7d71bd646",
   "metadata": {},
   "outputs": [
    {
     "data": {
      "image/png": "[encoded data removed]",
      "text/plain": [
       "<Figure size 720x576 with 1 Axes>"
      ]
     },
     "metadata": {
      "needs_background": "light"
     },
     "output_type": "display_data"
    }
   ],
   "source": [
    "plot_loss_curves(history)"
   ]
  },
  {
   "cell_type": "code",
   "execution_count": 48,
   "id": "f7685e92-85df-47ed-9d2c-4320a5267aa9",
   "metadata": {},
   "outputs": [
    {
     "data": {
      "image/png": "[encoded data removed]",
      "text/plain": [
       "<Figure size 720x576 with 1 Axes>"
      ]
     },
     "metadata": {
      "needs_background": "light"
     },
     "output_type": "display_data"
    }
   ],
   "source": [
    "plot_accuracy_curves(history)"
   ]
  },
  {
   "cell_type": "markdown",
   "id": "448b10e1-ee32-4c3c-b224-692b10c96b03",
   "metadata": {},
   "source": [
    "The new loss function is still mathematically the same as `categorical_crossentropy`, it just has\n",
    "a different interface.  Results from train are about the same here."
   ]
  },
  {
   "cell_type": "markdown",
   "id": "434b5db7-96bd-4325-b22e-c465b80c4ec6",
   "metadata": {},
   "source": [
    "## 4.2.7 The importance of having sufficiently large intermediate layers\n",
    "\n",
    "Lets introduce an information bottleneck.  Second layer is reduced to only 4 units.\n",
    "\n",
    "A model with an information bottleneck."
   ]
  },
  {
   "cell_type": "code",
   "execution_count": 49,
   "id": "7c9cd670-47bc-44e1-9bf4-89654c121ca8",
   "metadata": {},
   "outputs": [],
   "source": [
    "# lets first revert back to one-hot categorical encoded labels and using categorical_crossentropy\n",
    "y_train = to_categorical(train_labels)\n",
    "y_test = to_categorical(test_labels)\n",
    "\n",
    "# also resplit the validation data again\n",
    "y_val = y_train[:1000]\n",
    "partial_y_train = y_train[1000:]"
   ]
  },
  {
   "cell_type": "code",
   "execution_count": 50,
   "id": "bd62f130-b6ae-42a8-95d9-a0537c52f8b9",
   "metadata": {},
   "outputs": [
    {
     "name": "stdout",
     "output_type": "stream",
     "text": [
      "Epoch 1/20\n",
      "63/63 [==============================] - 2s 23ms/step - loss: 3.2570 - accuracy: 0.3160 - val_loss: 1.9402 - val_accuracy: 0.5660\n",
      "Epoch 2/20\n",
      "63/63 [==============================] - 2s 24ms/step - loss: 1.6940 - accuracy: 0.5987 - val_loss: 1.5639 - val_accuracy: 0.6130\n",
      "Epoch 3/20\n",
      "63/63 [==============================] - 2s 25ms/step - loss: 1.3651 - accuracy: 0.6429 - val_loss: 1.4428 - val_accuracy: 0.6350\n",
      "Epoch 4/20\n",
      "63/63 [==============================] - 2s 24ms/step - loss: 1.1691 - accuracy: 0.6990 - val_loss: 1.3518 - val_accuracy: 0.6770\n",
      "Epoch 5/20\n",
      "63/63 [==============================] - 1s 22ms/step - loss: 1.0268 - accuracy: 0.7363 - val_loss: 1.3062 - val_accuracy: 0.6930\n",
      "Epoch 6/20\n",
      "63/63 [==============================] - 2s 27ms/step - loss: 0.9502 - accuracy: 0.7615 - val_loss: 1.2898 - val_accuracy: 0.7110\n",
      "Epoch 7/20\n",
      "63/63 [==============================] - ETA: 0s - loss: 0.8489 - accuracy: 0.78 - 2s 26ms/step - loss: 0.8490 - accuracy: 0.7862 - val_loss: 1.3077 - val_accuracy: 0.7110\n",
      "Epoch 8/20\n",
      "63/63 [==============================] - 2s 25ms/step - loss: 0.8019 - accuracy: 0.7881 - val_loss: 1.3167 - val_accuracy: 0.7100\n",
      "Epoch 9/20\n",
      "63/63 [==============================] - 1s 23ms/step - loss: 0.7191 - accuracy: 0.8117 - val_loss: 1.3415 - val_accuracy: 0.7080\n",
      "Epoch 10/20\n",
      "63/63 [==============================] - 2s 29ms/step - loss: 0.6941 - accuracy: 0.8153 - val_loss: 1.3619 - val_accuracy: 0.7060\n",
      "Epoch 11/20\n",
      "63/63 [==============================] - 2s 25ms/step - loss: 0.6569 - accuracy: 0.8257 - val_loss: 1.4055 - val_accuracy: 0.7030\n",
      "Epoch 12/20\n",
      "63/63 [==============================] - 2s 30ms/step - loss: 0.6303 - accuracy: 0.8302 - val_loss: 1.4708 - val_accuracy: 0.7010\n",
      "Epoch 13/20\n",
      "63/63 [==============================] - 2s 28ms/step - loss: 0.5771 - accuracy: 0.8365 - val_loss: 1.4934 - val_accuracy: 0.6970\n",
      "Epoch 14/20\n",
      "63/63 [==============================] - 2s 26ms/step - loss: 0.5484 - accuracy: 0.8454 - val_loss: 1.5220 - val_accuracy: 0.7080\n",
      "Epoch 15/20\n",
      "63/63 [==============================] - 1s 22ms/step - loss: 0.5382 - accuracy: 0.8461 - val_loss: 1.5854 - val_accuracy: 0.7080\n",
      "Epoch 16/20\n",
      "63/63 [==============================] - 2s 30ms/step - loss: 0.4952 - accuracy: 0.8556 - val_loss: 1.6581 - val_accuracy: 0.6930\n",
      "Epoch 17/20\n",
      "63/63 [==============================] - 2s 37ms/step - loss: 0.4709 - accuracy: 0.8596 - val_loss: 1.6011 - val_accuracy: 0.7060\n",
      "Epoch 18/20\n",
      "63/63 [==============================] - 3s 51ms/step - loss: 0.4650 - accuracy: 0.8596 - val_loss: 1.7098 - val_accuracy: 0.7040\n",
      "Epoch 19/20\n",
      "63/63 [==============================] - 3s 43ms/step - loss: 0.4535 - accuracy: 0.8577 - val_loss: 1.7892 - val_accuracy: 0.7020\n",
      "Epoch 20/20\n",
      "63/63 [==============================] - 2s 34ms/step - loss: 0.4184 - accuracy: 0.8685 - val_loss: 1.8169 - val_accuracy: 0.7060\n"
     ]
    }
   ],
   "source": [
    "# create model with a bottleneck\n",
    "model = keras.Sequential([\n",
    "            layers.Dense(64, activation=\"relu\"),\n",
    "            layers.Dense(4, activation=\"relu\"),\n",
    "            layers.Dense(46, activation=\"softmax\")\n",
    "])\n",
    "\n",
    "# back to categorical_crossentropy for the categorical encoding\n",
    "model.compile(optimizer=\"rmsprop\",\n",
    "              loss=\"categorical_crossentropy\",\n",
    "              metrics=[\"accuracy\"])\n",
    "\n",
    "# fit the model\n",
    "history = model.fit(partial_x_train,\n",
    "                    partial_y_train,\n",
    "                    epochs=20,\n",
    "                    batch_size=128,\n",
    "                    validation_data=(x_val, y_val))"
   ]
  },
  {
   "cell_type": "code",
   "execution_count": 51,
   "id": "b9c8650d-ec63-41f3-853b-7c0bfccffa6a",
   "metadata": {},
   "outputs": [
    {
     "data": {
      "image/png": "[encoded data removed]",
      "text/plain": [
       "<Figure size 720x576 with 1 Axes>"
      ]
     },
     "metadata": {
      "needs_background": "light"
     },
     "output_type": "display_data"
    }
   ],
   "source": [
    "plot_loss_curves(history)"
   ]
  },
  {
   "cell_type": "code",
   "execution_count": 52,
   "id": "f4001e7d-df5b-4bb9-8381-21645d3ad0b6",
   "metadata": {},
   "outputs": [
    {
     "data": {
      "image/png": "[encoded data removed]",
      "text/plain": [
       "<Figure size 720x576 with 1 Axes>"
      ]
     },
     "metadata": {
      "needs_background": "light"
     },
     "output_type": "display_data"
    }
   ],
   "source": [
    "plot_accuracy_curves(history)"
   ]
  },
  {
   "cell_type": "markdown",
   "id": "49092d98-6df5-4bbf-8e1c-bf6d721e2e42",
   "metadata": {},
   "source": [
    "The model shows that the best validation accuracy is around 72%, an 8% drop.  This is mostly due\n",
    "to fact we are compressing a lot of information into an intermediate space that is too low-dimensional."
   ]
  },
  {
   "cell_type": "markdown",
   "id": "b5fe8eba-5488-4f9f-81d6-821e3cbada51",
   "metadata": {},
   "source": [
    "## 4.2.8 Further Experiments\n",
    "\n",
    "Left as an exercise for the student.  Try and improve the performance of this multiclass classification model.  Try the following\n",
    "\n",
    "- Try using larger or smaller layers.\n",
    "- Try using more or less intermediate layers."
   ]
  },
  {
   "cell_type": "markdown",
   "id": "6180a478-71e0-4228-be71-f161f630fa84",
   "metadata": {},
   "source": [
    "## 4.2.9 Wrapping up\n",
    "\n",
    "- If classifying among N classes (multiclass classification), should end with a `Dense` layers of size N\n",
    "- For single-lable multiclass classification, us a `softmax` activation to get a probability distribution over the N output classes.\n",
    "- Categorical crossentropy is usual loss function for such problems.\n",
    "- Two ways to handle labels\n",
    "  - Encode via categorical encoding (one-hot encoding) and use `categorical_crossentropy` loss function.\n",
    "  - Encode labels as integers and use `sparse_categorical_crossentropy` loss function.\n",
    "- If you need to classify data into a large number of categories, avoid information bottlenecks in your model layers.\n",
    "\n",
    "\n",
    "Also as we saw above, if using integer labels, you actually still need a N sized `softmax` output layer.  The crossentropy\n",
    "loss computes loss between the category and the N sized probability distribution."
   ]
  },
  {
   "cell_type": "code",
   "execution_count": null,
   "id": "6a2171ae-65d8-4d92-b4b1-9e7ba8a2aaeb",
   "metadata": {},
   "outputs": [],
   "source": []
  }
 ],
 "metadata": {
  "kernelspec": {
   "display_name": "Python 3 (ipykernel)",
   "language": "python",
   "name": "python3"
  },
  "language_info": {
   "codemirror_mode": {
    "name": "ipython",
    "version": 3
   },
   "file_extension": ".py",
   "mimetype": "text/x-python",
   "name": "python",
   "nbconvert_exporter": "python",
   "pygments_lexer": "ipython3",
   "version": "3.8.8"
  }
 },
 "nbformat": 4,
 "nbformat_minor": 5
}
